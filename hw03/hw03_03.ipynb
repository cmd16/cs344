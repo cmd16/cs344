{
 "cells": [
  {
   "cell_type": "code",
   "execution_count": 1,
   "metadata": {
    "id": "JQHSNNCgV63f",
    "colab_type": "code",
    "colab": {
     "base_uri": "https://localhost:8080/",
     "height": 119.0
    },
    "outputId": "cad27e96-79cf-485d-ebfb-051f839f2fb0"
   },
   "outputs": [
    {
     "name": "stdout",
     "output_type": "stream",
     "text": [
      "`%tensorflow_version` only switches the major version: 1.x or 2.x.\n",
      "You set: `1.14`. This will be interpreted as: `1.x`.\n",
      "\n",
      "\n",
      "TensorFlow 1.x selected.\n"
     ]
    },
    {
     "data": {
      "text/plain": [
       "'1.15.2'"
      ]
     },
     "execution_count": 1,
     "metadata": {
      "tags": []
     },
     "output_type": "execute_result"
    }
   ],
   "source": [
    "%tensorflow_version 1.14\n",
    "import tensorflow\n",
    "tensorflow.__version__"
   ]
  },
  {
   "cell_type": "code",
   "execution_count": 2,
   "metadata": {
    "id": "enZSYTs_IB46",
    "colab_type": "code",
    "colab": {
     "base_uri": "https://localhost:8080/",
     "height": 34.0
    },
    "outputId": "0e2609cc-c9f7-4c8d-d51f-95d322737d3e"
   },
   "outputs": [
    {
     "name": "stderr",
     "output_type": "stream",
     "text": [
      "Using TensorFlow backend.\n"
     ]
    }
   ],
   "source": [
    "from keras.datasets import boston_housing\n",
    "(train_data, train_labels), (test_data, test_labels) = boston_housing.load_data()"
   ]
  },
  {
   "cell_type": "code",
   "execution_count": 0,
   "metadata": {
    "id": "FX-X_-x3RDYR",
    "colab_type": "code",
    "colab": {}
   },
   "outputs": [],
   "source": [
    "import numpy as np"
   ]
  },
  {
   "cell_type": "code",
   "execution_count": 0,
   "metadata": {
    "id": "le0HeUY-IVw4",
    "colab_type": "code",
    "colab": {}
   },
   "outputs": [],
   "source": [
    "def print_structures():\n",
    "    print(\n",
    "        'training data \\\n",
    "            \\n\\tcount: {} \\\n",
    "            \\n\\tdimensions: {} \\\n",
    "            \\n\\tshape: {} \\\n",
    "            \\n\\tdata type: {}\\n\\n'.format(\n",
    "                len(train_data),\n",
    "                train_data.ndim,\n",
    "                train_data.shape,\n",
    "                train_data.dtype\n",
    "        ),\n",
    "        'testing data \\\n",
    "            \\n\\tcount: {} \\\n",
    "            \\n\\tdimensions: {} \\\n",
    "            \\n\\tshape: {} \\\n",
    "            \\n\\tdata type: {} \\\n",
    "            \\n\\tvalues: {}\\n'.format(\n",
    "                len(test_labels),\n",
    "                test_labels.ndim,\n",
    "                test_labels.shape,\n",
    "                test_labels.dtype,\n",
    "                test_labels\n",
    "        )\n",
    "    )"
   ]
  },
  {
   "cell_type": "code",
   "execution_count": 5,
   "metadata": {
    "id": "NmQBn69IIYgd",
    "colab_type": "code",
    "colab": {
     "base_uri": "https://localhost:8080/",
     "height": 357.0
    },
    "outputId": "cd20ebf3-e579-4796-d2c4-847a7db59b1b"
   },
   "outputs": [
    {
     "name": "stdout",
     "output_type": "stream",
     "text": [
      "training data             \n",
      "\tcount: 404             \n",
      "\tdimensions: 2             \n",
      "\tshape: (404, 13)             \n",
      "\tdata type: float64\n",
      "\n",
      " testing data             \n",
      "\tcount: 102             \n",
      "\tdimensions: 1             \n",
      "\tshape: (102,)             \n",
      "\tdata type: float64             \n",
      "\tvalues: [ 7.2 18.8 19.  27.  22.2 24.5 31.2 22.9 20.5 23.2 18.6 14.5 17.8 50.\n",
      " 20.8 24.3 24.2 19.8 19.1 22.7 12.  10.2 20.  18.5 20.9 23.  27.5 30.1\n",
      "  9.5 22.  21.2 14.1 33.1 23.4 20.1  7.4 15.4 23.8 20.1 24.5 33.  28.4\n",
      " 14.1 46.7 32.5 29.6 28.4 19.8 20.2 25.  35.4 20.3  9.7 14.5 34.9 26.6\n",
      "  7.2 50.  32.4 21.6 29.8 13.1 27.5 21.2 23.1 21.9 13.  23.2  8.1  5.6\n",
      " 21.7 29.6 19.6  7.  26.4 18.9 20.9 28.1 35.4 10.2 24.3 43.1 17.6 15.4\n",
      " 16.2 27.1 21.4 21.5 22.4 25.  16.6 18.6 22.  42.8 35.1 21.5 36.  21.9\n",
      " 24.1 50.  26.7 25. ]\n",
      "\n"
     ]
    }
   ],
   "source": [
    "print_structures()"
   ]
  },
  {
   "cell_type": "markdown",
   "metadata": {
    "id": "9CE0em8IJ_JC",
    "colab_type": "text"
   },
   "source": [
    "The dataset contains 13 different features:\n",
    "\n",
    "0. Per capita crime rate.\n",
    "1. The proportion of residential land zoned for lots over 25,000 square feet.\n",
    "2. The proportion of non-retail business acres per town.\n",
    "3. Charles River dummy variable (= 1 if tract bounds river; 0 otherwise).\n",
    "4. Nitric oxides concentration (parts per 10 million).\n",
    "5. The average number of rooms per dwelling.\n",
    "6. The proportion of owner-occupied units built before 1940.\n",
    "7. Weighted distances to five Boston employment centers.\n",
    "8. Index of accessibility to radial highways.\n",
    "9. Full-value property-tax rate per $10,000.\n",
    "10. Pupil-teacher ratio by town.\n",
    "11. 1000 * (Bk - 0.63) ** 2 where Bk is the proportion of Black people by town.\n",
    "12. Percentage lower status of the population."
   ]
  },
  {
   "cell_type": "markdown",
   "metadata": {
    "id": "hQgXcgjNK9Ol",
    "colab_type": "text"
   },
   "source": [
    "## Normalize features"
   ]
  },
  {
   "cell_type": "code",
   "execution_count": 0,
   "metadata": {
    "id": "FEMmumeDLCAn",
    "colab_type": "code",
    "colab": {}
   },
   "outputs": [],
   "source": [
    "mean = train_data.mean(axis=0)\n",
    "train_data -= mean\n",
    "std = train_data.std(axis=0)\n",
    "train_data /= std\n",
    "\n",
    "test_data -= mean\n",
    "test_data /= std"
   ]
  },
  {
   "cell_type": "markdown",
   "metadata": {
    "id": "vOkpMw3BORAk",
    "colab_type": "text"
   },
   "source": [
    "## Synthetic feature\n",
    "Distances to employment centers - index of accessibility to radial highways. A high distance to employment centers is bad, but the problem can be mitigated by accessibility to radial highways (easier to get to work if you can go on radial highways). I don't want this number to ever be negative (that would penalize areas that both are close to employment centers and have high accessibility to radial highways), so I make sure it can't go below 0 (see the `np.clip` below). Since we just normalized, the two features we are combining to make this new feature should be on the same scale. And since the combination is just subtraction, the new feature should be on the same scale as the rest of the data."
   ]
  },
  {
   "cell_type": "code",
   "execution_count": 7,
   "metadata": {
    "colab_type": "code",
    "id": "5ePeC8ItPxJg",
    "colab": {
     "base_uri": "https://localhost:8080/",
     "height": 1000.0
    },
    "outputId": "6faa0ab5-505d-4d51-b216-b6d2e9dd4d47"
   },
   "outputs": [
    {
     "data": {
      "text/plain": [
       "array([7.42947356e-01, 2.10404777e+00, 0.00000000e+00, 1.61832220e+00,\n",
       "       0.00000000e+00, 9.94857342e-01, 0.00000000e+00, 0.00000000e+00,\n",
       "       0.00000000e+00, 0.00000000e+00, 0.00000000e+00, 0.00000000e+00,\n",
       "       0.00000000e+00, 0.00000000e+00, 0.00000000e+00, 0.00000000e+00,\n",
       "       0.00000000e+00, 2.52698696e+00, 2.10404777e+00, 3.64810917e-02,\n",
       "       0.00000000e+00, 1.56042607e+00, 2.67119169e+00, 1.14404505e+00,\n",
       "       1.43570154e+00, 0.00000000e+00, 1.40882380e+00, 1.46149726e+00,\n",
       "       1.09068116e+00, 0.00000000e+00, 2.16006789e+00, 0.00000000e+00,\n",
       "       0.00000000e+00, 1.00023387e+00, 1.56042607e+00, 9.94857342e-01,\n",
       "       9.78534416e-01, 6.49393106e-01, 9.94857342e-01, 6.64976277e-01,\n",
       "       0.00000000e+00, 1.71814167e+00, 1.85164068e+00, 0.00000000e+00,\n",
       "       0.00000000e+00, 9.51410095e-01, 0.00000000e+00, 8.72207077e-01,\n",
       "       0.00000000e+00, 0.00000000e+00, 1.03978508e+00, 0.00000000e+00,\n",
       "       3.66901689e-01, 2.16006789e+00, 0.00000000e+00, 1.25303869e-01,\n",
       "       0.00000000e+00, 0.00000000e+00, 8.86163773e-01, 2.11309672e-01,\n",
       "       9.55657495e-02, 8.28759830e-01, 0.00000000e+00, 0.00000000e+00,\n",
       "       0.00000000e+00, 0.00000000e+00, 0.00000000e+00, 0.00000000e+00,\n",
       "       0.00000000e+00, 5.89127795e-01, 1.41213001e+00, 0.00000000e+00,\n",
       "       1.86219451e+00, 7.53649134e-01, 6.35880262e-01, 1.66606100e+00,\n",
       "       0.00000000e+00, 0.00000000e+00, 1.68391078e+00, 0.00000000e+00,\n",
       "       1.72114902e+00, 8.29376567e-02, 6.53979582e-01, 2.73071921e+00,\n",
       "       0.00000000e+00, 1.85164068e+00, 0.00000000e+00, 1.30570305e+00,\n",
       "       0.00000000e+00, 0.00000000e+00, 0.00000000e+00, 1.30570305e+00,\n",
       "       1.49542535e+00, 2.48545937e-01, 7.35601100e-01, 2.02114204e+00,\n",
       "       2.67119169e+00, 1.08012831e+00, 2.19429877e+00, 1.88646041e+00,\n",
       "       1.23690492e+00, 2.14216418e-01, 7.55276593e-01, 1.71814167e+00,\n",
       "       0.00000000e+00, 2.08416812e+00, 0.00000000e+00, 1.71814167e+00,\n",
       "       0.00000000e+00, 6.93729042e-01, 0.00000000e+00, 0.00000000e+00,\n",
       "       0.00000000e+00, 0.00000000e+00, 3.54291905e+00, 1.88646041e+00,\n",
       "       0.00000000e+00, 1.91757744e+00, 0.00000000e+00, 4.00220581e+00,\n",
       "       3.02644660e-01, 6.53979582e-01, 0.00000000e+00, 2.02153953e+00,\n",
       "       0.00000000e+00, 7.49407876e-01, 1.13935600e+00, 1.86219451e+00,\n",
       "       0.00000000e+00, 3.46297726e+00, 1.41213001e+00, 0.00000000e+00,\n",
       "       1.31906432e-01, 5.34976802e-01, 0.00000000e+00, 1.32106190e-03,\n",
       "       0.00000000e+00, 0.00000000e+00, 1.73988552e+00, 0.00000000e+00,\n",
       "       1.79167324e+00, 0.00000000e+00, 0.00000000e+00, 0.00000000e+00,\n",
       "       1.95926723e-01, 2.29613236e+00, 2.25717099e+00, 0.00000000e+00,\n",
       "       0.00000000e+00, 1.33751150e+00, 0.00000000e+00, 3.46297726e+00,\n",
       "       7.35601100e-01, 3.62371423e-01, 7.27412517e-01, 0.00000000e+00,\n",
       "       0.00000000e+00, 1.60411793e+00, 0.00000000e+00, 5.83012494e-01,\n",
       "       2.40906817e+00, 6.99353143e-01, 9.78583733e-01, 1.05019293e+00,\n",
       "       2.99101111e+00, 0.00000000e+00, 1.03978508e+00, 2.02114204e+00,\n",
       "       1.44512206e+00, 0.00000000e+00, 1.72114902e+00, 0.00000000e+00,\n",
       "       0.00000000e+00, 4.00220581e+00, 1.35477243e+00, 0.00000000e+00,\n",
       "       0.00000000e+00, 1.71814167e+00, 0.00000000e+00, 1.88463076e+00,\n",
       "       0.00000000e+00, 8.28759830e-01, 0.00000000e+00, 1.86219451e+00,\n",
       "       8.87099810e-01, 0.00000000e+00, 0.00000000e+00, 1.79303958e-01,\n",
       "       5.23782839e-01, 3.25231822e-01, 9.77942613e-01, 0.00000000e+00,\n",
       "       0.00000000e+00, 0.00000000e+00, 1.08101602e+00, 6.54670019e-01,\n",
       "       2.73071921e+00, 0.00000000e+00, 2.14246371e+00, 3.23752314e-01,\n",
       "       1.44512206e+00, 0.00000000e+00, 1.60411793e+00, 0.00000000e+00,\n",
       "       7.60405556e-01, 0.00000000e+00, 0.00000000e+00, 1.33751150e+00,\n",
       "       0.00000000e+00, 0.00000000e+00, 3.70309482e-01, 0.00000000e+00,\n",
       "       4.06365473e+00, 0.00000000e+00, 0.00000000e+00, 8.23531249e-01,\n",
       "       6.06782278e-01, 0.00000000e+00, 0.00000000e+00, 5.58206069e-01,\n",
       "       0.00000000e+00, 0.00000000e+00, 1.38919664e+00, 1.00023387e+00,\n",
       "       0.00000000e+00, 1.88646041e+00, 1.30506193e+00, 0.00000000e+00,\n",
       "       0.00000000e+00, 0.00000000e+00, 1.14468026e+00, 0.00000000e+00,\n",
       "       2.01347649e-01, 1.22240310e-01, 5.89571648e-01, 4.17751401e-01,\n",
       "       0.00000000e+00, 0.00000000e+00, 0.00000000e+00, 0.00000000e+00,\n",
       "       0.00000000e+00, 0.00000000e+00, 1.22240310e-01, 0.00000000e+00,\n",
       "       0.00000000e+00, 1.24637378e+00, 1.14256259e+00, 0.00000000e+00,\n",
       "       0.00000000e+00, 0.00000000e+00, 8.69248060e-01, 0.00000000e+00,\n",
       "       0.00000000e+00, 0.00000000e+00, 0.00000000e+00, 0.00000000e+00,\n",
       "       1.67621931e+00, 1.04291895e-01, 0.00000000e+00, 1.30506193e+00,\n",
       "       9.81837667e-01, 0.00000000e+00, 4.19723094e-01, 2.52698696e+00,\n",
       "       5.36804483e-01, 0.00000000e+00, 0.00000000e+00, 2.61645086e+00,\n",
       "       3.60949791e+00, 5.89571648e-01, 0.00000000e+00, 1.44512206e+00,\n",
       "       5.95193150e-03, 0.00000000e+00, 8.87099810e-01, 9.05741617e-01,\n",
       "       0.00000000e+00, 2.29613236e+00, 1.98627693e+00, 2.28621890e-01,\n",
       "       8.81527980e-01, 6.92693386e-01, 0.00000000e+00, 1.49345169e+00,\n",
       "       0.00000000e+00, 0.00000000e+00, 0.00000000e+00, 0.00000000e+00,\n",
       "       0.00000000e+00, 3.90775031e-01, 0.00000000e+00, 0.00000000e+00,\n",
       "       0.00000000e+00, 2.55107061e-01, 0.00000000e+00, 5.64469321e-01,\n",
       "       0.00000000e+00, 0.00000000e+00, 2.52698696e+00, 0.00000000e+00,\n",
       "       0.00000000e+00, 0.00000000e+00, 2.50662103e+00, 1.77973385e-01,\n",
       "       0.00000000e+00, 9.82134554e-01, 2.61645086e+00, 0.00000000e+00,\n",
       "       2.14246371e+00, 2.77209220e+00, 2.08416812e+00, 2.04225167e+00,\n",
       "       1.38919664e+00, 0.00000000e+00, 0.00000000e+00, 0.00000000e+00,\n",
       "       0.00000000e+00, 0.00000000e+00, 1.56728014e+00, 0.00000000e+00,\n",
       "       0.00000000e+00, 0.00000000e+00, 2.84883134e+00, 0.00000000e+00,\n",
       "       5.36209753e-03, 0.00000000e+00, 1.10325698e+00, 2.14246371e+00,\n",
       "       0.00000000e+00, 2.21762569e+00, 1.25382260e+00, 0.00000000e+00,\n",
       "       0.00000000e+00, 2.17525554e+00, 0.00000000e+00, 0.00000000e+00,\n",
       "       0.00000000e+00, 4.19869076e-01, 0.00000000e+00, 0.00000000e+00,\n",
       "       1.88458145e+00, 0.00000000e+00, 1.22240310e-01, 0.00000000e+00,\n",
       "       0.00000000e+00, 0.00000000e+00, 1.14468026e+00, 0.00000000e+00,\n",
       "       0.00000000e+00, 2.02928426e+00, 0.00000000e+00, 6.83864668e-01,\n",
       "       2.04225167e+00, 1.30506193e+00, 0.00000000e+00, 1.35334322e+00,\n",
       "       1.49542535e+00, 1.35334322e+00, 0.00000000e+00, 3.64810917e-02,\n",
       "       0.00000000e+00, 7.35601100e-01, 3.11719963e-01, 7.35601100e-01,\n",
       "       0.00000000e+00, 9.29365419e-01, 2.59785936e+00, 3.05114446e-01,\n",
       "       2.40197244e+00, 0.00000000e+00, 1.79655365e+00, 2.41528394e-02,\n",
       "       3.66901689e-01, 5.50907161e-01, 3.53737018e-01, 2.91944852e-01,\n",
       "       5.36903117e-01, 0.00000000e+00, 2.14246371e+00, 9.18711974e-01,\n",
       "       8.37770295e-02, 0.00000000e+00, 0.00000000e+00, 2.61645086e+00,\n",
       "       2.84883134e+00, 5.63925850e-01, 0.00000000e+00, 7.50962620e-02,\n",
       "       6.95802323e-01, 0.00000000e+00, 0.00000000e+00, 8.72305711e-01,\n",
       "       1.33751150e+00, 0.00000000e+00, 0.00000000e+00, 0.00000000e+00,\n",
       "       0.00000000e+00, 9.29365419e-01, 0.00000000e+00, 1.89903623e+00,\n",
       "       1.08101602e+00, 2.40197244e+00, 0.00000000e+00, 2.19429877e+00])"
      ]
     },
     "execution_count": 7,
     "metadata": {
      "tags": []
     },
     "output_type": "execute_result"
    }
   ],
   "source": [
    "new_feature = train_data[:,7] - train_data[:,8]\n",
    "np.clip(new_feature, a_min=0, a_max=None, out=new_feature)"
   ]
  },
  {
   "cell_type": "code",
   "execution_count": 0,
   "metadata": {
    "id": "7JNqTgARIZMi",
    "colab_type": "code",
    "colab": {}
   },
   "outputs": [],
   "source": [
    "train_data = np.column_stack((train_data, new_feature))"
   ]
  },
  {
   "cell_type": "markdown",
   "metadata": {
    "id": "xj6Z8umnS6dS",
    "colab_type": "text"
   },
   "source": [
    "## Validation: K-fold validation"
   ]
  },
  {
   "cell_type": "code",
   "execution_count": 0,
   "metadata": {
    "id": "07cOQRvdSh-Y",
    "colab_type": "code",
    "colab": {}
   },
   "outputs": [],
   "source": [
    "from keras import models\n",
    "from keras import layers\n",
    "\n",
    "def build_model():\n",
    "    # Because we will need to instantiate\n",
    "    # the same model multiple times,\n",
    "    # we use a function to construct it.\n",
    "    model = models.Sequential()\n",
    "    model.add(layers.Dense(64, activation='relu',\n",
    "                           input_shape=(train_data.shape[1],)))\n",
    "    model.add(layers.Dense(64, activation='relu'))\n",
    "    model.add(layers.Dense(1))\n",
    "    model.compile(optimizer='rmsprop', loss='mse', metrics=['mae'])\n",
    "    return model"
   ]
  },
  {
   "cell_type": "code",
   "execution_count": 10,
   "metadata": {
    "id": "LsNABDnuUBIy",
    "colab_type": "code",
    "colab": {
     "base_uri": "https://localhost:8080/",
     "height": 34.0
    },
    "outputId": "5b70457a-3d84-477c-d6ff-fff779691ec5"
   },
   "outputs": [
    {
     "data": {
      "text/plain": [
       "'2.2.5'"
      ]
     },
     "execution_count": 10,
     "metadata": {
      "tags": []
     },
     "output_type": "execute_result"
    }
   ],
   "source": [
    "import keras\n",
    "keras.__version__"
   ]
  },
  {
   "cell_type": "code",
   "execution_count": 11,
   "metadata": {
    "id": "mH-vklaFTDJy",
    "colab_type": "code",
    "colab": {
     "base_uri": "https://localhost:8080/",
     "height": 513.0
    },
    "outputId": "0c84ef70-2aff-487e-f3a8-142206183255"
   },
   "outputs": [
    {
     "name": "stdout",
     "output_type": "stream",
     "text": [
      "processing fold # 0\n",
      "WARNING:tensorflow:From /usr/local/lib/python3.6/dist-packages/keras/backend/tensorflow_backend.py:66: The name tf.get_default_graph is deprecated. Please use tf.compat.v1.get_default_graph instead.\n",
      "\n",
      "WARNING:tensorflow:From /usr/local/lib/python3.6/dist-packages/keras/backend/tensorflow_backend.py:541: The name tf.placeholder is deprecated. Please use tf.compat.v1.placeholder instead.\n",
      "\n",
      "WARNING:tensorflow:From /usr/local/lib/python3.6/dist-packages/keras/backend/tensorflow_backend.py:4432: The name tf.random_uniform is deprecated. Please use tf.random.uniform instead.\n",
      "\n",
      "WARNING:tensorflow:From /usr/local/lib/python3.6/dist-packages/keras/optimizers.py:793: The name tf.train.Optimizer is deprecated. Please use tf.compat.v1.train.Optimizer instead.\n",
      "\n",
      "WARNING:tensorflow:From /usr/local/lib/python3.6/dist-packages/keras/backend/tensorflow_backend.py:1033: The name tf.assign_add is deprecated. Please use tf.compat.v1.assign_add instead.\n",
      "\n",
      "WARNING:tensorflow:From /usr/local/lib/python3.6/dist-packages/keras/backend/tensorflow_backend.py:1020: The name tf.assign is deprecated. Please use tf.compat.v1.assign instead.\n",
      "\n",
      "WARNING:tensorflow:From /usr/local/lib/python3.6/dist-packages/keras/backend/tensorflow_backend.py:3005: The name tf.Session is deprecated. Please use tf.compat.v1.Session instead.\n",
      "\n",
      "WARNING:tensorflow:From /usr/local/lib/python3.6/dist-packages/keras/backend/tensorflow_backend.py:190: The name tf.get_default_session is deprecated. Please use tf.compat.v1.get_default_session instead.\n",
      "\n",
      "WARNING:tensorflow:From /usr/local/lib/python3.6/dist-packages/keras/backend/tensorflow_backend.py:197: The name tf.ConfigProto is deprecated. Please use tf.compat.v1.ConfigProto instead.\n",
      "\n",
      "WARNING:tensorflow:From /usr/local/lib/python3.6/dist-packages/keras/backend/tensorflow_backend.py:207: The name tf.global_variables is deprecated. Please use tf.compat.v1.global_variables instead.\n",
      "\n",
      "WARNING:tensorflow:From /usr/local/lib/python3.6/dist-packages/keras/backend/tensorflow_backend.py:216: The name tf.is_variable_initialized is deprecated. Please use tf.compat.v1.is_variable_initialized instead.\n",
      "\n",
      "WARNING:tensorflow:From /usr/local/lib/python3.6/dist-packages/keras/backend/tensorflow_backend.py:223: The name tf.variables_initializer is deprecated. Please use tf.compat.v1.variables_initializer instead.\n",
      "\n",
      "processing fold # 1\n",
      "processing fold # 2\n",
      "processing fold # 3\n"
     ]
    }
   ],
   "source": [
    "k = 4\n",
    "num_val_samples = len(train_data) // k\n",
    "num_epochs = 100\n",
    "all_scores = []\n",
    "for i in range(k):\n",
    "    print('processing fold #', i)\n",
    "    # Prepare the validation data: data from partition # k\n",
    "    val_data = train_data[i * num_val_samples: (i + 1) * num_val_samples]\n",
    "    val_targets = train_labels[i * num_val_samples: (i + 1) * num_val_samples]\n",
    "\n",
    "    # Prepare the training data: data from all other partitions\n",
    "    partial_train_data = np.concatenate(\n",
    "        [train_data[:i * num_val_samples],\n",
    "         train_data[(i + 1) * num_val_samples:]],\n",
    "        axis=0)\n",
    "    partial_train_targets = np.concatenate(\n",
    "        [train_labels[:i * num_val_samples],\n",
    "         train_labels[(i + 1) * num_val_samples:]],\n",
    "        axis=0)\n",
    "\n",
    "    # Build the Keras model (already compiled)\n",
    "    model = build_model()\n",
    "    # Train the model (in silent mode, verbose=0)\n",
    "    model.fit(partial_train_data, partial_train_targets,\n",
    "              epochs=num_epochs, batch_size=1, verbose=0)\n",
    "    # Evaluate the model on the validation data\n",
    "    val_mse, val_mae = model.evaluate(val_data, val_targets, verbose=0)\n",
    "    all_scores.append(val_mae)"
   ]
  },
  {
   "cell_type": "code",
   "execution_count": 12,
   "metadata": {
    "id": "89_Mo30HTLxL",
    "colab_type": "code",
    "colab": {
     "base_uri": "https://localhost:8080/",
     "height": 34.0
    },
    "outputId": "f7493aaf-68ae-40fb-dc21-b1f4e9278ce1"
   },
   "outputs": [
    {
     "data": {
      "text/plain": [
       "[2.143000701866528, 2.6548423531031844, 2.8089423580925064, 2.528642014701768]"
      ]
     },
     "execution_count": 12,
     "metadata": {
      "tags": []
     },
     "output_type": "execute_result"
    }
   ],
   "source": [
    "all_scores"
   ]
  },
  {
   "cell_type": "code",
   "execution_count": 13,
   "metadata": {
    "id": "FaRbKqbYTQvk",
    "colab_type": "code",
    "colab": {
     "base_uri": "https://localhost:8080/",
     "height": 34.0
    },
    "outputId": "ef24c58c-9b16-4b6d-d1f0-16c8fb85bbdc"
   },
   "outputs": [
    {
     "data": {
      "text/plain": [
       "2.533856856940997"
      ]
     },
     "execution_count": 13,
     "metadata": {
      "tags": []
     },
     "output_type": "execute_result"
    }
   ],
   "source": [
    "np.mean(all_scores)"
   ]
  },
  {
   "cell_type": "code",
   "execution_count": 14,
   "metadata": {
    "id": "PGFDy2ItTTPz",
    "colab_type": "code",
    "colab": {
     "base_uri": "https://localhost:8080/",
     "height": 105.0
    },
    "outputId": "135124df-24f4-440b-bfe9-84c422033e4f"
   },
   "outputs": [
    {
     "name": "stdout",
     "output_type": "stream",
     "text": [
      "WARNING:tensorflow:From /usr/local/lib/python3.6/dist-packages/keras/backend/tensorflow_backend.py:107: The name tf.reset_default_graph is deprecated. Please use tf.compat.v1.reset_default_graph instead.\n",
      "\n",
      "WARNING:tensorflow:From /usr/local/lib/python3.6/dist-packages/keras/backend/tensorflow_backend.py:111: The name tf.placeholder_with_default is deprecated. Please use tf.compat.v1.placeholder_with_default instead.\n",
      "\n"
     ]
    }
   ],
   "source": [
    "from keras import backend as K\n",
    "\n",
    "# Some memory clean-up\n",
    "K.clear_session()"
   ]
  },
  {
   "cell_type": "code",
   "execution_count": 17,
   "metadata": {
    "id": "G8RBknJ3TWZC",
    "colab_type": "code",
    "colab": {
     "base_uri": "https://localhost:8080/",
     "height": 85.0
    },
    "outputId": "9d8d3c17-6e45-4b32-ef06-a888461eceb9"
   },
   "outputs": [
    {
     "name": "stdout",
     "output_type": "stream",
     "text": [
      "processing fold # 0\n",
      "processing fold # 1\n",
      "processing fold # 2\n",
      "processing fold # 3\n"
     ]
    }
   ],
   "source": [
    "k = 4\n",
    "num_epochs = 500\n",
    "all_mae_histories = []\n",
    "for i in range(k):\n",
    "    print('processing fold #', i)\n",
    "    # Prepare the validation data: data from partition # k\n",
    "    val_data = train_data[i * num_val_samples: (i + 1) * num_val_samples]\n",
    "    val_targets = train_labels[i * num_val_samples: (i + 1) * num_val_samples]\n",
    "\n",
    "    # Prepare the training data: data from all other partitions\n",
    "    partial_train_data = np.concatenate(\n",
    "        [train_data[:i * num_val_samples],\n",
    "         train_data[(i + 1) * num_val_samples:]],\n",
    "        axis=0)\n",
    "    partial_train_targets = np.concatenate(\n",
    "        [train_labels[:i * num_val_samples],\n",
    "         train_labels[(i + 1) * num_val_samples:]],\n",
    "        axis=0)\n",
    "\n",
    "    # Build the Keras model (already compiled)\n",
    "    model = build_model()\n",
    "    # Train the model (in silent mode, verbose=0)\n",
    "    history = model.fit(partial_train_data, partial_train_targets,\n",
    "                        validation_data=(val_data, val_targets),\n",
    "                        epochs=num_epochs, batch_size=1, verbose=0)\n",
    "    mae_history = history.history['val_mean_absolute_error']\n",
    "    all_mae_histories.append(mae_history)"
   ]
  },
  {
   "cell_type": "code",
   "execution_count": 0,
   "metadata": {
    "id": "5a_TrE68TZKC",
    "colab_type": "code",
    "colab": {}
   },
   "outputs": [],
   "source": [
    "average_mae_history = [\n",
    "    np.mean([x[i] for x in all_mae_histories]) for i in range(num_epochs)]"
   ]
  },
  {
   "cell_type": "code",
   "execution_count": 19,
   "metadata": {
    "id": "l3tXZE2XTbqK",
    "colab_type": "code",
    "colab": {
     "base_uri": "https://localhost:8080/",
     "height": 279.0
    },
    "outputId": "2e6920aa-3d7a-4b73-8412-4c0408832801"
   },
   "outputs": [
    {
     "data": {
      "image/png": "[encoded data removed]",
      "text/plain": [
       "<Figure size 432x288 with 1 Axes>"
      ]
     },
     "metadata": {
      "tags": []
     },
     "output_type": "display_data"
    }
   ],
   "source": [
    "import matplotlib.pyplot as plt\n",
    "\n",
    "plt.plot(range(1, len(average_mae_history) + 1), average_mae_history)\n",
    "plt.xlabel('Epochs')\n",
    "plt.ylabel('Validation MAE')\n",
    "plt.show()"
   ]
  },
  {
   "cell_type": "code",
   "execution_count": 21,
   "metadata": {
    "id": "GtLXMCP6TdgT",
    "colab_type": "code",
    "colab": {
     "base_uri": "https://localhost:8080/",
     "height": 279.0
    },
    "outputId": "9cde17db-38f4-435c-e11e-ee69b7942130"
   },
   "outputs": [
    {
     "data": {
      "image/png": "[encoded data removed]",
      "text/plain": [
       "<Figure size 432x288 with 1 Axes>"
      ]
     },
     "metadata": {
      "tags": []
     },
     "output_type": "display_data"
    }
   ],
   "source": [
    "def smooth_curve(points, factor=0.9):\n",
    "  smoothed_points = []\n",
    "  for point in points:\n",
    "    if smoothed_points:\n",
    "      previous = smoothed_points[-1]\n",
    "      smoothed_points.append(previous * factor + point * (1 - factor))\n",
    "    else:\n",
    "      smoothed_points.append(point)\n",
    "  return smoothed_points\n",
    "\n",
    "smooth_mae_history = smooth_curve(average_mae_history[10:])\n",
    "\n",
    "plt.plot(range(1, len(smooth_mae_history) + 1), smooth_mae_history)\n",
    "plt.xlabel('Epochs')\n",
    "plt.ylabel('Validation MAE')\n",
    "plt.show()"
   ]
  },
  {
   "cell_type": "code",
   "execution_count": 0,
   "metadata": {
    "id": "n2to1YEhaAmc",
    "colab_type": "code",
    "colab": {}
   },
   "outputs": [],
   "source": [
    "new_feature_test = test_data[:,7] - test_data[:,8]\n",
    "np.clip(new_feature_test, a_min=0, a_max=None, out=new_feature_test)\n",
    "test_data2 = np.column_stack((test_data, new_feature_test))"
   ]
  },
  {
   "cell_type": "code",
   "execution_count": 25,
   "metadata": {
    "id": "6YHf0lksTgl_",
    "colab_type": "code",
    "colab": {
     "base_uri": "https://localhost:8080/",
     "height": 34.0
    },
    "outputId": "3eaaecf5-6a38-428a-8080-ce242192ebab"
   },
   "outputs": [
    {
     "name": "stdout",
     "output_type": "stream",
     "text": [
      "102/102 [==============================] - 0s 1ms/step\n"
     ]
    }
   ],
   "source": [
    "# Get a fresh, compiled model.\n",
    "model = build_model()\n",
    "# Train it on the entirety of the data.\n",
    "model.fit(train_data, train_labels,\n",
    "          epochs=80, batch_size=16, verbose=0)\n",
    "test_mse_score, test_mae_score = model.evaluate(test_data2, test_labels)"
   ]
  },
  {
   "cell_type": "code",
   "execution_count": 26,
   "metadata": {
    "id": "Z53EM9chTjde",
    "colab_type": "code",
    "colab": {
     "base_uri": "https://localhost:8080/",
     "height": 34.0
    },
    "outputId": "b90f46e6-0826-4247-a13d-8e6d7b169e43"
   },
   "outputs": [
    {
     "data": {
      "text/plain": [
       "2.9123452784968356"
      ]
     },
     "execution_count": 26,
     "metadata": {
      "tags": []
     },
     "output_type": "execute_result"
    }
   ],
   "source": [
    "test_mae_score"
   ]
  }
 ],
 "metadata": {
  "colab": {
   "name": "hw03_03.ipynb",
   "provenance": [],
   "collapsed_sections": []
  },
  "kernelspec": {
   "name": "python3",
   "display_name": "Python 3"
  }
 },
 "nbformat": 4,
 "nbformat_minor": 0
}
