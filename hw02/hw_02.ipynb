{
 "cells": [
  {
   "cell_type": "code",
   "execution_count": 17,
   "metadata": {},
   "outputs": [],
   "source": [
    "import heapq\n",
    "from collections import Counter"
   ]
  },
  {
   "cell_type": "code",
   "execution_count": 18,
   "metadata": {},
   "outputs": [],
   "source": [
    "def score_word(word, good, bad, ngood, nbad):\n",
    "    \"\"\"\n",
    "    given a word, return the probability that an email containing it is spam\n",
    "    \"\"\"\n",
    "    g = 2 * good.get(word, 0)\n",
    "    b = bad.get(word, 0)\n",
    "    if g + b > 1:\n",
    "        return max(0.01, min(0.99, min(1.0, b/nbad) / (min(1.0, g/ngood) + min(1.0, b/nbad))))\n",
    "    return 0"
   ]
  },
  {
   "cell_type": "code",
   "execution_count": 27,
   "metadata": {},
   "outputs": [],
   "source": [
    "def choose_words(words, good, bad, ngood, nbad, num_tokens=15, neutral=0.5, debug=False):\n",
    "    \"\"\"\n",
    "    chose the num_tokens most interesting words and their scores (from score_word),\n",
    "        where \"interesting\" means the score is different from the neutral score\n",
    "    return a heap (essentially a list) of (word, score) pairs\n",
    "    \"\"\"\n",
    "    chosen = []\n",
    "    for word in words:\n",
    "        score = abs(score_word(word, good, bad, ngood, nbad) - neutral)\n",
    "        if len(chosen) < num_tokens:\n",
    "            heapq.heappush(chosen, (score, word))  # sorted first by score, then by word\n",
    "        else:\n",
    "            # add (score, word) to the heap, then remove the smallest item (which could be the (score, word) we just added)\n",
    "            heapq.pushpop(chosen, (score, word))\n",
    "    if debug:\n",
    "        print(chosen)\n",
    "    return chosen"
   ]
  },
  {
   "cell_type": "code",
   "execution_count": 29,
   "metadata": {},
   "outputs": [],
   "source": [
    "def get_spam_prob(pairs):\n",
    "    \"\"\"\n",
    "    pairs is the output from choose_words\n",
    "    \n",
    "    accumulator pattern: \n",
    "    prod = the product of the elements of probs\n",
    "    comp = the product of the complement of the elements of probs\n",
    "    \"\"\"\n",
    "    prod = 1\n",
    "    comp = 1\n",
    "    for prob, word in pairs:\n",
    "        prod *= prob\n",
    "        comp *= (1 - prob)\n",
    "    return prod / (prod + comp)"
   ]
  },
  {
   "cell_type": "code",
   "execution_count": 21,
   "metadata": {},
   "outputs": [],
   "source": [
    "def count_good_bad(good_corpus, bad_corpus):\n",
    "    ngood = len(good_corpus)\n",
    "    nbad = len(bad_corpus)\n",
    "    good = Counter()\n",
    "    bad = Counter()\n",
    "    for doc in good_corpus:\n",
    "        for word in doc:\n",
    "            good[word] += 1\n",
    "    for doc in bad_corpus:\n",
    "        for word in doc:\n",
    "            bad[word] += 1\n",
    "    return good, bad, ngood, nbad"
   ]
  },
  {
   "cell_type": "code",
   "execution_count": 22,
   "metadata": {},
   "outputs": [],
   "source": [
    "def evaluate_doc(doc, good, bad, ngood, nbad, debug=False):\n",
    "    pairs = choose_words(doc, good, bad, ngood, nbad, debug=debug)\n",
    "    return get_spam_prob(pairs)"
   ]
  },
  {
   "cell_type": "code",
   "execution_count": 23,
   "metadata": {},
   "outputs": [],
   "source": [
    "spam_corpus = [[\"I\", \"am\", \"spam\", \"spam\", \"I\", \"am\"], [\"I\", \"do\", \"not\", \"like\", \"that\", \"spamiam\"]]\n",
    "ham_corpus = [[\"do\", \"i\", \"like\", \"green\", \"eggs\", \"and\", \"ham\"], [\"i\", \"do\"]]"
   ]
  },
  {
   "cell_type": "code",
   "execution_count": 31,
   "metadata": {},
   "outputs": [
    {
     "name": "stdout",
     "output_type": "stream",
     "text": [
      "evaluating ham\n",
      "['do', 'i', 'like', 'green', 'eggs', 'and', 'ham']\n",
      "[(0.16666666666666669, 'do'), (0.49, 'eggs'), (0.16666666666666669, 'like'), (0.49, 'i'), (0.49, 'green'), (0.49, 'and'), (0.49, 'ham')]\n",
      "0.031709909197758505\n",
      "\n",
      "['i', 'do']\n",
      "[(0.16666666666666669, 'do'), (0.49, 'i')]\n",
      "0.1611842105263158\n",
      "\n",
      "evaluating spam\n",
      "['I', 'am', 'spam', 'spam', 'I', 'am']\n",
      "[(0.49, 'I'), (0.49, 'I'), (0.49, 'am'), (0.49, 'spam'), (0.49, 'am'), (0.49, 'spam')]\n",
      "0.4402784629577644\n",
      "\n",
      "['I', 'do', 'not', 'like', 'that', 'spamiam']\n",
      "[(0.16666666666666669, 'do'), (0.16666666666666669, 'like'), (0.5, 'not'), (0.49, 'I'), (0.5, 'that'), (0.5, 'spamiam')]\n",
      "0.03700906344410877\n",
      "\n"
     ]
    }
   ],
   "source": [
    "good, bad, ngood, nbad = count_good_bad(ham_corpus, spam_corpus)\n",
    "print('evaluating ham')\n",
    "for doc in ham_corpus:\n",
    "    print(doc)\n",
    "    print(evaluate_doc(doc, good, bad, ngood, nbad, debug=True))\n",
    "    print()\n",
    "print('evaluating spam')\n",
    "for doc in spam_corpus:\n",
    "    print(doc)\n",
    "    print(evaluate_doc(doc, good, bad, ngood, nbad, debug=True))\n",
    "    print()"
   ]
  },
  {
   "cell_type": "markdown",
   "metadata": {},
   "source": [
    "## 2. Bayesian Network"
   ]
  },
  {
   "cell_type": "code",
   "execution_count": 3,
   "metadata": {},
   "outputs": [],
   "source": [
    "import sys\n",
    "sys.path.append('/home/cmd38/344/cs344-code/tools/aima')  # need to be able to find the module"
   ]
  },
  {
   "cell_type": "code",
   "execution_count": 4,
   "metadata": {},
   "outputs": [],
   "source": [
    "from probability import BayesNet, JointProbDist, enumeration_ask, enumerate_joint_ask"
   ]
  },
  {
   "cell_type": "code",
   "execution_count": 6,
   "metadata": {},
   "outputs": [],
   "source": [
    "T = True\n",
    "F = False\n",
    "# wet_joint = BayesNet([\n",
    "#     ('Cloudy', '', 0.5),\n",
    "#     ('Sprinkler Rain')\n",
    "#     ('WetGrass', 'Sprinkler Rain', {(T, T): 0.99, (T, F): 0.90, (F, T): 0.90, (F, F): 0.00}),\n",
    "#     ])\n",
    "wet_bayes = BayesNet([\n",
    "    ('Cloudy', '', 0.5),\n",
    "    ('Sprinkler', 'Cloudy', {T: 0.10, F:0.50}),\n",
    "    ('Rain', 'Cloudy', {T: 0.80, F:0.20}),\n",
    "    ('WetGrass', 'Sprinkler Rain', {(T, T): 0.99, (T, F): 0.90, (F, T): 0.90, (F, F): 0.00}),\n",
    "    ])"
   ]
  },
  {
   "cell_type": "code",
   "execution_count": 7,
   "metadata": {},
   "outputs": [
    {
     "name": "stdout",
     "output_type": "stream",
     "text": [
      "False: 0.5, True: 0.5\n"
     ]
    }
   ],
   "source": [
    "print(enumeration_ask('Cloudy', dict(), wet_bayes).show_approx())"
   ]
  },
  {
   "cell_type": "code",
   "execution_count": 12,
   "metadata": {},
   "outputs": [
    {
     "data": {
      "text/plain": [
       "(0.5, 0.5)"
      ]
     },
     "execution_count": 12,
     "metadata": {},
     "output_type": "execute_result"
    }
   ],
   "source": [
    "(0.5, 0.5)  # P(Cloudy is given to us)"
   ]
  },
  {
   "cell_type": "code",
   "execution_count": 8,
   "metadata": {},
   "outputs": [
    {
     "name": "stdout",
     "output_type": "stream",
     "text": [
      "False: 0.9, True: 0.1\n"
     ]
    }
   ],
   "source": [
    "print(enumeration_ask('Sprinkler', dict(Cloudy=T), wet_bayes).show_approx())"
   ]
  },
  {
   "cell_type": "code",
   "execution_count": 14,
   "metadata": {},
   "outputs": [
    {
     "data": {
      "text/plain": [
       "(0.9, 0.1)"
      ]
     },
     "execution_count": 14,
     "metadata": {},
     "output_type": "execute_result"
    }
   ],
   "source": [
    "(1 - 0.1, 0.1)  # P(Sprinkler|Cloudy) is given as 0.1"
   ]
  },
  {
   "cell_type": "code",
   "execution_count": 9,
   "metadata": {},
   "outputs": [
    {
     "name": "stdout",
     "output_type": "stream",
     "text": [
      "False: 0.952, True: 0.0476\n"
     ]
    }
   ],
   "source": [
    "print(enumeration_ask('Cloudy', dict(Sprinkler=T, Rain=F), wet_bayes).show_approx())"
   ]
  },
  {
   "cell_type": "code",
   "execution_count": 10,
   "metadata": {},
   "outputs": [
    {
     "name": "stdout",
     "output_type": "stream",
     "text": [
      "False: 0.01, True: 0.99\n"
     ]
    }
   ],
   "source": [
    "print(enumeration_ask('WetGrass', dict(Cloudy=T, Sprinkler=T, Rain=T), wet_bayes).show_approx())"
   ]
  },
  {
   "cell_type": "code",
   "execution_count": 11,
   "metadata": {},
   "outputs": [
    {
     "name": "stdout",
     "output_type": "stream",
     "text": [
      "False: 0.639, True: 0.361\n"
     ]
    }
   ],
   "source": [
    "print(enumeration_ask('Cloudy', dict(WetGrass=F), wet_bayes).show_approx())"
   ]
  }
 ],
 "metadata": {
  "kernelspec": {
   "display_name": "Python 3",
   "language": "python",
   "name": "python3"
  },
  "language_info": {
   "codemirror_mode": {
    "name": "ipython",
    "version": 3
   },
   "file_extension": ".py",
   "mimetype": "text/x-python",
   "name": "python",
   "nbconvert_exporter": "python",
   "pygments_lexer": "ipython3",
   "version": "3.7.4"
  }
 },
 "nbformat": 4,
 "nbformat_minor": 2
}
