{
 "cells": [
  {
   "cell_type": "markdown",
   "metadata": {
    "collapsed": true
   },
   "source": [
    "# Homework 1"
   ]
  },
  {
   "cell_type": "markdown",
   "metadata": {},
   "source": [
    "## 1.1\n",
    "\n",
    "It really depends on the domain we are discussing. In my ethics class, we talked about Daniel Kahneman's concept of system 1 and system 2. System 1 is used for fast, automatic thinking. System 2 is used for slow, effortful thinking. Because system 2 is effortful thinking, it is a lot easier to gain insight through introspection. Whereas if you ask someone how their system 1 thinking works, they will likely have a hard time answering that even if they think carefully because it is hard to consciously observe unconscious thought. (In analogy to computer science, the difference between system 1 and system 2 is a bit like the difference between machine learning and traditional (rules-based) AI.) So, introspection may help for modeling system 2 but not so much for system 1.\n",
    "\n",
    "It also depends on what your goal is. Computers are great at math and reasoning, capable of complex analytical processes and lots of number-crunching. Humans are really good at intuition. Teaching a computer to think like a human can be a lot harder than teaching a computer to reach a reasonable conclusion (or even just reach the conclusion a human would reach)."
   ]
  },
  {
   "cell_type": "code",
   "execution_count": 22,
   "metadata": {},
   "outputs": [],
   "source": [
    "from itertools import product\n",
    "import random\n",
    "import pandas as pd\n",
    "import time"
   ]
  },
  {
   "cell_type": "code",
   "execution_count": 7,
   "metadata": {},
   "outputs": [],
   "source": [
    "import sys\n",
    "sys.path.append('/home/cmd38/344/cs344-code/tools/aima')  # need to be able to find the module\n",
    "from csp import CSP, min_conflicts, backtracking_search"
   ]
  },
  {
   "cell_type": "code",
   "execution_count": 29,
   "metadata": {},
   "outputs": [],
   "source": [
    "from search import Problem, hill_climbing, simulated_annealing, exp_schedule"
   ]
  },
  {
   "cell_type": "markdown",
   "metadata": {},
   "source": [
    "## 1.2\n",
    "\n",
    "Describe your TSP problem formulation."
   ]
  },
  {
   "cell_type": "markdown",
   "metadata": {
    "pycharm": {
     "is_executing": false
    }
   },
   "source": [
    "- State: a list of all of the cities, in the order that they are visited\n",
    "- Action: swap two cities (if A was at index 1 and B was at index 4, now A is at index 4 and B is at index 1)"
   ]
  },
  {
   "cell_type": "code",
   "execution_count": 27,
   "metadata": {},
   "outputs": [],
   "source": [
    "class TSP(Problem):\n",
    "    \"\"\"\n",
    "    Class for a local search implementation of TSP that assumes all cities are interconnected.\n",
    "    \"\"\"\n",
    "    \n",
    "    def __init__(self, cities, initial, path_costs, goal=None):\n",
    "        self.cities = cities\n",
    "        self.num_cities = len(cities)\n",
    "        self.path_costs = path_costs  # maps a tuple of cities to their path costs\n",
    "        super().__init__(initial, goal)\n",
    "    \n",
    "    def actions(self, state):\n",
    "        \"\"\"\n",
    "        Get the possible actions, in this case a list of tuples \n",
    "        where the tuples contain pairs of indices that could be swapped\n",
    "        \"\"\"\n",
    "        acts = []\n",
    "        for i in range(self.num_cities - 1):  # we swap forward, so we don't need the last city\n",
    "            for j in range(i + 1, self.num_cities):  # i+1 so we don't swap identical elements\n",
    "                acts.append((i, j))\n",
    "        return acts\n",
    "    \n",
    "    def result(self, state, action):\n",
    "        res = state[:]\n",
    "        i, j = action\n",
    "        res[i], res[j] = res[j], res[i]\n",
    "        return res\n",
    "    \n",
    "    def value(self, state):\n",
    "        val = 0\n",
    "        for idx, city in enumerate(state):\n",
    "            # for the last city, wrap around (we need to end where we started)\n",
    "            next_city = state[(idx + 1) %  self.num_cities]\n",
    "            pair = (city, next_city)\n",
    "            if pair in self.path_costs:\n",
    "                val -= self.path_costs[pair]\n",
    "            else:\n",
    "                # the pair must be stored in the opposite order, so reverse the tuple\n",
    "                val -= self.path_costs[pair[::-1]]\n",
    "        return val"
   ]
  },
  {
   "cell_type": "markdown",
   "metadata": {},
   "source": [
    "Describe your sample city-domain and how your code does on it."
   ]
  },
  {
   "cell_type": "code",
   "execution_count": 30,
   "metadata": {
    "pycharm": {
     "is_executing": false
    }
   },
   "outputs": [],
   "source": [
    "# simple example from https://www.geeksforgeeks.org/travelling-salesman-problem-set-1/\n",
    "cities = [1, 2, 3, 4]\n",
    "cost = {(1, 2): 10, (1, 3): 15, (1, 4): 20, (2, 3): 35, (2, 4): 25, (3, 4): 30}\n",
    "\n",
    "results_simple = []\n",
    "for _ in range(50):  # random restarts\n",
    "    # like random.shuffle, but returns a new list instead of modifying the original\n",
    "    initial = random.sample(cities, k=len(cities))\n",
    "    p = TSP(cities, initial, cost)\n",
    "    \n",
    "    t_start = time.time()\n",
    "    hill_solution = hill_climbing(p)\n",
    "    t_hill = time.time() - t_start\n",
    "    \n",
    "    t_start = time.time()\n",
    "    annealing_solution = simulated_annealing(\n",
    "        p,\n",
    "        exp_schedule(k=20, lam=0.005, limit=1000)\n",
    "    )\n",
    "    t_anneal = time.time() - t_start\n",
    "    \n",
    "    results_simple.append({\"Initial\": initial, \"x_hill\": hill_solution, \"val_hill\": p.value(hill_solution),\n",
    "                \"time_hill\": t_hill, \"x_anneal\": annealing_solution, \"val_anneal\": p.value(annealing_solution),\n",
    "                \"time_anneal\": t_anneal})"
   ]
  },
  {
   "cell_type": "code",
   "execution_count": 31,
   "metadata": {
    "pycharm": {
     "is_executing": false
    }
   },
   "outputs": [
    {
     "name": "stdout",
     "output_type": "stream",
     "text": [
      "       val_hill  time_hill  val_anneal  time_anneal\n",
      "count      50.0  50.000000        50.0    50.000000\n",
      "mean      -80.0   0.000051       -80.0     0.012322\n",
      "std         0.0   0.000014         0.0     0.000460\n",
      "min       -80.0   0.000028       -80.0     0.011994\n",
      "25%       -80.0   0.000052       -80.0     0.012095\n",
      "50%       -80.0   0.000053       -80.0     0.012149\n",
      "75%       -80.0   0.000056       -80.0     0.012257\n",
      "max       -80.0   0.000084       -80.0     0.014701\n"
     ]
    }
   ],
   "source": [
    "simple_df = pd.DataFrame.from_records(results_simple)\n",
    "print(simple_df.describe())"
   ]
  },
  {
   "cell_type": "markdown",
   "metadata": {},
   "source": [
    "Both algorithms easily solve the simple case."
   ]
  },
  {
   "cell_type": "code",
   "execution_count": 32,
   "metadata": {},
   "outputs": [],
   "source": [
    "# Example 4 from http://jlmartin.faculty.ku.edu/~jlmartin/courses/math105-F14/chapter6-part6.pdf\n",
    "cities = ['A', 'B', 'C', 'D', 'E', 'F']\n",
    "cost = {('A', 'B'): 12, ('A', 'C'): 29, ('A', 'D'): 22, ('A', 'E'): 13, ('A', 'F'): 24,\n",
    "               ('B', 'C'): 19, ('B', 'D'): 3, ('B', 'E'): 25, ('B', 'F'): 6,\n",
    "               ('C', 'D'): 21, ('C', 'E'): 23, ('C', 'F'): 28,\n",
    "               ('D', 'E'): 4, ('D', 'F'): 5, ('E', 'F'): 16}\n",
    "\n",
    "results_complex = []\n",
    "for _ in range(50):  # random restarts\n",
    "    # like random.shuffle, but returns a new list instead of modifying the original\n",
    "    initial = random.sample(cities, k=len(cities))\n",
    "    p = TSP(cities, initial, cost)\n",
    "    \n",
    "    t_start = time.time()\n",
    "    hill_solution = hill_climbing(p)\n",
    "    t_hill = time.time() - t_start\n",
    "    \n",
    "    t_start = time.time()\n",
    "    annealing_solution = simulated_annealing(\n",
    "        p,\n",
    "        exp_schedule(k=20, lam=0.005, limit=1000)\n",
    "    )\n",
    "    t_anneal = time.time() - t_start\n",
    "    \n",
    "    results_complex.append({\"Initial\": initial, \"x_hill\": hill_solution, \"val_hill\": p.value(hill_solution),\n",
    "                \"time_hill\": t_hill, \"x_anneal\": annealing_solution, \"val_anneal\": p.value(annealing_solution),\n",
    "                \"time_anneal\": t_anneal})"
   ]
  },
  {
   "cell_type": "code",
   "execution_count": 33,
   "metadata": {},
   "outputs": [
    {
     "name": "stdout",
     "output_type": "stream",
     "text": [
      "       val_hill  time_hill  val_anneal  time_anneal\n",
      "count      50.0  50.000000        50.0    50.000000\n",
      "mean      -76.0   0.000218       -76.0     0.023079\n",
      "std         0.0   0.000067         0.0     0.001632\n",
      "min       -76.0   0.000125       -76.0     0.022254\n",
      "25%       -76.0   0.000187       -76.0     0.022425\n",
      "50%       -76.0   0.000189       -76.0     0.022777\n",
      "75%       -76.0   0.000249       -76.0     0.023096\n",
      "max       -76.0   0.000376       -76.0     0.033860\n"
     ]
    }
   ],
   "source": [
    "complex_df = pd.DataFrame.from_records(results_complex)\n",
    "print(complex_df.describe())"
   ]
  },
  {
   "cell_type": "markdown",
   "metadata": {},
   "source": [
    "Both algorithms solve the complex case and do better than the algorithms in the notes I got this example from (those algorithms got -84 and -83)."
   ]
  },
  {
   "cell_type": "markdown",
   "metadata": {},
   "source": [
    "I think hill climbing is better since it works faster and there don't tend to be a lot of local maxima (I don't think? I'm having a hard time visualizing it). But I may not have tried on a hard enough problem."
   ]
  },
  {
   "cell_type": "markdown",
   "metadata": {},
   "source": [
    "## 1.3"
   ]
  },
  {
   "cell_type": "markdown",
   "metadata": {},
   "source": [
    "Your solution should represent 6–7 courses (e.g., cs108, cs112, …), 4–5 faculty (e.g., dschuurman, adams, …) course assignments for all courses (e.g., dschuurman teaches 108, adams teaches cs112, …), 4–5 (disjoint!) time slots (mwf900, tth1030, …) and the 2 CS classrooms (e.g., nh253, sb382).\n",
    "\n",
    "The constraints are that:\n",
    "- each course should be offered exactly once by the assigned faculty member.\n",
    "- a faculty member can only teach one thing at a time.\n",
    "- a room can only have one class at each time."
   ]
  },
  {
   "cell_type": "code",
   "execution_count": 8,
   "metadata": {},
   "outputs": [],
   "source": [
    "def CourseScheduling(courses, course_assignments, time_slots, classrooms):\n",
    "    \"\"\"Return an instance of a course scheduling problem\"\"\"\n",
    "    combinations = list(product(time_slots, classrooms))\n",
    "    \n",
    "    variables = courses\n",
    "    domains = {course: combinations[:] for course in courses}\n",
    "    neighbors = dict()\n",
    "    for course in courses:\n",
    "        neighbors[course] = [x for x in courses if x != course]\n",
    "    \n",
    "    def course_constraint(A, a, B, b):\n",
    "        time_a, room_a = a\n",
    "        time_b, room_b = b\n",
    "        if time_a == time_b:\n",
    "            if room_a == room_b:\n",
    "                # a room can only have one class at each time\n",
    "                return False\n",
    "            if course_assignments[A] == course_assignments[B]:\n",
    "                # a faculty member can only teach one thing at a time\n",
    "                return False\n",
    "        return True\n",
    "    \n",
    "    return CSP(variables, domains, neighbors, course_constraint)"
   ]
  },
  {
   "cell_type": "code",
   "execution_count": 9,
   "metadata": {},
   "outputs": [],
   "source": [
    "courses = [\"cs108\", \"cs112\", \"cs214\", \"cs232\", \"cs344\", \"cs262\", \"cs384\"]\n",
    "faculty = [\"Adams\", \"Norman\", \"Schuurman\", \"Vander Linden\"]\n",
    "course_assignments = {\"cs108\": \"Norman\", \"cs112\": \"Adams\", \n",
    "                      \"cs214\": \"Adams\", \"cs232\": \"Norman\", \"cs344\": \"Vander Linden\",\n",
    "                      \"cs262\": \"Vander Linden\", \"cs384\": \"Schuurman\"}\n",
    "time_slots = [\"mwf900\", \"mwf1030\", \"mwf1130\", \"tth900\", \"tth1030\"]\n",
    "classrooms = [\"nh253\", \"sb382\"]\n",
    "problem = CourseScheduling(courses, course_assignments, time_slots, classrooms)"
   ]
  },
  {
   "cell_type": "markdown",
   "metadata": {},
   "source": [
    "I chose this formulation of the problem because:\n",
    "\n",
    "- by making the courses the variables and the combinations of times and rooms the values, the problem automatically satisfies the \"each course should be offered exactly once\" \n",
    "- there are only two possible conflicts: a course in two places at the same time, and a professor in two places at the same time. The way I set up this problem, it is easy to check both of those conflicts in the course_constraint function"
   ]
  },
  {
   "cell_type": "markdown",
   "metadata": {},
   "source": [
    "Here I demonstrate that my formulation works for min_conflicts and backtracking. I was not able to get it to work using AC3, but AC3 couldn't solve some other csp's either."
   ]
  },
  {
   "cell_type": "code",
   "execution_count": 10,
   "metadata": {
    "pycharm": {
     "is_executing": false
    }
   },
   "outputs": [],
   "source": [
    "solution_min = min_conflicts(problem)"
   ]
  },
  {
   "cell_type": "code",
   "execution_count": 11,
   "metadata": {},
   "outputs": [],
   "source": [
    "solution_back = backtracking_search(problem)"
   ]
  },
  {
   "cell_type": "code",
   "execution_count": 12,
   "metadata": {},
   "outputs": [
    {
     "name": "stdout",
     "output_type": "stream",
     "text": [
      "Solution:\n",
      "{'cs108': ('tth900', 'nh253'), 'cs112': ('mwf1130', 'nh253'), 'cs214': ('mwf1030', 'sb382'), 'cs232': ('mwf1130', 'sb382'), 'cs344': ('tth900', 'sb382'), 'cs262': ('tth1030', 'nh253'), 'cs384': ('mwf1030', 'nh253')}\n",
      "Solution:\n",
      "{'cs108': ('mwf900', 'nh253'), 'cs112': ('mwf900', 'sb382'), 'cs214': ('mwf1030', 'nh253'), 'cs232': ('mwf1030', 'sb382'), 'cs344': ('mwf1130', 'nh253'), 'cs262': ('tth900', 'nh253'), 'cs384': ('mwf1130', 'sb382')}\n"
     ]
    }
   ],
   "source": [
    "for solution in (solution_min, solution_back):\n",
    "    if solution is not None and problem.goal_test(solution):\n",
    "        print('Solution:')\n",
    "        print(solution)\n",
    "    else:\n",
    "        print('Failed - domains: ' + str(problem.curr_domains))\n",
    "        problem.display(problem.infer_assignment())"
   ]
  }
 ],
 "metadata": {
  "kernelspec": {
   "display_name": "Python 3",
   "language": "python",
   "name": "python3"
  },
  "language_info": {
   "codemirror_mode": {
    "name": "ipython",
    "version": 3
   },
   "file_extension": ".py",
   "mimetype": "text/x-python",
   "name": "python",
   "nbconvert_exporter": "python",
   "pygments_lexer": "ipython3",
   "version": "3.7.4"
  },
  "pycharm": {
   "stem_cell": {
    "cell_type": "raw",
    "metadata": {
     "collapsed": false
    },
    "source": []
   }
  }
 },
 "nbformat": 4,
 "nbformat_minor": 1
}
