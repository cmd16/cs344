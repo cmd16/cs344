{
 "cells": [
  {
   "cell_type": "markdown",
   "metadata": {
    "collapsed": true
   },
   "source": [
    "# Homework 1"
   ]
  },
  {
   "cell_type": "markdown",
   "metadata": {},
   "source": [
    "## 1.1\n",
    "\n",
    "Talk about psychologists and AI for a couple paragraphs."
   ]
  },
  {
   "cell_type": "markdown",
   "metadata": {},
   "source": [
    "## 1.2\n",
    "\n",
    "Describe your TSP problem formulation."
   ]
  },
  {
   "cell_type": "code",
   "execution_count": 5,
   "metadata": {
    "pycharm": {
     "is_executing": false
    }
   },
   "outputs": [
    {
     "name": "stdout",
     "output_type": "stream",
     "text": [
      "Here's the problem formulation.\n"
     ]
    }
   ],
   "source": [
    "print('Here\\'s the problem formulation.')"
   ]
  },
  {
   "cell_type": "markdown",
   "metadata": {},
   "source": [
    "Describe your sample city-domain and how your code does on it."
   ]
  },
  {
   "cell_type": "code",
   "execution_count": 4,
   "metadata": {
    "pycharm": {
     "is_executing": false
    }
   },
   "outputs": [
    {
     "name": "stdout",
     "output_type": "stream",
     "text": [
      "Here's your code to run the TSP problem.\n"
     ]
    }
   ],
   "source": [
    "print('Here\\'s your code to run the TSP problem.')"
   ]
  },
  {
   "cell_type": "markdown",
   "metadata": {},
   "source": [
    "Make some parting comments on this problem."
   ]
  },
  {
   "cell_type": "markdown",
   "metadata": {},
   "source": [
    "## 1.3\n",
    "\n",
    "Follow the same pattern for this problem."
   ]
  },
  {
   "cell_type": "markdown",
   "metadata": {},
   "source": [
    "Your solution should represent 6–7 courses (e.g., cs108, cs112, …), 4–5 faculty (e.g., dschuurman, adams, …) course assignments for all courses (e.g., dschuurman teaches 108, adams teaches cs112, …), 4–5 (disjoint!) time slots (mwf900, tth1030, …) and the 2 CS classrooms (e.g., nh253, sb382).\n",
    "\n",
    "The constraints are that:\n",
    "- each course should be offered exactly once by the assigned faculty member.\n",
    "- a faculty member can only teach one thing at a time.\n",
    "- a room can only have one class at each time."
   ]
  },
  {
   "cell_type": "code",
   "execution_count": null,
   "metadata": {},
   "outputs": [],
   "source": [
    "def CourseScheduling():\n",
    "    \"\"\"A Course scheduling problem\"\"\"\n",
    "    courses = [\"cs108\", \"cs112\", \"cs214\", \"cs232\", \"cs344\", \"cs262\", \"cs384\"]\n",
    "    faculty = [\"Adams\", \"Norman\", \"Schuurman\", \"Vander Linden\"]\n",
    "    course_assignments = {\"cs108\": \"Norman\", \"cs112\": \"Adams\", \n",
    "                          \"cs214\": \"Adams\", \"cs232\": \"Norman\", \"cs344\": \"Vander Linden\",\n",
    "                          \"cs262\": \"Vander Linden\", \"cs384\": \"Schuurman\"}\n",
    "    time_slots = [\"mwf900\", \"mwf1030\", \"mwf1130\", \"tth900\", \"tth1030\"]\n",
    "    classrooms = [\"nh253\", \"sb382\"]\n",
    "    return CSP(variables, domains, neighbors, constraint)"
   ]
  },
  {
   "cell_type": "code",
   "execution_count": 5,
   "metadata": {
    "pycharm": {
     "is_executing": false
    }
   },
   "outputs": [
    {
     "name": "stdout",
     "output_type": "stream",
     "text": [
      "Here's yet more code.\n"
     ]
    }
   ],
   "source": [
    "print('Here\\'s yet more code.')"
   ]
  }
 ],
 "metadata": {
  "kernelspec": {
   "display_name": "Python 3",
   "language": "python",
   "name": "python3"
  },
  "language_info": {
   "codemirror_mode": {
    "name": "ipython",
    "version": 3
   },
   "file_extension": ".py",
   "mimetype": "text/x-python",
   "name": "python",
   "nbconvert_exporter": "python",
   "pygments_lexer": "ipython3",
   "version": "3.7.4"
  },
  "pycharm": {
   "stem_cell": {
    "cell_type": "raw",
    "metadata": {
     "collapsed": false
    },
    "source": []
   }
  }
 },
 "nbformat": 4,
 "nbformat_minor": 1
}
