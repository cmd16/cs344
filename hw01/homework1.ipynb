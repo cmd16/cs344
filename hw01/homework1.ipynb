{
 "cells": [
  {
   "cell_type": "markdown",
   "metadata": {
    "collapsed": true
   },
   "source": [
    "# Homework 1"
   ]
  },
  {
   "cell_type": "markdown",
   "metadata": {},
   "source": [
    "## 1.1\n",
    "\n",
    "It really depends on the domain we are discussing. In my ethics class, we talked about Daniel Kahneman's concept of system 1 and system 2. System 1 is used for fast, automatic thinking. System 2 is used for slow, effortful thinking. Because system 2 is effortful thinking, it is a lot easier to gain insight through introspection. Whereas if you ask someone how their system 1 thinking works, they will likely have a hard time answering that even if they think carefully because it is hard to consciously observe unconscious thought. (In analogy to computer science, the difference between system 1 and system 2 is a bit like the difference between machine learning and traditional (rules-based) AI.) So, introspection may help for modeling system 2 but not so much for system 1.\n",
    "\n",
    "It also depends on what your goal is. Computers are great at math and reasoning, capable of complex analytical processes and lots of number-crunching. Humans are really good at intuition. Teaching a computer to think like a human can be a lot harder than teaching a computer to reach a reasonable conclusion (or even just reach the conclusion a human would reach)."
   ]
  },
  {
   "cell_type": "markdown",
   "metadata": {},
   "source": [
    "## 1.2\n",
    "\n",
    "Describe your TSP problem formulation."
   ]
  },
  {
   "cell_type": "code",
   "execution_count": 5,
   "metadata": {
    "pycharm": {
     "is_executing": false
    }
   },
   "outputs": [
    {
     "name": "stdout",
     "output_type": "stream",
     "text": [
      "Here's the problem formulation.\n"
     ]
    }
   ],
   "source": [
    "print('Here\\'s the problem formulation.')"
   ]
  },
  {
   "cell_type": "markdown",
   "metadata": {},
   "source": [
    "Describe your sample city-domain and how your code does on it."
   ]
  },
  {
   "cell_type": "code",
   "execution_count": 4,
   "metadata": {
    "pycharm": {
     "is_executing": false
    }
   },
   "outputs": [
    {
     "name": "stdout",
     "output_type": "stream",
     "text": [
      "Here's your code to run the TSP problem.\n"
     ]
    }
   ],
   "source": [
    "print('Here\\'s your code to run the TSP problem.')"
   ]
  },
  {
   "cell_type": "markdown",
   "metadata": {},
   "source": [
    "Make some parting comments on this problem."
   ]
  },
  {
   "cell_type": "markdown",
   "metadata": {},
   "source": [
    "## 1.3"
   ]
  },
  {
   "cell_type": "markdown",
   "metadata": {},
   "source": [
    "Your solution should represent 6–7 courses (e.g., cs108, cs112, …), 4–5 faculty (e.g., dschuurman, adams, …) course assignments for all courses (e.g., dschuurman teaches 108, adams teaches cs112, …), 4–5 (disjoint!) time slots (mwf900, tth1030, …) and the 2 CS classrooms (e.g., nh253, sb382).\n",
    "\n",
    "The constraints are that:\n",
    "- each course should be offered exactly once by the assigned faculty member.\n",
    "- a faculty member can only teach one thing at a time.\n",
    "- a room can only have one class at each time."
   ]
  },
  {
   "cell_type": "code",
   "execution_count": 11,
   "metadata": {},
   "outputs": [],
   "source": [
    "from itertools import product"
   ]
  },
  {
   "cell_type": "code",
   "execution_count": 21,
   "metadata": {},
   "outputs": [
    {
     "ename": "ModuleNotFoundError",
     "evalue": "No module named 'csp'",
     "output_type": "error",
     "traceback": [
      "\u001b[0;31m---------------------------------------------------------------------------\u001b[0m",
      "\u001b[0;31mModuleNotFoundError\u001b[0m                       Traceback (most recent call last)",
      "\u001b[0;32m<ipython-input-21-1ec87a2e2c4a>\u001b[0m in \u001b[0;36m<module>\u001b[0;34m\u001b[0m\n\u001b[0;32m----> 1\u001b[0;31m \u001b[0;32mfrom\u001b[0m \u001b[0mcsp\u001b[0m \u001b[0;32mimport\u001b[0m \u001b[0mCSP\u001b[0m\u001b[0;34m,\u001b[0m \u001b[0mmin_conflicts\u001b[0m\u001b[0;34m,\u001b[0m \u001b[0mbacktracking_search\u001b[0m\u001b[0;34m\u001b[0m\u001b[0;34m\u001b[0m\u001b[0m\n\u001b[0m",
      "\u001b[0;31mModuleNotFoundError\u001b[0m: No module named 'csp'"
     ]
    }
   ],
   "source": [
    "from csp import CSP, min_conflicts, backtracking_search"
   ]
  },
  {
   "cell_type": "code",
   "execution_count": 24,
   "metadata": {},
   "outputs": [],
   "source": [
    "def CourseScheduling(courses, course_assignments, time_slots, classrooms):\n",
    "    \"\"\"Return an instance of a course scheduling problem\"\"\"\n",
    "    combinations = list(product(time_slots, classrooms))\n",
    "    \n",
    "    variables = courses\n",
    "    domains = {course: combinations[:] for course in courses}\n",
    "    neighbors = dict()\n",
    "    for course in courses:\n",
    "        neighbors[course] = [x for x in courses if x != course]\n",
    "    \n",
    "    def course_constraint(A, a, B, b):\n",
    "        time_a, room_a = a\n",
    "        time_b, room_b = b\n",
    "        if time_a == time_b:\n",
    "            if room_a == room_b:\n",
    "                # a room can only have one class at each time\n",
    "                return False\n",
    "            if course_assignments[A] == course_assignments[B]:\n",
    "                # a faculty member can only teach one thing at a time\n",
    "                return False\n",
    "        return True\n",
    "    \n",
    "    return CSP(variables, domains, neighbors, course_constraint)"
   ]
  },
  {
   "cell_type": "code",
   "execution_count": 25,
   "metadata": {},
   "outputs": [
    {
     "ename": "NameError",
     "evalue": "name 'CSP' is not defined",
     "output_type": "error",
     "traceback": [
      "\u001b[0;31m---------------------------------------------------------------------------\u001b[0m",
      "\u001b[0;31mNameError\u001b[0m                                 Traceback (most recent call last)",
      "\u001b[0;32m<ipython-input-25-9e9a0a12c479>\u001b[0m in \u001b[0;36m<module>\u001b[0;34m\u001b[0m\n\u001b[1;32m      6\u001b[0m \u001b[0mtime_slots\u001b[0m \u001b[0;34m=\u001b[0m \u001b[0;34m[\u001b[0m\u001b[0;34m\"mwf900\"\u001b[0m\u001b[0;34m,\u001b[0m \u001b[0;34m\"mwf1030\"\u001b[0m\u001b[0;34m,\u001b[0m \u001b[0;34m\"mwf1130\"\u001b[0m\u001b[0;34m,\u001b[0m \u001b[0;34m\"tth900\"\u001b[0m\u001b[0;34m,\u001b[0m \u001b[0;34m\"tth1030\"\u001b[0m\u001b[0;34m]\u001b[0m\u001b[0;34m\u001b[0m\u001b[0;34m\u001b[0m\u001b[0m\n\u001b[1;32m      7\u001b[0m \u001b[0mclassrooms\u001b[0m \u001b[0;34m=\u001b[0m \u001b[0;34m[\u001b[0m\u001b[0;34m\"nh253\"\u001b[0m\u001b[0;34m,\u001b[0m \u001b[0;34m\"sb382\"\u001b[0m\u001b[0;34m]\u001b[0m\u001b[0;34m\u001b[0m\u001b[0;34m\u001b[0m\u001b[0m\n\u001b[0;32m----> 8\u001b[0;31m \u001b[0mproblem\u001b[0m \u001b[0;34m=\u001b[0m \u001b[0mCourseScheduling\u001b[0m\u001b[0;34m(\u001b[0m\u001b[0mcourses\u001b[0m\u001b[0;34m,\u001b[0m \u001b[0mcourse_assignments\u001b[0m\u001b[0;34m,\u001b[0m \u001b[0mtime_slots\u001b[0m\u001b[0;34m,\u001b[0m \u001b[0mclassrooms\u001b[0m\u001b[0;34m)\u001b[0m\u001b[0;34m\u001b[0m\u001b[0;34m\u001b[0m\u001b[0m\n\u001b[0m",
      "\u001b[0;32m<ipython-input-24-bdddaae70625>\u001b[0m in \u001b[0;36mCourseScheduling\u001b[0;34m(courses, course_assignments, time_slots, classrooms)\u001b[0m\n\u001b[1;32m     21\u001b[0m         \u001b[0;32mreturn\u001b[0m \u001b[0;32mTrue\u001b[0m\u001b[0;34m\u001b[0m\u001b[0;34m\u001b[0m\u001b[0m\n\u001b[1;32m     22\u001b[0m \u001b[0;34m\u001b[0m\u001b[0m\n\u001b[0;32m---> 23\u001b[0;31m     \u001b[0;32mreturn\u001b[0m \u001b[0mCSP\u001b[0m\u001b[0;34m(\u001b[0m\u001b[0mvariables\u001b[0m\u001b[0;34m,\u001b[0m \u001b[0mdomains\u001b[0m\u001b[0;34m,\u001b[0m \u001b[0mneighbors\u001b[0m\u001b[0;34m,\u001b[0m \u001b[0mcourse_constraint\u001b[0m\u001b[0;34m)\u001b[0m\u001b[0;34m\u001b[0m\u001b[0;34m\u001b[0m\u001b[0m\n\u001b[0m",
      "\u001b[0;31mNameError\u001b[0m: name 'CSP' is not defined"
     ]
    }
   ],
   "source": [
    "courses = [\"cs108\", \"cs112\", \"cs214\", \"cs232\", \"cs344\", \"cs262\", \"cs384\"]\n",
    "faculty = [\"Adams\", \"Norman\", \"Schuurman\", \"Vander Linden\"]\n",
    "course_assignments = {\"cs108\": \"Norman\", \"cs112\": \"Adams\", \n",
    "                      \"cs214\": \"Adams\", \"cs232\": \"Norman\", \"cs344\": \"Vander Linden\",\n",
    "                      \"cs262\": \"Vander Linden\", \"cs384\": \"Schuurman\"}\n",
    "time_slots = [\"mwf900\", \"mwf1030\", \"mwf1130\", \"tth900\", \"tth1030\"]\n",
    "classrooms = [\"nh253\", \"sb382\"]\n",
    "problem = CourseScheduling(courses, course_assignments, time_slots, classrooms)"
   ]
  },
  {
   "cell_type": "markdown",
   "metadata": {},
   "source": [
    "I chose this formulation of the problem because:\n",
    "\n",
    "- by making the courses the variables and the combinations of times and rooms the values, the problem automatically satisfies the \"each course should be offered exactly once\" \n",
    "- there are only two possible conflicts: a course in two places at the same time, and a professor in two places at the same time. The way I set up this problem, it is easy to check both of those conflicts in the course_constraint function"
   ]
  },
  {
   "cell_type": "markdown",
   "metadata": {},
   "source": [
    "Here I demonstrate that my formulation works for min_conflicts and backtracking. I was not able to get it to work using AC3, but AC3 couldn't solve some other csp's either."
   ]
  },
  {
   "cell_type": "code",
   "execution_count": 27,
   "metadata": {
    "pycharm": {
     "is_executing": false
    }
   },
   "outputs": [
    {
     "ename": "NameError",
     "evalue": "name 'min_conflicts' is not defined",
     "output_type": "error",
     "traceback": [
      "\u001b[0;31m---------------------------------------------------------------------------\u001b[0m",
      "\u001b[0;31mNameError\u001b[0m                                 Traceback (most recent call last)",
      "\u001b[0;32m<ipython-input-27-0099fc8b6c16>\u001b[0m in \u001b[0;36m<module>\u001b[0;34m\u001b[0m\n\u001b[0;32m----> 1\u001b[0;31m \u001b[0msolution_min\u001b[0m \u001b[0;34m=\u001b[0m \u001b[0mmin_conflicts\u001b[0m\u001b[0;34m(\u001b[0m\u001b[0mproblem\u001b[0m\u001b[0;34m)\u001b[0m\u001b[0;34m\u001b[0m\u001b[0;34m\u001b[0m\u001b[0m\n\u001b[0m",
      "\u001b[0;31mNameError\u001b[0m: name 'min_conflicts' is not defined"
     ]
    }
   ],
   "source": [
    "solution_min = min_conflicts(problem)"
   ]
  },
  {
   "cell_type": "code",
   "execution_count": 28,
   "metadata": {},
   "outputs": [
    {
     "ename": "NameError",
     "evalue": "name 'backtracking_search' is not defined",
     "output_type": "error",
     "traceback": [
      "\u001b[0;31m---------------------------------------------------------------------------\u001b[0m",
      "\u001b[0;31mNameError\u001b[0m                                 Traceback (most recent call last)",
      "\u001b[0;32m<ipython-input-28-dff723d0b031>\u001b[0m in \u001b[0;36m<module>\u001b[0;34m\u001b[0m\n\u001b[0;32m----> 1\u001b[0;31m \u001b[0msolution_back\u001b[0m \u001b[0;34m=\u001b[0m \u001b[0mbacktracking_search\u001b[0m\u001b[0;34m(\u001b[0m\u001b[0mproblem\u001b[0m\u001b[0;34m)\u001b[0m\u001b[0;34m\u001b[0m\u001b[0;34m\u001b[0m\u001b[0m\n\u001b[0m",
      "\u001b[0;31mNameError\u001b[0m: name 'backtracking_search' is not defined"
     ]
    }
   ],
   "source": [
    "solution_back = backtracking_search(problem)"
   ]
  },
  {
   "cell_type": "code",
   "execution_count": 30,
   "metadata": {},
   "outputs": [
    {
     "ename": "NameError",
     "evalue": "name 'solution_min' is not defined",
     "output_type": "error",
     "traceback": [
      "\u001b[0;31m---------------------------------------------------------------------------\u001b[0m",
      "\u001b[0;31mNameError\u001b[0m                                 Traceback (most recent call last)",
      "\u001b[0;32m<ipython-input-30-51f64792dd63>\u001b[0m in \u001b[0;36m<module>\u001b[0;34m\u001b[0m\n\u001b[0;32m----> 1\u001b[0;31m \u001b[0;32mfor\u001b[0m \u001b[0msolution\u001b[0m \u001b[0;32min\u001b[0m \u001b[0;34m(\u001b[0m\u001b[0msolution_min\u001b[0m\u001b[0;34m,\u001b[0m \u001b[0msolution_back\u001b[0m\u001b[0;34m)\u001b[0m\u001b[0;34m:\u001b[0m\u001b[0;34m\u001b[0m\u001b[0;34m\u001b[0m\u001b[0m\n\u001b[0m\u001b[1;32m      2\u001b[0m     \u001b[0;32mif\u001b[0m \u001b[0msolution\u001b[0m \u001b[0;32mis\u001b[0m \u001b[0;32mnot\u001b[0m \u001b[0;32mNone\u001b[0m \u001b[0;32mand\u001b[0m \u001b[0mproblem\u001b[0m\u001b[0;34m.\u001b[0m\u001b[0mgoal_test\u001b[0m\u001b[0;34m(\u001b[0m\u001b[0msolution\u001b[0m\u001b[0;34m)\u001b[0m\u001b[0;34m:\u001b[0m\u001b[0;34m\u001b[0m\u001b[0;34m\u001b[0m\u001b[0m\n\u001b[1;32m      3\u001b[0m         \u001b[0mprint\u001b[0m\u001b[0;34m(\u001b[0m\u001b[0;34m'Solution:'\u001b[0m\u001b[0;34m)\u001b[0m\u001b[0;34m\u001b[0m\u001b[0;34m\u001b[0m\u001b[0m\n\u001b[1;32m      4\u001b[0m         \u001b[0mprint\u001b[0m\u001b[0;34m(\u001b[0m\u001b[0msolution\u001b[0m\u001b[0;34m)\u001b[0m\u001b[0;34m\u001b[0m\u001b[0;34m\u001b[0m\u001b[0m\n\u001b[1;32m      5\u001b[0m     \u001b[0;32melse\u001b[0m\u001b[0;34m:\u001b[0m\u001b[0;34m\u001b[0m\u001b[0;34m\u001b[0m\u001b[0m\n",
      "\u001b[0;31mNameError\u001b[0m: name 'solution_min' is not defined"
     ]
    }
   ],
   "source": [
    "for solution in (solution_min, solution_back):\n",
    "    if solution is not None and problem.goal_test(solution):\n",
    "        print('Solution:')\n",
    "        print(solution)\n",
    "    else:\n",
    "        print('Failed - domains: ' + str(problem.curr_domains))\n",
    "        problem.display(problem.infer_assignment())"
   ]
  }
 ],
 "metadata": {
  "kernelspec": {
   "display_name": "Python 3",
   "language": "python",
   "name": "python3"
  },
  "language_info": {
   "codemirror_mode": {
    "name": "ipython",
    "version": 3
   },
   "file_extension": ".py",
   "mimetype": "text/x-python",
   "name": "python",
   "nbconvert_exporter": "python",
   "pygments_lexer": "ipython3",
   "version": "3.7.4"
  },
  "pycharm": {
   "stem_cell": {
    "cell_type": "raw",
    "metadata": {
     "collapsed": false
    },
    "source": []
   }
  }
 },
 "nbformat": 4,
 "nbformat_minor": 1
}
