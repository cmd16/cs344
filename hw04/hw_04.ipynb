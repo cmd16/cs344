{
  "nbformat": 4,
  "nbformat_minor": 0,
  "metadata": {
    "colab": {
      "name": "hw_04.ipynb",
      "provenance": [],
      "authorship_tag": "ABX9TyOhps9htROYEQp7KoTXGQ8W",
      "include_colab_link": true
    },
    "kernelspec": {
      "name": "python3",
      "display_name": "Python 3"
    }
  },
  "cells": [
    {
      "cell_type": "markdown",
      "metadata": {
        "id": "view-in-github",
        "colab_type": "text"
      },
      "source": [
        "<a href=\"https://colab.research.google.com/github/cmd16/cs344/blob/master/hw04/hw_04.ipynb\" target=\"_parent\"><img src=\"https://colab.research.google.com/assets/colab-badge.svg\" alt=\"Open In Colab\"/></a>"
      ]
    },
    {
      "cell_type": "markdown",
      "metadata": {
        "id": "ldGg0IgxV8MR",
        "colab_type": "text"
      },
      "source": [
        "### 3. Build a Keras-based ConvNet for Keras’s Fashion MNIST dataset (fashion_mnist). Experiment with different network architectures, submit your most performant network, and report the results."
      ]
    },
    {
      "cell_type": "code",
      "metadata": {
        "id": "rY1hkdofWTHA",
        "colab_type": "code",
        "colab": {
          "base_uri": "https://localhost:8080/",
          "height": 34
        },
        "outputId": "2bde127f-c47e-4617-cd0c-57c0d46317ea"
      },
      "source": [
        "from keras import layers\n",
        "from keras import models"
      ],
      "execution_count": 1,
      "outputs": [
        {
          "output_type": "stream",
          "text": [
            "Using TensorFlow backend.\n"
          ],
          "name": "stderr"
        }
      ]
    },
    {
      "cell_type": "code",
      "metadata": {
        "id": "wInxlOneXWEe",
        "colab_type": "code",
        "colab": {}
      },
      "source": [
        "from keras.datasets import fashion_mnist\n",
        "from keras.utils import to_categorical"
      ],
      "execution_count": 0,
      "outputs": []
    },
    {
      "cell_type": "code",
      "metadata": {
        "id": "Yn_4F2e-XeUi",
        "colab_type": "code",
        "colab": {
          "base_uri": "https://localhost:8080/",
          "height": 153
        },
        "outputId": "35280851-6353-4c71-e1ad-960b24876c24"
      },
      "source": [
        "(train_data, train_targets), (test_data, test_targets) = fashion_mnist.load_data()"
      ],
      "execution_count": 5,
      "outputs": [
        {
          "output_type": "stream",
          "text": [
            "Downloading data from http://fashion-mnist.s3-website.eu-central-1.amazonaws.com/train-labels-idx1-ubyte.gz\n",
            "32768/29515 [=================================] - 0s 4us/step\n",
            "Downloading data from http://fashion-mnist.s3-website.eu-central-1.amazonaws.com/train-images-idx3-ubyte.gz\n",
            "26427392/26421880 [==============================] - 2s 0us/step\n",
            "Downloading data from http://fashion-mnist.s3-website.eu-central-1.amazonaws.com/t10k-labels-idx1-ubyte.gz\n",
            "8192/5148 [===============================================] - 0s 0us/step\n",
            "Downloading data from http://fashion-mnist.s3-website.eu-central-1.amazonaws.com/t10k-images-idx3-ubyte.gz\n",
            "4423680/4422102 [==============================] - 1s 0us/step\n"
          ],
          "name": "stdout"
        }
      ]
    },
    {
      "cell_type": "code",
      "metadata": {
        "id": "eeDNoZQpYeZP",
        "colab_type": "code",
        "colab": {
          "base_uri": "https://localhost:8080/",
          "height": 187
        },
        "outputId": "04a64627-dac7-4577-d747-71a24feb6b4a"
      },
      "source": [
        "# def decode_newswire(i):\n",
        "#     return ' '.join([reverse_word_index.get(i - 3, '?') for i in train_data[i]])\n",
        "\n",
        "print(\n",
        "    f'training set \\\n",
        "        \\n\\tcount: {len(train_data)} \\\n",
        "        \\n\\tshape: {train_data.shape} \\\n",
        "        \\n\\timage data type: {train_data.dtype} \\\n",
        "        \\n\\tlabel data type: {train_targets.dtype} \\\n",
        "        \\n\\tlabel shape: {train_targets.shape} \\n',\n",
        "    f'testing set \\\n",
        "        \\n\\tcount: {len(test_targets)} \\\n",
        "        \\n\\tshape: {test_data.shape}\\n',\n",
        "    # f'example \\\n",
        "    #     \\n\\tarticle values: {test_data[0]} \\\n",
        "    #     \\n\\tarticle words: {decode_newswire(0)} \\\n",
        "    #     \\n\\tarticle topic: {test_labels[0]}'\n",
        ")"
      ],
      "execution_count": 23,
      "outputs": [
        {
          "output_type": "stream",
          "text": [
            "training set         \n",
            "\tcount: 60000         \n",
            "\tshape: (60000, 28, 28)         \n",
            "\timage data type: uint8         \n",
            "\tlabel data type: uint8         \n",
            "\tlabel shape: (60000,) \n",
            " testing set         \n",
            "\tcount: 10000         \n",
            "\tshape: (10000, 28, 28)\n",
            "\n"
          ],
          "name": "stdout"
        }
      ]
    },
    {
      "cell_type": "markdown",
      "metadata": {
        "id": "RNWMbQHrX6jb",
        "colab_type": "text"
      },
      "source": [
        "60000 training samples and 10000 test samples, all of type `uint8`. `uint8` data type contains all whole numbers from 0 to 255. This data type is mostly used in graphics. [uint8 Data Type](https://www.cs.utah.edu/~germain/PPS/Topics/Matlab/uint8.html)"
      ]
    },
    {
      "cell_type": "markdown",
      "metadata": {
        "id": "UQh53Z7CckfH",
        "colab_type": "text"
      },
      "source": [
        "But first, let's try to see what we are looking at. I found the following chunk of code from this tutorial https://www.tensorflow.org/tutorials/keras/classification, but I looked only at this part: how to generate an image from the data."
      ]
    },
    {
      "cell_type": "code",
      "metadata": {
        "id": "CNl7Ba-gbpPM",
        "colab_type": "code",
        "colab": {
          "base_uri": "https://localhost:8080/",
          "height": 265
        },
        "outputId": "27dd1ea8-6b86-4ae7-a760-07d1c369f939"
      },
      "source": [
        "from matplotlib import pyplot as plt\n",
        "plt.figure()\n",
        "plt.imshow(train_data[0])\n",
        "plt.colorbar()\n",
        "plt.grid(False)\n",
        "plt.show()"
      ],
      "execution_count": 15,
      "outputs": [
        {
          "output_type": "display_data",
          "data": {
            "image/png": "[encoded data removed]",
            "text/plain": [
              "<Figure size 432x288 with 2 Axes>"
            ]
          },
          "metadata": {
            "tags": [],
            "needs_background": "light"
          }
        }
      ]
    },
    {
      "cell_type": "code",
      "metadata": {
        "id": "tFLG0v3edPyB",
        "colab_type": "code",
        "colab": {
          "base_uri": "https://localhost:8080/",
          "height": 265
        },
        "outputId": "aaa2a8c0-492f-4b2b-dcdc-736df1213bce"
      },
      "source": [
        "plt.figure()\n",
        "plt.imshow(train_data[1])\n",
        "plt.colorbar()\n",
        "plt.grid(False)\n",
        "plt.show()"
      ],
      "execution_count": 16,
      "outputs": [
        {
          "output_type": "display_data",
          "data": {
            "image/png": "[encoded data removed]",
            "text/plain": [
              "<Figure size 432x288 with 2 Axes>"
            ]
          },
          "metadata": {
            "tags": [],
            "needs_background": "light"
          }
        }
      ]
    },
    {
      "cell_type": "code",
      "metadata": {
        "id": "RMuXy4OAdUYl",
        "colab_type": "code",
        "colab": {
          "base_uri": "https://localhost:8080/",
          "height": 265
        },
        "outputId": "9bd4784c-84c5-4767-940c-3a72af764dbb"
      },
      "source": [
        "plt.figure()\n",
        "plt.imshow(train_data[3])\n",
        "plt.colorbar()\n",
        "plt.grid(False)\n",
        "plt.show()"
      ],
      "execution_count": 17,
      "outputs": [
        {
          "output_type": "display_data",
          "data": {
            "image/png": "[encoded data removed]",
            "text/plain": [
              "<Figure size 432x288 with 2 Axes>"
            ]
          },
          "metadata": {
            "tags": [],
            "needs_background": "light"
          }
        }
      ]
    },
    {
      "cell_type": "markdown",
      "metadata": {
        "id": "mmav5MGKdeCN",
        "colab_type": "text"
      },
      "source": [
        "That's enough to get an idea. It seems different images show different types of clothing articles. It looks like we have a shoe, a shirt, and a dress."
      ]
    },
    {
      "cell_type": "code",
      "metadata": {
        "id": "jl0paA0ZYW_k",
        "colab_type": "code",
        "colab": {
          "base_uri": "https://localhost:8080/",
          "height": 34
        },
        "outputId": "b9eedc26-01f6-4954-9e8a-2ac18b3a9d91"
      },
      "source": [
        "train_targets[0]"
      ],
      "execution_count": 19,
      "outputs": [
        {
          "output_type": "execute_result",
          "data": {
            "text/plain": [
              "9"
            ]
          },
          "metadata": {
            "tags": []
          },
          "execution_count": 19
        }
      ]
    },
    {
      "cell_type": "code",
      "metadata": {
        "id": "2vgBywBseVqf",
        "colab_type": "code",
        "colab": {
          "base_uri": "https://localhost:8080/",
          "height": 34
        },
        "outputId": "e549069a-de3c-4656-9cff-fd71d3d3600f"
      },
      "source": [
        "train_targets[1]"
      ],
      "execution_count": 24,
      "outputs": [
        {
          "output_type": "execute_result",
          "data": {
            "text/plain": [
              "0"
            ]
          },
          "metadata": {
            "tags": []
          },
          "execution_count": 24
        }
      ]
    },
    {
      "cell_type": "code",
      "metadata": {
        "id": "QA9si6cjebHp",
        "colab_type": "code",
        "colab": {
          "base_uri": "https://localhost:8080/",
          "height": 34
        },
        "outputId": "38a35fe2-f61b-48d2-8782-42a35316483e"
      },
      "source": [
        "train_targets[2]"
      ],
      "execution_count": 25,
      "outputs": [
        {
          "output_type": "execute_result",
          "data": {
            "text/plain": [
              "0"
            ]
          },
          "metadata": {
            "tags": []
          },
          "execution_count": 25
        }
      ]
    },
    {
      "cell_type": "markdown",
      "metadata": {
        "id": "Hxa7wEand6pW",
        "colab_type": "text"
      },
      "source": [
        "Ok, so each image has a numerical label, and it seems the shirt and the dress have the same label (which is a different label from the shoe)."
      ]
    },
    {
      "cell_type": "markdown",
      "metadata": {
        "id": "IgtjXrzzfKrz",
        "colab_type": "text"
      },
      "source": [
        "If I were doing this not for homework, I might do some more looking into the data (like looking up information on the dataset). But since this is a homework assignment I'm not sure how much I can do before it becomes just finding and following someone else's approach. At any rate, I think I have enough information to try to train a model."
      ]
    },
    {
      "cell_type": "markdown",
      "metadata": {
        "id": "lJ1JBIyfbfTn",
        "colab_type": "text"
      },
      "source": [
        "In our example of mnist in class, we did a reshape step. But as far as I can tell, that step is not necessary. We do, however need to change the data type so we can get it to work in our model."
      ]
    },
    {
      "cell_type": "code",
      "metadata": {
        "id": "av44bM7LYZCR",
        "colab_type": "code",
        "colab": {}
      },
      "source": [
        ""
      ],
      "execution_count": 0,
      "outputs": []
    }
  ]
}