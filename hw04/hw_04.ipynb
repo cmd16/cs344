{
  "nbformat": 4,
  "nbformat_minor": 0,
  "metadata": {
    "colab": {
      "name": "hw_04.ipynb",
      "provenance": [],
      "authorship_tag": "ABX9TyNcOz9PSa1Axs3evpRDk+WQ",
      "include_colab_link": true
    },
    "kernelspec": {
      "name": "python3",
      "display_name": "Python 3"
    }
  },
  "cells": [
    {
      "cell_type": "markdown",
      "metadata": {
        "id": "view-in-github",
        "colab_type": "text"
      },
      "source": [
        "<a href=\"https://colab.research.google.com/github/cmd16/cs344/blob/master/hw04/hw_04.ipynb\" target=\"_parent\"><img src=\"https://colab.research.google.com/assets/colab-badge.svg\" alt=\"Open In Colab\"/></a>"
      ]
    },
    {
      "cell_type": "markdown",
      "metadata": {
        "id": "ykX8ubxFfn0e",
        "colab_type": "text"
      },
      "source": [
        "### 1.\n"
      ]
    },
    {
      "cell_type": "markdown",
      "metadata": {
        "id": "0PFX9fJ5FIY5",
        "colab_type": "text"
      },
      "source": [
        "### 2."
      ]
    },
    {
      "cell_type": "markdown",
      "metadata": {
        "id": "lWyi1XduFJoz",
        "colab_type": "text"
      },
      "source": [
        "Hand-compute a single, complete back-propagation cycle. Use the example network from class and compute the updated weight values for the first gradient descent iteration for the XOR example, i.e., [1, 1] → 0. Use the same initial weights we used in the class example but assume the identity function as the activation function (f(x) = x)."
      ]
    },
    {
      "cell_type": "markdown",
      "metadata": {
        "id": "AKKpdrI7RWrv",
        "colab_type": "text"
      },
      "source": [
        "#### Set up the network"
      ]
    },
    {
      "cell_type": "code",
      "metadata": {
        "id": "GZ6HUlEbFJ22",
        "colab_type": "code",
        "colab": {}
      },
      "source": [
        "import numpy as np"
      ],
      "execution_count": 0,
      "outputs": []
    },
    {
      "cell_type": "code",
      "metadata": {
        "id": "hJAgS_aDFJ-E",
        "colab_type": "code",
        "colab": {}
      },
      "source": [
        "wi1h1 = 0.11\n",
        "wi1h2 = 0.12\n",
        "wi2h1 = 0.21\n",
        "wi2h2 = 0.08\n",
        "\n",
        "wh1o1 = 0.14\n",
        "wh2o1 = 0.15\n",
        "\n",
        "input2hidden = np.array([[wi1h1, wi1h2], [wi2h1, wi2h2]])\n",
        "hidden2output = np.array([wh1o1, wh2o1])"
      ],
      "execution_count": 0,
      "outputs": []
    },
    {
      "cell_type": "code",
      "metadata": {
        "id": "Sjvmkc7cFKAw",
        "colab_type": "code",
        "colab": {
          "base_uri": "https://localhost:8080/",
          "height": 51
        },
        "outputId": "42559993-349e-4d7d-95e3-a8840804cbc9"
      },
      "source": [
        "input2hidden"
      ],
      "execution_count": 21,
      "outputs": [
        {
          "output_type": "execute_result",
          "data": {
            "text/plain": [
              "array([[0.11, 0.12],\n",
              "       [0.21, 0.08]])"
            ]
          },
          "metadata": {
            "tags": []
          },
          "execution_count": 21
        }
      ]
    },
    {
      "cell_type": "code",
      "metadata": {
        "id": "8wOLzhVcFKD5",
        "colab_type": "code",
        "colab": {
          "base_uri": "https://localhost:8080/",
          "height": 34
        },
        "outputId": "1659a710-50bd-451b-b53c-855cf9ab2137"
      },
      "source": [
        "hidden2output"
      ],
      "execution_count": 22,
      "outputs": [
        {
          "output_type": "execute_result",
          "data": {
            "text/plain": [
              "array([0.14, 0.15])"
            ]
          },
          "metadata": {
            "tags": []
          },
          "execution_count": 22
        }
      ]
    },
    {
      "cell_type": "markdown",
      "metadata": {
        "id": "jRcGrTIJRZwi",
        "colab_type": "text"
      },
      "source": [
        "#### Forward pass"
      ]
    },
    {
      "cell_type": "code",
      "metadata": {
        "id": "o1n7VR-wFKHc",
        "colab_type": "code",
        "colab": {}
      },
      "source": [
        "inputs = np.array([1,1])\n",
        "i0 = inputs[0]\n",
        "i1 = inputs[1]"
      ],
      "execution_count": 0,
      "outputs": []
    },
    {
      "cell_type": "code",
      "metadata": {
        "id": "OR4IsySHFKNR",
        "colab_type": "code",
        "colab": {
          "base_uri": "https://localhost:8080/",
          "height": 34
        },
        "outputId": "5d97054b-24ee-4a80-fb80-226cf7d5570d"
      },
      "source": [
        "output = inputs @ input2hidden @ hidden2output\n",
        "output"
      ],
      "execution_count": 31,
      "outputs": [
        {
          "output_type": "execute_result",
          "data": {
            "text/plain": [
              "0.0748"
            ]
          },
          "metadata": {
            "tags": []
          },
          "execution_count": 31
        }
      ]
    },
    {
      "cell_type": "markdown",
      "metadata": {
        "id": "oHUiMcJyRljW",
        "colab_type": "text"
      },
      "source": [
        "#### Calculating Error"
      ]
    },
    {
      "cell_type": "code",
      "metadata": {
        "id": "LcdQnkX9FKTc",
        "colab_type": "code",
        "colab": {
          "base_uri": "https://localhost:8080/",
          "height": 34
        },
        "outputId": "39b29616-403d-429f-e2a7-555670ad448f"
      },
      "source": [
        "l2err = (0-output)**2\n",
        "l2err"
      ],
      "execution_count": 32,
      "outputs": [
        {
          "output_type": "execute_result",
          "data": {
            "text/plain": [
              "0.005595040000000001"
            ]
          },
          "metadata": {
            "tags": []
          },
          "execution_count": 32
        }
      ]
    },
    {
      "cell_type": "code",
      "metadata": {
        "id": "qtrUfgJfFKYe",
        "colab_type": "code",
        "colab": {
          "base_uri": "https://localhost:8080/",
          "height": 34
        },
        "outputId": "385b8fa0-e678-49e3-d757-3630b9e378a8"
      },
      "source": [
        "delta = 0 - output\n",
        "delta"
      ],
      "execution_count": 33,
      "outputs": [
        {
          "output_type": "execute_result",
          "data": {
            "text/plain": [
              "-0.0748"
            ]
          },
          "metadata": {
            "tags": []
          },
          "execution_count": 33
        }
      ]
    },
    {
      "cell_type": "markdown",
      "metadata": {
        "id": "PZUSC2e8Nx9_",
        "colab_type": "text"
      },
      "source": [
        "#### Backpropagation"
      ]
    },
    {
      "cell_type": "code",
      "metadata": {
        "id": "ilsEZaBENYZR",
        "colab_type": "code",
        "colab": {
          "base_uri": "https://localhost:8080/",
          "height": 34
        },
        "outputId": "03984917-d883-48c1-ac93-24871aa6982d"
      },
      "source": [
        "learning_rate = 0.05\n",
        "hidden2outputnew = hidden2output + learning_rate * input2hidden[1] * 1.0 * delta\n",
        "hidden2outputnew"
      ],
      "execution_count": 34,
      "outputs": [
        {
          "output_type": "execute_result",
          "data": {
            "text/plain": [
              "array([0.1392146, 0.1497008])"
            ]
          },
          "metadata": {
            "tags": []
          },
          "execution_count": 34
        }
      ]
    },
    {
      "cell_type": "code",
      "metadata": {
        "id": "BIGX3NfTdjZq",
        "colab_type": "code",
        "colab": {
          "base_uri": "https://localhost:8080/",
          "height": 51
        },
        "outputId": "fe948e4f-40b0-4775-a7dc-3a8557e9adba"
      },
      "source": [
        "learning_rate * np.array([[i0, i0], [i1, i1]]) * 1"
      ],
      "execution_count": 35,
      "outputs": [
        {
          "output_type": "execute_result",
          "data": {
            "text/plain": [
              "array([[0.05, 0.05],\n",
              "       [0.05, 0.05]])"
            ]
          },
          "metadata": {
            "tags": []
          },
          "execution_count": 35
        }
      ]
    },
    {
      "cell_type": "code",
      "metadata": {
        "id": "oWnPteR4NYby",
        "colab_type": "code",
        "colab": {
          "base_uri": "https://localhost:8080/",
          "height": 51
        },
        "outputId": "eb981ff2-14e1-429f-c6a9-baa744a1eb1f"
      },
      "source": [
        "input2hiddennew = input2hidden + learning_rate * np.array([[i0, i0], [i1, i1]]) * 1.0 * np.array([[wh1o1, wh2o1], [wh1o1, wh2o1]])\n",
        "input2hiddennew"
      ],
      "execution_count": 36,
      "outputs": [
        {
          "output_type": "execute_result",
          "data": {
            "text/plain": [
              "array([[0.117 , 0.1275],\n",
              "       [0.217 , 0.0875]])"
            ]
          },
          "metadata": {
            "tags": []
          },
          "execution_count": 36
        }
      ]
    },
    {
      "cell_type": "markdown",
      "metadata": {
        "id": "8JHuh6yxNYs4",
        "colab_type": "text"
      },
      "source": [
        "I don't understand where the identity function activation (as opposed to the RELU activation) is supposed to happen. But I did everything else according to the instructions (at least, I think I did)."
      ]
    },
    {
      "cell_type": "markdown",
      "metadata": {
        "id": "ldGg0IgxV8MR",
        "colab_type": "text"
      },
      "source": [
        "### 3. Build a Keras-based ConvNet for Keras’s Fashion MNIST dataset (fashion_mnist). Experiment with different network architectures, submit your most performant network, and report the results."
      ]
    },
    {
      "cell_type": "code",
      "metadata": {
        "id": "rY1hkdofWTHA",
        "colab_type": "code",
        "colab": {
          "base_uri": "https://localhost:8080/",
          "height": 34
        },
        "outputId": "2bde127f-c47e-4617-cd0c-57c0d46317ea"
      },
      "source": [
        "from keras import layers\n",
        "from keras import models"
      ],
      "execution_count": 1,
      "outputs": [
        {
          "output_type": "stream",
          "text": [
            "Using TensorFlow backend.\n"
          ],
          "name": "stderr"
        }
      ]
    },
    {
      "cell_type": "code",
      "metadata": {
        "id": "wInxlOneXWEe",
        "colab_type": "code",
        "colab": {}
      },
      "source": [
        "from keras.datasets import fashion_mnist\n",
        "from keras.utils import to_categorical"
      ],
      "execution_count": 0,
      "outputs": []
    },
    {
      "cell_type": "code",
      "metadata": {
        "id": "Yn_4F2e-XeUi",
        "colab_type": "code",
        "colab": {}
      },
      "source": [
        "(train_data, train_targets), (test_data, test_targets) = fashion_mnist.load_data()"
      ],
      "execution_count": 0,
      "outputs": []
    },
    {
      "cell_type": "code",
      "metadata": {
        "id": "eeDNoZQpYeZP",
        "colab_type": "code",
        "colab": {
          "base_uri": "https://localhost:8080/",
          "height": 187
        },
        "outputId": "04a64627-dac7-4577-d747-71a24feb6b4a"
      },
      "source": [
        "# def decode_newswire(i):\n",
        "#     return ' '.join([reverse_word_index.get(i - 3, '?') for i in train_data[i]])\n",
        "\n",
        "print(\n",
        "    f'training set \\\n",
        "        \\n\\tcount: {len(train_data)} \\\n",
        "        \\n\\tshape: {train_data.shape} \\\n",
        "        \\n\\timage data type: {train_data.dtype} \\\n",
        "        \\n\\tlabel data type: {train_targets.dtype} \\\n",
        "        \\n\\tlabel shape: {train_targets.shape} \\n',\n",
        "    f'testing set \\\n",
        "        \\n\\tcount: {len(test_targets)} \\\n",
        "        \\n\\tshape: {test_data.shape}\\n',\n",
        "    # f'example \\\n",
        "    #     \\n\\tarticle values: {test_data[0]} \\\n",
        "    #     \\n\\tarticle words: {decode_newswire(0)} \\\n",
        "    #     \\n\\tarticle topic: {test_labels[0]}'\n",
        ")"
      ],
      "execution_count": 23,
      "outputs": [
        {
          "output_type": "stream",
          "text": [
            "training set         \n",
            "\tcount: 60000         \n",
            "\tshape: (60000, 28, 28)         \n",
            "\timage data type: uint8         \n",
            "\tlabel data type: uint8         \n",
            "\tlabel shape: (60000,) \n",
            " testing set         \n",
            "\tcount: 10000         \n",
            "\tshape: (10000, 28, 28)\n",
            "\n"
          ],
          "name": "stdout"
        }
      ]
    },
    {
      "cell_type": "markdown",
      "metadata": {
        "id": "RNWMbQHrX6jb",
        "colab_type": "text"
      },
      "source": [
        "60000 training samples and 10000 test samples, all of type `uint8`. `uint8` data type contains all whole numbers from 0 to 255. This data type is mostly used in graphics. [uint8 Data Type](https://www.cs.utah.edu/~germain/PPS/Topics/Matlab/uint8.html)"
      ]
    },
    {
      "cell_type": "markdown",
      "metadata": {
        "id": "UQh53Z7CckfH",
        "colab_type": "text"
      },
      "source": [
        "But first, let's try to see what we are looking at. I found the following chunk of code from this tutorial https://www.tensorflow.org/tutorials/keras/classification, but I looked only at this part: how to generate an image from the data."
      ]
    },
    {
      "cell_type": "code",
      "metadata": {
        "id": "CNl7Ba-gbpPM",
        "colab_type": "code",
        "colab": {
          "base_uri": "https://localhost:8080/",
          "height": 265
        },
        "outputId": "27dd1ea8-6b86-4ae7-a760-07d1c369f939"
      },
      "source": [
        "from matplotlib import pyplot as plt\n",
        "plt.figure()\n",
        "plt.imshow(train_data[0])\n",
        "plt.colorbar()\n",
        "plt.grid(False)\n",
        "plt.show()"
      ],
      "execution_count": 15,
      "outputs": [
        {
          "output_type": "display_data",
          "data": {
            "image/png": "[encoded data removed]",
            "text/plain": [
              "<Figure size 432x288 with 2 Axes>"
            ]
          },
          "metadata": {
            "tags": [],
            "needs_background": "light"
          }
        }
      ]
    },
    {
      "cell_type": "code",
      "metadata": {
        "id": "tFLG0v3edPyB",
        "colab_type": "code",
        "colab": {
          "base_uri": "https://localhost:8080/",
          "height": 265
        },
        "outputId": "aaa2a8c0-492f-4b2b-dcdc-736df1213bce"
      },
      "source": [
        "plt.figure()\n",
        "plt.imshow(train_data[1])\n",
        "plt.colorbar()\n",
        "plt.grid(False)\n",
        "plt.show()"
      ],
      "execution_count": 16,
      "outputs": [
        {
          "output_type": "display_data",
          "data": {
            "image/png": "[encoded data removed]",
            "text/plain": [
              "<Figure size 432x288 with 2 Axes>"
            ]
          },
          "metadata": {
            "tags": [],
            "needs_background": "light"
          }
        }
      ]
    },
    {
      "cell_type": "code",
      "metadata": {
        "id": "RMuXy4OAdUYl",
        "colab_type": "code",
        "colab": {
          "base_uri": "https://localhost:8080/",
          "height": 265
        },
        "outputId": "9bd4784c-84c5-4767-940c-3a72af764dbb"
      },
      "source": [
        "plt.figure()\n",
        "plt.imshow(train_data[3])\n",
        "plt.colorbar()\n",
        "plt.grid(False)\n",
        "plt.show()"
      ],
      "execution_count": 17,
      "outputs": [
        {
          "output_type": "display_data",
          "data": {
            "image/png": "[encoded data removed]",
            "text/plain": [
              "<Figure size 432x288 with 2 Axes>"
            ]
          },
          "metadata": {
            "tags": [],
            "needs_background": "light"
          }
        }
      ]
    },
    {
      "cell_type": "markdown",
      "metadata": {
        "id": "mmav5MGKdeCN",
        "colab_type": "text"
      },
      "source": [
        "That's enough to get an idea. It seems different images show different types of clothing articles. It looks like we have a shoe, a shirt, and a dress."
      ]
    },
    {
      "cell_type": "code",
      "metadata": {
        "id": "jl0paA0ZYW_k",
        "colab_type": "code",
        "colab": {
          "base_uri": "https://localhost:8080/",
          "height": 34
        },
        "outputId": "b9eedc26-01f6-4954-9e8a-2ac18b3a9d91"
      },
      "source": [
        "train_targets[0]"
      ],
      "execution_count": 19,
      "outputs": [
        {
          "output_type": "execute_result",
          "data": {
            "text/plain": [
              "9"
            ]
          },
          "metadata": {
            "tags": []
          },
          "execution_count": 19
        }
      ]
    },
    {
      "cell_type": "code",
      "metadata": {
        "id": "2vgBywBseVqf",
        "colab_type": "code",
        "colab": {
          "base_uri": "https://localhost:8080/",
          "height": 34
        },
        "outputId": "e549069a-de3c-4656-9cff-fd71d3d3600f"
      },
      "source": [
        "train_targets[1]"
      ],
      "execution_count": 24,
      "outputs": [
        {
          "output_type": "execute_result",
          "data": {
            "text/plain": [
              "0"
            ]
          },
          "metadata": {
            "tags": []
          },
          "execution_count": 24
        }
      ]
    },
    {
      "cell_type": "code",
      "metadata": {
        "id": "QA9si6cjebHp",
        "colab_type": "code",
        "colab": {
          "base_uri": "https://localhost:8080/",
          "height": 34
        },
        "outputId": "38a35fe2-f61b-48d2-8782-42a35316483e"
      },
      "source": [
        "train_targets[2]"
      ],
      "execution_count": 25,
      "outputs": [
        {
          "output_type": "execute_result",
          "data": {
            "text/plain": [
              "0"
            ]
          },
          "metadata": {
            "tags": []
          },
          "execution_count": 25
        }
      ]
    },
    {
      "cell_type": "markdown",
      "metadata": {
        "id": "Hxa7wEand6pW",
        "colab_type": "text"
      },
      "source": [
        "Ok, so each image has a numerical label, and it seems the shirt and the dress have the same label (which is a different label from the shoe)."
      ]
    },
    {
      "cell_type": "markdown",
      "metadata": {
        "id": "IgtjXrzzfKrz",
        "colab_type": "text"
      },
      "source": [
        "If I were doing this not for homework, I might do some more looking into the data (like looking up information on the dataset). But since this is a homework assignment I'm not sure how much I can do before it becomes just finding and following someone else's approach. At any rate, I think I have enough information to try to train a model."
      ]
    },
    {
      "cell_type": "markdown",
      "metadata": {
        "id": "lJ1JBIyfbfTn",
        "colab_type": "text"
      },
      "source": [
        "In our example of mnist in class, we did a reshape step. I thought we didn't need the step because the shape is already the shape we want. But I suppose I was wrong since when I left the reshape step out I couldn't fit the model. We also need to change the data type so we can get it to work in our model."
      ]
    },
    {
      "cell_type": "code",
      "metadata": {
        "id": "av44bM7LYZCR",
        "colab_type": "code",
        "colab": {}
      },
      "source": [
        "train_data = train_data.reshape((60000, 28, 28, 1))\n",
        "train_data = train_data.astype('float32') / 255\n",
        "\n",
        "test_data = test_data.reshape((10000, 28, 28, 1))\n",
        "test_data = test_data.astype('float32') / 255\n",
        "\n",
        "train_targets = to_categorical(train_targets)\n",
        "test_targets = to_categorical(test_targets)"
      ],
      "execution_count": 0,
      "outputs": []
    },
    {
      "cell_type": "code",
      "metadata": {
        "id": "3CFedI6rhOjW",
        "colab_type": "code",
        "colab": {
          "base_uri": "https://localhost:8080/",
          "height": 34
        },
        "outputId": "5de4dc45-87a7-4fc7-eb05-96f3ca2c933c"
      },
      "source": [
        "train_targets[0]"
      ],
      "execution_count": 43,
      "outputs": [
        {
          "output_type": "execute_result",
          "data": {
            "text/plain": [
              "array([0., 0., 0., 0., 0., 0., 0., 0., 0., 1.], dtype=float32)"
            ]
          },
          "metadata": {
            "tags": []
          },
          "execution_count": 43
        }
      ]
    },
    {
      "cell_type": "markdown",
      "metadata": {
        "id": "t7uHpQRrhpFL",
        "colab_type": "text"
      },
      "source": [
        "Looks like this is a one-hot vector that encodes the category. That would make sense from this output and that seems to be what the keras documentation says (https://keras.io/utils/). This first image is category 0, and there are 10 categories. To provide support for this theory, I'll see what happens with the other two training images I looked at. I expect images 1 and 2 to have the same category (which should be different from the category of image 0)."
      ]
    },
    {
      "cell_type": "code",
      "metadata": {
        "id": "jN02y0BwiBoq",
        "colab_type": "code",
        "colab": {
          "base_uri": "https://localhost:8080/",
          "height": 34
        },
        "outputId": "d22e057b-b806-4dab-f070-ec648e502ead"
      },
      "source": [
        "train_targets[1]"
      ],
      "execution_count": 31,
      "outputs": [
        {
          "output_type": "execute_result",
          "data": {
            "text/plain": [
              "array([1., 0., 0., 0., 0., 0., 0., 0., 0., 0.], dtype=float32)"
            ]
          },
          "metadata": {
            "tags": []
          },
          "execution_count": 31
        }
      ]
    },
    {
      "cell_type": "code",
      "metadata": {
        "id": "vmbjjkUAjTdx",
        "colab_type": "code",
        "colab": {
          "base_uri": "https://localhost:8080/",
          "height": 34
        },
        "outputId": "8dae5f9f-bdd2-4243-e531-527165d0e1da"
      },
      "source": [
        "train_targets[2]"
      ],
      "execution_count": 32,
      "outputs": [
        {
          "output_type": "execute_result",
          "data": {
            "text/plain": [
              "array([1., 0., 0., 0., 0., 0., 0., 0., 0., 0.], dtype=float32)"
            ]
          },
          "metadata": {
            "tags": []
          },
          "execution_count": 32
        }
      ]
    },
    {
      "cell_type": "markdown",
      "metadata": {
        "id": "pIB8Qxr9jVIh",
        "colab_type": "text"
      },
      "source": [
        "Ok, I guess that wasn't accurate, since all three images have the same vector for their categories. I think that the categories are encoded with one-hot vectors, but that the vectors don't necessarily match the original shape/type of `train_targets` in a way that I can understand."
      ]
    },
    {
      "cell_type": "markdown",
      "metadata": {
        "id": "NWF4lRNPjnr2",
        "colab_type": "text"
      },
      "source": [
        "Delving into the exact ways the categories are encoded is probably not the focus of this exercise, and we had a very similar example working in class, so I'm going to set that aside for now and proceed with training."
      ]
    },
    {
      "cell_type": "markdown",
      "metadata": {
        "id": "IV-hcc8VlYLo",
        "colab_type": "text"
      },
      "source": [
        "#### First model: in class example\n",
        "Following the example from class exactly."
      ]
    },
    {
      "cell_type": "code",
      "metadata": {
        "id": "gb1MWnmTkhRe",
        "colab_type": "code",
        "colab": {
          "base_uri": "https://localhost:8080/",
          "height": 425
        },
        "outputId": "ec806478-425b-4b41-e6fd-7c5c4485e4f0"
      },
      "source": [
        "mod0 = models.Sequential()\n",
        "mod0.name=\"344class-sequential-0\"\n",
        "\n",
        "# Configure a convnet with 3 layers of convolutions and max pooling.\n",
        "mod0.add(layers.Conv2D(32, (3, 3), activation='relu', input_shape=(28, 28, 1)))\n",
        "mod0.add(layers.MaxPooling2D((2, 2)))\n",
        "mod0.add(layers.Conv2D(64, (3, 3), activation='relu'))\n",
        "mod0.add(layers.MaxPooling2D((2, 2)))\n",
        "mod0.add(layers.Conv2D(64, (3, 3), activation='relu'))\n",
        "\n",
        "# Add layers to flatten the 2D image and then do a 10-way classification.\n",
        "mod0.add(layers.Flatten())\n",
        "mod0.add(layers.Dense(64, activation='relu'))\n",
        "mod0.add(layers.Dense(10, activation='softmax'))\n",
        "\n",
        "mod0.summary()\n"
      ],
      "execution_count": 44,
      "outputs": [
        {
          "output_type": "stream",
          "text": [
            "Model: \"344class-sequential-0\"\n",
            "_________________________________________________________________\n",
            "Layer (type)                 Output Shape              Param #   \n",
            "=================================================================\n",
            "conv2d_13 (Conv2D)           (None, 26, 26, 32)        320       \n",
            "_________________________________________________________________\n",
            "max_pooling2d_9 (MaxPooling2 (None, 13, 13, 32)        0         \n",
            "_________________________________________________________________\n",
            "conv2d_14 (Conv2D)           (None, 11, 11, 64)        18496     \n",
            "_________________________________________________________________\n",
            "max_pooling2d_10 (MaxPooling (None, 5, 5, 64)          0         \n",
            "_________________________________________________________________\n",
            "conv2d_15 (Conv2D)           (None, 3, 3, 64)          36928     \n",
            "_________________________________________________________________\n",
            "flatten_5 (Flatten)          (None, 576)               0         \n",
            "_________________________________________________________________\n",
            "dense_9 (Dense)              (None, 64)                36928     \n",
            "_________________________________________________________________\n",
            "dense_10 (Dense)             (None, 10)                650       \n",
            "=================================================================\n",
            "Total params: 93,322\n",
            "Trainable params: 93,322\n",
            "Non-trainable params: 0\n",
            "_________________________________________________________________\n"
          ],
          "name": "stdout"
        }
      ]
    },
    {
      "cell_type": "markdown",
      "metadata": {
        "id": "QUH7m5_vqr6U",
        "colab_type": "text"
      },
      "source": [
        "I'm following the example from https://keras.io/visualization/ so I can plot validation accuracy."
      ]
    },
    {
      "cell_type": "code",
      "metadata": {
        "id": "DiFUQjtbmXz8",
        "colab_type": "code",
        "colab": {
          "base_uri": "https://localhost:8080/",
          "height": 204
        },
        "outputId": "adb43300-8757-45ea-cec0-334c62d67b8b"
      },
      "source": [
        "mod0.compile(optimizer='rmsprop', loss='categorical_crossentropy', metrics=['accuracy'])\n",
        "hist0 = mod0.fit(train_data, train_targets, validation_split=0.25, epochs=5, batch_size=64)\n",
        "# mod0.evaluate(test_data, test_targets)"
      ],
      "execution_count": 46,
      "outputs": [
        {
          "output_type": "stream",
          "text": [
            "Train on 45000 samples, validate on 15000 samples\n",
            "Epoch 1/5\n",
            "45000/45000 [==============================] - 39s 856us/step - loss: 0.2074 - accuracy: 0.9233 - val_loss: 0.2372 - val_accuracy: 0.9108\n",
            "Epoch 2/5\n",
            "45000/45000 [==============================] - 38s 854us/step - loss: 0.1887 - accuracy: 0.9316 - val_loss: 0.2129 - val_accuracy: 0.9229\n",
            "Epoch 3/5\n",
            "45000/45000 [==============================] - 39s 862us/step - loss: 0.1725 - accuracy: 0.9363 - val_loss: 0.2459 - val_accuracy: 0.9095\n",
            "Epoch 4/5\n",
            "45000/45000 [==============================] - 39s 866us/step - loss: 0.1599 - accuracy: 0.9407 - val_loss: 0.2444 - val_accuracy: 0.9131\n",
            "Epoch 5/5\n",
            "45000/45000 [==============================] - 43s 958us/step - loss: 0.1465 - accuracy: 0.9460 - val_loss: 0.2370 - val_accuracy: 0.9161\n"
          ],
          "name": "stdout"
        }
      ]
    },
    {
      "cell_type": "code",
      "metadata": {
        "id": "pOAH732nrbHo",
        "colab_type": "code",
        "colab": {}
      },
      "source": [
        "def plot_acc(history):\n",
        "  # Plot training & validation accuracy values\n",
        "  plt.plot(history.history['accuracy'])\n",
        "  plt.plot(history.history['val_accuracy'])\n",
        "  plt.title('Model accuracy')\n",
        "  plt.ylabel('Accuracy')\n",
        "  plt.xlabel('Epoch')\n",
        "  plt.legend(['Train', 'Validation'], loc='upper left')\n",
        "  plt.show()\n",
        "\n",
        "def plot_loss(history):\n",
        "  # Plot training & validation loss values\n",
        "  plt.plot(history.history['loss'])\n",
        "  plt.plot(history.history['val_loss'])\n",
        "  plt.title('Model loss')\n",
        "  plt.ylabel('Loss')\n",
        "  plt.xlabel('Epoch')\n",
        "  plt.legend(['Train', 'Validation'], loc='upper left')\n",
        "  plt.show()\n",
        "\n",
        "def plot_metrics(history):\n",
        "  plot_acc(history)\n",
        "  plot_loss(history)"
      ],
      "execution_count": 0,
      "outputs": []
    },
    {
      "cell_type": "code",
      "metadata": {
        "id": "07cfK8xmsDvc",
        "colab_type": "code",
        "colab": {
          "base_uri": "https://localhost:8080/",
          "height": 573
        },
        "outputId": "f05939e7-8799-45db-9b67-3931ef08506c"
      },
      "source": [
        "plot_metrics(hist0)"
      ],
      "execution_count": 58,
      "outputs": [
        {
          "output_type": "display_data",
          "data": {
            "image/png": "[encoded data removed]",
            "text/plain": [
              "<Figure size 432x288 with 1 Axes>"
            ]
          },
          "metadata": {
            "tags": [],
            "needs_background": "light"
          }
        },
        {
          "output_type": "display_data",
          "data": {
            "image/png": "[encoded data removed]",
            "text/plain": [
              "<Figure size 432x288 with 1 Axes>"
            ]
          },
          "metadata": {
            "tags": [],
            "needs_background": "light"
          }
        }
      ]
    },
    {
      "cell_type": "markdown",
      "metadata": {
        "id": "8SLZaQqWCWn6",
        "colab_type": "text"
      },
      "source": [
        "##### First model: tuning hyperparameters\n"
      ]
    },
    {
      "cell_type": "markdown",
      "metadata": {
        "id": "_fsdVnhqspq8",
        "colab_type": "text"
      },
      "source": [
        "Training is getting really accurate, validation less so. I don't like the loss  validation curve. Why did we suddenly jump up after epoch 1? Perhaps the model is learning too quickly. I'm going to try decreasing the learning rate (and then I might increase the batch size). Default is 0.001, so I'll go to 0.0001."
      ]
    },
    {
      "cell_type": "code",
      "metadata": {
        "id": "E9S1_Outv3ma",
        "colab_type": "code",
        "colab": {}
      },
      "source": [
        "from keras import optimizers"
      ],
      "execution_count": 0,
      "outputs": []
    },
    {
      "cell_type": "code",
      "metadata": {
        "id": "aX-3c5eCuCM3",
        "colab_type": "code",
        "colab": {
          "base_uri": "https://localhost:8080/",
          "height": 760
        },
        "outputId": "b7846819-a5b0-403d-ec8c-0064395ef7c1"
      },
      "source": [
        "mod0.compile(optimizer=optimizers.RMSprop(learning_rate=0.0001), loss='categorical_crossentropy', metrics=['accuracy'])\n",
        "hist0 = mod0.fit(train_data, train_targets, validation_split=0.25, epochs=5, batch_size=64)\n",
        "plot_metrics(hist0)"
      ],
      "execution_count": 60,
      "outputs": [
        {
          "output_type": "stream",
          "text": [
            "Train on 45000 samples, validate on 15000 samples\n",
            "Epoch 1/5\n",
            "45000/45000 [==============================] - 39s 877us/step - loss: 0.0960 - accuracy: 0.9660 - val_loss: 0.2024 - val_accuracy: 0.9302\n",
            "Epoch 2/5\n",
            "45000/45000 [==============================] - 39s 867us/step - loss: 0.0858 - accuracy: 0.9699 - val_loss: 0.2069 - val_accuracy: 0.9326\n",
            "Epoch 3/5\n",
            "45000/45000 [==============================] - 39s 866us/step - loss: 0.0812 - accuracy: 0.9716 - val_loss: 0.2091 - val_accuracy: 0.9319\n",
            "Epoch 4/5\n",
            "45000/45000 [==============================] - 39s 877us/step - loss: 0.0772 - accuracy: 0.9732 - val_loss: 0.2159 - val_accuracy: 0.9323\n",
            "Epoch 5/5\n",
            "45000/45000 [==============================] - 39s 872us/step - loss: 0.0741 - accuracy: 0.9742 - val_loss: 0.2146 - val_accuracy: 0.9311\n"
          ],
          "name": "stdout"
        },
        {
          "output_type": "display_data",
          "data": {
            "image/png": "[encoded data removed]",
            "text/plain": [
              "<Figure size 432x288 with 1 Axes>"
            ]
          },
          "metadata": {
            "tags": [],
            "needs_background": "light"
          }
        },
        {
          "output_type": "display_data",
          "data": {
            "image/png": "[encoded data removed]",
            "text/plain": [
              "<Figure size 432x288 with 1 Axes>"
            ]
          },
          "metadata": {
            "tags": [],
            "needs_background": "light"
          }
        }
      ]
    },
    {
      "cell_type": "markdown",
      "metadata": {
        "id": "gQ6w5GT5w7h-",
        "colab_type": "text"
      },
      "source": [
        "Ok, that was the wrong direction (or too far). This model isn't learning much. I'll try increasing the batch size, and then if I get nowhere with that I'll try another model."
      ]
    },
    {
      "cell_type": "code",
      "metadata": {
        "id": "QT9grzS9wYdJ",
        "colab_type": "code",
        "colab": {
          "base_uri": "https://localhost:8080/",
          "height": 760
        },
        "outputId": "bf427229-bd46-415f-f1f3-b0d1497d37cb"
      },
      "source": [
        "mod0.compile(optimizer=optimizers.RMSprop(learning_rate=0.0001), loss='categorical_crossentropy', metrics=['accuracy'])\n",
        "hist0 = mod0.fit(train_data, train_targets, validation_split=0.25, epochs=5, batch_size=200)\n",
        "plot_metrics(hist0)"
      ],
      "execution_count": 61,
      "outputs": [
        {
          "output_type": "stream",
          "text": [
            "Train on 45000 samples, validate on 15000 samples\n",
            "Epoch 1/5\n",
            "45000/45000 [==============================] - 35s 787us/step - loss: 0.0694 - accuracy: 0.9769 - val_loss: 0.2136 - val_accuracy: 0.9331\n",
            "Epoch 2/5\n",
            "45000/45000 [==============================] - 35s 783us/step - loss: 0.0670 - accuracy: 0.9774 - val_loss: 0.2159 - val_accuracy: 0.9321\n",
            "Epoch 3/5\n",
            "45000/45000 [==============================] - 35s 785us/step - loss: 0.0649 - accuracy: 0.9784 - val_loss: 0.2147 - val_accuracy: 0.9321\n",
            "Epoch 4/5\n",
            "45000/45000 [==============================] - 35s 783us/step - loss: 0.0630 - accuracy: 0.9791 - val_loss: 0.2199 - val_accuracy: 0.9317\n",
            "Epoch 5/5\n",
            "45000/45000 [==============================] - 35s 787us/step - loss: 0.0614 - accuracy: 0.9800 - val_loss: 0.2201 - val_accuracy: 0.9317\n"
          ],
          "name": "stdout"
        },
        {
          "output_type": "display_data",
          "data": {
            "image/png": "[encoded data removed]",
            "text/plain": [
              "<Figure size 432x288 with 1 Axes>"
            ]
          },
          "metadata": {
            "tags": [],
            "needs_background": "light"
          }
        },
        {
          "output_type": "display_data",
          "data": {
            "image/png": "[encoded data removed]",
            "text/plain": [
              "<Figure size 432x288 with 1 Axes>"
            ]
          },
          "metadata": {
            "tags": [],
            "needs_background": "light"
          }
        }
      ]
    },
    {
      "cell_type": "markdown",
      "metadata": {
        "id": "eS0k_YCNyErY",
        "colab_type": "text"
      },
      "source": [
        "That didn't help. I'll get the test accuracy of my best version and move on to the next approach."
      ]
    },
    {
      "cell_type": "markdown",
      "metadata": {
        "id": "7EtNo4CLCmh9",
        "colab_type": "text"
      },
      "source": [
        "#### First model: report of best version\n",
        "I found this to be my best-performing version overall."
      ]
    },
    {
      "cell_type": "code",
      "metadata": {
        "id": "khYBmKEtxTbg",
        "colab_type": "code",
        "colab": {
          "base_uri": "https://localhost:8080/",
          "height": 238
        },
        "outputId": "0fb51538-fb1a-4b08-e330-2595d37f816d"
      },
      "source": [
        "mod0.compile(optimizer='rmsprop', loss='categorical_crossentropy', metrics=['accuracy'])\n",
        "hist0 = mod0.fit(train_data, train_targets, validation_split=0.25, epochs=5, batch_size=64)\n",
        "mod0.evaluate(test_data, test_targets)"
      ],
      "execution_count": 62,
      "outputs": [
        {
          "output_type": "stream",
          "text": [
            "Train on 45000 samples, validate on 15000 samples\n",
            "Epoch 1/5\n",
            "45000/45000 [==============================] - 40s 900us/step - loss: 0.1209 - accuracy: 0.9547 - val_loss: 0.2529 - val_accuracy: 0.9209\n",
            "Epoch 2/5\n",
            "45000/45000 [==============================] - 41s 907us/step - loss: 0.1133 - accuracy: 0.9581 - val_loss: 0.3715 - val_accuracy: 0.9023\n",
            "Epoch 3/5\n",
            "45000/45000 [==============================] - 41s 907us/step - loss: 0.1056 - accuracy: 0.9602 - val_loss: 0.3019 - val_accuracy: 0.9164\n",
            "Epoch 4/5\n",
            "45000/45000 [==============================] - 41s 903us/step - loss: 0.0994 - accuracy: 0.9634 - val_loss: 0.3441 - val_accuracy: 0.9132\n",
            "Epoch 5/5\n",
            "45000/45000 [==============================] - 41s 905us/step - loss: 0.0927 - accuracy: 0.9656 - val_loss: 0.2622 - val_accuracy: 0.9162\n",
            "10000/10000 [==============================] - 3s 263us/step\n"
          ],
          "name": "stdout"
        },
        {
          "output_type": "execute_result",
          "data": {
            "text/plain": [
              "[0.33252576345801355, 0.9053000211715698]"
            ]
          },
          "metadata": {
            "tags": []
          },
          "execution_count": 62
        }
      ]
    },
    {
      "cell_type": "markdown",
      "metadata": {
        "id": "ZUgoyxF8Cp1j",
        "colab_type": "text"
      },
      "source": [
        "- Training loss: 0.1465\n",
        "- Training accuracy: 0.9460 \n",
        "- Validation loss: 0.2370 \n",
        "- Validation accuracy: 0.9161\n",
        "- Test loss: 0.3325\n",
        "- Test accuracy: 0.9053"
      ]
    },
    {
      "cell_type": "markdown",
      "metadata": {
        "id": "oaeS1OweDumQ",
        "colab_type": "text"
      },
      "source": [
        "### Second model: following the tensorflow.keras example for classifying cats and dogs"
      ]
    },
    {
      "cell_type": "markdown",
      "metadata": {
        "id": "WtDZDUPyylSW",
        "colab_type": "text"
      },
      "source": [
        "I'm going to try to recreate the tensorflow.keras example we did in lab for classifying cats and dogs (except as multiclass not binary class)."
      ]
    },
    {
      "cell_type": "code",
      "metadata": {
        "id": "Wo8SBts-yWHK",
        "colab_type": "code",
        "colab": {}
      },
      "source": [
        "model = models.Sequential()\n",
        "model.name=\"img_input-1\"\n",
        "\n",
        "# I can't figure out how to add this step!\n",
        "# Our input feature map is 28x28x3: 28x28 for the image pixels, and 3 for\n",
        "# the three color channels: R, G, and B\n",
        "img_input = layers.Input(shape=(28, 28, 3))\n",
        "\n",
        "# First convolution extracts 16 filters that are 3x3\n",
        "# Convolution is followed by max-pooling layer with a 2x2 window\n",
        "model.add(layers.Conv2D(16, (3,3), activation='relu'))\n",
        "model.add(layers.MaxPooling2D(2))\n",
        "\n",
        "# Second convolution extracts 32 filters that are 3x3\n",
        "# Convolution is followed by max-pooling layer with a 2x2 window\n",
        "model.add(layers.Conv2D(32, (3,3), activation='relu'))\n",
        "model.add(layers.MaxPooling2D(2))\n",
        "\n",
        "# Third convolution extracts 64 filters that are 3x3\n",
        "# Convolution is followed by max-pooling layer with a 2x2 window\n",
        "model.add(layers.Conv2D(64, (3,3), activation='relu'))\n",
        "model.add(layers.MaxPooling2D(2))\n",
        "\n",
        "# Flatten feature map to a 1-dim tensor so we can add fully connected layers\n",
        "model.add(layers.Flatten())\n",
        "\n",
        "# Create a fully connected layer with ReLU activation and 512 hidden units\n",
        "model.add(layers.Dense(512, activation='relu'))\n",
        "\n",
        "# 10-way classification\n",
        "model.add(layers.Dense(10, activation='softmax'))"
      ],
      "execution_count": 0,
      "outputs": []
    },
    {
      "cell_type": "code",
      "metadata": {
        "id": "jjQIasej1ePI",
        "colab_type": "code",
        "colab": {
          "base_uri": "https://localhost:8080/",
          "height": 204
        },
        "outputId": "2ef6a62c-241d-415a-a641-f5653083e080"
      },
      "source": [
        "model.compile(optimizer='rmsprop', loss='categorical_crossentropy', metrics=['accuracy'])\n",
        "hist = model.fit(train_data, train_targets, validation_split=0.25, epochs=5, batch_size=64)\n",
        "# model.evaluate(test_data, test_targets)"
      ],
      "execution_count": 69,
      "outputs": [
        {
          "output_type": "stream",
          "text": [
            "Train on 45000 samples, validate on 15000 samples\n",
            "Epoch 1/5\n",
            "45000/45000 [==============================] - 24s 538us/step - loss: 0.7146 - accuracy: 0.7346 - val_loss: 0.6383 - val_accuracy: 0.7696\n",
            "Epoch 2/5\n",
            "45000/45000 [==============================] - 23s 520us/step - loss: 0.4744 - accuracy: 0.8256 - val_loss: 0.4631 - val_accuracy: 0.8259\n",
            "Epoch 3/5\n",
            "45000/45000 [==============================] - 23s 518us/step - loss: 0.4082 - accuracy: 0.8491 - val_loss: 0.4368 - val_accuracy: 0.8427\n",
            "Epoch 4/5\n",
            "45000/45000 [==============================] - 24s 523us/step - loss: 0.3658 - accuracy: 0.8645 - val_loss: 0.4164 - val_accuracy: 0.8459\n",
            "Epoch 5/5\n",
            "45000/45000 [==============================] - 24s 532us/step - loss: 0.3360 - accuracy: 0.8756 - val_loss: 0.3721 - val_accuracy: 0.8622\n"
          ],
          "name": "stdout"
        }
      ]
    },
    {
      "cell_type": "code",
      "metadata": {
        "id": "mcKa38DP3uh3",
        "colab_type": "code",
        "colab": {
          "base_uri": "https://localhost:8080/",
          "height": 573
        },
        "outputId": "210b7d34-b59d-4feb-b0d2-9033a01eac13"
      },
      "source": [
        "plot_metrics(hist)"
      ],
      "execution_count": 70,
      "outputs": [
        {
          "output_type": "display_data",
          "data": {
            "image/png": "[encoded data removed]",
            "text/plain": [
              "<Figure size 432x288 with 1 Axes>"
            ]
          },
          "metadata": {
            "tags": [],
            "needs_background": "light"
          }
        },
        {
          "output_type": "display_data",
          "data": {
            "image/png": "[encoded data removed]",
            "text/plain": [
              "<Figure size 432x288 with 1 Axes>"
            ]
          },
          "metadata": {
            "tags": [],
            "needs_background": "light"
          }
        }
      ]
    },
    {
      "cell_type": "markdown",
      "metadata": {
        "id": "OOCLvu1f38Uc",
        "colab_type": "text"
      },
      "source": [
        "Lower accuracy and higher loss. It looks like this model is still learning, though the curve has flattened a bit. I'm going to try a larger batch size."
      ]
    },
    {
      "cell_type": "code",
      "metadata": {
        "id": "zwfYIiLg4QxB",
        "colab_type": "code",
        "colab": {
          "base_uri": "https://localhost:8080/",
          "height": 760
        },
        "outputId": "5e3f66ec-393b-4407-dca5-299b9fd84903"
      },
      "source": [
        "model.compile(optimizer='rmsprop', loss='categorical_crossentropy', metrics=['accuracy'])\n",
        "hist = model.fit(train_data, train_targets, validation_split=0.25, epochs=5, batch_size=200)\n",
        "plot_metrics(hist)"
      ],
      "execution_count": 72,
      "outputs": [
        {
          "output_type": "stream",
          "text": [
            "Train on 45000 samples, validate on 15000 samples\n",
            "Epoch 1/5\n",
            "45000/45000 [==============================] - 20s 446us/step - loss: 0.2959 - accuracy: 0.8886 - val_loss: 0.3310 - val_accuracy: 0.8787\n",
            "Epoch 2/5\n",
            "45000/45000 [==============================] - 20s 443us/step - loss: 0.2795 - accuracy: 0.8966 - val_loss: 0.3190 - val_accuracy: 0.8839\n",
            "Epoch 3/5\n",
            "45000/45000 [==============================] - 20s 444us/step - loss: 0.2700 - accuracy: 0.9001 - val_loss: 0.3347 - val_accuracy: 0.8780\n",
            "Epoch 4/5\n",
            "45000/45000 [==============================] - 20s 444us/step - loss: 0.2584 - accuracy: 0.9025 - val_loss: 0.3185 - val_accuracy: 0.8833\n",
            "Epoch 5/5\n",
            "45000/45000 [==============================] - 20s 444us/step - loss: 0.2499 - accuracy: 0.9049 - val_loss: 0.3375 - val_accuracy: 0.8781\n"
          ],
          "name": "stdout"
        },
        {
          "output_type": "display_data",
          "data": {
            "image/png": "[encoded data removed]",
            "text/plain": [
              "<Figure size 432x288 with 1 Axes>"
            ]
          },
          "metadata": {
            "tags": [],
            "needs_background": "light"
          }
        },
        {
          "output_type": "display_data",
          "data": {
            "image/png": "[encoded data removed]",
            "text/plain": [
              "<Figure size 432x288 with 1 Axes>"
            ]
          },
          "metadata": {
            "tags": [],
            "needs_background": "light"
          }
        }
      ]
    },
    {
      "cell_type": "code",
      "metadata": {
        "id": "CdzD-lVt6GOV",
        "colab_type": "code",
        "colab": {
          "base_uri": "https://localhost:8080/",
          "height": 51
        },
        "outputId": "158dc0be-29f6-40a9-8d26-2485df1af912"
      },
      "source": [
        "model.evaluate(test_data, test_targets)"
      ],
      "execution_count": 73,
      "outputs": [
        {
          "output_type": "stream",
          "text": [
            "10000/10000 [==============================] - 2s 189us/step\n"
          ],
          "name": "stdout"
        },
        {
          "output_type": "execute_result",
          "data": {
            "text/plain": [
              "[0.34428256900310517, 0.8770999908447266]"
            ]
          },
          "metadata": {
            "tags": []
          },
          "execution_count": 73
        }
      ]
    },
    {
      "cell_type": "markdown",
      "metadata": {
        "id": "boWE_EBn6rji",
        "colab_type": "text"
      },
      "source": [
        "If I could figure out how to add the image input step, this model would probably do better (the model was probably designed with the assumption that we can use the image input step). But I don't know how to do that step. That means that my best model is the first model that is just like what we did in class."
      ]
    }
  ]
}