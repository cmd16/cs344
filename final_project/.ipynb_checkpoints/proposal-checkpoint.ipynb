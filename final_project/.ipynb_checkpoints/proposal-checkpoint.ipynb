{
 "cells": [
  {
   "cell_type": "markdown",
   "metadata": {},
   "source": [
    "# Proposal"
   ]
  },
  {
   "cell_type": "markdown",
   "metadata": {},
   "source": [
    "I am interested in doing a final project utilizing the text categorization potential of spaCy. spaCy is a Python library for NLP. \"spaCy is designed specifically for production use and helps you build applications that process and “understand” large volumes of text. It can be used to build information extraction or natural language understanding systems, or to pre-process text for deep learning.\" (https://spacy.io/usage/spacy-101)"
   ]
  },
  {
   "cell_type": "markdown",
   "metadata": {},
   "source": [
    "While we have done deep learning with NLP in class before, we haven't really explored any specialized tools such as spaCy, and I think it's good to show what deep learning can be like in the context of a domain-specific tool like this. You can add a model, in this case a TextCategorizer, to the spaCy pipeline and then save the model to a file so that it is easy to open up that model again and apply it to new data whenever you want. So spaCy's TextCategorizer is particularly useful if you already know you want to work with spaCy (e.g., for its tokenization, sentence segmentation, part of speech tagging, and/or many other features), since you can just do text categorization along with all the other stuff you're doing to the text. I also have an interest in this project specifically because another final project I am working on (for Data 303) uses spaCy and if we get far enough into that project we will want to put sentences (or collections of sentences) into categories, so it could be useful to have more understanding and experience of how spaCy's TextCategorizer works."
   ]
  },
  {
   "cell_type": "markdown",
   "metadata": {},
   "source": [
    "I used the TextCategorizer following [a kaggle tutorial](https://www.kaggle.com/poonaml/text-classification-using-spacy) (and using [the official documentation tutorial](https://github.com/explosion/spaCy/blob/master/examples/training/train_textcat.py) as an additional reference) to classify Amazon reviews  as positive or negative (and the notebook that does so can be found in this directory). There are a few different approaches I could take from here. I could focus on explaining what I can about how spaCy's TextCategorizer works and relating it to concepts we've learned in class, and then experimenting with model architechture on a dataset I've already got working (the Amazon reviews from the kaggle tutorial or the imdb dataset from the official documentation). spaCy's TextCategorizer allows a simple CNN, an ngram bag of words model, or an \"ensemble\" which combines both approaches (https://spacy.io/api/textcategorizer). I "
   ]
  },
  {
   "cell_type": "markdown",
   "metadata": {},
   "source": [
    "spaCy has optimization tips and advice (https://spacy.io/usage/training#tips), and I can do research into how to configure hyperparameters so I can see how they affect the results:\n",
    "1. Initialize with batch size 1, and compound to a maximum determined by your data size and problem type.\n",
    "2. Use Adam solver with fixed learning rate.\n",
    "3. Use averaged parameters\n",
    "4. Use L2 regularization.\n",
    "5. Clip gradients by L2 norm to 1.\n",
    "6. On small data sizes, start at a high dropout rate, with linear decay."
   ]
  },
  {
   "cell_type": "markdown",
   "metadata": {},
   "source": [
    "Another focus would be to use a different dataset. In DATA 303, we used a dataset of Yelp reviews which can be found here (https://www.yelp.com/dataset) (we narrowed it down to restaurant reviews). The work we did is in [EDA](https://rpruim.github.io/ds303/S20/from-class/YELP/yelp_eda.html), [Classifying](https://rpruim.github.io/ds303/S20/from-class/YELP/yelp_classifier.html), and [word vectors](https://rpruim.github.io/ds303/S20/from-class/word-vectors/yelp-word-vectors.html). With some work I could probably get that data into a format I could use with spacy's TextCategorizer. The only part I don't know how to do is dealing with longer reviews: \"Length does indicate something about star rating, but it will also make the classifier overly weight long documents when fitting. So we’ll normalize the vectors so they’re unit-norm, and consider adding in length as a feature later.\" I'm not sure if spaCy handles this and I don't think I have direct access to the vectors when using TextCategorizer. Other than that detail, I could make a classifier to detect whether a review was negative or positive and compare its performance to the performance of the classifier we made in DATA 303.\n",
    "\n",
    "I could also use the Yelp reviews dataset and do a more complex categorization. TextCategorizer supports multiple categories and you can specify whether all the categories are mutually exclusive (default is they are not mutually exclusive) (https://spacy.io/api/textcategorizer). I could possibly do something like predict business category based on review text (that would take some data cleaning), but that may be too trivial a task."
   ]
  },
  {
   "cell_type": "markdown",
   "metadata": {},
   "source": [
    "The most complex project would be to find another dataset that has text (raw text, not lists of words like the Reuters dataset) that I can predict categories from, but I haven't found anything particularly interesting/easy to work with so that wouldn't be my top choice."
   ]
  },
  {
   "cell_type": "markdown",
   "metadata": {},
   "source": [
    "Let me know which of the approaches I laid out you think would be most appropriate for this class and whether there are any approaches you would recommend against."
   ]
  }
 ],
 "metadata": {
  "kernelspec": {
   "display_name": "Python [default]",
   "language": "python",
   "name": "python3"
  },
  "language_info": {
   "codemirror_mode": {
    "name": "ipython",
    "version": 3
   },
   "file_extension": ".py",
   "mimetype": "text/x-python",
   "name": "python",
   "nbconvert_exporter": "python",
   "pygments_lexer": "ipython3",
   "version": "3.6.8"
  }
 },
 "nbformat": 4,
 "nbformat_minor": 2
}
