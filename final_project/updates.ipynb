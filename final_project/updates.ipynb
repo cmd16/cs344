{
 "cells": [
  {
   "cell_type": "markdown",
   "metadata": {},
   "source": [
    "# Updates"
   ]
  },
  {
   "cell_type": "markdown",
   "metadata": {},
   "source": [
    "- I realized that for multiclass classification I'd done both runs with `\"bow\"` instead of one with `\"bow\"` and one with `\"simple_cnn\"`. I fixed the issue and have adjusted the code and discussion of results appropriately.\n",
    "- Updated and more detailed discussion of results in `report.ipynb`\n",
    "- Added titles and made legends smaller (and thus more readable) for some of the plots in `yelp_reviews.ipynb`"
   ]
  }
 ],
 "metadata": {
  "kernelspec": {
   "display_name": "Python [conda root]",
   "language": "python",
   "name": "conda-root-py"
  },
  "language_info": {
   "codemirror_mode": {
    "name": "ipython",
    "version": 3
   },
   "file_extension": ".py",
   "mimetype": "text/x-python",
   "name": "python",
   "nbconvert_exporter": "python",
   "pygments_lexer": "ipython3",
   "version": "3.6.8"
  }
 },
 "nbformat": 4,
 "nbformat_minor": 2
}
