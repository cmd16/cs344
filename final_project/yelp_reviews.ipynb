{
 "cells": [
  {
   "cell_type": "markdown",
   "metadata": {},
   "source": [
    "## Setup"
   ]
  },
  {
   "cell_type": "code",
   "execution_count": 40,
   "metadata": {},
   "outputs": [],
   "source": [
    "import time\n",
    "import random\n",
    "from math import isclose\n",
    "from datetime import timedelta\n",
    "\n",
    "import pandas as pd\n",
    "import matplotlib.pyplot as plt\n",
    "%matplotlib inline\n",
    "import seaborn as sns\n",
    "import numpy as np\n",
    "import spacy\n",
    "from spacy.util import minibatch, compounding\n",
    "from sklearn.metrics import confusion_matrix, classification_report"
   ]
  },
  {
   "cell_type": "markdown",
   "metadata": {},
   "source": [
    "## EDA and Data Preparation"
   ]
  },
  {
   "cell_type": "code",
   "execution_count": 2,
   "metadata": {},
   "outputs": [
    {
     "name": "stdout",
     "output_type": "stream",
     "text": [
      "<class 'pandas.core.frame.DataFrame'>\n",
      "RangeIndex: 100000 entries, 0 to 99999\n",
      "Data columns (total 4 columns):\n",
      "review_id        100000 non-null object\n",
      "stars            100000 non-null int64\n",
      "text             100000 non-null object\n",
      "review_length    100000 non-null int64\n",
      "dtypes: int64(2), object(2)\n",
      "memory usage: 3.1+ MB\n"
     ]
    }
   ],
   "source": [
    "reviews = pd.read_csv(\"Yelp_restaurant_reviews.csv\")\n",
    "reviews.info()"
   ]
  },
  {
   "cell_type": "code",
   "execution_count": 3,
   "metadata": {},
   "outputs": [
    {
     "data": {
      "text/html": [
       "<div>\n",
       "<style scoped>\n",
       "    .dataframe tbody tr th:only-of-type {\n",
       "        vertical-align: middle;\n",
       "    }\n",
       "\n",
       "    .dataframe tbody tr th {\n",
       "        vertical-align: top;\n",
       "    }\n",
       "\n",
       "    .dataframe thead th {\n",
       "        text-align: right;\n",
       "    }\n",
       "</style>\n",
       "<table border=\"1\" class=\"dataframe\">\n",
       "  <thead>\n",
       "    <tr style=\"text-align: right;\">\n",
       "      <th></th>\n",
       "      <th>review_id</th>\n",
       "      <th>stars</th>\n",
       "      <th>text</th>\n",
       "      <th>review_length</th>\n",
       "    </tr>\n",
       "  </thead>\n",
       "  <tbody>\n",
       "    <tr>\n",
       "      <th>0</th>\n",
       "      <td>kMWkKrJkqHx5SW9sz_JEnw</td>\n",
       "      <td>5</td>\n",
       "      <td>The best service I had was here during my time...</td>\n",
       "      <td>300</td>\n",
       "    </tr>\n",
       "    <tr>\n",
       "      <th>1</th>\n",
       "      <td>GFcNYpLZYlcpBQNrVjMh8Q</td>\n",
       "      <td>4</td>\n",
       "      <td>What a fun place. Valet parking, a great outsi...</td>\n",
       "      <td>190</td>\n",
       "    </tr>\n",
       "    <tr>\n",
       "      <th>2</th>\n",
       "      <td>6ov3a4K8metST0LxtoJ4sA</td>\n",
       "      <td>3</td>\n",
       "      <td>My boyfriend and I dropped in for the first ti...</td>\n",
       "      <td>252</td>\n",
       "    </tr>\n",
       "    <tr>\n",
       "      <th>3</th>\n",
       "      <td>ahiXWr5mSXt9x0fbS4l-Cw</td>\n",
       "      <td>4</td>\n",
       "      <td>Excellent of breakfast or Sunday brunch! There...</td>\n",
       "      <td>326</td>\n",
       "    </tr>\n",
       "    <tr>\n",
       "      <th>4</th>\n",
       "      <td>9Ld-tBcjbtoMG-qx_l5G4A</td>\n",
       "      <td>4</td>\n",
       "      <td>I would actually give this place a 4.5 stars i...</td>\n",
       "      <td>2570</td>\n",
       "    </tr>\n",
       "  </tbody>\n",
       "</table>\n",
       "</div>"
      ],
      "text/plain": [
       "                review_id  stars  \\\n",
       "0  kMWkKrJkqHx5SW9sz_JEnw      5   \n",
       "1  GFcNYpLZYlcpBQNrVjMh8Q      4   \n",
       "2  6ov3a4K8metST0LxtoJ4sA      3   \n",
       "3  ahiXWr5mSXt9x0fbS4l-Cw      4   \n",
       "4  9Ld-tBcjbtoMG-qx_l5G4A      4   \n",
       "\n",
       "                                                text  review_length  \n",
       "0  The best service I had was here during my time...            300  \n",
       "1  What a fun place. Valet parking, a great outsi...            190  \n",
       "2  My boyfriend and I dropped in for the first ti...            252  \n",
       "3  Excellent of breakfast or Sunday brunch! There...            326  \n",
       "4  I would actually give this place a 4.5 stars i...           2570  "
      ]
     },
     "execution_count": 3,
     "metadata": {},
     "output_type": "execute_result"
    }
   ],
   "source": [
    "reviews.head()"
   ]
  },
  {
   "cell_type": "code",
   "execution_count": 4,
   "metadata": {},
   "outputs": [
    {
     "data": {
      "image/png": "[encoded data removed]",
      "text/plain": [
       "<Figure size 432x288 with 1 Axes>"
      ]
     },
     "metadata": {},
     "output_type": "display_data"
    }
   ],
   "source": [
    "ax = reviews['stars'].value_counts().plot(kind='bar')"
   ]
  },
  {
   "cell_type": "code",
   "execution_count": 5,
   "metadata": {},
   "outputs": [
    {
     "data": {
      "text/html": [
       "<div>\n",
       "<style scoped>\n",
       "    .dataframe tbody tr th:only-of-type {\n",
       "        vertical-align: middle;\n",
       "    }\n",
       "\n",
       "    .dataframe tbody tr th {\n",
       "        vertical-align: top;\n",
       "    }\n",
       "\n",
       "    .dataframe thead th {\n",
       "        text-align: right;\n",
       "    }\n",
       "</style>\n",
       "<table border=\"1\" class=\"dataframe\">\n",
       "  <thead>\n",
       "    <tr style=\"text-align: right;\">\n",
       "      <th></th>\n",
       "      <th>review_id</th>\n",
       "      <th>stars</th>\n",
       "      <th>text</th>\n",
       "      <th>review_length</th>\n",
       "      <th>is_positive</th>\n",
       "    </tr>\n",
       "  </thead>\n",
       "  <tbody>\n",
       "    <tr>\n",
       "      <th>0</th>\n",
       "      <td>kMWkKrJkqHx5SW9sz_JEnw</td>\n",
       "      <td>5</td>\n",
       "      <td>The best service I had was here during my time...</td>\n",
       "      <td>300</td>\n",
       "      <td>True</td>\n",
       "    </tr>\n",
       "    <tr>\n",
       "      <th>1</th>\n",
       "      <td>GFcNYpLZYlcpBQNrVjMh8Q</td>\n",
       "      <td>4</td>\n",
       "      <td>What a fun place. Valet parking, a great outsi...</td>\n",
       "      <td>190</td>\n",
       "      <td>True</td>\n",
       "    </tr>\n",
       "    <tr>\n",
       "      <th>2</th>\n",
       "      <td>6ov3a4K8metST0LxtoJ4sA</td>\n",
       "      <td>3</td>\n",
       "      <td>My boyfriend and I dropped in for the first ti...</td>\n",
       "      <td>252</td>\n",
       "      <td>False</td>\n",
       "    </tr>\n",
       "    <tr>\n",
       "      <th>3</th>\n",
       "      <td>ahiXWr5mSXt9x0fbS4l-Cw</td>\n",
       "      <td>4</td>\n",
       "      <td>Excellent of breakfast or Sunday brunch! There...</td>\n",
       "      <td>326</td>\n",
       "      <td>True</td>\n",
       "    </tr>\n",
       "    <tr>\n",
       "      <th>4</th>\n",
       "      <td>9Ld-tBcjbtoMG-qx_l5G4A</td>\n",
       "      <td>4</td>\n",
       "      <td>I would actually give this place a 4.5 stars i...</td>\n",
       "      <td>2570</td>\n",
       "      <td>True</td>\n",
       "    </tr>\n",
       "  </tbody>\n",
       "</table>\n",
       "</div>"
      ],
      "text/plain": [
       "                review_id  stars  \\\n",
       "0  kMWkKrJkqHx5SW9sz_JEnw      5   \n",
       "1  GFcNYpLZYlcpBQNrVjMh8Q      4   \n",
       "2  6ov3a4K8metST0LxtoJ4sA      3   \n",
       "3  ahiXWr5mSXt9x0fbS4l-Cw      4   \n",
       "4  9Ld-tBcjbtoMG-qx_l5G4A      4   \n",
       "\n",
       "                                                text  review_length  \\\n",
       "0  The best service I had was here during my time...            300   \n",
       "1  What a fun place. Valet parking, a great outsi...            190   \n",
       "2  My boyfriend and I dropped in for the first ti...            252   \n",
       "3  Excellent of breakfast or Sunday brunch! There...            326   \n",
       "4  I would actually give this place a 4.5 stars i...           2570   \n",
       "\n",
       "   is_positive  \n",
       "0         True  \n",
       "1         True  \n",
       "2        False  \n",
       "3         True  \n",
       "4         True  "
      ]
     },
     "execution_count": 5,
     "metadata": {},
     "output_type": "execute_result"
    }
   ],
   "source": [
    "# to deal with the unbalanced data, put ratings 4-5 as positive and ratings 1-3 as negative\n",
    "reviews['is_positive'] = reviews['stars'] > 3\n",
    "reviews.head()"
   ]
  },
  {
   "cell_type": "code",
   "execution_count": 6,
   "metadata": {},
   "outputs": [
    {
     "data": {
      "image/png": "[encoded data removed]",
      "text/plain": [
       "<Figure size 432x288 with 1 Axes>"
      ]
     },
     "metadata": {},
     "output_type": "display_data"
    }
   ],
   "source": [
    "ax = reviews['is_positive'].value_counts().plot(kind='bar')"
   ]
  },
  {
   "cell_type": "code",
   "execution_count": 7,
   "metadata": {},
   "outputs": [],
   "source": [
    "# TODO (maybe): normalize so we take the same number of positive reviews and negative reviews"
   ]
  },
  {
   "cell_type": "code",
   "execution_count": 12,
   "metadata": {},
   "outputs": [],
   "source": [
    "reviews['star_tuples'] = reviews.apply(lambda row: (row['text'], str(row['stars']) ), axis=1 )"
   ]
  },
  {
   "cell_type": "code",
   "execution_count": 97,
   "metadata": {},
   "outputs": [],
   "source": [
    "reviews['tuples'] = reviews.apply(\n",
    "    lambda row: (row['text'], row['is_positive']), axis=1)\n",
    "train = reviews['tuples'].tolist()"
   ]
  },
  {
   "cell_type": "code",
   "execution_count": 9,
   "metadata": {},
   "outputs": [
    {
     "data": {
      "text/plain": [
       "[('The best service I had was here during my time in Las Vegas. The al a cart sides were large enough to share family style. My filet was overcooked and the server had another one out to me in minutes. The martinis were wonderful in chilled glasses with blue cheese olives. The table settings beautiful.',\n",
       "  True),\n",
       " (\"What a fun place. Valet parking, a great outside covered patio shared by 4 great restos! Had lunch at Bario which was good and then played some ping pong in the yard. Can't wait to go again!\",\n",
       "  True),\n",
       " ('My boyfriend and I dropped in for the first time on a Sunday afternoon.  The atmosphere was nice and the restaurant was very clean.  Our server Dan was knowledgeable and pleasant. The food was average but good for the price. We will definately be back.',\n",
       "  False)]"
      ]
     },
     "execution_count": 9,
     "metadata": {},
     "output_type": "execute_result"
    }
   ],
   "source": [
    "train[:3]"
   ]
  },
  {
   "cell_type": "code",
   "execution_count": 10,
   "metadata": {},
   "outputs": [
    {
     "data": {
      "text/plain": [
       "[('Super!\\nMy 1st good meal in Phoenix !\\nSigh ...come with family so Chinese food everyday..sucks...\\n\\nGood as it said ..highly recommend...\\n\\nThe braised short rib pizza\\nPB&J smoothie',\n",
       "  True),\n",
       " ('12 of us went on a Friday night. There was a large variety of food ordered and everyone enjoyed their meals. I would give 5 stars but the server was not very attentive. Wine is included. Overall an awesome value for Vegas!',\n",
       "  True)]"
      ]
     },
     "execution_count": 10,
     "metadata": {},
     "output_type": "execute_result"
    }
   ],
   "source": [
    "train[-2:]"
   ]
  },
  {
   "cell_type": "code",
   "execution_count": 98,
   "metadata": {},
   "outputs": [
    {
     "data": {
      "text/html": [
       "<div>\n",
       "<style scoped>\n",
       "    .dataframe tbody tr th:only-of-type {\n",
       "        vertical-align: middle;\n",
       "    }\n",
       "\n",
       "    .dataframe tbody tr th {\n",
       "        vertical-align: top;\n",
       "    }\n",
       "\n",
       "    .dataframe thead th {\n",
       "        text-align: right;\n",
       "    }\n",
       "</style>\n",
       "<table border=\"1\" class=\"dataframe\">\n",
       "  <thead>\n",
       "    <tr style=\"text-align: right;\">\n",
       "      <th></th>\n",
       "      <th>review_id</th>\n",
       "      <th>stars</th>\n",
       "      <th>text</th>\n",
       "      <th>review_length</th>\n",
       "      <th>is_positive</th>\n",
       "      <th>tuples</th>\n",
       "      <th>star_tuples</th>\n",
       "    </tr>\n",
       "  </thead>\n",
       "  <tbody>\n",
       "    <tr>\n",
       "      <th>0</th>\n",
       "      <td>kMWkKrJkqHx5SW9sz_JEnw</td>\n",
       "      <td>5</td>\n",
       "      <td>The best service I had was here during my time...</td>\n",
       "      <td>300</td>\n",
       "      <td>True</td>\n",
       "      <td>(The best service I had was here during my tim...</td>\n",
       "      <td>(The best service I had was here during my tim...</td>\n",
       "    </tr>\n",
       "    <tr>\n",
       "      <th>1</th>\n",
       "      <td>GFcNYpLZYlcpBQNrVjMh8Q</td>\n",
       "      <td>4</td>\n",
       "      <td>What a fun place. Valet parking, a great outsi...</td>\n",
       "      <td>190</td>\n",
       "      <td>True</td>\n",
       "      <td>(What a fun place. Valet parking, a great outs...</td>\n",
       "      <td>(What a fun place. Valet parking, a great outs...</td>\n",
       "    </tr>\n",
       "    <tr>\n",
       "      <th>2</th>\n",
       "      <td>6ov3a4K8metST0LxtoJ4sA</td>\n",
       "      <td>3</td>\n",
       "      <td>My boyfriend and I dropped in for the first ti...</td>\n",
       "      <td>252</td>\n",
       "      <td>False</td>\n",
       "      <td>(My boyfriend and I dropped in for the first t...</td>\n",
       "      <td>(My boyfriend and I dropped in for the first t...</td>\n",
       "    </tr>\n",
       "    <tr>\n",
       "      <th>3</th>\n",
       "      <td>ahiXWr5mSXt9x0fbS4l-Cw</td>\n",
       "      <td>4</td>\n",
       "      <td>Excellent of breakfast or Sunday brunch! There...</td>\n",
       "      <td>326</td>\n",
       "      <td>True</td>\n",
       "      <td>(Excellent of breakfast or Sunday brunch! Ther...</td>\n",
       "      <td>(Excellent of breakfast or Sunday brunch! Ther...</td>\n",
       "    </tr>\n",
       "    <tr>\n",
       "      <th>4</th>\n",
       "      <td>9Ld-tBcjbtoMG-qx_l5G4A</td>\n",
       "      <td>4</td>\n",
       "      <td>I would actually give this place a 4.5 stars i...</td>\n",
       "      <td>2570</td>\n",
       "      <td>True</td>\n",
       "      <td>(I would actually give this place a 4.5 stars ...</td>\n",
       "      <td>(I would actually give this place a 4.5 stars ...</td>\n",
       "    </tr>\n",
       "  </tbody>\n",
       "</table>\n",
       "</div>"
      ],
      "text/plain": [
       "                review_id  stars  \\\n",
       "0  kMWkKrJkqHx5SW9sz_JEnw      5   \n",
       "1  GFcNYpLZYlcpBQNrVjMh8Q      4   \n",
       "2  6ov3a4K8metST0LxtoJ4sA      3   \n",
       "3  ahiXWr5mSXt9x0fbS4l-Cw      4   \n",
       "4  9Ld-tBcjbtoMG-qx_l5G4A      4   \n",
       "\n",
       "                                                text  review_length  \\\n",
       "0  The best service I had was here during my time...            300   \n",
       "1  What a fun place. Valet parking, a great outsi...            190   \n",
       "2  My boyfriend and I dropped in for the first ti...            252   \n",
       "3  Excellent of breakfast or Sunday brunch! There...            326   \n",
       "4  I would actually give this place a 4.5 stars i...           2570   \n",
       "\n",
       "   is_positive                                             tuples  \\\n",
       "0         True  (The best service I had was here during my tim...   \n",
       "1         True  (What a fun place. Valet parking, a great outs...   \n",
       "2        False  (My boyfriend and I dropped in for the first t...   \n",
       "3         True  (Excellent of breakfast or Sunday brunch! Ther...   \n",
       "4         True  (I would actually give this place a 4.5 stars ...   \n",
       "\n",
       "                                         star_tuples  \n",
       "0  (The best service I had was here during my tim...  \n",
       "1  (What a fun place. Valet parking, a great outs...  \n",
       "2  (My boyfriend and I dropped in for the first t...  \n",
       "3  (Excellent of breakfast or Sunday brunch! Ther...  \n",
       "4  (I would actually give this place a 4.5 stars ...  "
      ]
     },
     "execution_count": 98,
     "metadata": {},
     "output_type": "execute_result"
    }
   ],
   "source": [
    "reviews.head()"
   ]
  },
  {
   "cell_type": "markdown",
   "metadata": {},
   "source": [
    "## Functions for spaCy classification"
   ]
  },
  {
   "cell_type": "code",
   "execution_count": 13,
   "metadata": {},
   "outputs": [],
   "source": [
    "def starcats_from_labels(labels, min_stars=1, max_stars=5):\n",
    "    return [\n",
    "            {str(star): str(star) == y \n",
    "            for star in range(min_stars, max_stars + 1)}\n",
    "            for y in labels\n",
    "           ]\n",
    "\n",
    "def poscats_from_labels(labels):\n",
    "    return [{'POSITIVE': y, 'NEGATIVE': not y} for y in labels]"
   ]
  },
  {
   "cell_type": "code",
   "execution_count": 132,
   "metadata": {},
   "outputs": [],
   "source": [
    "def load_data(train_list, limit=0, train_split=0.8, test_split=0, cat_function=poscats_from_labels):\n",
    "    \"\"\"\n",
    "    Given a list of data, return training data and validation data.\n",
    "    Limit is the total number of samples to use.\n",
    "    train_split is what percentage to use for training. test_split is what percentage to use for testing (the rest is for validation).\n",
    "    test_split is currently not used.\n",
    "    \n",
    "    Note: this assumes data is already shuffled (i.e., in random order)\n",
    "    \"\"\"\n",
    "    train_data = train_list[-limit:]\n",
    "    texts, labels = zip(*train_data)\n",
    "    cats = cat_function(labels)\n",
    "    split = int(len(train_data) * train_split)\n",
    "    return (texts[:split], cats[:split]), (texts[split:], cats[split:])\n",
    "\n",
    "def prepare_training(train, n_texts=0, train_split=0.8, test_split=0, labels=(\"POSITIVE\", \"NEGATIVE\"), \n",
    "                     cfg={\"exclusive_classes\": True, \"architecture\": \"simple_cnn\"}, cat_function=poscats_from_labels):\n",
    "    # train_split is what percentage to use for training. test_split is what percentage to use for testing (the rest is for validation).\n",
    "    # test_split is currently not used.\n",
    "    if not n_texts:\n",
    "        n_texts = len(train)\n",
    "    nlp = spacy.load(\"en_core_web_sm\")\n",
    "    # add the text classifier to the pipeline if it doesn't exist\n",
    "    # nlp.create_pipe works for built-ins that are registered with spaCy\n",
    "    # use config options from spacy training tutorial\n",
    "    if 'textcat' not in nlp.pipe_names:\n",
    "        textcat = nlp.create_pipe('textcat', config=cfg)\n",
    "        nlp.add_pipe(textcat, last=True)\n",
    "    # otherwise, get it, so we can add labels to it\n",
    "    else:\n",
    "        textcat = nlp.get_pipe('textcat')\n",
    "\n",
    "    # add labels to text classifier.\n",
    "    for label in labels:\n",
    "        textcat.add_label(label)\n",
    "\n",
    "    # load the dataset\n",
    "    print(\"Loading data...\")\n",
    "    (train_texts, train_cats), (dev_texts, dev_cats) = load_data(train, limit=n_texts, train_split=train_split,\n",
    "                                                                 test_split=test_split,\n",
    "                                                                cat_function=cat_function)\n",
    "    print(\"Using {} examples ({} training, {} evaluation)\"\n",
    "          .format(n_texts, len(train_texts), len(dev_texts)))\n",
    "    train_data = list(zip(train_texts,\n",
    "                          [{'cats': cats} for cats in train_cats]))\n",
    "    return train_data, nlp, (train_texts, train_cats), (dev_texts, dev_cats)\n",
    "\n",
    "def evaluate_binary(tokenizer, textcat, texts, cats, labels=None, positive_label=\"POSITIVE\"):\n",
    "    docs = (tokenizer(text) for text in texts)\n",
    "    tp = 1e-8  # True positives\n",
    "    fp = 1e-8  # False positives\n",
    "    fn = 1e-8  # False negatives\n",
    "    tn = 1e-8  # True negatives\n",
    "    for i, doc in enumerate(textcat.pipe(docs)):\n",
    "        gold = cats[i]\n",
    "        if not labels:\n",
    "            try:\n",
    "                labels = sorted(set(cats.keys()))\n",
    "            except AttributeError:\n",
    "                labels = sorted(set(cats))\n",
    "        if positive_label not in labels:\n",
    "            raise ValueError(\"Invalid labels for binary classification\")\n",
    "        for label, score in doc.cats.items():\n",
    "            if label not in gold:\n",
    "                continue\n",
    "            if label != positive_label:\n",
    "                continue\n",
    "            if score >= 0.5 and gold[label] >= 0.5:\n",
    "                tp += 1.\n",
    "            elif score >= 0.5 and gold[label] < 0.5:\n",
    "                fp += 1.\n",
    "            elif score < 0.5 and gold[label] < 0.5:\n",
    "                tn += 1\n",
    "            elif score < 0.5 and gold[label] >= 0.5:\n",
    "                fn += 1\n",
    "    # true positives + true negatives + false positives + false negatives should equal the number of documents,\n",
    "    # or we've done something wrong\n",
    "    assert isclose(tp + fp + tn + fn, len(texts)), (tp + fp + tn + fn, len(texts))\n",
    "    precision = tp / (tp + fp)\n",
    "    recall = tp / (tp + fn)\n",
    "    accuracy = (tp + tn) / (tp + tn + fp + fn)\n",
    "    f_score = 2 * (precision * recall) / (precision + recall)\n",
    "    cm = np.array([[tp, fn], [fp, tn]])\n",
    "    metrics = {'precision': precision, 'recall': recall, 'F': f_score,\n",
    "           'accuracy': accuracy, 'tp': tp, 'tn': tn, 'fp': fp, 'fn': fn}\n",
    "    print(metrics)\n",
    "    return {'precision': precision, 'recall': recall, 'F': f_score,\n",
    "           'accuracy': accuracy, 'tp': tp, 'tn': tn, 'fp': fp, 'fn': fn}, cm\n",
    "\n",
    "def evaluate_multiclass(tokenizer, textcat, texts, cats, labels=None):\n",
    "    if not labels:\n",
    "        try:\n",
    "            labels = sorted(set(cats.keys()))\n",
    "        except AttributeError:\n",
    "            labels = sorted(set(cats))\n",
    "    y_true = [key for entry in cats for key, value in entry.items() if value]\n",
    "    y_pred = []\n",
    "    docs = (tokenizer(text) for text in texts)\n",
    "\n",
    "    for i, doc in enumerate(textcat.pipe(docs)):\n",
    "        gold = cats[i]\n",
    "        max_score = max(doc.cats.values())\n",
    "#         print(f\"doc {i}, max score {max_score}\")\n",
    "#         print(\"gold:\", gold)\n",
    "        for label, score in doc.cats.items():\n",
    "#             print(label, score)\n",
    "            if label not in gold:\n",
    "                continue\n",
    "#             print(label, score, 'gold')\n",
    "            if score == max_score:\n",
    "                y_pred.append(label)\n",
    "\n",
    "    # true positives + true negatives + false positives + false negatives should equal the number of documents,\n",
    "    # or we've done something wrong\n",
    "    assert len(y_true) == len(y_pred) == len(texts), (len(y_true), len(y_pred), len(texts))\n",
    "    \n",
    "    cm = confusion_matrix(y_true, y_pred)\n",
    "    print(classification_report(y_true, y_pred))\n",
    "    cr = classification_report(y_true, y_pred, output_dict=True)\n",
    "    metrics = dict()\n",
    "    \n",
    "    for key, value in cr.items():\n",
    "        if type(value) != dict:\n",
    "            metrics[key] = value\n",
    "        else:\n",
    "            for k, v in value.items():\n",
    "                # store data in long form\n",
    "                metrics[f\"{key.replace(' ', '-')}\"] = v\n",
    "                metrics[\"category\"] = k\n",
    "    \n",
    "    return metrics, cm"
   ]
  },
  {
   "cell_type": "code",
   "execution_count": 102,
   "metadata": {},
   "outputs": [],
   "source": [
    "def do_training(train_data, nlp, train_info, dev_info, n_iter=10, batch_sizes=compounding(4.0, 32.0, 1.001), drop=0.2,\n",
    "               evaluate=None, labels=(\"POSITIVE\", \"NEGATIVE\")):\n",
    "    if not evaluate:\n",
    "        if len(labels) > 2:\n",
    "            evaluate = evaluate_multiclass\n",
    "        else:\n",
    "            evaluate = evaluate_binary\n",
    "    # get names of other pipes to disable them during training\n",
    "    # the last two are for if you are using transformers (see https://spacy.io/models/en-starters)\n",
    "    pipe_exceptions = [\"textcat\", \"trf_wordpiecer\", \"trf_tok2vec\"]\n",
    "    other_pipes = [pipe for pipe in nlp.pipe_names if pipe not in pipe_exceptions]\n",
    "    train_texts, train_cats = train_info\n",
    "    dev_texts, dev_cats = dev_info\n",
    "\n",
    "#     headers = [\"iteration\", \"loss\", \"precision_train\", \"recall_train\", \"F_train\", \"accuracy_train\",\n",
    "#                       \"precision_validation\", \"recall_validation\", \"F_validation\", \"accuracy_validation\",]\n",
    "#     metrics = {header: [] for header in headers}\n",
    "    metrics = {'iteration': [], 'loss': [], 'cm_train': [], 'cm_validation': []}\n",
    "    textcat = nlp.get_pipe('textcat')\n",
    "\n",
    "    start = time.time()\n",
    "    with nlp.disable_pipes(*other_pipes):  # only train textcat\n",
    "        optimizer = nlp.begin_training()\n",
    "        print(\"Training the model...\")\n",
    "        print('\\tprecision\\trecall\\tF-score\\taccuracy')\n",
    "        batch_sizes = compounding(4.0, 32.0, 1.001)\n",
    "        for i in range(n_iter):\n",
    "            losses = {}\n",
    "            # batch up the examples using spaCy's minibatch\n",
    "            random.shuffle(train_data)\n",
    "            batches = minibatch(train_data, size=batch_sizes)\n",
    "            for batch in batches:\n",
    "                texts, annotations = zip(*batch)\n",
    "                nlp.update(texts, annotations, sgd=optimizer, drop=drop, losses=losses)\n",
    "            with textcat.model.use_params(optimizer.averages):\n",
    "                # evaluate on the dev data split off in load_data()\n",
    "                print(f\"iteration: {i}, loss: {losses['textcat']:.5f}\")\n",
    "                print(\"training scores, then validation scores\")\n",
    "                train_scores, train_cm = evaluate(nlp.tokenizer, textcat, train_texts, train_cats, labels=labels)\n",
    "                dev_scores, dev_cm = evaluate(nlp.tokenizer, textcat, dev_texts, dev_cats, labels=labels)\n",
    "#                 print(\n",
    "#                     f\"\"\"iteration: {i}, loss: {losses['textcat']:.5f}\n",
    "# training:   {train_scores['precision']:.5f}\\t{train_scores['recall']:.5f}\\t{train_scores['F']:.5f}\\t{train_scores['accuracy']:.5f}\n",
    "# validation: {dev_scores['precision']:.5f}\\t{dev_scores['recall']:.5f}\\t{dev_scores['F']:.5f}\\t{dev_scores['accuracy']:.5f}\n",
    "# \"\"\"\n",
    "#                 )\n",
    "                metrics['iteration'].append(i)\n",
    "                metrics['loss'].append(losses['textcat'])\n",
    "                for name, score_dict in zip(('train', 'validation'), (train_scores, dev_scores)):\n",
    "                    for key, val in score_dict.items():\n",
    "                        if f\"{key}_{name}\" not in metrics:\n",
    "                            metrics[f\"{key}_{name}\"] = []\n",
    "                        metrics[f\"{key}_{name}\"].append(val)\n",
    "                metrics['cm_train'].append(train_cm)\n",
    "                metrics['cm_validation'].append(dev_cm)\n",
    "\n",
    "    end = time.time()\n",
    "    training_time = timedelta(seconds = end - start)\n",
    "    print(\"Training time:\", training_time)\n",
    "    metrics = pd.DataFrame(metrics)\n",
    "    return metrics"
   ]
  },
  {
   "cell_type": "markdown",
   "metadata": {},
   "source": [
    "## Logistic classifier (positive or negative)"
   ]
  },
  {
   "cell_type": "markdown",
   "metadata": {},
   "source": [
    "### Simple CNN"
   ]
  },
  {
   "cell_type": "code",
   "execution_count": 26,
   "metadata": {},
   "outputs": [
    {
     "name": "stdout",
     "output_type": "stream",
     "text": [
      "Loading data...\n",
      "Using 25000 examples (20000 training, 5000 evaluation)\n",
      "Training the model...\n",
      "\tprecision\trecall\tF-score\taccuracy\n",
      "iteration: 0, loss: 11.83697\n",
      "training scores, then validation scores\n",
      "{'precision': 0.9186438140851453, 'recall': 0.9391690259385734, 'F': 0.9287930382135017, 'accuracy': 0.9058999999991881, 'tp': 12274.00000001, 'tn': 5844.00000001, 'fp': 1087.00000001, 'fn': 795.00000001}\n",
      "{'precision': 0.8965204235982056, 'recall': 0.9142240049341918, 'F': 0.9052856706360815, 'accuracy': 0.8759999999969921, 'tp': 2963.00000001, 'tn': 1417.00000001, 'fp': 342.00000001, 'fn': 278.00000001}\n",
      "iteration: 1, loss: 0.11526\n",
      "training scores, then validation scores\n",
      "{'precision': 0.939368770763456, 'recall': 0.9519473563387375, 'F': 0.9456162353202666, 'accuracy': 0.928449999999143, 'tp': 12441.00000001, 'tn': 6128.00000001, 'fp': 803.00000001, 'fn': 628.00000001}\n",
      "{'precision': 0.8979033728325865, 'recall': 0.9117556309755523, 'F': 0.9047764849944595, 'accuracy': 0.8755999999969952, 'tp': 2955.00000001, 'tn': 1423.00000001, 'fp': 336.00000001, 'fn': 286.00000001}\n",
      "iteration: 2, loss: 0.08101\n",
      "training scores, then validation scores\n",
      "{'precision': 0.9539498598796425, 'recall': 0.9637309664083499, 'F': 0.958815468939618, 'accuracy': 0.9458999999991081, 'tp': 12595.00000001, 'tn': 6323.00000001, 'fp': 608.00000001, 'fn': 474.00000001}\n",
      "{'precision': 0.9022602321294914, 'recall': 0.9114470842307224, 'F': 0.9068303914019534, 'accuracy': 0.8785999999969712, 'tp': 2954.00000001, 'tn': 1439.00000001, 'fp': 320.00000001, 'fn': 287.00000001}\n",
      "iteration: 3, loss: 0.07354\n",
      "training scores, then validation scores\n",
      "{'precision': 0.9623098463627301, 'recall': 0.9729130002288271, 'F': 0.9675823757697776, 'accuracy': 0.9573999999990851, 'tp': 12715.00000001, 'tn': 6433.00000001, 'fp': 498.00000001, 'fn': 354.00000001}\n",
      "{'precision': 0.9031572556138242, 'recall': 0.917926565872151, 'F': 0.910482019890372, 'accuracy': 0.882999999996936, 'tp': 2975.00000001, 'tn': 1440.00000001, 'fp': 319.00000001, 'fn': 266.00000001}\n",
      "iteration: 4, loss: 0.06023\n",
      "training scores, then validation scores\n",
      "{'precision': 0.9701921622023449, 'recall': 0.9812533476157606, 'F': 0.9756914063978762, 'accuracy': 0.9680499999990638, 'tp': 12824.00000001, 'tn': 6537.00000001, 'fp': 394.00000001, 'fn': 245.00000001}\n",
      "{'precision': 0.8997273553444427, 'recall': 0.9163838321480013, 'F': 0.9079792112478876, 'accuracy': 0.8795999999969633, 'tp': 2970.00000001, 'tn': 1428.00000001, 'fp': 331.00000001, 'fn': 271.00000001}\n",
      "iteration: 5, loss: 0.05551\n",
      "training scores, then validation scores\n",
      "{'precision': 0.9772606685356214, 'recall': 0.9865330170625349, 'F': 0.9818749524019771, 'accuracy': 0.9761999999990475, 'tp': 12893.00000001, 'tn': 6631.00000001, 'fp': 300.00000001, 'fn': 176.00000001}\n",
      "{'precision': 0.8997273553444427, 'recall': 0.9163838321480013, 'F': 0.9079792112478876, 'accuracy': 0.8795999999969633, 'tp': 2970.00000001, 'tn': 1428.00000001, 'fp': 331.00000001, 'fn': 271.00000001}\n",
      "iteration: 6, loss: 0.04782\n",
      "training scores, then validation scores\n",
      "{'precision': 0.9837985852278333, 'recall': 0.989670211951198, 'F': 0.9867256637160715, 'accuracy': 0.9825999999990347, 'tp': 12934.00000001, 'tn': 6718.00000001, 'fp': 213.00000001, 'fn': 135.00000001}\n",
      "{'precision': 0.9006381039173464, 'recall': 0.9145325516790217, 'F': 0.9075321494157531, 'accuracy': 0.8791999999969664, 'tp': 2964.00000001, 'tn': 1432.00000001, 'fp': 327.00000001, 'fn': 277.00000001}\n",
      "iteration: 7, loss: 0.03790\n",
      "training scores, then validation scores\n",
      "{'precision': 0.9893965977565193, 'recall': 0.9924248220973411, 'F': 0.9909083963626083, 'accuracy': 0.9880999999990238, 'tp': 12970.00000001, 'tn': 6792.00000001, 'fp': 139.00000001, 'fn': 99.00000001000001}\n",
      "{'precision': 0.9013137794048194, 'recall': 0.9102128972514026, 'F': 0.9057414798869774, 'accuracy': 0.8771999999969824, 'tp': 2950.00000001, 'tn': 1436.00000001, 'fp': 323.00000001, 'fn': 291.00000001}\n",
      "iteration: 8, loss: 0.03703\n",
      "training scores, then validation scores\n",
      "{'precision': 0.993659766250869, 'recall': 0.9953324661404922, 'F': 0.9944954128432805, 'accuracy': 0.9927999999990144, 'tp': 13008.00000001, 'tn': 6848.00000001, 'fp': 83.00000001000001, 'fn': 61.00000001}\n",
      "{'precision': 0.900950628639062, 'recall': 0.9065103363134434, 'F': 0.9037219317108354, 'accuracy': 0.8747999999970016, 'tp': 2938.00000001, 'tn': 1436.00000001, 'fp': 323.00000001, 'fn': 303.00000001}\n",
      "iteration: 9, loss: 0.03214\n",
      "training scores, then validation scores\n",
      "{'precision': 0.9959455324349816, 'recall': 0.996174152574036, 'F': 0.9960598293860279, 'accuracy': 0.9948499999990102, 'tp': 13019.00000001, 'tn': 6878.00000001, 'fp': 53.00000001, 'fn': 50.00000001}\n",
      "{'precision': 0.901102265766068, 'recall': 0.9080530700375931, 'F': 0.9045643153502103, 'accuracy': 0.8757999999969936, 'tp': 2943.00000001, 'tn': 1436.00000001, 'fp': 323.00000001, 'fn': 298.00000001}\n",
      "Training time: 0:28:17.083619\n"
     ]
    }
   ],
   "source": [
    "train_data, nlp, train_info, dev_info = prepare_training(train, n_texts=25000, train_split=0.8)\n",
    "metrics_small = do_training(train_data, nlp, train_info, dev_info, labels=('POSITIVE', 'NEGATIVE'), n_iter=10)"
   ]
  },
  {
   "cell_type": "code",
   "execution_count": 31,
   "metadata": {},
   "outputs": [
    {
     "data": {
      "text/html": [
       "<div>\n",
       "<style scoped>\n",
       "    .dataframe tbody tr th:only-of-type {\n",
       "        vertical-align: middle;\n",
       "    }\n",
       "\n",
       "    .dataframe tbody tr th {\n",
       "        vertical-align: top;\n",
       "    }\n",
       "\n",
       "    .dataframe thead th {\n",
       "        text-align: right;\n",
       "    }\n",
       "</style>\n",
       "<table border=\"1\" class=\"dataframe\">\n",
       "  <thead>\n",
       "    <tr style=\"text-align: right;\">\n",
       "      <th></th>\n",
       "      <th>iteration</th>\n",
       "      <th>loss</th>\n",
       "      <th>cm_train</th>\n",
       "      <th>cm_validation</th>\n",
       "      <th>precision_train</th>\n",
       "      <th>recall_train</th>\n",
       "      <th>F_train</th>\n",
       "      <th>accuracy_train</th>\n",
       "      <th>tp_train</th>\n",
       "      <th>tn_train</th>\n",
       "      <th>fp_train</th>\n",
       "      <th>fn_train</th>\n",
       "      <th>precision_validation</th>\n",
       "      <th>recall_validation</th>\n",
       "      <th>F_validation</th>\n",
       "      <th>accuracy_validation</th>\n",
       "      <th>tp_validation</th>\n",
       "      <th>tn_validation</th>\n",
       "      <th>fp_validation</th>\n",
       "      <th>fn_validation</th>\n",
       "    </tr>\n",
       "  </thead>\n",
       "  <tbody>\n",
       "    <tr>\n",
       "      <th>0</th>\n",
       "      <td>0</td>\n",
       "      <td>11.836972</td>\n",
       "      <td>[[12274.00000001, 795.00000001], [1087.0000000...</td>\n",
       "      <td>[[2963.00000001, 278.00000001], [342.00000001,...</td>\n",
       "      <td>0.918644</td>\n",
       "      <td>0.939169</td>\n",
       "      <td>0.928793</td>\n",
       "      <td>0.90590</td>\n",
       "      <td>12274.0</td>\n",
       "      <td>5844.0</td>\n",
       "      <td>1087.0</td>\n",
       "      <td>795.0</td>\n",
       "      <td>0.896520</td>\n",
       "      <td>0.914224</td>\n",
       "      <td>0.905286</td>\n",
       "      <td>0.8760</td>\n",
       "      <td>2963.0</td>\n",
       "      <td>1417.0</td>\n",
       "      <td>342.0</td>\n",
       "      <td>278.0</td>\n",
       "    </tr>\n",
       "    <tr>\n",
       "      <th>1</th>\n",
       "      <td>1</td>\n",
       "      <td>0.115256</td>\n",
       "      <td>[[12441.00000001, 628.00000001], [803.00000001...</td>\n",
       "      <td>[[2955.00000001, 286.00000001], [336.00000001,...</td>\n",
       "      <td>0.939369</td>\n",
       "      <td>0.951947</td>\n",
       "      <td>0.945616</td>\n",
       "      <td>0.92845</td>\n",
       "      <td>12441.0</td>\n",
       "      <td>6128.0</td>\n",
       "      <td>803.0</td>\n",
       "      <td>628.0</td>\n",
       "      <td>0.897903</td>\n",
       "      <td>0.911756</td>\n",
       "      <td>0.904776</td>\n",
       "      <td>0.8756</td>\n",
       "      <td>2955.0</td>\n",
       "      <td>1423.0</td>\n",
       "      <td>336.0</td>\n",
       "      <td>286.0</td>\n",
       "    </tr>\n",
       "    <tr>\n",
       "      <th>2</th>\n",
       "      <td>2</td>\n",
       "      <td>0.081013</td>\n",
       "      <td>[[12595.00000001, 474.00000001], [608.00000001...</td>\n",
       "      <td>[[2954.00000001, 287.00000001], [320.00000001,...</td>\n",
       "      <td>0.953950</td>\n",
       "      <td>0.963731</td>\n",
       "      <td>0.958815</td>\n",
       "      <td>0.94590</td>\n",
       "      <td>12595.0</td>\n",
       "      <td>6323.0</td>\n",
       "      <td>608.0</td>\n",
       "      <td>474.0</td>\n",
       "      <td>0.902260</td>\n",
       "      <td>0.911447</td>\n",
       "      <td>0.906830</td>\n",
       "      <td>0.8786</td>\n",
       "      <td>2954.0</td>\n",
       "      <td>1439.0</td>\n",
       "      <td>320.0</td>\n",
       "      <td>287.0</td>\n",
       "    </tr>\n",
       "    <tr>\n",
       "      <th>3</th>\n",
       "      <td>3</td>\n",
       "      <td>0.073541</td>\n",
       "      <td>[[12715.00000001, 354.00000001], [498.00000001...</td>\n",
       "      <td>[[2975.00000001, 266.00000001], [319.00000001,...</td>\n",
       "      <td>0.962310</td>\n",
       "      <td>0.972913</td>\n",
       "      <td>0.967582</td>\n",
       "      <td>0.95740</td>\n",
       "      <td>12715.0</td>\n",
       "      <td>6433.0</td>\n",
       "      <td>498.0</td>\n",
       "      <td>354.0</td>\n",
       "      <td>0.903157</td>\n",
       "      <td>0.917927</td>\n",
       "      <td>0.910482</td>\n",
       "      <td>0.8830</td>\n",
       "      <td>2975.0</td>\n",
       "      <td>1440.0</td>\n",
       "      <td>319.0</td>\n",
       "      <td>266.0</td>\n",
       "    </tr>\n",
       "    <tr>\n",
       "      <th>4</th>\n",
       "      <td>4</td>\n",
       "      <td>0.060225</td>\n",
       "      <td>[[12824.00000001, 245.00000001], [394.00000001...</td>\n",
       "      <td>[[2970.00000001, 271.00000001], [331.00000001,...</td>\n",
       "      <td>0.970192</td>\n",
       "      <td>0.981253</td>\n",
       "      <td>0.975691</td>\n",
       "      <td>0.96805</td>\n",
       "      <td>12824.0</td>\n",
       "      <td>6537.0</td>\n",
       "      <td>394.0</td>\n",
       "      <td>245.0</td>\n",
       "      <td>0.899727</td>\n",
       "      <td>0.916384</td>\n",
       "      <td>0.907979</td>\n",
       "      <td>0.8796</td>\n",
       "      <td>2970.0</td>\n",
       "      <td>1428.0</td>\n",
       "      <td>331.0</td>\n",
       "      <td>271.0</td>\n",
       "    </tr>\n",
       "  </tbody>\n",
       "</table>\n",
       "</div>"
      ],
      "text/plain": [
       "   iteration       loss                                           cm_train  \\\n",
       "0          0  11.836972  [[12274.00000001, 795.00000001], [1087.0000000...   \n",
       "1          1   0.115256  [[12441.00000001, 628.00000001], [803.00000001...   \n",
       "2          2   0.081013  [[12595.00000001, 474.00000001], [608.00000001...   \n",
       "3          3   0.073541  [[12715.00000001, 354.00000001], [498.00000001...   \n",
       "4          4   0.060225  [[12824.00000001, 245.00000001], [394.00000001...   \n",
       "\n",
       "                                       cm_validation  precision_train  \\\n",
       "0  [[2963.00000001, 278.00000001], [342.00000001,...         0.918644   \n",
       "1  [[2955.00000001, 286.00000001], [336.00000001,...         0.939369   \n",
       "2  [[2954.00000001, 287.00000001], [320.00000001,...         0.953950   \n",
       "3  [[2975.00000001, 266.00000001], [319.00000001,...         0.962310   \n",
       "4  [[2970.00000001, 271.00000001], [331.00000001,...         0.970192   \n",
       "\n",
       "   recall_train   F_train  accuracy_train  tp_train  tn_train  fp_train  \\\n",
       "0      0.939169  0.928793         0.90590   12274.0    5844.0    1087.0   \n",
       "1      0.951947  0.945616         0.92845   12441.0    6128.0     803.0   \n",
       "2      0.963731  0.958815         0.94590   12595.0    6323.0     608.0   \n",
       "3      0.972913  0.967582         0.95740   12715.0    6433.0     498.0   \n",
       "4      0.981253  0.975691         0.96805   12824.0    6537.0     394.0   \n",
       "\n",
       "   fn_train  precision_validation  recall_validation  F_validation  \\\n",
       "0     795.0              0.896520           0.914224      0.905286   \n",
       "1     628.0              0.897903           0.911756      0.904776   \n",
       "2     474.0              0.902260           0.911447      0.906830   \n",
       "3     354.0              0.903157           0.917927      0.910482   \n",
       "4     245.0              0.899727           0.916384      0.907979   \n",
       "\n",
       "   accuracy_validation  tp_validation  tn_validation  fp_validation  \\\n",
       "0               0.8760         2963.0         1417.0          342.0   \n",
       "1               0.8756         2955.0         1423.0          336.0   \n",
       "2               0.8786         2954.0         1439.0          320.0   \n",
       "3               0.8830         2975.0         1440.0          319.0   \n",
       "4               0.8796         2970.0         1428.0          331.0   \n",
       "\n",
       "   fn_validation  \n",
       "0          278.0  \n",
       "1          286.0  \n",
       "2          287.0  \n",
       "3          266.0  \n",
       "4          271.0  "
      ]
     },
     "execution_count": 31,
     "metadata": {},
     "output_type": "execute_result"
    }
   ],
   "source": [
    "metrics_small.head()"
   ]
  },
  {
   "cell_type": "code",
   "execution_count": 32,
   "metadata": {},
   "outputs": [
    {
     "data": {
      "text/plain": [
       "<matplotlib.axes._subplots.AxesSubplot at 0x7ff3212e1f28>"
      ]
     },
     "execution_count": 32,
     "metadata": {},
     "output_type": "execute_result"
    },
    {
     "data": {
      "image/png": "[encoded data removed]",
      "text/plain": [
       "<Figure size 432x288 with 1 Axes>"
      ]
     },
     "metadata": {},
     "output_type": "display_data"
    }
   ],
   "source": [
    "metrics_small.plot(x='iteration', y='loss')"
   ]
  },
  {
   "cell_type": "code",
   "execution_count": 33,
   "metadata": {},
   "outputs": [
    {
     "data": {
      "image/png": "[encoded data removed]",
      "text/plain": [
       "<Figure size 432x288 with 1 Axes>"
      ]
     },
     "metadata": {},
     "output_type": "display_data"
    },
    {
     "data": {
      "image/png": "[encoded data removed]",
      "text/plain": [
       "<Figure size 432x288 with 1 Axes>"
      ]
     },
     "metadata": {},
     "output_type": "display_data"
    },
    {
     "data": {
      "image/png": "[encoded data removed]",
      "text/plain": [
       "<Figure size 432x288 with 1 Axes>"
      ]
     },
     "metadata": {},
     "output_type": "display_data"
    },
    {
     "data": {
      "image/png": "[encoded data removed]",
      "text/plain": [
       "<Figure size 432x288 with 1 Axes>"
      ]
     },
     "metadata": {},
     "output_type": "display_data"
    }
   ],
   "source": [
    "for metric in [\"precision\", \"recall\", \"accuracy\", \"F\"]:\n",
    "    ax = metrics_small.plot(x=\"iteration\", y=f\"{metric}_train\")\n",
    "    metrics_small.plot(x=\"iteration\", y=f\"{metric}_validation\", ax=ax)"
   ]
  },
  {
   "cell_type": "code",
   "execution_count": 55,
   "metadata": {},
   "outputs": [],
   "source": [
    "def plot_cm(cm, percent=True, labels=('POSITIVE', 'NEGATIVE'), title=\"Confusion Matrix\"):\n",
    "    # from https://stackoverflow.com/questions/19233771/sklearn-plot-confusion-matrix-with-labels/48018785\n",
    "    if percent:\n",
    "        matrix = cm / cm.sum()\n",
    "    else:\n",
    "        matrix = cm\n",
    "    ax = plt.subplot()\n",
    "    sns.heatmap(matrix, annot=True, ax = ax); #annot=True to annotate cells\n",
    "\n",
    "    # labels, title and ticks\n",
    "    ax.set_xlabel('Predicted labels')\n",
    "    ax.set_ylabel('True labels')\n",
    "    ax.set_title(title)\n",
    "    ax.xaxis.set_ticklabels(labels)\n",
    "    ax.yaxis.set_ticklabels(labels)"
   ]
  },
  {
   "cell_type": "code",
   "execution_count": 62,
   "metadata": {},
   "outputs": [
    {
     "data": {
      "image/png": "[encoded data removed]",
      "text/plain": [
       "<Figure size 432x288 with 2 Axes>"
      ]
     },
     "metadata": {},
     "output_type": "display_data"
    }
   ],
   "source": [
    "plot_cm(metrics_small['cm_train'].iloc[-1], title=\"Confusion Matrix (training)\")"
   ]
  },
  {
   "cell_type": "code",
   "execution_count": 63,
   "metadata": {},
   "outputs": [
    {
     "data": {
      "image/png": "[encoded data removed]",
      "text/plain": [
       "<Figure size 432x288 with 2 Axes>"
      ]
     },
     "metadata": {},
     "output_type": "display_data"
    }
   ],
   "source": [
    "plot_cm(metrics_small['cm_validation'].iloc[-1], title=\"Confusion Matrix (validation)\")"
   ]
  },
  {
   "cell_type": "code",
   "execution_count": 87,
   "metadata": {},
   "outputs": [
    {
     "name": "stdout",
     "output_type": "stream",
     "text": [
      "13069 positive examples, 6931 negative examples, 65.34% positive\n"
     ]
    }
   ],
   "source": [
    "_, train_cats = train_info\n",
    "num_n = 0\n",
    "for row in train_cats:\n",
    "    for key, value in row.items():\n",
    "        if key == 'NEGATIVE' and value is True:\n",
    "            num_n += 1\n",
    "num_p = len(train_cats) - num_n\n",
    "print(f\"{num_p} positive examples, {num_n} negative examples, {num_p/len(train_cats)*100:.2f}% positive\")"
   ]
  },
  {
   "cell_type": "code",
   "execution_count": 88,
   "metadata": {},
   "outputs": [
    {
     "name": "stdout",
     "output_type": "stream",
     "text": [
      "3241 positive examples, 1759 negative examples, 64.82% positive\n"
     ]
    }
   ],
   "source": [
    "_, dev_cats = dev_info\n",
    "dev_n = 0\n",
    "dev_p = 0\n",
    "for row in dev_cats:\n",
    "    for key, value in row.items():\n",
    "        if key == 'NEGATIVE' and value is True:\n",
    "            dev_n += 1\n",
    "dev_p = len(dev_cats) - dev_n\n",
    "print(f\"{dev_p} positive examples, {dev_n} negative examples, {dev_p/len(dev_cats)*100:.2f}% positive\")"
   ]
  },
  {
   "cell_type": "markdown",
   "metadata": {},
   "source": [
    "### Bag of words"
   ]
  },
  {
   "cell_type": "code",
   "execution_count": 90,
   "metadata": {},
   "outputs": [
    {
     "name": "stdout",
     "output_type": "stream",
     "text": [
      "Loading data...\n",
      "Using 25000 examples (20000 training, 5000 evaluation)\n",
      "Training the model...\n",
      "\tprecision\trecall\tF-score\taccuracy\n",
      "iteration: 0, loss: 11.37106\n",
      "training scores, then validation scores\n",
      "{'precision': 0.9152542372875235, 'recall': 0.9503405004201539, 'F': 0.9324674349631256, 'accuracy': 0.9100499999991798, 'tp': 12420.00000001, 'tn': 5781.00000001, 'fp': 1150.00000001, 'fn': 649.00000001}\n",
      "{'precision': 0.8817267888800607, 'recall': 0.9200863930859606, 'F': 0.9004982636243364, 'accuracy': 0.8681999999970544, 'tp': 2982.00000001, 'tn': 1359.00000001, 'fp': 400.00000001, 'fn': 259.00000001}\n",
      "iteration: 1, loss: 0.11824\n",
      "training scores, then validation scores\n",
      "{'precision': 0.9326880119129818, 'recall': 0.9584512969615755, 'F': 0.9453941658169056, 'accuracy': 0.9276499999991447, 'tp': 12526.00000001, 'tn': 6027.00000001, 'fp': 904.00000001, 'fn': 543.00000001}\n",
      "{'precision': 0.8903091557646237, 'recall': 0.9240975007687499, 'F': 0.906888720663698, 'accuracy': 0.8769999999969841, 'tp': 2995.00000001, 'tn': 1390.00000001, 'fp': 369.00000001, 'fn': 246.00000001}\n",
      "iteration: 2, loss: 0.08599\n",
      "training scores, then validation scores\n",
      "{'precision': 0.9449850299394535, 'recall': 0.9660264748634692, 'F': 0.9553899125953226, 'accuracy': 0.9410499999991179, 'tp': 12625.00000001, 'tn': 6196.00000001, 'fp': 735.00000001, 'fn': 444.00000001}\n",
      "{'precision': 0.8909361069813317, 'recall': 0.9250231410032397, 'F': 0.9076597032975618, 'accuracy': 0.877999999996976, 'tp': 2998.00000001, 'tn': 1392.00000001, 'fp': 367.00000001, 'fn': 243.00000001}\n",
      "iteration: 3, loss: 0.07737\n",
      "training scores, then validation scores\n",
      "{'precision': 0.9516672911195928, 'recall': 0.9717652460012675, 'F': 0.9616112667517807, 'accuracy': 0.9492999999991013, 'tp': 12700.00000001, 'tn': 6286.00000001, 'fp': 645.00000001, 'fn': 369.00000001}\n",
      "{'precision': 0.8879310344804523, 'recall': 0.9216291268101103, 'F': 0.9044663133964909, 'accuracy': 0.8737999999970096, 'tp': 2987.00000001, 'tn': 1382.00000001, 'fp': 377.00000001, 'fn': 254.00000001}\n",
      "iteration: 4, loss: 0.07308\n",
      "training scores, then validation scores\n",
      "{'precision': 0.9573285252791566, 'recall': 0.9750554747869384, 'F': 0.9661106899158968, 'accuracy': 0.9552999999990893, 'tp': 12743.00000001, 'tn': 6363.00000001, 'fp': 568.00000001, 'fn': 326.00000001}\n",
      "{'precision': 0.8890211246629633, 'recall': 0.9219376735549403, 'F': 0.905180248407118, 'accuracy': 0.8747999999970016, 'tp': 2988.00000001, 'tn': 1386.00000001, 'fp': 373.00000001, 'fn': 253.00000001}\n",
      "iteration: 5, loss: 0.06596\n",
      "training scores, then validation scores\n",
      "{'precision': 0.961393738710925, 'recall': 0.9775040171390657, 'F': 0.9693819478689238, 'accuracy': 0.9596499999990806, 'tp': 12775.00000001, 'tn': 6418.00000001, 'fp': 513.00000001, 'fn': 294.00000001}\n",
      "{'precision': 0.887436887434586, 'recall': 0.9219376735549403, 'F': 0.9043583535084482, 'accuracy': 0.8735999999970112, 'tp': 2988.00000001, 'tn': 1380.00000001, 'fp': 379.00000001, 'fn': 253.00000001}\n",
      "iteration: 6, loss: 0.06254\n",
      "training scores, then validation scores\n",
      "{'precision': 0.9644417658573686, 'recall': 0.979569974748673, 'F': 0.9719470067942574, 'accuracy': 0.9630499999990738, 'tp': 12802.00000001, 'tn': 6459.00000001, 'fp': 472.00000001, 'fn': 267.00000001}\n",
      "{'precision': 0.8894894894871502, 'recall': 0.9139154581893618, 'F': 0.9015370567621274, 'accuracy': 0.8705999999970352, 'tp': 2962.00000001, 'tn': 1391.00000001, 'fp': 368.00000001, 'fn': 279.00000001}\n",
      "iteration: 7, loss: 0.05718\n",
      "training scores, then validation scores\n",
      "{'precision': 0.9663726155463072, 'recall': 0.9807177289762327, 'F': 0.9734923287247857, 'accuracy': 0.9650999999990697, 'tp': 12817.00000001, 'tn': 6485.00000001, 'fp': 446.00000001, 'fn': 252.00000001}\n",
      "{'precision': 0.8915590267324028, 'recall': 0.9157667386583415, 'F': 0.9035007610325511, 'accuracy': 0.8731999999970145, 'tp': 2968.00000001, 'tn': 1398.00000001, 'fp': 361.00000001, 'fn': 273.00000001}\n",
      "iteration: 8, loss: 0.05688\n",
      "training scores, then validation scores\n",
      "{'precision': 0.9704213631886369, 'recall': 0.9815594154097764, 'F': 0.9759586122938588, 'accuracy': 0.9683999999990631, 'tp': 12828.00000001, 'tn': 6540.00000001, 'fp': 391.00000001, 'fn': 241.00000001}\n",
      "{'precision': 0.8910564225666804, 'recall': 0.9160752854031714, 'F': 0.903392666968487, 'accuracy': 0.872999999997016, 'tp': 2969.00000001, 'tn': 1396.00000001, 'fp': 363.00000001, 'fn': 272.00000001}\n",
      "iteration: 9, loss: 0.05458\n",
      "training scores, then validation scores\n",
      "{'precision': 0.972314674734535, 'recall': 0.9835488560708798, 'F': 0.977899501691996, 'accuracy': 0.9709499999990581, 'tp': 12854.00000001, 'tn': 6565.00000001, 'fp': 366.00000001, 'fn': 215.00000001}\n",
      "{'precision': 0.8894216361978459, 'recall': 0.9157667386583415, 'F': 0.9024019458777598, 'accuracy': 0.8715999999970272, 'tp': 2968.00000001, 'tn': 1390.00000001, 'fp': 369.00000001, 'fn': 273.00000001}\n",
      "Training time: 0:03:19.410328\n"
     ]
    }
   ],
   "source": [
    "train_data, nlp, train_info, dev_info = prepare_training(train, n_texts=25000, train_split=0.8, cfg={\"exclusive_classes\": True, \"architecture\": \"bow\"})\n",
    "metrics_small = do_training(train_data, nlp, train_info, dev_info, labels=('POSITIVE', 'NEGATIVE'), n_iter=10)"
   ]
  },
  {
   "cell_type": "code",
   "execution_count": 91,
   "metadata": {},
   "outputs": [
    {
     "data": {
      "image/png": "[encoded data removed]",
      "text/plain": [
       "<Figure size 432x288 with 1 Axes>"
      ]
     },
     "metadata": {},
     "output_type": "display_data"
    },
    {
     "data": {
      "image/png": "[encoded data removed]",
      "text/plain": [
       "<Figure size 432x288 with 1 Axes>"
      ]
     },
     "metadata": {},
     "output_type": "display_data"
    },
    {
     "data": {
      "image/png": "[encoded data removed]",
      "text/plain": [
       "<Figure size 432x288 with 1 Axes>"
      ]
     },
     "metadata": {},
     "output_type": "display_data"
    },
    {
     "data": {
      "image/png": "[encoded data removed]",
      "text/plain": [
       "<Figure size 432x288 with 1 Axes>"
      ]
     },
     "metadata": {},
     "output_type": "display_data"
    },
    {
     "data": {
      "image/png": "[encoded data removed]",
      "text/plain": [
       "<Figure size 432x288 with 1 Axes>"
      ]
     },
     "metadata": {},
     "output_type": "display_data"
    }
   ],
   "source": [
    "metrics_small.plot(x='iteration', y='loss')\n",
    "for metric in [\"precision\", \"recall\", \"accuracy\", \"F\"]:\n",
    "    ax = metrics_small.plot(x=\"iteration\", y=f\"{metric}_train\")\n",
    "    metrics_small.plot(x=\"iteration\", y=f\"{metric}_validation\", ax=ax)"
   ]
  },
  {
   "cell_type": "code",
   "execution_count": 92,
   "metadata": {},
   "outputs": [
    {
     "data": {
      "image/png": "[encoded data removed]",
      "text/plain": [
       "<Figure size 432x288 with 2 Axes>"
      ]
     },
     "metadata": {},
     "output_type": "display_data"
    }
   ],
   "source": [
    "plot_cm(metrics_small['cm_train'].iloc[-1], title=\"Confusion Matrix (training)\")"
   ]
  },
  {
   "cell_type": "code",
   "execution_count": 93,
   "metadata": {},
   "outputs": [
    {
     "data": {
      "image/png": "[encoded data removed]",
      "text/plain": [
       "<Figure size 432x288 with 2 Axes>"
      ]
     },
     "metadata": {},
     "output_type": "display_data"
    }
   ],
   "source": [
    "plot_cm(metrics_small['cm_validation'].iloc[-1], title=\"Confusion Matrix (validation)\")"
   ]
  },
  {
   "cell_type": "markdown",
   "metadata": {},
   "source": [
    "## Multiclass classification (star rating)"
   ]
  },
  {
   "cell_type": "markdown",
   "metadata": {},
   "source": [
    "### Bag of words"
   ]
  },
  {
   "cell_type": "code",
   "execution_count": 96,
   "metadata": {},
   "outputs": [],
   "source": [
    "train_star = reviews['star_tuples'].tolist()"
   ]
  },
  {
   "cell_type": "code",
   "execution_count": 133,
   "metadata": {},
   "outputs": [
    {
     "name": "stdout",
     "output_type": "stream",
     "text": [
      "Loading data...\n",
      "Using 25000 examples (20000 training, 5000 evaluation)\n",
      "Training the model...\n",
      "\tprecision\trecall\tF-score\taccuracy\n",
      "iteration: 0, loss: 23.79080\n",
      "training scores, then validation scores\n",
      "y_true type: <class 'list'>, y_pred type: <class 'list'>\n",
      "y_true: ['5', '4'], y_pred: ['4', '2']\n",
      "              precision    recall  f1-score   support\n",
      "\n",
      "           1       0.76      0.81      0.78      2462\n",
      "           2       0.68      0.47      0.56      1864\n",
      "           3       0.62      0.51      0.56      2605\n",
      "           4       0.63      0.60      0.61      5225\n",
      "           5       0.76      0.86      0.80      7844\n",
      "\n",
      "    accuracy                           0.70     20000\n",
      "   macro avg       0.69      0.65      0.66     20000\n",
      "weighted avg       0.70      0.70      0.70     20000\n",
      "\n",
      "y_true type: <class 'list'>, y_pred type: <class 'list'>\n",
      "y_true: ['1', '3'], y_pred: ['1', '3']\n",
      "              precision    recall  f1-score   support\n",
      "\n",
      "           1       0.64      0.70      0.67       559\n",
      "           2       0.46      0.27      0.34       513\n",
      "           3       0.41      0.31      0.36       687\n",
      "           4       0.46      0.48      0.47      1280\n",
      "           5       0.69      0.78      0.74      1961\n",
      "\n",
      "    accuracy                           0.58      5000\n",
      "   macro avg       0.53      0.51      0.51      5000\n",
      "weighted avg       0.56      0.58      0.57      5000\n",
      "\n",
      "iteration: 1, loss: 0.33502\n",
      "training scores, then validation scores\n",
      "y_true type: <class 'list'>, y_pred type: <class 'list'>\n",
      "y_true: ['5', '4'], y_pred: ['4', '4']\n",
      "              precision    recall  f1-score   support\n",
      "\n",
      "           1       0.81      0.85      0.83      2462\n",
      "           2       0.76      0.61      0.68      1864\n",
      "           3       0.74      0.60      0.66      2605\n",
      "           4       0.71      0.66      0.68      5225\n",
      "           5       0.79      0.90      0.84      7844\n",
      "\n",
      "    accuracy                           0.76     20000\n",
      "   macro avg       0.76      0.72      0.74     20000\n",
      "weighted avg       0.76      0.76      0.76     20000\n",
      "\n",
      "y_true type: <class 'list'>, y_pred type: <class 'list'>\n",
      "y_true: ['1', '3'], y_pred: ['1', '3']\n",
      "              precision    recall  f1-score   support\n",
      "\n",
      "           1       0.65      0.71      0.68       559\n",
      "           2       0.43      0.28      0.34       513\n",
      "           3       0.43      0.33      0.37       687\n",
      "           4       0.46      0.47      0.47      1280\n",
      "           5       0.70      0.78      0.74      1961\n",
      "\n",
      "    accuracy                           0.58      5000\n",
      "   macro avg       0.53      0.52      0.52      5000\n",
      "weighted avg       0.57      0.58      0.57      5000\n",
      "\n",
      "iteration: 2, loss: 0.24738\n",
      "training scores, then validation scores\n",
      "y_true type: <class 'list'>, y_pred type: <class 'list'>\n",
      "y_true: ['5', '4'], y_pred: ['4', '4']\n",
      "              precision    recall  f1-score   support\n",
      "\n",
      "           1       0.85      0.89      0.87      2462\n",
      "           2       0.81      0.68      0.74      1864\n",
      "           3       0.79      0.67      0.73      2605\n",
      "           4       0.76      0.70      0.73      5225\n",
      "           5       0.81      0.91      0.86      7844\n",
      "\n",
      "    accuracy                           0.80     20000\n",
      "   macro avg       0.80      0.77      0.78     20000\n",
      "weighted avg       0.80      0.80      0.80     20000\n",
      "\n",
      "y_true type: <class 'list'>, y_pred type: <class 'list'>\n",
      "y_true: ['1', '3'], y_pred: ['1', '3']\n",
      "              precision    recall  f1-score   support\n",
      "\n",
      "           1       0.64      0.72      0.68       559\n",
      "           2       0.43      0.29      0.35       513\n",
      "           3       0.43      0.35      0.39       687\n",
      "           4       0.47      0.46      0.47      1280\n",
      "           5       0.70      0.79      0.74      1961\n",
      "\n",
      "    accuracy                           0.59      5000\n",
      "   macro avg       0.54      0.52      0.52      5000\n",
      "weighted avg       0.57      0.59      0.58      5000\n",
      "\n",
      "iteration: 3, loss: 0.22474\n",
      "training scores, then validation scores\n",
      "y_true type: <class 'list'>, y_pred type: <class 'list'>\n",
      "y_true: ['5', '4'], y_pred: ['4', '4']\n",
      "              precision    recall  f1-score   support\n",
      "\n",
      "           1       0.87      0.91      0.89      2462\n",
      "           2       0.85      0.74      0.79      1864\n",
      "           3       0.82      0.72      0.76      2605\n",
      "           4       0.78      0.74      0.76      5225\n",
      "           5       0.83      0.91      0.87      7844\n",
      "\n",
      "    accuracy                           0.82     20000\n",
      "   macro avg       0.83      0.80      0.81     20000\n",
      "weighted avg       0.82      0.82      0.82     20000\n",
      "\n",
      "y_true type: <class 'list'>, y_pred type: <class 'list'>\n",
      "y_true: ['1', '3'], y_pred: ['1', '3']\n",
      "              precision    recall  f1-score   support\n",
      "\n",
      "           1       0.64      0.72      0.68       559\n",
      "           2       0.42      0.29      0.34       513\n",
      "           3       0.43      0.36      0.39       687\n",
      "           4       0.47      0.46      0.46      1280\n",
      "           5       0.71      0.78      0.74      1961\n",
      "\n",
      "    accuracy                           0.59      5000\n",
      "   macro avg       0.53      0.52      0.52      5000\n",
      "weighted avg       0.57      0.59      0.58      5000\n",
      "\n",
      "iteration: 4, loss: 0.21221\n",
      "training scores, then validation scores\n",
      "y_true type: <class 'list'>, y_pred type: <class 'list'>\n",
      "y_true: ['5', '4'], y_pred: ['4', '4']\n",
      "              precision    recall  f1-score   support\n",
      "\n",
      "           1       0.89      0.92      0.91      2462\n",
      "           2       0.87      0.77      0.82      1864\n",
      "           3       0.85      0.74      0.79      2605\n",
      "           4       0.80      0.76      0.78      5225\n",
      "           5       0.84      0.92      0.88      7844\n",
      "\n",
      "    accuracy                           0.84     20000\n",
      "   macro avg       0.85      0.82      0.83     20000\n",
      "weighted avg       0.84      0.84      0.84     20000\n",
      "\n",
      "y_true type: <class 'list'>, y_pred type: <class 'list'>\n",
      "y_true: ['1', '3'], y_pred: ['1', '3']\n",
      "              precision    recall  f1-score   support\n",
      "\n",
      "           1       0.64      0.71      0.67       559\n",
      "           2       0.43      0.29      0.35       513\n",
      "           3       0.42      0.35      0.38       687\n",
      "           4       0.46      0.46      0.46      1280\n",
      "           5       0.71      0.78      0.74      1961\n",
      "\n",
      "    accuracy                           0.58      5000\n",
      "   macro avg       0.53      0.52      0.52      5000\n",
      "weighted avg       0.57      0.58      0.57      5000\n",
      "\n",
      "iteration: 5, loss: 0.19698\n",
      "training scores, then validation scores\n",
      "y_true type: <class 'list'>, y_pred type: <class 'list'>\n",
      "y_true: ['5', '4'], y_pred: ['4', '4']\n",
      "              precision    recall  f1-score   support\n",
      "\n",
      "           1       0.91      0.93      0.92      2462\n",
      "           2       0.89      0.80      0.84      1864\n",
      "           3       0.86      0.77      0.81      2605\n",
      "           4       0.82      0.78      0.80      5225\n",
      "           5       0.86      0.93      0.89      7844\n",
      "\n",
      "    accuracy                           0.86     20000\n",
      "   macro avg       0.87      0.84      0.85     20000\n",
      "weighted avg       0.86      0.86      0.86     20000\n",
      "\n",
      "y_true type: <class 'list'>, y_pred type: <class 'list'>\n",
      "y_true: ['1', '3'], y_pred: ['1', '3']\n",
      "              precision    recall  f1-score   support\n",
      "\n",
      "           1       0.64      0.73      0.68       559\n",
      "           2       0.43      0.29      0.34       513\n",
      "           3       0.42      0.35      0.38       687\n",
      "           4       0.45      0.45      0.45      1280\n",
      "           5       0.71      0.78      0.74      1961\n",
      "\n",
      "    accuracy                           0.58      5000\n",
      "   macro avg       0.53      0.52      0.52      5000\n",
      "weighted avg       0.57      0.58      0.57      5000\n",
      "\n",
      "iteration: 6, loss: 0.18941\n",
      "training scores, then validation scores\n",
      "y_true type: <class 'list'>, y_pred type: <class 'list'>\n",
      "y_true: ['5', '4'], y_pred: ['4', '4']\n",
      "              precision    recall  f1-score   support\n",
      "\n",
      "           1       0.92      0.94      0.93      2462\n",
      "           2       0.89      0.83      0.86      1864\n",
      "           3       0.87      0.79      0.83      2605\n",
      "           4       0.84      0.79      0.81      5225\n",
      "           5       0.87      0.94      0.90      7844\n",
      "\n",
      "    accuracy                           0.87     20000\n",
      "   macro avg       0.88      0.86      0.87     20000\n",
      "weighted avg       0.87      0.87      0.87     20000\n",
      "\n"
     ]
    },
    {
     "name": "stdout",
     "output_type": "stream",
     "text": [
      "y_true type: <class 'list'>, y_pred type: <class 'list'>\n",
      "y_true: ['1', '3'], y_pred: ['1', '3']\n",
      "              precision    recall  f1-score   support\n",
      "\n",
      "           1       0.64      0.71      0.68       559\n",
      "           2       0.41      0.28      0.33       513\n",
      "           3       0.42      0.36      0.39       687\n",
      "           4       0.46      0.46      0.46      1280\n",
      "           5       0.70      0.78      0.74      1961\n",
      "\n",
      "    accuracy                           0.58      5000\n",
      "   macro avg       0.53      0.52      0.52      5000\n",
      "weighted avg       0.57      0.58      0.57      5000\n",
      "\n",
      "iteration: 7, loss: 0.17698\n",
      "training scores, then validation scores\n",
      "y_true type: <class 'list'>, y_pred type: <class 'list'>\n",
      "y_true: ['5', '4'], y_pred: ['4', '4']\n",
      "              precision    recall  f1-score   support\n",
      "\n",
      "           1       0.93      0.95      0.94      2462\n",
      "           2       0.92      0.85      0.88      1864\n",
      "           3       0.89      0.81      0.85      2605\n",
      "           4       0.85      0.80      0.83      5225\n",
      "           5       0.87      0.94      0.90      7844\n",
      "\n",
      "    accuracy                           0.88     20000\n",
      "   macro avg       0.89      0.87      0.88     20000\n",
      "weighted avg       0.88      0.88      0.88     20000\n",
      "\n",
      "y_true type: <class 'list'>, y_pred type: <class 'list'>\n",
      "y_true: ['1', '3'], y_pred: ['1', '3']\n",
      "              precision    recall  f1-score   support\n",
      "\n",
      "           1       0.64      0.71      0.67       559\n",
      "           2       0.40      0.28      0.33       513\n",
      "           3       0.42      0.36      0.39       687\n",
      "           4       0.46      0.46      0.46      1280\n",
      "           5       0.71      0.77      0.74      1961\n",
      "\n",
      "    accuracy                           0.58      5000\n",
      "   macro avg       0.52      0.52      0.52      5000\n",
      "weighted avg       0.56      0.58      0.57      5000\n",
      "\n",
      "iteration: 8, loss: 0.17045\n",
      "training scores, then validation scores\n",
      "y_true type: <class 'list'>, y_pred type: <class 'list'>\n",
      "y_true: ['5', '4'], y_pred: ['4', '4']\n",
      "              precision    recall  f1-score   support\n",
      "\n",
      "           1       0.94      0.95      0.95      2462\n",
      "           2       0.92      0.86      0.89      1864\n",
      "           3       0.90      0.83      0.86      2605\n",
      "           4       0.86      0.82      0.84      5225\n",
      "           5       0.88      0.94      0.91      7844\n",
      "\n",
      "    accuracy                           0.89     20000\n",
      "   macro avg       0.90      0.88      0.89     20000\n",
      "weighted avg       0.89      0.89      0.89     20000\n",
      "\n",
      "y_true type: <class 'list'>, y_pred type: <class 'list'>\n",
      "y_true: ['1', '3'], y_pred: ['1', '3']\n",
      "              precision    recall  f1-score   support\n",
      "\n",
      "           1       0.64      0.71      0.68       559\n",
      "           2       0.42      0.29      0.34       513\n",
      "           3       0.42      0.39      0.40       687\n",
      "           4       0.46      0.47      0.47      1280\n",
      "           5       0.71      0.76      0.73      1961\n",
      "\n",
      "    accuracy                           0.58      5000\n",
      "   macro avg       0.53      0.52      0.52      5000\n",
      "weighted avg       0.57      0.58      0.57      5000\n",
      "\n",
      "iteration: 9, loss: 0.16210\n",
      "training scores, then validation scores\n",
      "y_true type: <class 'list'>, y_pred type: <class 'list'>\n",
      "y_true: ['5', '4'], y_pred: ['4', '4']\n",
      "              precision    recall  f1-score   support\n",
      "\n",
      "           1       0.94      0.96      0.95      2462\n",
      "           2       0.93      0.88      0.90      1864\n",
      "           3       0.90      0.85      0.87      2605\n",
      "           4       0.87      0.83      0.85      5225\n",
      "           5       0.89      0.95      0.92      7844\n",
      "\n",
      "    accuracy                           0.90     20000\n",
      "   macro avg       0.91      0.89      0.90     20000\n",
      "weighted avg       0.90      0.90      0.90     20000\n",
      "\n",
      "y_true type: <class 'list'>, y_pred type: <class 'list'>\n",
      "y_true: ['1', '3'], y_pred: ['1', '3']\n",
      "              precision    recall  f1-score   support\n",
      "\n",
      "           1       0.64      0.71      0.67       559\n",
      "           2       0.41      0.29      0.34       513\n",
      "           3       0.42      0.38      0.40       687\n",
      "           4       0.47      0.47      0.47      1280\n",
      "           5       0.71      0.77      0.74      1961\n",
      "\n",
      "    accuracy                           0.58      5000\n",
      "   macro avg       0.53      0.52      0.52      5000\n",
      "weighted avg       0.57      0.58      0.57      5000\n",
      "\n",
      "Training time: 0:04:06.712209\n"
     ]
    }
   ],
   "source": [
    "star_labels = [str(star) for star in range(1,6)]\n",
    "train_data, nlp, train_info, dev_info = prepare_training(train_star, n_texts=25000, train_split=0.8, cfg={\"exclusive_classes\": True, \"architecture\": \"bow\"},\n",
    "                                                        labels=star_labels, cat_function=starcats_from_labels)\n",
    "metrics_small = do_training(train_data, nlp, train_info, dev_info, labels=star_labels, n_iter=10)"
   ]
  },
  {
   "cell_type": "code",
   "execution_count": 141,
   "metadata": {},
   "outputs": [
    {
     "data": {
      "image/png": "[encoded data removed]",
      "text/plain": [
       "<Figure size 432x288 with 2 Axes>"
      ]
     },
     "metadata": {},
     "output_type": "display_data"
    }
   ],
   "source": [
    "plot_cm(metrics_small['cm_train'].iloc[-1], title=\"Confusion Matrix (training)\", labels=star_labels, percent=False)"
   ]
  },
  {
   "cell_type": "code",
   "execution_count": 143,
   "metadata": {},
   "outputs": [
    {
     "data": {
      "image/png": "[encoded data removed]",
      "text/plain": [
       "<Figure size 432x288 with 2 Axes>"
      ]
     },
     "metadata": {},
     "output_type": "display_data"
    }
   ],
   "source": [
    "plot_cm(metrics_small['cm_validation'].iloc[-1], title=\"Confusion Matrix (validation)\", labels=star_labels, percent=False)"
   ]
  },
  {
   "cell_type": "code",
   "execution_count": null,
   "metadata": {},
   "outputs": [],
   "source": []
  }
 ],
 "metadata": {
  "kernelspec": {
   "display_name": "Python [default]",
   "language": "python",
   "name": "python3"
  },
  "language_info": {
   "codemirror_mode": {
    "name": "ipython",
    "version": 3
   },
   "file_extension": ".py",
   "mimetype": "text/x-python",
   "name": "python",
   "nbconvert_exporter": "python",
   "pygments_lexer": "ipython3",
   "version": "3.6.8"
  }
 },
 "nbformat": 4,
 "nbformat_minor": 2
}
