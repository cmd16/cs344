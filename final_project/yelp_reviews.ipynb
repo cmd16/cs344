{
 "cells": [
  {
   "cell_type": "markdown",
   "metadata": {},
   "source": [
    "## Setup"
   ]
  },
  {
   "cell_type": "code",
   "execution_count": 1,
   "metadata": {},
   "outputs": [],
   "source": [
    "import time\n",
    "import random\n",
    "from math import isclose\n",
    "from datetime import timedelta\n",
    "\n",
    "import pandas as pd\n",
    "import matplotlib.pyplot as plt\n",
    "%matplotlib inline\n",
    "import seaborn as sns\n",
    "import numpy as np\n",
    "import spacy\n",
    "from spacy.util import minibatch, compounding\n",
    "from sklearn.metrics import confusion_matrix, classification_report"
   ]
  },
  {
   "cell_type": "markdown",
   "metadata": {},
   "source": [
    "## EDA and Data Preparation"
   ]
  },
  {
   "cell_type": "code",
   "execution_count": 2,
   "metadata": {},
   "outputs": [
    {
     "name": "stdout",
     "output_type": "stream",
     "text": [
      "<class 'pandas.core.frame.DataFrame'>\n",
      "RangeIndex: 100000 entries, 0 to 99999\n",
      "Data columns (total 4 columns):\n",
      "review_id        100000 non-null object\n",
      "stars            100000 non-null int64\n",
      "text             100000 non-null object\n",
      "review_length    100000 non-null int64\n",
      "dtypes: int64(2), object(2)\n",
      "memory usage: 3.1+ MB\n"
     ]
    }
   ],
   "source": [
    "reviews = pd.read_csv(\"Yelp_restaurant_reviews.csv\")\n",
    "reviews.info()"
   ]
  },
  {
   "cell_type": "code",
   "execution_count": 3,
   "metadata": {},
   "outputs": [
    {
     "data": {
      "text/html": [
       "<div>\n",
       "<style scoped>\n",
       "    .dataframe tbody tr th:only-of-type {\n",
       "        vertical-align: middle;\n",
       "    }\n",
       "\n",
       "    .dataframe tbody tr th {\n",
       "        vertical-align: top;\n",
       "    }\n",
       "\n",
       "    .dataframe thead th {\n",
       "        text-align: right;\n",
       "    }\n",
       "</style>\n",
       "<table border=\"1\" class=\"dataframe\">\n",
       "  <thead>\n",
       "    <tr style=\"text-align: right;\">\n",
       "      <th></th>\n",
       "      <th>review_id</th>\n",
       "      <th>stars</th>\n",
       "      <th>text</th>\n",
       "      <th>review_length</th>\n",
       "    </tr>\n",
       "  </thead>\n",
       "  <tbody>\n",
       "    <tr>\n",
       "      <th>0</th>\n",
       "      <td>kMWkKrJkqHx5SW9sz_JEnw</td>\n",
       "      <td>5</td>\n",
       "      <td>The best service I had was here during my time...</td>\n",
       "      <td>300</td>\n",
       "    </tr>\n",
       "    <tr>\n",
       "      <th>1</th>\n",
       "      <td>GFcNYpLZYlcpBQNrVjMh8Q</td>\n",
       "      <td>4</td>\n",
       "      <td>What a fun place. Valet parking, a great outsi...</td>\n",
       "      <td>190</td>\n",
       "    </tr>\n",
       "    <tr>\n",
       "      <th>2</th>\n",
       "      <td>6ov3a4K8metST0LxtoJ4sA</td>\n",
       "      <td>3</td>\n",
       "      <td>My boyfriend and I dropped in for the first ti...</td>\n",
       "      <td>252</td>\n",
       "    </tr>\n",
       "    <tr>\n",
       "      <th>3</th>\n",
       "      <td>ahiXWr5mSXt9x0fbS4l-Cw</td>\n",
       "      <td>4</td>\n",
       "      <td>Excellent of breakfast or Sunday brunch! There...</td>\n",
       "      <td>326</td>\n",
       "    </tr>\n",
       "    <tr>\n",
       "      <th>4</th>\n",
       "      <td>9Ld-tBcjbtoMG-qx_l5G4A</td>\n",
       "      <td>4</td>\n",
       "      <td>I would actually give this place a 4.5 stars i...</td>\n",
       "      <td>2570</td>\n",
       "    </tr>\n",
       "  </tbody>\n",
       "</table>\n",
       "</div>"
      ],
      "text/plain": [
       "                review_id  stars  \\\n",
       "0  kMWkKrJkqHx5SW9sz_JEnw      5   \n",
       "1  GFcNYpLZYlcpBQNrVjMh8Q      4   \n",
       "2  6ov3a4K8metST0LxtoJ4sA      3   \n",
       "3  ahiXWr5mSXt9x0fbS4l-Cw      4   \n",
       "4  9Ld-tBcjbtoMG-qx_l5G4A      4   \n",
       "\n",
       "                                                text  review_length  \n",
       "0  The best service I had was here during my time...            300  \n",
       "1  What a fun place. Valet parking, a great outsi...            190  \n",
       "2  My boyfriend and I dropped in for the first ti...            252  \n",
       "3  Excellent of breakfast or Sunday brunch! There...            326  \n",
       "4  I would actually give this place a 4.5 stars i...           2570  "
      ]
     },
     "execution_count": 3,
     "metadata": {},
     "output_type": "execute_result"
    }
   ],
   "source": [
    "reviews.head()"
   ]
  },
  {
   "cell_type": "code",
   "execution_count": 4,
   "metadata": {},
   "outputs": [
    {
     "data": {
      "image/png": "[encoded data removed]",
      "text/plain": [
       "<Figure size 432x288 with 1 Axes>"
      ]
     },
     "metadata": {},
     "output_type": "display_data"
    }
   ],
   "source": [
    "ax = reviews['stars'].value_counts().plot(kind='bar')  # note the bars are ordered by frequency not star number"
   ]
  },
  {
   "cell_type": "code",
   "execution_count": 5,
   "metadata": {},
   "outputs": [
    {
     "data": {
      "text/html": [
       "<div>\n",
       "<style scoped>\n",
       "    .dataframe tbody tr th:only-of-type {\n",
       "        vertical-align: middle;\n",
       "    }\n",
       "\n",
       "    .dataframe tbody tr th {\n",
       "        vertical-align: top;\n",
       "    }\n",
       "\n",
       "    .dataframe thead th {\n",
       "        text-align: right;\n",
       "    }\n",
       "</style>\n",
       "<table border=\"1\" class=\"dataframe\">\n",
       "  <thead>\n",
       "    <tr style=\"text-align: right;\">\n",
       "      <th></th>\n",
       "      <th>review_id</th>\n",
       "      <th>stars</th>\n",
       "      <th>text</th>\n",
       "      <th>review_length</th>\n",
       "      <th>is_positive</th>\n",
       "    </tr>\n",
       "  </thead>\n",
       "  <tbody>\n",
       "    <tr>\n",
       "      <th>0</th>\n",
       "      <td>kMWkKrJkqHx5SW9sz_JEnw</td>\n",
       "      <td>5</td>\n",
       "      <td>The best service I had was here during my time...</td>\n",
       "      <td>300</td>\n",
       "      <td>True</td>\n",
       "    </tr>\n",
       "    <tr>\n",
       "      <th>1</th>\n",
       "      <td>GFcNYpLZYlcpBQNrVjMh8Q</td>\n",
       "      <td>4</td>\n",
       "      <td>What a fun place. Valet parking, a great outsi...</td>\n",
       "      <td>190</td>\n",
       "      <td>True</td>\n",
       "    </tr>\n",
       "    <tr>\n",
       "      <th>2</th>\n",
       "      <td>6ov3a4K8metST0LxtoJ4sA</td>\n",
       "      <td>3</td>\n",
       "      <td>My boyfriend and I dropped in for the first ti...</td>\n",
       "      <td>252</td>\n",
       "      <td>False</td>\n",
       "    </tr>\n",
       "    <tr>\n",
       "      <th>3</th>\n",
       "      <td>ahiXWr5mSXt9x0fbS4l-Cw</td>\n",
       "      <td>4</td>\n",
       "      <td>Excellent of breakfast or Sunday brunch! There...</td>\n",
       "      <td>326</td>\n",
       "      <td>True</td>\n",
       "    </tr>\n",
       "    <tr>\n",
       "      <th>4</th>\n",
       "      <td>9Ld-tBcjbtoMG-qx_l5G4A</td>\n",
       "      <td>4</td>\n",
       "      <td>I would actually give this place a 4.5 stars i...</td>\n",
       "      <td>2570</td>\n",
       "      <td>True</td>\n",
       "    </tr>\n",
       "  </tbody>\n",
       "</table>\n",
       "</div>"
      ],
      "text/plain": [
       "                review_id  stars  \\\n",
       "0  kMWkKrJkqHx5SW9sz_JEnw      5   \n",
       "1  GFcNYpLZYlcpBQNrVjMh8Q      4   \n",
       "2  6ov3a4K8metST0LxtoJ4sA      3   \n",
       "3  ahiXWr5mSXt9x0fbS4l-Cw      4   \n",
       "4  9Ld-tBcjbtoMG-qx_l5G4A      4   \n",
       "\n",
       "                                                text  review_length  \\\n",
       "0  The best service I had was here during my time...            300   \n",
       "1  What a fun place. Valet parking, a great outsi...            190   \n",
       "2  My boyfriend and I dropped in for the first ti...            252   \n",
       "3  Excellent of breakfast or Sunday brunch! There...            326   \n",
       "4  I would actually give this place a 4.5 stars i...           2570   \n",
       "\n",
       "   is_positive  \n",
       "0         True  \n",
       "1         True  \n",
       "2        False  \n",
       "3         True  \n",
       "4         True  "
      ]
     },
     "execution_count": 5,
     "metadata": {},
     "output_type": "execute_result"
    }
   ],
   "source": [
    "# to deal with the unbalanced data (and to make the classifier binary instead of multiclass), put ratings 4-5 as positive and ratings 1-3 as negative\n",
    "reviews['is_positive'] = reviews['stars'] > 3\n",
    "reviews.head()"
   ]
  },
  {
   "cell_type": "code",
   "execution_count": 6,
   "metadata": {},
   "outputs": [
    {
     "data": {
      "image/png": "[encoded data removed]",
      "text/plain": [
       "<Figure size 432x288 with 1 Axes>"
      ]
     },
     "metadata": {},
     "output_type": "display_data"
    }
   ],
   "source": [
    "ax = reviews['is_positive'].value_counts().plot(kind='bar')"
   ]
  },
  {
   "cell_type": "code",
   "execution_count": 7,
   "metadata": {},
   "outputs": [],
   "source": [
    "reviews['star_tuples'] = reviews.apply(lambda row: (row['text'], str(row['stars']) ), axis=1 )"
   ]
  },
  {
   "cell_type": "code",
   "execution_count": 8,
   "metadata": {},
   "outputs": [],
   "source": [
    "reviews['tuples'] = reviews.apply(\n",
    "    lambda row: (row['text'], row['is_positive']), axis=1)\n",
    "train = reviews['tuples'].tolist()"
   ]
  },
  {
   "cell_type": "code",
   "execution_count": 9,
   "metadata": {},
   "outputs": [
    {
     "data": {
      "text/plain": [
       "[('The best service I had was here during my time in Las Vegas. The al a cart sides were large enough to share family style. My filet was overcooked and the server had another one out to me in minutes. The martinis were wonderful in chilled glasses with blue cheese olives. The table settings beautiful.',\n",
       "  True),\n",
       " (\"What a fun place. Valet parking, a great outside covered patio shared by 4 great restos! Had lunch at Bario which was good and then played some ping pong in the yard. Can't wait to go again!\",\n",
       "  True),\n",
       " ('My boyfriend and I dropped in for the first time on a Sunday afternoon.  The atmosphere was nice and the restaurant was very clean.  Our server Dan was knowledgeable and pleasant. The food was average but good for the price. We will definately be back.',\n",
       "  False)]"
      ]
     },
     "execution_count": 9,
     "metadata": {},
     "output_type": "execute_result"
    }
   ],
   "source": [
    "train[:3]"
   ]
  },
  {
   "cell_type": "code",
   "execution_count": 10,
   "metadata": {},
   "outputs": [
    {
     "data": {
      "text/plain": [
       "[('Super!\\nMy 1st good meal in Phoenix !\\nSigh ...come with family so Chinese food everyday..sucks...\\n\\nGood as it said ..highly recommend...\\n\\nThe braised short rib pizza\\nPB&J smoothie',\n",
       "  True),\n",
       " ('12 of us went on a Friday night. There was a large variety of food ordered and everyone enjoyed their meals. I would give 5 stars but the server was not very attentive. Wine is included. Overall an awesome value for Vegas!',\n",
       "  True)]"
      ]
     },
     "execution_count": 10,
     "metadata": {},
     "output_type": "execute_result"
    }
   ],
   "source": [
    "train[-2:]"
   ]
  },
  {
   "cell_type": "code",
   "execution_count": 11,
   "metadata": {},
   "outputs": [
    {
     "data": {
      "text/html": [
       "<div>\n",
       "<style scoped>\n",
       "    .dataframe tbody tr th:only-of-type {\n",
       "        vertical-align: middle;\n",
       "    }\n",
       "\n",
       "    .dataframe tbody tr th {\n",
       "        vertical-align: top;\n",
       "    }\n",
       "\n",
       "    .dataframe thead th {\n",
       "        text-align: right;\n",
       "    }\n",
       "</style>\n",
       "<table border=\"1\" class=\"dataframe\">\n",
       "  <thead>\n",
       "    <tr style=\"text-align: right;\">\n",
       "      <th></th>\n",
       "      <th>review_id</th>\n",
       "      <th>stars</th>\n",
       "      <th>text</th>\n",
       "      <th>review_length</th>\n",
       "      <th>is_positive</th>\n",
       "      <th>star_tuples</th>\n",
       "      <th>tuples</th>\n",
       "    </tr>\n",
       "  </thead>\n",
       "  <tbody>\n",
       "    <tr>\n",
       "      <th>0</th>\n",
       "      <td>kMWkKrJkqHx5SW9sz_JEnw</td>\n",
       "      <td>5</td>\n",
       "      <td>The best service I had was here during my time...</td>\n",
       "      <td>300</td>\n",
       "      <td>True</td>\n",
       "      <td>(The best service I had was here during my tim...</td>\n",
       "      <td>(The best service I had was here during my tim...</td>\n",
       "    </tr>\n",
       "    <tr>\n",
       "      <th>1</th>\n",
       "      <td>GFcNYpLZYlcpBQNrVjMh8Q</td>\n",
       "      <td>4</td>\n",
       "      <td>What a fun place. Valet parking, a great outsi...</td>\n",
       "      <td>190</td>\n",
       "      <td>True</td>\n",
       "      <td>(What a fun place. Valet parking, a great outs...</td>\n",
       "      <td>(What a fun place. Valet parking, a great outs...</td>\n",
       "    </tr>\n",
       "    <tr>\n",
       "      <th>2</th>\n",
       "      <td>6ov3a4K8metST0LxtoJ4sA</td>\n",
       "      <td>3</td>\n",
       "      <td>My boyfriend and I dropped in for the first ti...</td>\n",
       "      <td>252</td>\n",
       "      <td>False</td>\n",
       "      <td>(My boyfriend and I dropped in for the first t...</td>\n",
       "      <td>(My boyfriend and I dropped in for the first t...</td>\n",
       "    </tr>\n",
       "    <tr>\n",
       "      <th>3</th>\n",
       "      <td>ahiXWr5mSXt9x0fbS4l-Cw</td>\n",
       "      <td>4</td>\n",
       "      <td>Excellent of breakfast or Sunday brunch! There...</td>\n",
       "      <td>326</td>\n",
       "      <td>True</td>\n",
       "      <td>(Excellent of breakfast or Sunday brunch! Ther...</td>\n",
       "      <td>(Excellent of breakfast or Sunday brunch! Ther...</td>\n",
       "    </tr>\n",
       "    <tr>\n",
       "      <th>4</th>\n",
       "      <td>9Ld-tBcjbtoMG-qx_l5G4A</td>\n",
       "      <td>4</td>\n",
       "      <td>I would actually give this place a 4.5 stars i...</td>\n",
       "      <td>2570</td>\n",
       "      <td>True</td>\n",
       "      <td>(I would actually give this place a 4.5 stars ...</td>\n",
       "      <td>(I would actually give this place a 4.5 stars ...</td>\n",
       "    </tr>\n",
       "  </tbody>\n",
       "</table>\n",
       "</div>"
      ],
      "text/plain": [
       "                review_id  stars  \\\n",
       "0  kMWkKrJkqHx5SW9sz_JEnw      5   \n",
       "1  GFcNYpLZYlcpBQNrVjMh8Q      4   \n",
       "2  6ov3a4K8metST0LxtoJ4sA      3   \n",
       "3  ahiXWr5mSXt9x0fbS4l-Cw      4   \n",
       "4  9Ld-tBcjbtoMG-qx_l5G4A      4   \n",
       "\n",
       "                                                text  review_length  \\\n",
       "0  The best service I had was here during my time...            300   \n",
       "1  What a fun place. Valet parking, a great outsi...            190   \n",
       "2  My boyfriend and I dropped in for the first ti...            252   \n",
       "3  Excellent of breakfast or Sunday brunch! There...            326   \n",
       "4  I would actually give this place a 4.5 stars i...           2570   \n",
       "\n",
       "   is_positive                                        star_tuples  \\\n",
       "0         True  (The best service I had was here during my tim...   \n",
       "1         True  (What a fun place. Valet parking, a great outs...   \n",
       "2        False  (My boyfriend and I dropped in for the first t...   \n",
       "3         True  (Excellent of breakfast or Sunday brunch! Ther...   \n",
       "4         True  (I would actually give this place a 4.5 stars ...   \n",
       "\n",
       "                                              tuples  \n",
       "0  (The best service I had was here during my tim...  \n",
       "1  (What a fun place. Valet parking, a great outs...  \n",
       "2  (My boyfriend and I dropped in for the first t...  \n",
       "3  (Excellent of breakfast or Sunday brunch! Ther...  \n",
       "4  (I would actually give this place a 4.5 stars ...  "
      ]
     },
     "execution_count": 11,
     "metadata": {},
     "output_type": "execute_result"
    }
   ],
   "source": [
    "reviews.head()"
   ]
  },
  {
   "cell_type": "markdown",
   "metadata": {},
   "source": [
    "## Functions for spaCy classification"
   ]
  },
  {
   "cell_type": "code",
   "execution_count": 12,
   "metadata": {},
   "outputs": [],
   "source": [
    "# get a list of labels into a format that spaCy can use\n",
    "def starcats_from_labels(labels, min_stars=1, max_stars=5):\n",
    "    return [\n",
    "            {str(star): str(star) == y \n",
    "            for star in range(min_stars, max_stars + 1)}\n",
    "            for y in labels\n",
    "           ]\n",
    "\n",
    "def poscats_from_labels(labels):\n",
    "    return [{'POSITIVE': y, 'NEGATIVE': not y} for y in labels]"
   ]
  },
  {
   "cell_type": "code",
   "execution_count": 13,
   "metadata": {},
   "outputs": [],
   "source": [
    "def load_data(train_list, limit=0, train_split=0.8, test_split=0, cat_function=poscats_from_labels):\n",
    "    \"\"\"\n",
    "    Given a list of data, return training data and validation data.\n",
    "    Limit is the total number of samples to use.\n",
    "    train_split is what percentage to use for training. test_split is what percentage to use for testing (the rest is for validation).\n",
    "    test_split is currently not used.\n",
    "    \n",
    "    Note: this assumes data is already shuffled (i.e., in random order)\n",
    "    \"\"\"\n",
    "    train_data = train_list[-limit:]\n",
    "    texts, labels = zip(*train_data)\n",
    "    cats = cat_function(labels)\n",
    "    split = int(len(train_data) * train_split)\n",
    "    return (texts[:split], cats[:split]), (texts[split:], cats[split:])\n",
    "\n",
    "def prepare_training(train, n_texts=0, train_split=0.8, test_split=0, labels=(\"POSITIVE\", \"NEGATIVE\"), \n",
    "                     cfg={\"exclusive_classes\": True, \"architecture\": \"simple_cnn\"}, cat_function=poscats_from_labels):\n",
    "    # train_split is what percentage to use for training. test_split is what percentage to use for testing (the rest is for validation).\n",
    "    # test_split is currently not used.\n",
    "    if not n_texts:\n",
    "        n_texts = len(train)\n",
    "    nlp = spacy.load(\"en_core_web_sm\")\n",
    "    # add the text classifier to the pipeline if it doesn't exist\n",
    "    # nlp.create_pipe works for built-ins that are registered with spaCy\n",
    "    # use config options from spacy training tutorial\n",
    "    if 'textcat' not in nlp.pipe_names:\n",
    "        textcat = nlp.create_pipe('textcat', config=cfg)\n",
    "        nlp.add_pipe(textcat, last=True)\n",
    "    # otherwise, get it, so we can add labels to it\n",
    "    else:\n",
    "        textcat = nlp.get_pipe('textcat')\n",
    "\n",
    "    # add labels to text classifier.\n",
    "    for label in labels:\n",
    "        textcat.add_label(label)\n",
    "\n",
    "    # load the dataset\n",
    "    print(\"Loading data...\")\n",
    "    (train_texts, train_cats), (dev_texts, dev_cats) = load_data(train, limit=n_texts, train_split=train_split,\n",
    "                                                                 test_split=test_split,\n",
    "                                                                cat_function=cat_function)\n",
    "    print(\"Using {} examples ({} training, {} evaluation)\"\n",
    "          .format(n_texts, len(train_texts), len(dev_texts)))\n",
    "    train_data = list(zip(train_texts,\n",
    "                          [{'cats': cats} for cats in train_cats]))\n",
    "    return train_data, nlp, (train_texts, train_cats), (dev_texts, dev_cats)\n",
    "\n",
    "def evaluate_binary(tokenizer, textcat, texts, cats, labels=None, positive_label=\"POSITIVE\"):\n",
    "    docs = (tokenizer(text) for text in texts)\n",
    "    tp = 1e-8  # True positives\n",
    "    fp = 1e-8  # False positives\n",
    "    fn = 1e-8  # False negatives\n",
    "    tn = 1e-8  # True negatives\n",
    "    for i, doc in enumerate(textcat.pipe(docs)):\n",
    "        gold = cats[i]  # gold for gold standard (the true label)\n",
    "        if not labels:\n",
    "            try:\n",
    "                labels = sorted(set(cats.keys()))\n",
    "            except AttributeError:\n",
    "                labels = sorted(set(cats))\n",
    "        if positive_label not in labels:\n",
    "            raise ValueError(\"Invalid labels for binary classification\")\n",
    "        for label, score in doc.cats.items():\n",
    "            if label not in gold:\n",
    "                continue\n",
    "            if label != positive_label:\n",
    "                continue\n",
    "            if score >= 0.5 and gold[label] >= 0.5:\n",
    "                tp += 1.\n",
    "            elif score >= 0.5 and gold[label] < 0.5:\n",
    "                fp += 1.\n",
    "            elif score < 0.5 and gold[label] < 0.5:\n",
    "                tn += 1\n",
    "            elif score < 0.5 and gold[label] >= 0.5:\n",
    "                fn += 1\n",
    "    # true positives + true negatives + false positives + false negatives should equal the number of documents,\n",
    "    # or we've done something wrong\n",
    "    assert isclose(tp + fp + tn + fn, len(texts)), (tp + fp + tn + fn, len(texts))\n",
    "    precision = tp / (tp + fp)\n",
    "    recall = tp / (tp + fn)\n",
    "    accuracy = (tp + tn) / (tp + tn + fp + fn)\n",
    "    f_score = 2 * (precision * recall) / (precision + recall)\n",
    "    cm = np.array([[tp, fn], [fp, tn]])\n",
    "    metrics = {'precision': precision, 'recall': recall, 'F': f_score,\n",
    "           'accuracy': accuracy, 'tp': tp, 'tn': tn, 'fp': fp, 'fn': fn}\n",
    "    print(metrics)\n",
    "    return {'precision': precision, 'recall': recall, 'F': f_score,\n",
    "           'accuracy': accuracy, 'tp': tp, 'tn': tn, 'fp': fp, 'fn': fn}, cm\n",
    "\n",
    "def evaluate_multiclass(tokenizer, textcat, texts, cats, labels=None):\n",
    "    if not labels:\n",
    "        try:\n",
    "            labels = sorted(set(cats.keys()))\n",
    "        except AttributeError:\n",
    "            labels = sorted(set(cats))\n",
    "    y_true = [key for entry in cats for key, value in entry.items() if value]\n",
    "    y_pred = []\n",
    "    docs = (tokenizer(text) for text in texts)\n",
    "\n",
    "    for i, doc in enumerate(textcat.pipe(docs)):\n",
    "        gold = cats[i]  # gold for gold standard (the true label)\n",
    "        # for multiclass, we will say that whatever the highest score is counts as the prediction.\n",
    "        max_score = max(doc.cats.values())\n",
    "        if list(doc.cats.values()).count(max_score) > 1:\n",
    "            raise ValueError(f'duplicate score: {max_score}')\n",
    "#         print(f\"doc {i}, max score {max_score}\")\n",
    "#         print(\"gold:\", gold)\n",
    "        for label, score in doc.cats.items():\n",
    "#             print(label, score)\n",
    "            if label not in gold:\n",
    "                continue\n",
    "#             print(label, score, 'gold')\n",
    "            if score == max_score:\n",
    "                y_pred.append(label)\n",
    "\n",
    "    # true positives + true negatives + false positives + false negatives should equal the number of documents,\n",
    "    # or we've done something wrong\n",
    "    assert len(y_true) == len(y_pred) == len(texts), (len(y_true), len(y_pred), len(texts))\n",
    "    \n",
    "    cm = confusion_matrix(y_true, y_pred)\n",
    "    print(classification_report(y_true, y_pred))\n",
    "    cr = classification_report(y_true, y_pred, output_dict=True)\n",
    "    metrics = dict()\n",
    "    \n",
    "    for key, value in cr.items():\n",
    "        if type(value) != dict:\n",
    "            metrics[key] = value\n",
    "        else:\n",
    "            for k, v in value.items():\n",
    "                # store data in long form\n",
    "                metrics[f\"{key.replace(' ', '-')}\"] = v\n",
    "                metrics[\"category\"] = k\n",
    "    \n",
    "    return metrics, cm"
   ]
  },
  {
   "cell_type": "code",
   "execution_count": 14,
   "metadata": {},
   "outputs": [],
   "source": [
    "def do_training(train_data, nlp, train_info, dev_info, n_iter=10, batch_sizes=None, drop=0.2,\n",
    "               evaluate=None, labels=(\"POSITIVE\", \"NEGATIVE\")):\n",
    "    if not batch_sizes:\n",
    "        batch_sizes = compounding(4.0, 32.0, 1.001)\n",
    "    if not evaluate:\n",
    "        if len(labels) > 2:\n",
    "            evaluate = evaluate_multiclass\n",
    "        else:\n",
    "            evaluate = evaluate_binary\n",
    "    # get names of other pipes to disable them during training\n",
    "    # the last two are for if you are using transformers (see https://spacy.io/models/en-starters)\n",
    "    pipe_exceptions = [\"textcat\", \"trf_wordpiecer\", \"trf_tok2vec\"]\n",
    "    other_pipes = [pipe for pipe in nlp.pipe_names if pipe not in pipe_exceptions]\n",
    "    train_texts, train_cats = train_info\n",
    "    dev_texts, dev_cats = dev_info\n",
    "\n",
    "#     headers = [\"iteration\", \"loss\", \"precision_train\", \"recall_train\", \"F_train\", \"accuracy_train\",\n",
    "#                       \"precision_validation\", \"recall_validation\", \"F_validation\", \"accuracy_validation\",]\n",
    "#     metrics = {header: [] for header in headers}\n",
    "    metrics = {'iteration': [], 'loss': [], 'cm_train': [], 'cm_validation': []}\n",
    "    textcat = nlp.get_pipe('textcat')\n",
    "\n",
    "    start = time.time()\n",
    "    with nlp.disable_pipes(*other_pipes):  # only train textcat\n",
    "        optimizer = nlp.begin_training()\n",
    "        print(\"Training the model...\")\n",
    "        print('\\tprecision\\trecall\\tF-score\\taccuracy')\n",
    "        batch_sizes = compounding(4.0, 32.0, 1.001)\n",
    "        for i in range(n_iter):\n",
    "            losses = {}\n",
    "            # batch up the examples using spaCy's minibatch\n",
    "            random.shuffle(train_data)\n",
    "            batches = minibatch(train_data, size=batch_sizes)\n",
    "            for batch in batches:\n",
    "                texts, annotations = zip(*batch)\n",
    "                nlp.update(texts, annotations, sgd=optimizer, drop=drop, losses=losses)\n",
    "            with textcat.model.use_params(optimizer.averages):\n",
    "                # evaluate on the dev data split off in load_data()\n",
    "                print(f\"iteration: {i}, loss: {losses['textcat']:.5f}\")\n",
    "                print(\"training scores, then validation scores\")\n",
    "                train_scores, train_cm = evaluate(nlp.tokenizer, textcat, train_texts, train_cats, labels=labels)\n",
    "                dev_scores, dev_cm = evaluate(nlp.tokenizer, textcat, dev_texts, dev_cats, labels=labels)\n",
    "#                 print(\n",
    "#                     f\"\"\"iteration: {i}, loss: {losses['textcat']:.5f}\n",
    "# training:   {train_scores['precision']:.5f}\\t{train_scores['recall']:.5f}\\t{train_scores['F']:.5f}\\t{train_scores['accuracy']:.5f}\n",
    "# validation: {dev_scores['precision']:.5f}\\t{dev_scores['recall']:.5f}\\t{dev_scores['F']:.5f}\\t{dev_scores['accuracy']:.5f}\n",
    "# \"\"\"\n",
    "#                 )\n",
    "                metrics['iteration'].append(i)\n",
    "                metrics['loss'].append(losses['textcat'])\n",
    "                for name, score_dict in zip(('train', 'validation'), (train_scores, dev_scores)):\n",
    "                    for key, val in score_dict.items():\n",
    "                        if f\"{key}_{name}\" not in metrics:\n",
    "                            metrics[f\"{key}_{name}\"] = []\n",
    "                        metrics[f\"{key}_{name}\"].append(val)\n",
    "                metrics['cm_train'].append(train_cm)\n",
    "                metrics['cm_validation'].append(dev_cm)\n",
    "\n",
    "    end = time.time()\n",
    "    training_time = timedelta(seconds = end - start)\n",
    "    print(\"Training time:\", training_time)\n",
    "    metrics = pd.DataFrame(metrics)\n",
    "    return metrics"
   ]
  },
  {
   "cell_type": "markdown",
   "metadata": {},
   "source": [
    "## Binary classifier (positive or negative)"
   ]
  },
  {
   "cell_type": "markdown",
   "metadata": {},
   "source": [
    "### Simple CNN"
   ]
  },
  {
   "cell_type": "code",
   "execution_count": 15,
   "metadata": {},
   "outputs": [
    {
     "name": "stdout",
     "output_type": "stream",
     "text": [
      "Loading data...\n",
      "Using 25000 examples (20000 training, 5000 evaluation)\n",
      "Training the model...\n",
      "\tprecision\trecall\tF-score\taccuracy\n",
      "iteration: 0, loss: 11.95441\n",
      "training scores, then validation scores\n",
      "{'precision': 0.9137558650474212, 'recall': 0.9387864411960535, 'F': 0.9261020531394533, 'accuracy': 0.9020999999991958, 'tp': 12269.00000001, 'tn': 5773.00000001, 'fp': 1158.00000001, 'fn': 800.00000001}\n",
      "{'precision': 0.8927927927904337, 'recall': 0.9173094723824912, 'F': 0.9048851011997876, 'accuracy': 0.8749999999970001, 'tp': 2973.00000001, 'tn': 1402.00000001, 'fp': 357.00000001, 'fn': 268.00000001}\n",
      "iteration: 1, loss: 0.11403\n",
      "training scores, then validation scores\n",
      "{'precision': 0.9368768273477218, 'recall': 0.9562323054549602, 'F': 0.9464556195085633, 'accuracy': 0.9292999999991414, 'tp': 12497.00000001, 'tn': 6089.00000001, 'fp': 842.00000001, 'fn': 572.00000001}\n",
      "{'precision': 0.8993672792985877, 'recall': 0.9210120333204505, 'F': 0.9100609756072557, 'accuracy': 0.881999999996944, 'tp': 2985.00000001, 'tn': 1425.00000001, 'fp': 334.00000001, 'fn': 256.00000001}\n",
      "iteration: 2, loss: 0.08321\n",
      "training scores, then validation scores\n",
      "{'precision': 0.948256467940835, 'recall': 0.9675568138335487, 'F': 0.9578094228140314, 'accuracy': 0.9442999999991113, 'tp': 12645.00000001, 'tn': 6241.00000001, 'fp': 690.00000001, 'fn': 424.00000001}\n",
      "{'precision': 0.9034108059136529, 'recall': 0.92348040727909, 'F': 0.9133353677118503, 'accuracy': 0.8863999999969089, 'tp': 2993.00000001, 'tn': 1439.00000001, 'fp': 320.00000001, 'fn': 248.00000001}\n",
      "iteration: 3, loss: 0.07267\n",
      "training scores, then validation scores\n",
      "{'precision': 0.9611174027928107, 'recall': 0.9740607544563867, 'F': 0.9675457931132211, 'accuracy': 0.9572999999990853, 'tp': 12730.00000001, 'tn': 6416.00000001, 'fp': 515.00000001, 'fn': 339.00000001}\n",
      "{'precision': 0.9069343065668678, 'recall': 0.9200863930859606, 'F': 0.9134630111783523, 'accuracy': 0.886999999996904, 'tp': 2982.00000001, 'tn': 1453.00000001, 'fp': 306.00000001, 'fn': 259.00000001}\n",
      "iteration: 4, loss: 0.06307\n",
      "training scores, then validation scores\n",
      "{'precision': 0.9730429485219722, 'recall': 0.9777335679845776, 'F': 0.9753826189832824, 'accuracy': 0.9677499999990644, 'tp': 12778.00000001, 'tn': 6577.00000001, 'fp': 354.00000001, 'fn': 291.00000001}\n",
      "{'precision': 0.9083946078406349, 'recall': 0.9148410984238516, 'F': 0.9116064565693368, 'accuracy': 0.88499999999692, 'tp': 2965.00000001, 'tn': 1460.00000001, 'fp': 299.00000001, 'fn': 276.00000001}\n",
      "iteration: 5, loss: 0.05476\n",
      "training scores, then validation scores\n",
      "{'precision': 0.980399633922391, 'recall': 0.9836253730193838, 'F': 0.9820098544738826, 'accuracy': 0.976449999999047, 'tp': 12855.00000001, 'tn': 6674.00000001, 'fp': 257.00000001, 'fn': 214.00000001}\n",
      "{'precision': 0.9088117899882787, 'recall': 0.9132983646997019, 'F': 0.9110495537063033, 'accuracy': 0.8843999999969249, 'tp': 2960.00000001, 'tn': 1462.00000001, 'fp': 297.00000001, 'fn': 281.00000001}\n",
      "iteration: 6, loss: 0.04686\n",
      "training scores, then validation scores\n",
      "{'precision': 0.9858713914762702, 'recall': 0.9877572882385985, 'F': 0.9868134388250784, 'accuracy': 0.9827499999990345, 'tp': 12909.00000001, 'tn': 6746.00000001, 'fp': 185.00000001, 'fn': 160.00000001}\n",
      "{'precision': 0.9084485407040955, 'recall': 0.9123727244652121, 'F': 0.9104064039383596, 'accuracy': 0.8835999999969313, 'tp': 2957.00000001, 'tn': 1461.00000001, 'fp': 298.00000001, 'fn': 284.00000001}\n",
      "iteration: 7, loss: 0.04001\n",
      "training scores, then validation scores\n",
      "{'precision': 0.9902979373560117, 'recall': 0.9918892034578133, 'F': 0.9910929316862401, 'accuracy': 0.9883499999990232, 'tp': 12963.00000001, 'tn': 6804.00000001, 'fp': 127.00000001000001, 'fn': 106.00000001000001}\n",
      "{'precision': 0.9075836659477582, 'recall': 0.9120641777203822, 'F': 0.9098184056607583, 'accuracy': 0.8827999999969376, 'tp': 2956.00000001, 'tn': 1458.00000001, 'fp': 301.00000001, 'fn': 285.00000001}\n",
      "iteration: 8, loss: 0.03651\n",
      "training scores, then validation scores\n",
      "{'precision': 0.9931229464346403, 'recall': 0.9944907797069484, 'F': 0.993806392413987, 'accuracy': 0.9918999999990161, 'tp': 12997.00000001, 'tn': 6841.00000001, 'fp': 90.00000001000001, 'fn': 72.00000001000001}\n",
      "{'precision': 0.9056661561996591, 'recall': 0.9123727244652121, 'F': 0.9090070703940424, 'accuracy': 0.8815999999969473, 'tp': 2957.00000001, 'tn': 1451.00000001, 'fp': 308.00000001, 'fn': 284.00000001}\n",
      "iteration: 9, loss: 0.03204\n",
      "training scores, then validation scores\n",
      "{'precision': 0.9948792418213163, 'recall': 0.996021118677028, 'F': 0.9954498527885971, 'accuracy': 0.9940499999990118, 'tp': 13017.00000001, 'tn': 6864.00000001, 'fp': 67.00000001000001, 'fn': 52.00000001}\n",
      "{'precision': 0.9047619047594337, 'recall': 0.9145325516790217, 'F': 0.9096209912511302, 'accuracy': 0.8821999999969424, 'tp': 2964.00000001, 'tn': 1447.00000001, 'fp': 312.00000001, 'fn': 277.00000001}\n",
      "Training time: 0:33:00.681075\n"
     ]
    }
   ],
   "source": [
    "train_data, nlp, train_info, dev_info = prepare_training(train, n_texts=25000, train_split=0.8)\n",
    "metrics_small = do_training(train_data, nlp, train_info, dev_info, labels=('POSITIVE', 'NEGATIVE'), n_iter=10)"
   ]
  },
  {
   "cell_type": "code",
   "execution_count": 16,
   "metadata": {},
   "outputs": [
    {
     "data": {
      "text/html": [
       "<div>\n",
       "<style scoped>\n",
       "    .dataframe tbody tr th:only-of-type {\n",
       "        vertical-align: middle;\n",
       "    }\n",
       "\n",
       "    .dataframe tbody tr th {\n",
       "        vertical-align: top;\n",
       "    }\n",
       "\n",
       "    .dataframe thead th {\n",
       "        text-align: right;\n",
       "    }\n",
       "</style>\n",
       "<table border=\"1\" class=\"dataframe\">\n",
       "  <thead>\n",
       "    <tr style=\"text-align: right;\">\n",
       "      <th></th>\n",
       "      <th>iteration</th>\n",
       "      <th>loss</th>\n",
       "      <th>cm_train</th>\n",
       "      <th>cm_validation</th>\n",
       "      <th>precision_train</th>\n",
       "      <th>recall_train</th>\n",
       "      <th>F_train</th>\n",
       "      <th>accuracy_train</th>\n",
       "      <th>tp_train</th>\n",
       "      <th>tn_train</th>\n",
       "      <th>fp_train</th>\n",
       "      <th>fn_train</th>\n",
       "      <th>precision_validation</th>\n",
       "      <th>recall_validation</th>\n",
       "      <th>F_validation</th>\n",
       "      <th>accuracy_validation</th>\n",
       "      <th>tp_validation</th>\n",
       "      <th>tn_validation</th>\n",
       "      <th>fp_validation</th>\n",
       "      <th>fn_validation</th>\n",
       "    </tr>\n",
       "  </thead>\n",
       "  <tbody>\n",
       "    <tr>\n",
       "      <th>0</th>\n",
       "      <td>0</td>\n",
       "      <td>11.954414</td>\n",
       "      <td>[[12269.00000001, 800.00000001], [1158.0000000...</td>\n",
       "      <td>[[2973.00000001, 268.00000001], [357.00000001,...</td>\n",
       "      <td>0.913756</td>\n",
       "      <td>0.938786</td>\n",
       "      <td>0.926102</td>\n",
       "      <td>0.90210</td>\n",
       "      <td>12269.0</td>\n",
       "      <td>5773.0</td>\n",
       "      <td>1158.0</td>\n",
       "      <td>800.0</td>\n",
       "      <td>0.892793</td>\n",
       "      <td>0.917309</td>\n",
       "      <td>0.904885</td>\n",
       "      <td>0.8750</td>\n",
       "      <td>2973.0</td>\n",
       "      <td>1402.0</td>\n",
       "      <td>357.0</td>\n",
       "      <td>268.0</td>\n",
       "    </tr>\n",
       "    <tr>\n",
       "      <th>1</th>\n",
       "      <td>1</td>\n",
       "      <td>0.114034</td>\n",
       "      <td>[[12497.00000001, 572.00000001], [842.00000001...</td>\n",
       "      <td>[[2985.00000001, 256.00000001], [334.00000001,...</td>\n",
       "      <td>0.936877</td>\n",
       "      <td>0.956232</td>\n",
       "      <td>0.946456</td>\n",
       "      <td>0.92930</td>\n",
       "      <td>12497.0</td>\n",
       "      <td>6089.0</td>\n",
       "      <td>842.0</td>\n",
       "      <td>572.0</td>\n",
       "      <td>0.899367</td>\n",
       "      <td>0.921012</td>\n",
       "      <td>0.910061</td>\n",
       "      <td>0.8820</td>\n",
       "      <td>2985.0</td>\n",
       "      <td>1425.0</td>\n",
       "      <td>334.0</td>\n",
       "      <td>256.0</td>\n",
       "    </tr>\n",
       "    <tr>\n",
       "      <th>2</th>\n",
       "      <td>2</td>\n",
       "      <td>0.083212</td>\n",
       "      <td>[[12645.00000001, 424.00000001], [690.00000001...</td>\n",
       "      <td>[[2993.00000001, 248.00000001], [320.00000001,...</td>\n",
       "      <td>0.948256</td>\n",
       "      <td>0.967557</td>\n",
       "      <td>0.957809</td>\n",
       "      <td>0.94430</td>\n",
       "      <td>12645.0</td>\n",
       "      <td>6241.0</td>\n",
       "      <td>690.0</td>\n",
       "      <td>424.0</td>\n",
       "      <td>0.903411</td>\n",
       "      <td>0.923480</td>\n",
       "      <td>0.913335</td>\n",
       "      <td>0.8864</td>\n",
       "      <td>2993.0</td>\n",
       "      <td>1439.0</td>\n",
       "      <td>320.0</td>\n",
       "      <td>248.0</td>\n",
       "    </tr>\n",
       "    <tr>\n",
       "      <th>3</th>\n",
       "      <td>3</td>\n",
       "      <td>0.072667</td>\n",
       "      <td>[[12730.00000001, 339.00000001], [515.00000001...</td>\n",
       "      <td>[[2982.00000001, 259.00000001], [306.00000001,...</td>\n",
       "      <td>0.961117</td>\n",
       "      <td>0.974061</td>\n",
       "      <td>0.967546</td>\n",
       "      <td>0.95730</td>\n",
       "      <td>12730.0</td>\n",
       "      <td>6416.0</td>\n",
       "      <td>515.0</td>\n",
       "      <td>339.0</td>\n",
       "      <td>0.906934</td>\n",
       "      <td>0.920086</td>\n",
       "      <td>0.913463</td>\n",
       "      <td>0.8870</td>\n",
       "      <td>2982.0</td>\n",
       "      <td>1453.0</td>\n",
       "      <td>306.0</td>\n",
       "      <td>259.0</td>\n",
       "    </tr>\n",
       "    <tr>\n",
       "      <th>4</th>\n",
       "      <td>4</td>\n",
       "      <td>0.063066</td>\n",
       "      <td>[[12778.00000001, 291.00000001], [354.00000001...</td>\n",
       "      <td>[[2965.00000001, 276.00000001], [299.00000001,...</td>\n",
       "      <td>0.973043</td>\n",
       "      <td>0.977734</td>\n",
       "      <td>0.975383</td>\n",
       "      <td>0.96775</td>\n",
       "      <td>12778.0</td>\n",
       "      <td>6577.0</td>\n",
       "      <td>354.0</td>\n",
       "      <td>291.0</td>\n",
       "      <td>0.908395</td>\n",
       "      <td>0.914841</td>\n",
       "      <td>0.911606</td>\n",
       "      <td>0.8850</td>\n",
       "      <td>2965.0</td>\n",
       "      <td>1460.0</td>\n",
       "      <td>299.0</td>\n",
       "      <td>276.0</td>\n",
       "    </tr>\n",
       "  </tbody>\n",
       "</table>\n",
       "</div>"
      ],
      "text/plain": [
       "   iteration       loss                                           cm_train  \\\n",
       "0          0  11.954414  [[12269.00000001, 800.00000001], [1158.0000000...   \n",
       "1          1   0.114034  [[12497.00000001, 572.00000001], [842.00000001...   \n",
       "2          2   0.083212  [[12645.00000001, 424.00000001], [690.00000001...   \n",
       "3          3   0.072667  [[12730.00000001, 339.00000001], [515.00000001...   \n",
       "4          4   0.063066  [[12778.00000001, 291.00000001], [354.00000001...   \n",
       "\n",
       "                                       cm_validation  precision_train  \\\n",
       "0  [[2973.00000001, 268.00000001], [357.00000001,...         0.913756   \n",
       "1  [[2985.00000001, 256.00000001], [334.00000001,...         0.936877   \n",
       "2  [[2993.00000001, 248.00000001], [320.00000001,...         0.948256   \n",
       "3  [[2982.00000001, 259.00000001], [306.00000001,...         0.961117   \n",
       "4  [[2965.00000001, 276.00000001], [299.00000001,...         0.973043   \n",
       "\n",
       "   recall_train   F_train  accuracy_train  tp_train  tn_train  fp_train  \\\n",
       "0      0.938786  0.926102         0.90210   12269.0    5773.0    1158.0   \n",
       "1      0.956232  0.946456         0.92930   12497.0    6089.0     842.0   \n",
       "2      0.967557  0.957809         0.94430   12645.0    6241.0     690.0   \n",
       "3      0.974061  0.967546         0.95730   12730.0    6416.0     515.0   \n",
       "4      0.977734  0.975383         0.96775   12778.0    6577.0     354.0   \n",
       "\n",
       "   fn_train  precision_validation  recall_validation  F_validation  \\\n",
       "0     800.0              0.892793           0.917309      0.904885   \n",
       "1     572.0              0.899367           0.921012      0.910061   \n",
       "2     424.0              0.903411           0.923480      0.913335   \n",
       "3     339.0              0.906934           0.920086      0.913463   \n",
       "4     291.0              0.908395           0.914841      0.911606   \n",
       "\n",
       "   accuracy_validation  tp_validation  tn_validation  fp_validation  \\\n",
       "0               0.8750         2973.0         1402.0          357.0   \n",
       "1               0.8820         2985.0         1425.0          334.0   \n",
       "2               0.8864         2993.0         1439.0          320.0   \n",
       "3               0.8870         2982.0         1453.0          306.0   \n",
       "4               0.8850         2965.0         1460.0          299.0   \n",
       "\n",
       "   fn_validation  \n",
       "0          268.0  \n",
       "1          256.0  \n",
       "2          248.0  \n",
       "3          259.0  \n",
       "4          276.0  "
      ]
     },
     "execution_count": 16,
     "metadata": {},
     "output_type": "execute_result"
    }
   ],
   "source": [
    "metrics_small.head()"
   ]
  },
  {
   "cell_type": "code",
   "execution_count": 17,
   "metadata": {},
   "outputs": [
    {
     "data": {
      "text/plain": [
       "<matplotlib.axes._subplots.AxesSubplot at 0x7fb58054eda0>"
      ]
     },
     "execution_count": 17,
     "metadata": {},
     "output_type": "execute_result"
    },
    {
     "data": {
      "image/png": "[encoded data removed]",
      "text/plain": [
       "<Figure size 432x288 with 1 Axes>"
      ]
     },
     "metadata": {},
     "output_type": "display_data"
    }
   ],
   "source": [
    "metrics_small.plot(x='iteration', y='loss')"
   ]
  },
  {
   "cell_type": "code",
   "execution_count": 18,
   "metadata": {},
   "outputs": [
    {
     "data": {
      "image/png": "[encoded data removed]",
      "text/plain": [
       "<Figure size 432x288 with 1 Axes>"
      ]
     },
     "metadata": {},
     "output_type": "display_data"
    },
    {
     "data": {
      "image/png": "[encoded data removed]",
      "text/plain": [
       "<Figure size 432x288 with 1 Axes>"
      ]
     },
     "metadata": {},
     "output_type": "display_data"
    },
    {
     "data": {
      "image/png": "[encoded data removed]",
      "text/plain": [
       "<Figure size 432x288 with 1 Axes>"
      ]
     },
     "metadata": {},
     "output_type": "display_data"
    },
    {
     "data": {
      "image/png": "[encoded data removed]",
      "text/plain": [
       "<Figure size 432x288 with 1 Axes>"
      ]
     },
     "metadata": {},
     "output_type": "display_data"
    }
   ],
   "source": [
    "for metric in [\"precision\", \"recall\", \"accuracy\", \"F\"]:\n",
    "    ax = metrics_small.plot(x=\"iteration\", y=f\"{metric}_train\")\n",
    "    metrics_small.plot(x=\"iteration\", y=f\"{metric}_validation\", ax=ax)"
   ]
  },
  {
   "cell_type": "code",
   "execution_count": 19,
   "metadata": {},
   "outputs": [],
   "source": [
    "def plot_cm(cm, percent=True, labels=('POSITIVE', 'NEGATIVE'), title=\"Confusion Matrix\"):\n",
    "    # from https://stackoverflow.com/questions/19233771/sklearn-plot-confusion-matrix-with-labels/48018785\n",
    "    if percent:\n",
    "        matrix = cm / cm.sum()\n",
    "    else:\n",
    "        matrix = cm\n",
    "    ax = plt.subplot()\n",
    "    sns.heatmap(matrix, annot=True, ax = ax); #annot=True to annotate cells\n",
    "\n",
    "    # labels, title and ticks\n",
    "    ax.set_xlabel('Predicted labels')\n",
    "    ax.set_ylabel('True labels')\n",
    "    ax.set_title(title)\n",
    "    ax.xaxis.set_ticklabels(labels)\n",
    "    ax.yaxis.set_ticklabels(labels)"
   ]
  },
  {
   "cell_type": "code",
   "execution_count": 20,
   "metadata": {},
   "outputs": [
    {
     "data": {
      "image/png": "[encoded data removed]",
      "text/plain": [
       "<Figure size 432x288 with 2 Axes>"
      ]
     },
     "metadata": {},
     "output_type": "display_data"
    }
   ],
   "source": [
    "# iloc[-1] gets the last row (i.e., the most recent iteration)\n",
    "plot_cm(metrics_small['cm_train'].iloc[-1], title=\"Confusion Matrix (training)\")"
   ]
  },
  {
   "cell_type": "code",
   "execution_count": 21,
   "metadata": {},
   "outputs": [
    {
     "data": {
      "image/png": "[encoded data removed]",
      "text/plain": [
       "<Figure size 432x288 with 2 Axes>"
      ]
     },
     "metadata": {},
     "output_type": "display_data"
    }
   ],
   "source": [
    "plot_cm(metrics_small['cm_validation'].iloc[-1], title=\"Confusion Matrix (validation)\")"
   ]
  },
  {
   "cell_type": "markdown",
   "metadata": {},
   "source": [
    "Did our validation set have a different percentage of positive examples than our test set?"
   ]
  },
  {
   "cell_type": "code",
   "execution_count": 22,
   "metadata": {},
   "outputs": [
    {
     "name": "stdout",
     "output_type": "stream",
     "text": [
      "13069 positive examples, 6931 negative examples, 65.34% positive\n"
     ]
    }
   ],
   "source": [
    "_, train_cats = train_info\n",
    "num_n = 0\n",
    "for row in train_cats:\n",
    "    for key, value in row.items():\n",
    "        if key == 'NEGATIVE' and value is True:\n",
    "            num_n += 1\n",
    "num_p = len(train_cats) - num_n\n",
    "print(f\"{num_p} positive examples, {num_n} negative examples, {num_p/len(train_cats)*100:.2f}% positive\")"
   ]
  },
  {
   "cell_type": "code",
   "execution_count": 23,
   "metadata": {
    "scrolled": true
   },
   "outputs": [
    {
     "name": "stdout",
     "output_type": "stream",
     "text": [
      "3241 positive examples, 1759 negative examples, 64.82% positive\n"
     ]
    }
   ],
   "source": [
    "_, dev_cats = dev_info\n",
    "dev_n = 0\n",
    "dev_p = 0\n",
    "for row in dev_cats:\n",
    "    for key, value in row.items():\n",
    "        if key == 'NEGATIVE' and value is True:\n",
    "            dev_n += 1\n",
    "dev_p = len(dev_cats) - dev_n\n",
    "print(f\"{dev_p} positive examples, {dev_n} negative examples, {dev_p/len(dev_cats)*100:.2f}% positive\")"
   ]
  },
  {
   "cell_type": "markdown",
   "metadata": {},
   "source": [
    "### Bag of words"
   ]
  },
  {
   "cell_type": "code",
   "execution_count": 24,
   "metadata": {},
   "outputs": [
    {
     "name": "stdout",
     "output_type": "stream",
     "text": [
      "Loading data...\n",
      "Using 25000 examples (20000 training, 5000 evaluation)\n",
      "Training the model...\n",
      "\tprecision\trecall\tF-score\taccuracy\n",
      "iteration: 0, loss: 11.17903\n",
      "training scores, then validation scores\n",
      "{'precision': 0.9164082114895636, 'recall': 0.9495753309351143, 'F': 0.9326970049972827, 'accuracy': 0.9104499999991791, 'tp': 12410.00000001, 'tn': 5799.00000001, 'fp': 1132.00000001, 'fn': 659.00000001}\n",
      "{'precision': 0.8842606367129767, 'recall': 0.9170009256376612, 'F': 0.9003332323514066, 'accuracy': 0.8683999999970529, 'tp': 2972.00000001, 'tn': 1370.00000001, 'fp': 389.00000001, 'fn': 269.00000001}\n",
      "iteration: 1, loss: 0.11769\n",
      "training scores, then validation scores\n",
      "{'precision': 0.9323001631314959, 'recall': 0.9620475935412623, 'F': 0.9469403125581668, 'accuracy': 0.9295499999991408, 'tp': 12573.00000001, 'tn': 6018.00000001, 'fp': 913.00000001, 'fn': 496.00000001}\n",
      "{'precision': 0.8878338278908734, 'recall': 0.92317186053426, 'F': 0.9051580698810759, 'accuracy': 0.8745999999970032, 'tp': 2992.00000001, 'tn': 1381.00000001, 'fp': 378.00000001, 'fn': 249.00000001}\n",
      "iteration: 2, loss: 0.08709\n",
      "training scores, then validation scores\n",
      "{'precision': 0.943486375512589, 'recall': 0.9670211951940209, 'F': 0.9551088270851644, 'accuracy': 0.9405999999991187, 'tp': 12638.00000001, 'tn': 6174.00000001, 'fp': 757.00000001, 'fn': 431.00000001}\n",
      "{'precision': 0.8900149031273322, 'recall': 0.9213205800652804, 'F': 0.9053972104281055, 'accuracy': 0.8751999999969984, 'tp': 2986.00000001, 'tn': 1390.00000001, 'fp': 369.00000001, 'fn': 255.00000001}\n",
      "iteration: 3, loss: 0.08043\n",
      "training scores, then validation scores\n",
      "{'precision': 0.9496338364961147, 'recall': 0.9723773815892992, 'F': 0.960871044572287, 'accuracy': 0.9482499999991034, 'tp': 12708.00000001, 'tn': 6257.00000001, 'fp': 674.00000001, 'fn': 361.00000001}\n",
      "{'precision': 0.8854012437051502, 'recall': 0.9225547670446002, 'F': 0.903596252641864, 'accuracy': 0.8723999999970208, 'tp': 2990.00000001, 'tn': 1372.00000001, 'fp': 387.00000001, 'fn': 251.00000001}\n",
      "iteration: 4, loss: 0.07506\n",
      "training scores, then validation scores\n",
      "{'precision': 0.956466261351863, 'recall': 0.9750554747869384, 'F': 0.9656714155797731, 'accuracy': 0.9546999999990905, 'tp': 12743.00000001, 'tn': 6351.00000001, 'fp': 580.00000001, 'fn': 326.00000001}\n",
      "{'precision': 0.8891537544672875, 'recall': 0.9207034865756205, 'F': 0.9046536304356244, 'accuracy': 0.8741999999970065, 'tp': 2984.00000001, 'tn': 1387.00000001, 'fp': 372.00000001, 'fn': 257.00000001}\n",
      "iteration: 5, loss: 0.06944\n",
      "training scores, then validation scores\n",
      "{'precision': 0.9597053074718693, 'recall': 0.9768153646025298, 'F': 0.9681847483971512, 'accuracy': 0.9580499999990838, 'tp': 12766.00000001, 'tn': 6395.00000001, 'fp': 536.00000001, 'fn': 303.00000001}\n",
      "{'precision': 0.8907512720718902, 'recall': 0.918235112616981, 'F': 0.9042844120303599, 'accuracy': 0.8739999999970081, 'tp': 2976.00000001, 'tn': 1394.00000001, 'fp': 365.00000001, 'fn': 265.00000001}\n",
      "iteration: 6, loss: 0.06470\n",
      "training scores, then validation scores\n",
      "{'precision': 0.9629768981857731, 'recall': 0.9791873900061532, 'F': 0.9710144927529083, 'accuracy': 0.9617999999990763, 'tp': 12797.00000001, 'tn': 6439.00000001, 'fp': 492.00000001, 'fn': 272.00000001}\n",
      "{'precision': 0.8916566626627151, 'recall': 0.9166923788928313, 'F': 0.9040012170978001, 'accuracy': 0.8737999999970096, 'tp': 2971.00000001, 'tn': 1398.00000001, 'fp': 361.00000001, 'fn': 270.00000001}\n",
      "iteration: 7, loss: 0.06040\n",
      "training scores, then validation scores\n",
      "{'precision': 0.965818400842545, 'recall': 0.9815594154097764, 'F': 0.9736252893621135, 'accuracy': 0.9652499999990695, 'tp': 12828.00000001, 'tn': 6477.00000001, 'fp': 454.00000001, 'fn': 241.00000001}\n",
      "{'precision': 0.8881578947345206, 'recall': 0.9163838321480013, 'F': 0.9020501138927742, 'accuracy': 0.870999999997032, 'tp': 2970.00000001, 'tn': 1385.00000001, 'fp': 374.00000001, 'fn': 271.00000001}\n",
      "iteration: 8, loss: 0.05814\n",
      "training scores, then validation scores\n",
      "{'precision': 0.9697129909358463, 'recall': 0.9824011018433202, 'F': 0.9760158120787927, 'accuracy': 0.968449999999063, 'tp': 12839.00000001, 'tn': 6530.00000001, 'fp': 401.00000001, 'fn': 230.00000001}\n",
      "{'precision': 0.891330523778499, 'recall': 0.9136069114445319, 'F': 0.9023312509498563, 'accuracy': 0.8717999999970256, 'tp': 2961.00000001, 'tn': 1398.00000001, 'fp': 361.00000001, 'fn': 280.00000001}\n",
      "iteration: 9, loss: 0.05633\n",
      "training scores, then validation scores\n",
      "{'precision': 0.9719576719569585, 'recall': 0.9839314408133997, 'F': 0.9779079052428185, 'accuracy': 0.9709499999990581, 'tp': 12859.00000001, 'tn': 6560.00000001, 'fp': 371.00000001, 'fn': 210.00000001}\n",
      "{'precision': 0.8894216361978459, 'recall': 0.9157667386583415, 'F': 0.9024019458777598, 'accuracy': 0.8715999999970272, 'tp': 2968.00000001, 'tn': 1390.00000001, 'fp': 369.00000001, 'fn': 273.00000001}\n",
      "Training time: 0:03:48.531247\n"
     ]
    }
   ],
   "source": [
    "train_data, nlp, train_info, dev_info = prepare_training(train, n_texts=25000, train_split=0.8, cfg={\"exclusive_classes\": True, \"architecture\": \"bow\"})\n",
    "metrics_small = do_training(train_data, nlp, train_info, dev_info, labels=('POSITIVE', 'NEGATIVE'), n_iter=10)"
   ]
  },
  {
   "cell_type": "code",
   "execution_count": 25,
   "metadata": {},
   "outputs": [
    {
     "data": {
      "image/png": "[encoded data removed]",
      "text/plain": [
       "<Figure size 432x288 with 1 Axes>"
      ]
     },
     "metadata": {},
     "output_type": "display_data"
    },
    {
     "data": {
      "image/png": "[encoded data removed]",
      "text/plain": [
       "<Figure size 432x288 with 1 Axes>"
      ]
     },
     "metadata": {},
     "output_type": "display_data"
    },
    {
     "data": {
      "image/png": "[encoded data removed]",
      "text/plain": [
       "<Figure size 432x288 with 1 Axes>"
      ]
     },
     "metadata": {},
     "output_type": "display_data"
    },
    {
     "data": {
      "image/png": "[encoded data removed]",
      "text/plain": [
       "<Figure size 432x288 with 1 Axes>"
      ]
     },
     "metadata": {},
     "output_type": "display_data"
    },
    {
     "data": {
      "image/png": "[encoded data removed]",
      "text/plain": [
       "<Figure size 432x288 with 1 Axes>"
      ]
     },
     "metadata": {},
     "output_type": "display_data"
    }
   ],
   "source": [
    "metrics_small.plot(x='iteration', y='loss')\n",
    "for metric in [\"precision\", \"recall\", \"accuracy\", \"F\"]:\n",
    "    ax = metrics_small.plot(x=\"iteration\", y=f\"{metric}_train\")\n",
    "    metrics_small.plot(x=\"iteration\", y=f\"{metric}_validation\", ax=ax)"
   ]
  },
  {
   "cell_type": "code",
   "execution_count": 26,
   "metadata": {},
   "outputs": [
    {
     "data": {
      "image/png": "[encoded data removed]",
      "text/plain": [
       "<Figure size 432x288 with 2 Axes>"
      ]
     },
     "metadata": {},
     "output_type": "display_data"
    }
   ],
   "source": [
    "plot_cm(metrics_small['cm_train'].iloc[-1], title=\"Confusion Matrix (training)\")"
   ]
  },
  {
   "cell_type": "code",
   "execution_count": 27,
   "metadata": {},
   "outputs": [
    {
     "data": {
      "image/png": "[encoded data removed]",
      "text/plain": [
       "<Figure size 432x288 with 2 Axes>"
      ]
     },
     "metadata": {},
     "output_type": "display_data"
    }
   ],
   "source": [
    "plot_cm(metrics_small['cm_validation'].iloc[-1], title=\"Confusion Matrix (validation)\")"
   ]
  },
  {
   "cell_type": "markdown",
   "metadata": {},
   "source": [
    "## Multiclass classification (star rating)"
   ]
  },
  {
   "cell_type": "markdown",
   "metadata": {},
   "source": [
    "### Bag of words"
   ]
  },
  {
   "cell_type": "code",
   "execution_count": 28,
   "metadata": {},
   "outputs": [],
   "source": [
    "train_star = reviews['star_tuples'].tolist()"
   ]
  },
  {
   "cell_type": "code",
   "execution_count": 29,
   "metadata": {},
   "outputs": [
    {
     "name": "stdout",
     "output_type": "stream",
     "text": [
      "Loading data...\n",
      "Using 25000 examples (20000 training, 5000 evaluation)\n",
      "Training the model...\n",
      "\tprecision\trecall\tF-score\taccuracy\n",
      "iteration: 0, loss: 24.22466\n",
      "training scores, then validation scores\n",
      "              precision    recall  f1-score   support\n",
      "\n",
      "           1       0.77      0.81      0.79      2462\n",
      "           2       0.71      0.48      0.57      1864\n",
      "           3       0.65      0.52      0.57      2605\n",
      "           4       0.64      0.60      0.62      5225\n",
      "           5       0.74      0.88      0.80      7844\n",
      "\n",
      "    accuracy                           0.71     20000\n",
      "   macro avg       0.70      0.65      0.67     20000\n",
      "weighted avg       0.70      0.71      0.70     20000\n",
      "\n",
      "              precision    recall  f1-score   support\n",
      "\n",
      "           1       0.64      0.71      0.67       559\n",
      "           2       0.43      0.23      0.30       513\n",
      "           3       0.44      0.33      0.38       687\n",
      "           4       0.47      0.48      0.48      1280\n",
      "           5       0.69      0.81      0.75      1961\n",
      "\n",
      "    accuracy                           0.59      5000\n",
      "   macro avg       0.53      0.51      0.51      5000\n",
      "weighted avg       0.57      0.59      0.57      5000\n",
      "\n",
      "iteration: 1, loss: 0.32837\n",
      "training scores, then validation scores\n",
      "              precision    recall  f1-score   support\n",
      "\n",
      "           1       0.82      0.86      0.84      2462\n",
      "           2       0.77      0.60      0.67      1864\n",
      "           3       0.73      0.61      0.66      2605\n",
      "           4       0.71      0.66      0.68      5225\n",
      "           5       0.78      0.90      0.84      7844\n",
      "\n",
      "    accuracy                           0.76     20000\n",
      "   macro avg       0.76      0.72      0.74     20000\n",
      "weighted avg       0.76      0.76      0.76     20000\n",
      "\n",
      "              precision    recall  f1-score   support\n",
      "\n",
      "           1       0.64      0.72      0.68       559\n",
      "           2       0.43      0.27      0.33       513\n",
      "           3       0.44      0.33      0.38       687\n",
      "           4       0.48      0.47      0.48      1280\n",
      "           5       0.70      0.81      0.75      1961\n",
      "\n",
      "    accuracy                           0.59      5000\n",
      "   macro avg       0.54      0.52      0.52      5000\n",
      "weighted avg       0.57      0.59      0.58      5000\n",
      "\n",
      "iteration: 2, loss: 0.24388\n",
      "training scores, then validation scores\n",
      "              precision    recall  f1-score   support\n",
      "\n",
      "           1       0.85      0.89      0.87      2462\n",
      "           2       0.82      0.67      0.74      1864\n",
      "           3       0.77      0.68      0.72      2605\n",
      "           4       0.76      0.70      0.73      5225\n",
      "           5       0.81      0.91      0.86      7844\n",
      "\n",
      "    accuracy                           0.80     20000\n",
      "   macro avg       0.80      0.77      0.78     20000\n",
      "weighted avg       0.80      0.80      0.80     20000\n",
      "\n",
      "              precision    recall  f1-score   support\n",
      "\n",
      "           1       0.64      0.73      0.68       559\n",
      "           2       0.41      0.26      0.32       513\n",
      "           3       0.44      0.36      0.39       687\n",
      "           4       0.48      0.47      0.47      1280\n",
      "           5       0.71      0.80      0.75      1961\n",
      "\n",
      "    accuracy                           0.59      5000\n",
      "   macro avg       0.53      0.52      0.52      5000\n",
      "weighted avg       0.57      0.59      0.58      5000\n",
      "\n",
      "iteration: 3, loss: 0.22658\n",
      "training scores, then validation scores\n",
      "              precision    recall  f1-score   support\n",
      "\n",
      "           1       0.87      0.91      0.89      2462\n",
      "           2       0.85      0.73      0.79      1864\n",
      "           3       0.82      0.71      0.76      2605\n",
      "           4       0.78      0.73      0.75      5225\n",
      "           5       0.83      0.92      0.87      7844\n",
      "\n",
      "    accuracy                           0.82     20000\n",
      "   macro avg       0.83      0.80      0.81     20000\n",
      "weighted avg       0.82      0.82      0.82     20000\n",
      "\n",
      "              precision    recall  f1-score   support\n",
      "\n",
      "           1       0.64      0.74      0.68       559\n",
      "           2       0.42      0.26      0.32       513\n",
      "           3       0.43      0.35      0.38       687\n",
      "           4       0.48      0.48      0.48      1280\n",
      "           5       0.71      0.80      0.75      1961\n",
      "\n",
      "    accuracy                           0.59      5000\n",
      "   macro avg       0.54      0.53      0.52      5000\n",
      "weighted avg       0.58      0.59      0.58      5000\n",
      "\n",
      "iteration: 4, loss: 0.20820\n",
      "training scores, then validation scores\n",
      "              precision    recall  f1-score   support\n",
      "\n",
      "           1       0.89      0.93      0.91      2462\n",
      "           2       0.87      0.77      0.82      1864\n",
      "           3       0.84      0.74      0.79      2605\n",
      "           4       0.80      0.76      0.78      5225\n",
      "           5       0.85      0.92      0.88      7844\n",
      "\n",
      "    accuracy                           0.84     20000\n",
      "   macro avg       0.85      0.82      0.83     20000\n",
      "weighted avg       0.84      0.84      0.84     20000\n",
      "\n",
      "              precision    recall  f1-score   support\n",
      "\n",
      "           1       0.65      0.74      0.69       559\n",
      "           2       0.41      0.28      0.33       513\n",
      "           3       0.42      0.35      0.38       687\n",
      "           4       0.48      0.49      0.49      1280\n",
      "           5       0.72      0.79      0.75      1961\n",
      "\n",
      "    accuracy                           0.59      5000\n",
      "   macro avg       0.54      0.53      0.53      5000\n",
      "weighted avg       0.58      0.59      0.58      5000\n",
      "\n",
      "iteration: 5, loss: 0.19568\n",
      "training scores, then validation scores\n",
      "              precision    recall  f1-score   support\n",
      "\n",
      "           1       0.90      0.93      0.92      2462\n",
      "           2       0.89      0.80      0.84      1864\n",
      "           3       0.86      0.77      0.81      2605\n",
      "           4       0.83      0.79      0.81      5225\n",
      "           5       0.86      0.93      0.89      7844\n",
      "\n",
      "    accuracy                           0.86     20000\n",
      "   macro avg       0.87      0.84      0.85     20000\n",
      "weighted avg       0.86      0.86      0.86     20000\n",
      "\n",
      "              precision    recall  f1-score   support\n",
      "\n",
      "           1       0.64      0.75      0.69       559\n",
      "           2       0.39      0.27      0.32       513\n",
      "           3       0.44      0.37      0.40       687\n",
      "           4       0.48      0.49      0.48      1280\n",
      "           5       0.72      0.78      0.75      1961\n",
      "\n",
      "    accuracy                           0.59      5000\n",
      "   macro avg       0.53      0.53      0.53      5000\n",
      "weighted avg       0.58      0.59      0.58      5000\n",
      "\n",
      "iteration: 6, loss: 0.18153\n",
      "training scores, then validation scores\n",
      "              precision    recall  f1-score   support\n",
      "\n",
      "           1       0.91      0.94      0.93      2462\n",
      "           2       0.90      0.81      0.85      1864\n",
      "           3       0.87      0.80      0.83      2605\n",
      "           4       0.84      0.80      0.82      5225\n",
      "           5       0.87      0.94      0.90      7844\n",
      "\n",
      "    accuracy                           0.87     20000\n",
      "   macro avg       0.88      0.86      0.87     20000\n",
      "weighted avg       0.87      0.87      0.87     20000\n",
      "\n",
      "              precision    recall  f1-score   support\n",
      "\n",
      "           1       0.64      0.74      0.69       559\n",
      "           2       0.39      0.27      0.32       513\n",
      "           3       0.44      0.38      0.41       687\n",
      "           4       0.48      0.48      0.48      1280\n",
      "           5       0.72      0.78      0.75      1961\n",
      "\n",
      "    accuracy                           0.59      5000\n",
      "   macro avg       0.54      0.53      0.53      5000\n",
      "weighted avg       0.58      0.59      0.58      5000\n",
      "\n",
      "iteration: 7, loss: 0.17653\n",
      "training scores, then validation scores\n",
      "              precision    recall  f1-score   support\n",
      "\n",
      "           1       0.92      0.95      0.94      2462\n",
      "           2       0.91      0.84      0.87      1864\n",
      "           3       0.88      0.81      0.84      2605\n",
      "           4       0.86      0.81      0.83      5225\n",
      "           5       0.88      0.94      0.91      7844\n",
      "\n",
      "    accuracy                           0.88     20000\n",
      "   macro avg       0.89      0.87      0.88     20000\n",
      "weighted avg       0.88      0.88      0.88     20000\n",
      "\n",
      "              precision    recall  f1-score   support\n",
      "\n",
      "           1       0.64      0.74      0.69       559\n",
      "           2       0.39      0.27      0.32       513\n",
      "           3       0.44      0.38      0.40       687\n",
      "           4       0.47      0.47      0.48      1280\n",
      "           5       0.71      0.77      0.74      1961\n",
      "\n",
      "    accuracy                           0.59      5000\n",
      "   macro avg       0.53      0.53      0.53      5000\n",
      "weighted avg       0.57      0.59      0.58      5000\n",
      "\n"
     ]
    },
    {
     "name": "stdout",
     "output_type": "stream",
     "text": [
      "iteration: 8, loss: 0.17259\n",
      "training scores, then validation scores\n",
      "              precision    recall  f1-score   support\n",
      "\n",
      "           1       0.93      0.95      0.94      2462\n",
      "           2       0.92      0.85      0.88      1864\n",
      "           3       0.88      0.82      0.85      2605\n",
      "           4       0.87      0.82      0.84      5225\n",
      "           5       0.88      0.94      0.91      7844\n",
      "\n",
      "    accuracy                           0.89     20000\n",
      "   macro avg       0.90      0.88      0.89     20000\n",
      "weighted avg       0.89      0.89      0.89     20000\n",
      "\n",
      "              precision    recall  f1-score   support\n",
      "\n",
      "           1       0.63      0.73      0.68       559\n",
      "           2       0.39      0.27      0.32       513\n",
      "           3       0.43      0.38      0.40       687\n",
      "           4       0.47      0.49      0.48      1280\n",
      "           5       0.72      0.76      0.74      1961\n",
      "\n",
      "    accuracy                           0.58      5000\n",
      "   macro avg       0.53      0.52      0.52      5000\n",
      "weighted avg       0.57      0.58      0.58      5000\n",
      "\n",
      "iteration: 9, loss: 0.16498\n",
      "training scores, then validation scores\n",
      "              precision    recall  f1-score   support\n",
      "\n",
      "           1       0.94      0.95      0.95      2462\n",
      "           2       0.92      0.87      0.89      1864\n",
      "           3       0.89      0.84      0.86      2605\n",
      "           4       0.88      0.83      0.85      5225\n",
      "           5       0.89      0.95      0.92      7844\n",
      "\n",
      "    accuracy                           0.90     20000\n",
      "   macro avg       0.90      0.89      0.89     20000\n",
      "weighted avg       0.90      0.90      0.90     20000\n",
      "\n",
      "              precision    recall  f1-score   support\n",
      "\n",
      "           1       0.65      0.73      0.69       559\n",
      "           2       0.41      0.28      0.33       513\n",
      "           3       0.43      0.37      0.40       687\n",
      "           4       0.47      0.48      0.48      1280\n",
      "           5       0.71      0.77      0.74      1961\n",
      "\n",
      "    accuracy                           0.59      5000\n",
      "   macro avg       0.53      0.53      0.53      5000\n",
      "weighted avg       0.57      0.59      0.58      5000\n",
      "\n",
      "Training time: 0:04:40.854160\n"
     ]
    }
   ],
   "source": [
    "star_labels = [str(star) for star in range(1,6)]\n",
    "train_data, nlp, train_info, dev_info = prepare_training(train_star, n_texts=25000, train_split=0.8, cfg={\"exclusive_classes\": True, \"architecture\": \"bow\"},\n",
    "                                                        labels=star_labels, cat_function=starcats_from_labels)\n",
    "metrics_small = do_training(train_data, nlp, train_info, dev_info, labels=star_labels, n_iter=10)"
   ]
  },
  {
   "cell_type": "code",
   "execution_count": 30,
   "metadata": {},
   "outputs": [
    {
     "data": {
      "image/png": "[encoded data removed]",
      "text/plain": [
       "<Figure size 432x288 with 2 Axes>"
      ]
     },
     "metadata": {},
     "output_type": "display_data"
    }
   ],
   "source": [
    "plot_cm(metrics_small['cm_train'].iloc[-1], title=\"Confusion Matrix (training)\", labels=star_labels, percent=False)"
   ]
  },
  {
   "cell_type": "code",
   "execution_count": 31,
   "metadata": {},
   "outputs": [
    {
     "data": {
      "image/png": "[encoded data removed]",
      "text/plain": [
       "<Figure size 432x288 with 2 Axes>"
      ]
     },
     "metadata": {},
     "output_type": "display_data"
    }
   ],
   "source": [
    "plot_cm(metrics_small['cm_validation'].iloc[-1], title=\"Confusion Matrix (validation)\", labels=star_labels, percent=False)"
   ]
  },
  {
   "cell_type": "markdown",
   "metadata": {},
   "source": [
    "Did our validation set have a different percentage of positive examples than our test set?"
   ]
  },
  {
   "cell_type": "code",
   "execution_count": 32,
   "metadata": {},
   "outputs": [
    {
     "data": {
      "text/plain": [
       "['1', '2', '3', '4', '5']"
      ]
     },
     "execution_count": 32,
     "metadata": {},
     "output_type": "execute_result"
    }
   ],
   "source": [
    "star_labels"
   ]
  },
  {
   "cell_type": "code",
   "execution_count": 33,
   "metadata": {},
   "outputs": [
    {
     "name": "stdout",
     "output_type": "stream",
     "text": [
      "{'1': 2462, '2': 1864, '3': 2605, '4': 5225, '5': 7844}\n"
     ]
    }
   ],
   "source": [
    "_, train_cats = train_info\n",
    "train_cat_counts = {label: 0 for label in star_labels}\n",
    "for row in train_cats:\n",
    "    for key, value in row.items():\n",
    "        if value is True:\n",
    "            train_cat_counts[key] += 1\n",
    "print(train_cat_counts)"
   ]
  },
  {
   "cell_type": "code",
   "execution_count": 34,
   "metadata": {
    "scrolled": true
   },
   "outputs": [
    {
     "data": {
      "text/plain": [
       "{'1': 559, '2': 513, '3': 687, '4': 1280, '5': 1961}"
      ]
     },
     "execution_count": 34,
     "metadata": {},
     "output_type": "execute_result"
    }
   ],
   "source": [
    "_, dev_cats = dev_info\n",
    "dev_cat_counts = {label: 0 for label in star_labels}\n",
    "for row in dev_cats:\n",
    "    for key, value in row.items():\n",
    "        if value is True:\n",
    "            dev_cat_counts[key] += 1\n",
    "dev_cat_counts"
   ]
  },
  {
   "cell_type": "code",
   "execution_count": null,
   "metadata": {},
   "outputs": [],
   "source": []
  }
 ],
 "metadata": {
  "kernelspec": {
   "display_name": "Python [default]",
   "language": "python",
   "name": "python3"
  },
  "language_info": {
   "codemirror_mode": {
    "name": "ipython",
    "version": 3
   },
   "file_extension": ".py",
   "mimetype": "text/x-python",
   "name": "python",
   "nbconvert_exporter": "python",
   "pygments_lexer": "ipython3",
   "version": "3.6.8"
  }
 },
 "nbformat": 4,
 "nbformat_minor": 2
}
