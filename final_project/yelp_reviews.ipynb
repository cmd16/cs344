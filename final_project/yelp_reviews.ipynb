{
 "cells": [
  {
   "cell_type": "markdown",
   "metadata": {},
   "source": [
    "## Setup"
   ]
  },
  {
   "cell_type": "code",
   "execution_count": 59,
   "metadata": {},
   "outputs": [],
   "source": [
    "import time\n",
    "from datetime import timedelta\n",
    "import pandas as pd\n",
    "import matplotlib.pyplot as plt\n",
    "import spacy\n",
    "from spacy.util import minibatch, compounding\n",
    "import random\n",
    "from math import isclose\n",
    "%matplotlib inline"
   ]
  },
  {
   "cell_type": "code",
   "execution_count": 5,
   "metadata": {},
   "outputs": [
    {
     "name": "stdout",
     "output_type": "stream",
     "text": [
      "<class 'pandas.core.frame.DataFrame'>\n",
      "RangeIndex: 100000 entries, 0 to 99999\n",
      "Data columns (total 4 columns):\n",
      "review_id        100000 non-null object\n",
      "stars            100000 non-null int64\n",
      "text             100000 non-null object\n",
      "review_length    100000 non-null int64\n",
      "dtypes: int64(2), object(2)\n",
      "memory usage: 3.1+ MB\n"
     ]
    }
   ],
   "source": [
    "reviews = pd.read_csv(\"Yelp_restaurant_reviews.csv\")\n",
    "reviews.info()"
   ]
  },
  {
   "cell_type": "code",
   "execution_count": 6,
   "metadata": {},
   "outputs": [
    {
     "data": {
      "text/html": [
       "<div>\n",
       "<style scoped>\n",
       "    .dataframe tbody tr th:only-of-type {\n",
       "        vertical-align: middle;\n",
       "    }\n",
       "\n",
       "    .dataframe tbody tr th {\n",
       "        vertical-align: top;\n",
       "    }\n",
       "\n",
       "    .dataframe thead th {\n",
       "        text-align: right;\n",
       "    }\n",
       "</style>\n",
       "<table border=\"1\" class=\"dataframe\">\n",
       "  <thead>\n",
       "    <tr style=\"text-align: right;\">\n",
       "      <th></th>\n",
       "      <th>review_id</th>\n",
       "      <th>stars</th>\n",
       "      <th>text</th>\n",
       "      <th>review_length</th>\n",
       "    </tr>\n",
       "  </thead>\n",
       "  <tbody>\n",
       "    <tr>\n",
       "      <th>0</th>\n",
       "      <td>kMWkKrJkqHx5SW9sz_JEnw</td>\n",
       "      <td>5</td>\n",
       "      <td>The best service I had was here during my time...</td>\n",
       "      <td>300</td>\n",
       "    </tr>\n",
       "    <tr>\n",
       "      <th>1</th>\n",
       "      <td>GFcNYpLZYlcpBQNrVjMh8Q</td>\n",
       "      <td>4</td>\n",
       "      <td>What a fun place. Valet parking, a great outsi...</td>\n",
       "      <td>190</td>\n",
       "    </tr>\n",
       "    <tr>\n",
       "      <th>2</th>\n",
       "      <td>6ov3a4K8metST0LxtoJ4sA</td>\n",
       "      <td>3</td>\n",
       "      <td>My boyfriend and I dropped in for the first ti...</td>\n",
       "      <td>252</td>\n",
       "    </tr>\n",
       "    <tr>\n",
       "      <th>3</th>\n",
       "      <td>ahiXWr5mSXt9x0fbS4l-Cw</td>\n",
       "      <td>4</td>\n",
       "      <td>Excellent of breakfast or Sunday brunch! There...</td>\n",
       "      <td>326</td>\n",
       "    </tr>\n",
       "    <tr>\n",
       "      <th>4</th>\n",
       "      <td>9Ld-tBcjbtoMG-qx_l5G4A</td>\n",
       "      <td>4</td>\n",
       "      <td>I would actually give this place a 4.5 stars i...</td>\n",
       "      <td>2570</td>\n",
       "    </tr>\n",
       "  </tbody>\n",
       "</table>\n",
       "</div>"
      ],
      "text/plain": [
       "                review_id  stars  \\\n",
       "0  kMWkKrJkqHx5SW9sz_JEnw      5   \n",
       "1  GFcNYpLZYlcpBQNrVjMh8Q      4   \n",
       "2  6ov3a4K8metST0LxtoJ4sA      3   \n",
       "3  ahiXWr5mSXt9x0fbS4l-Cw      4   \n",
       "4  9Ld-tBcjbtoMG-qx_l5G4A      4   \n",
       "\n",
       "                                                text  review_length  \n",
       "0  The best service I had was here during my time...            300  \n",
       "1  What a fun place. Valet parking, a great outsi...            190  \n",
       "2  My boyfriend and I dropped in for the first ti...            252  \n",
       "3  Excellent of breakfast or Sunday brunch! There...            326  \n",
       "4  I would actually give this place a 4.5 stars i...           2570  "
      ]
     },
     "execution_count": 6,
     "metadata": {},
     "output_type": "execute_result"
    }
   ],
   "source": [
    "reviews.head()"
   ]
  },
  {
   "cell_type": "code",
   "execution_count": 12,
   "metadata": {},
   "outputs": [
    {
     "data": {
      "image/png": "[encoded data removed]",
      "text/plain": [
       "<Figure size 432x288 with 1 Axes>"
      ]
     },
     "metadata": {},
     "output_type": "display_data"
    }
   ],
   "source": [
    "ax = reviews['stars'].value_counts().plot(kind='bar')"
   ]
  },
  {
   "cell_type": "code",
   "execution_count": 10,
   "metadata": {},
   "outputs": [
    {
     "data": {
      "text/html": [
       "<div>\n",
       "<style scoped>\n",
       "    .dataframe tbody tr th:only-of-type {\n",
       "        vertical-align: middle;\n",
       "    }\n",
       "\n",
       "    .dataframe tbody tr th {\n",
       "        vertical-align: top;\n",
       "    }\n",
       "\n",
       "    .dataframe thead th {\n",
       "        text-align: right;\n",
       "    }\n",
       "</style>\n",
       "<table border=\"1\" class=\"dataframe\">\n",
       "  <thead>\n",
       "    <tr style=\"text-align: right;\">\n",
       "      <th></th>\n",
       "      <th>review_id</th>\n",
       "      <th>stars</th>\n",
       "      <th>text</th>\n",
       "      <th>review_length</th>\n",
       "      <th>is_positive</th>\n",
       "    </tr>\n",
       "  </thead>\n",
       "  <tbody>\n",
       "    <tr>\n",
       "      <th>0</th>\n",
       "      <td>kMWkKrJkqHx5SW9sz_JEnw</td>\n",
       "      <td>5</td>\n",
       "      <td>The best service I had was here during my time...</td>\n",
       "      <td>300</td>\n",
       "      <td>True</td>\n",
       "    </tr>\n",
       "    <tr>\n",
       "      <th>1</th>\n",
       "      <td>GFcNYpLZYlcpBQNrVjMh8Q</td>\n",
       "      <td>4</td>\n",
       "      <td>What a fun place. Valet parking, a great outsi...</td>\n",
       "      <td>190</td>\n",
       "      <td>True</td>\n",
       "    </tr>\n",
       "    <tr>\n",
       "      <th>2</th>\n",
       "      <td>6ov3a4K8metST0LxtoJ4sA</td>\n",
       "      <td>3</td>\n",
       "      <td>My boyfriend and I dropped in for the first ti...</td>\n",
       "      <td>252</td>\n",
       "      <td>False</td>\n",
       "    </tr>\n",
       "    <tr>\n",
       "      <th>3</th>\n",
       "      <td>ahiXWr5mSXt9x0fbS4l-Cw</td>\n",
       "      <td>4</td>\n",
       "      <td>Excellent of breakfast or Sunday brunch! There...</td>\n",
       "      <td>326</td>\n",
       "      <td>True</td>\n",
       "    </tr>\n",
       "    <tr>\n",
       "      <th>4</th>\n",
       "      <td>9Ld-tBcjbtoMG-qx_l5G4A</td>\n",
       "      <td>4</td>\n",
       "      <td>I would actually give this place a 4.5 stars i...</td>\n",
       "      <td>2570</td>\n",
       "      <td>True</td>\n",
       "    </tr>\n",
       "  </tbody>\n",
       "</table>\n",
       "</div>"
      ],
      "text/plain": [
       "                review_id  stars  \\\n",
       "0  kMWkKrJkqHx5SW9sz_JEnw      5   \n",
       "1  GFcNYpLZYlcpBQNrVjMh8Q      4   \n",
       "2  6ov3a4K8metST0LxtoJ4sA      3   \n",
       "3  ahiXWr5mSXt9x0fbS4l-Cw      4   \n",
       "4  9Ld-tBcjbtoMG-qx_l5G4A      4   \n",
       "\n",
       "                                                text  review_length  \\\n",
       "0  The best service I had was here during my time...            300   \n",
       "1  What a fun place. Valet parking, a great outsi...            190   \n",
       "2  My boyfriend and I dropped in for the first ti...            252   \n",
       "3  Excellent of breakfast or Sunday brunch! There...            326   \n",
       "4  I would actually give this place a 4.5 stars i...           2570   \n",
       "\n",
       "   is_positive  \n",
       "0         True  \n",
       "1         True  \n",
       "2        False  \n",
       "3         True  \n",
       "4         True  "
      ]
     },
     "execution_count": 10,
     "metadata": {},
     "output_type": "execute_result"
    }
   ],
   "source": [
    "# to deal with the unbalanced data, put ratings 4-5 as positive and ratings 1-3 as negative\n",
    "reviews['is_positive'] = reviews['stars'] > 3\n",
    "reviews.head()"
   ]
  },
  {
   "cell_type": "code",
   "execution_count": 13,
   "metadata": {},
   "outputs": [
    {
     "data": {
      "image/png": "[encoded data removed]",
      "text/plain": [
       "<Figure size 432x288 with 1 Axes>"
      ]
     },
     "metadata": {},
     "output_type": "display_data"
    }
   ],
   "source": [
    "ax = reviews['is_positive'].value_counts().plot(kind='bar')"
   ]
  },
  {
   "cell_type": "code",
   "execution_count": 18,
   "metadata": {},
   "outputs": [],
   "source": [
    "# TODO (maybe): normalize so we take the same number of positive reviews and negative reviews"
   ]
  },
  {
   "cell_type": "markdown",
   "metadata": {},
   "source": [
    "## Spacy text categorizer"
   ]
  },
  {
   "cell_type": "code",
   "execution_count": 23,
   "metadata": {},
   "outputs": [],
   "source": [
    "reviews['tuples'] = reviews.apply(\n",
    "    lambda row: (row['text'], row['is_positive']), axis=1)\n",
    "train = reviews['tuples'].tolist()"
   ]
  },
  {
   "cell_type": "code",
   "execution_count": 25,
   "metadata": {},
   "outputs": [
    {
     "data": {
      "text/plain": [
       "[('The best service I had was here during my time in Las Vegas. The al a cart sides were large enough to share family style. My filet was overcooked and the server had another one out to me in minutes. The martinis were wonderful in chilled glasses with blue cheese olives. The table settings beautiful.',\n",
       "  True),\n",
       " (\"What a fun place. Valet parking, a great outside covered patio shared by 4 great restos! Had lunch at Bario which was good and then played some ping pong in the yard. Can't wait to go again!\",\n",
       "  True),\n",
       " ('My boyfriend and I dropped in for the first time on a Sunday afternoon.  The atmosphere was nice and the restaurant was very clean.  Our server Dan was knowledgeable and pleasant. The food was average but good for the price. We will definately be back.',\n",
       "  False)]"
      ]
     },
     "execution_count": 25,
     "metadata": {},
     "output_type": "execute_result"
    }
   ],
   "source": [
    "train[:3]"
   ]
  },
  {
   "cell_type": "code",
   "execution_count": 27,
   "metadata": {},
   "outputs": [
    {
     "data": {
      "text/plain": [
       "[('Super!\\nMy 1st good meal in Phoenix !\\nSigh ...come with family so Chinese food everyday..sucks...\\n\\nGood as it said ..highly recommend...\\n\\nThe braised short rib pizza\\nPB&J smoothie',\n",
       "  True),\n",
       " ('12 of us went on a Friday night. There was a large variety of food ordered and everyone enjoyed their meals. I would give 5 stars but the server was not very attentive. Wine is included. Overall an awesome value for Vegas!',\n",
       "  True)]"
      ]
     },
     "execution_count": 27,
     "metadata": {},
     "output_type": "execute_result"
    }
   ],
   "source": [
    "train[-2:]"
   ]
  },
  {
   "cell_type": "code",
   "execution_count": null,
   "metadata": {},
   "outputs": [],
   "source": [
    "reviews['star_tuples'] = reviews.apply(lambda row: (row['text'], row['stars'].astype('str')) )"
   ]
  },
  {
   "cell_type": "code",
   "execution_count": null,
   "metadata": {},
   "outputs": [],
   "source": [
    "def starcats_from_labels(labels, min_stars=1, max_stars=5):\n",
    "#     cats = []\n",
    "#     for y in labels:\n",
    "#         c = dict()\n",
    "#         for star in range(min_stars, max_stars + 1):\n",
    "#             star = str(star)\n",
    "#             if star == y:\n",
    "#                 c[y] = True\n",
    "#             else:\n",
    "#                 c[y] = False\n",
    "#         cats.append(c)\n",
    "    return [\n",
    "            {str(star): str(star) == y \n",
    "            for star in range(min_stars, max_stars + 1)}\n",
    "            for y in labels\n",
    "           ]\n",
    "\n",
    "def poscats_from_labels(labels):\n",
    "    return [{'POSITIVE': y, 'NEGATIVE': not y} for y in labels]"
   ]
  },
  {
   "cell_type": "code",
   "execution_count": 60,
   "metadata": {},
   "outputs": [],
   "source": [
    "def load_data(train_list, limit=0, split=0.8, cat_function=poscats_from_labels):\n",
    "    \"\"\"\n",
    "    Given a list of data, return training data and validation data.\n",
    "    Limit is the total number of samples to use, and split is the percentage of samples to be used for training.\n",
    "    \n",
    "    Note: this assumes data is already shuffled (i.e., in random order)\n",
    "    \"\"\"\n",
    "    train_data = train_list[-limit:]\n",
    "    texts, labels = zip(*train_data)\n",
    "    cats = cat_function(labels)\n",
    "    split = int(len(train_data) * split)\n",
    "    return (texts[:split], cats[:split]), (texts[split:], cats[split:])\n",
    "\n",
    "def evaluate(tokenizer, textcat, texts, cats):\n",
    "    docs = (tokenizer(text) for text in texts)\n",
    "    tp = 1e-8  # True positives\n",
    "    fp = 1e-8  # False positives\n",
    "    fn = 1e-8  # False negatives\n",
    "    tn = 1e-8  # True negatives\n",
    "    for i, doc in enumerate(textcat.pipe(docs)):\n",
    "        gold = cats[i]\n",
    "        for label, score in doc.cats.items():\n",
    "            if label not in gold:\n",
    "                continue\n",
    "            if label == \"NEGATIVE\":\n",
    "                continue\n",
    "            if score >= 0.5 and gold[label] >= 0.5:\n",
    "                tp += 1.\n",
    "            elif score >= 0.5 and gold[label] < 0.5:\n",
    "                fp += 1.\n",
    "            elif score < 0.5 and gold[label] < 0.5:\n",
    "                tn += 1\n",
    "            elif score < 0.5 and gold[label] >= 0.5:\n",
    "                fn += 1\n",
    "    # true positives + true negatives + false positives + false negatives should equal the number of documents,\n",
    "    # or we've done something wrong\n",
    "    assert isclose(tp + fp + tn + fn, len(texts)), (tp + fp + tn + fn, len(texts))\n",
    "    precision = tp / (tp + fp)\n",
    "    recall = tp / (tp + fn)\n",
    "    accuracy = (tp + tn) / (tp + tn + fp + fn)\n",
    "    f_score = 2 * (precision * recall) / (precision + recall)\n",
    "    return {'textcat_p': precision, 'textcat_r': recall, 'textcat_f': f_score,\n",
    "           'textcat_a': accuracy, 'textcat_tp': tp, 'textcat_tn': tn, 'textcat_fp': fp, 'textcat_fn': fn}"
   ]
  },
  {
   "cell_type": "code",
   "execution_count": 32,
   "metadata": {},
   "outputs": [],
   "source": [
    "# (\"Number of texts to train from\",\"t\" , int). In this case we will train from all the texts.\n",
    "n_texts=len(train)\n",
    "# (\"Number of training iterations\", \"n\", int))\n",
    "n_iter=10"
   ]
  },
  {
   "cell_type": "code",
   "execution_count": 64,
   "metadata": {},
   "outputs": [],
   "source": [
    "nlp = spacy.load(\"en_core_web_sm\")"
   ]
  },
  {
   "cell_type": "code",
   "execution_count": 65,
   "metadata": {},
   "outputs": [
    {
     "name": "stdout",
     "output_type": "stream",
     "text": [
      "Loading food reviews data...\n",
      "Using 100000 examples (80000 training, 20000 evaluation)\n"
     ]
    }
   ],
   "source": [
    "nlp = spacy.load(\"en_core_web_sm\")\n",
    "# add the text classifier to the pipeline if it doesn't exist\n",
    "# nlp.create_pipe works for built-ins that are registered with spaCy\n",
    "# use config options from spacy training tutorial\n",
    "if 'textcat' not in nlp.pipe_names:\n",
    "    textcat = nlp.create_pipe('textcat', config={\"exclusive_classes\": True, \"architecture\": \"simple_cnn\"})\n",
    "    nlp.add_pipe(textcat, last=True)\n",
    "# otherwise, get it, so we can add labels to it\n",
    "else:\n",
    "    textcat = nlp.get_pipe('textcat')\n",
    "\n",
    "# add label to text classifier.\n",
    "textcat.add_label(\"POSITIVE\")\n",
    "textcat.add_label(\"NEGATIVE\")\n",
    "\n",
    "# load the dataset\n",
    "print(\"Loading food reviews data...\")\n",
    "(train_texts, train_cats), (dev_texts, dev_cats) = load_data(train, limit=n_texts)\n",
    "print(\"Using {} examples ({} training, {} evaluation)\"\n",
    "      .format(n_texts, len(train_texts), len(dev_texts)))\n",
    "train_data = list(zip(train_texts,\n",
    "                      [{'cats': cats} for cats in train_cats]))"
   ]
  },
  {
   "cell_type": "code",
   "execution_count": null,
   "metadata": {},
   "outputs": [],
   "source": [
    "def prepare_training(train, n_texts=0, labels=(\"POSITIVE\", \"NEGATIVE\"), cfg={\"exclusive_classes\": True, \"architecture\": \"simple_cnn\"}):\n",
    "    if not n_texts:\n",
    "        n_texts = len(train)\n",
    "    nlp = spacy.load(\"en_core_web_sm\")\n",
    "    # add the text classifier to the pipeline if it doesn't exist\n",
    "    # nlp.create_pipe works for built-ins that are registered with spaCy\n",
    "    # use config options from spacy training tutorial\n",
    "    if 'textcat' not in nlp.pipe_names:\n",
    "        textcat = nlp.create_pipe('textcat', config=cfg)\n",
    "        nlp.add_pipe(textcat, last=True)\n",
    "    # otherwise, get it, so we can add labels to it\n",
    "    else:\n",
    "        textcat = nlp.get_pipe('textcat')\n",
    "\n",
    "    # add labels to text classifier.\n",
    "    for label in labels:\n",
    "        textcat.add_label(label)\n",
    "\n",
    "    # load the dataset\n",
    "    print(\"Loading data...\")\n",
    "    (train_texts, train_cats), (dev_texts, dev_cats) = load_data(train, limit=n_texts)\n",
    "    print(\"Using {} examples ({} training, {} evaluation)\"\n",
    "          .format(n_texts, len(train_texts), len(dev_texts)))\n",
    "    train_data = list(zip(train_texts,\n",
    "                          [{'cats': cats} for cats in train_cats]))\n",
    "    return train_data, nlp"
   ]
  },
  {
   "cell_type": "code",
   "execution_count": 51,
   "metadata": {},
   "outputs": [
    {
     "name": "stdout",
     "output_type": "stream",
     "text": [
      "Iteration: 1, Loss: 20.2\n",
      "    35.340\t\n"
     ]
    }
   ],
   "source": [
    "print(\n",
    "    f\"\"\"Iteration: {1}, Loss: {20.2}\n",
    "    {35.34032039:.3f}\\t\"\"\"\n",
    ")"
   ]
  },
  {
   "cell_type": "code",
   "execution_count": 66,
   "metadata": {},
   "outputs": [
    {
     "name": "stdout",
     "output_type": "stream",
     "text": [
      "Training the model...\n",
      "Precision\tRecall\tF-score\taccuracy\n",
      "Iteration: 0, Loss: 12.263682646431334\n",
      "training:   0.925\t0.948\t0.9366794710860716\t0.916\n",
      "validation: 0.913\t0.938\t0.9254420841373387\t0.902\n",
      "\n",
      "Iteration: 1, Loss: 0.353853815502589\n",
      "training:   0.935\t0.955\t0.9450256584727983\t0.927\n",
      "validation: 0.918\t0.940\t0.9290836653379942\t0.907\n",
      "\n",
      "Iteration: 2, Loss: 0.3204571801502425\n",
      "training:   0.942\t0.959\t0.9507078933659925\t0.935\n",
      "validation: 0.923\t0.940\t0.9310764549251714\t0.909\n",
      "\n",
      "Iteration: 3, Loss: 0.2978772127007687\n",
      "training:   0.947\t0.964\t0.9555479828096948\t0.941\n",
      "validation: 0.922\t0.943\t0.9325335054475378\t0.911\n",
      "\n",
      "Iteration: 4, Loss: 0.2797220430006746\n",
      "training:   0.951\t0.968\t0.959432720800379\t0.946\n",
      "validation: 0.923\t0.942\t0.9324113825455986\t0.911\n",
      "\n",
      "Iteration: 5, Loss: 0.26377781663859423\n",
      "training:   0.956\t0.972\t0.9638741470809463\t0.952\n",
      "validation: 0.921\t0.942\t0.9314600341743968\t0.910\n",
      "\n",
      "Iteration: 6, Loss: 0.24469582271404988\n",
      "training:   0.962\t0.974\t0.9680438104456146\t0.958\n",
      "validation: 0.922\t0.941\t0.9315037251019742\t0.910\n",
      "\n",
      "Iteration: 7, Loss: 0.23196509116860398\n",
      "training:   0.965\t0.978\t0.9710538303847578\t0.962\n",
      "validation: 0.921\t0.941\t0.9311052031896223\t0.909\n",
      "\n",
      "Iteration: 8, Loss: 0.21722507668255275\n",
      "training:   0.967\t0.981\t0.9739283884554472\t0.966\n",
      "validation: 0.921\t0.940\t0.9306125550989047\t0.909\n",
      "\n",
      "Iteration: 9, Loss: 0.20520131113516982\n",
      "training:   0.971\t0.983\t0.9765777056213596\t0.969\n",
      "validation: 0.921\t0.939\t0.9300133054545826\t0.908\n",
      "\n",
      "Training time: 1:58:03.766066\n"
     ]
    }
   ],
   "source": [
    "# get names of other pipes to disable them during training\n",
    "# the last two are for if you are using transformers (see https://spacy.io/models/en-starters)\n",
    "pipe_exceptions = [\"textcat\", \"trf_wordpiecer\", \"trf_tok2vec\"]\n",
    "other_pipes = [pipe for pipe in nlp.pipe_names if pipe not in pipe_exceptions]\n",
    "\n",
    "metrics_dict = dict()\n",
    "\n",
    "start = time.time()\n",
    "with nlp.disable_pipes(*other_pipes):  # only train textcat\n",
    "    optimizer = nlp.begin_training()\n",
    "    print(\"Training the model...\")\n",
    "    print('Precision\\tRecall\\tF-score\\taccuracy')\n",
    "    batch_sizes = compounding(4.0, 32.0, 1.001)\n",
    "    for i in range(n_iter):\n",
    "        losses = {}\n",
    "        # batch up the examples using spaCy's minibatch\n",
    "        random.shuffle(train_data)\n",
    "        batches = minibatch(train_data, size=batch_sizes)\n",
    "        for batch in batches:\n",
    "            texts, annotations = zip(*batch)\n",
    "            nlp.update(texts, annotations, sgd=optimizer, drop=0.2, losses=losses)\n",
    "        with textcat.model.use_params(optimizer.averages):\n",
    "            # evaluate on the dev data split off in load_data()\n",
    "            train_scores = evaluate(nlp.tokenizer, textcat, train_texts, train_cats)\n",
    "            dev_scores = evaluate(nlp.tokenizer, textcat, dev_texts, dev_cats)\n",
    "            print(\n",
    "                f\"\"\"Iteration: {i}, Loss: {losses['textcat']}\n",
    "training:   {train_scores['textcat_p']:.3f}\\t{train_scores['textcat_r']:.3f}\\t{train_scores['textcat_f']}\\t{train_scores['textcat_a']:.3f}\n",
    "validation: {dev_scores['textcat_p']:.3f}\\t{dev_scores['textcat_r']:.3f}\\t{dev_scores['textcat_f']}\\t{dev_scores['textcat_a']:.3f}\n",
    "\"\"\"\n",
    "            )\n",
    "            metrics_dict[i] = {\"loss\": losses['textcat'], 'train': train_scores, 'validation': dev_scores}\n",
    "end = time.time()\n",
    "training_time = timedelta(seconds = end - start)\n",
    "print(\"Training time:\", training_time)"
   ]
  },
  {
   "cell_type": "code",
   "execution_count": 67,
   "metadata": {},
   "outputs": [],
   "source": [
    "def do_training(train_data, n_iter=10):\n",
    "    # get names of other pipes to disable them during training\n",
    "    # the last two are for if you are using transformers (see https://spacy.io/models/en-starters)\n",
    "    pipe_exceptions = [\"textcat\", \"trf_wordpiecer\", \"trf_tok2vec\"]\n",
    "    other_pipes = [pipe for pipe in nlp.pipe_names if pipe not in pipe_exceptions]\n",
    "\n",
    "    metrics_dict = dict()\n",
    "\n",
    "    start = time.time()\n",
    "    with nlp.disable_pipes(*other_pipes):  # only train textcat\n",
    "        optimizer = nlp.begin_training()\n",
    "        print(\"Training the model...\")\n",
    "        print('Precision\\tRecall\\tF-score\\taccuracy')\n",
    "        batch_sizes = compounding(4.0, 32.0, 1.001)\n",
    "        for i in range(n_iter):\n",
    "            losses = {}\n",
    "            # batch up the examples using spaCy's minibatch\n",
    "            random.shuffle(train_data)\n",
    "            batches = minibatch(train_data, size=batch_sizes)\n",
    "            for batch in batches:\n",
    "                texts, annotations = zip(*batch)\n",
    "                nlp.update(texts, annotations, sgd=optimizer, drop=0.2, losses=losses)\n",
    "            with textcat.model.use_params(optimizer.averages):\n",
    "                # evaluate on the dev data split off in load_data()\n",
    "                train_scores = evaluate(nlp.tokenizer, textcat, train_texts, train_cats)\n",
    "                dev_scores = evaluate(nlp.tokenizer, textcat, dev_texts, dev_cats)\n",
    "                print(\n",
    "                    f\"\"\"Iteration: {i}, Loss: {losses['textcat']}\n",
    "    training:   {train_scores['textcat_p']:.3f}\\t{train_scores['textcat_r']:.3f}\\t{train_scores['textcat_f']}\\t{train_scores['textcat_a']:.3f}\n",
    "    validation: {dev_scores['textcat_p']:.3f}\\t{dev_scores['textcat_r']:.3f}\\t{dev_scores['textcat_f']}\\t{dev_scores['textcat_a']:.3f}\n",
    "    \"\"\"\n",
    "                )\n",
    "                metrics_dict[i] = {\"loss\": losses['textcat'], 'train': train_scores, 'validation': dev_scores}\n",
    "    end = time.time()\n",
    "    training_time = timedelta(seconds = end - start)\n",
    "    print(\"Training time:\", training_time)\n",
    "    return metrics_dict"
   ]
  },
  {
   "cell_type": "code",
   "execution_count": null,
   "metadata": {},
   "outputs": [],
   "source": [
    "def plot_acc(history):\n",
    "  # Plot training & validation accuracy values\n",
    "  plt.plot(history.history['accuracy'])\n",
    "  plt.plot(history.history['val_accuracy'])\n",
    "  plt.title('Model accuracy')\n",
    "  plt.ylabel('Accuracy')\n",
    "  plt.xlabel('Epoch')\n",
    "  plt.legend(['Train', 'Validation'], loc='upper left')\n",
    "  plt.show()\n",
    "\n",
    "def plot_loss(history):\n",
    "  # Plot training & validation loss values\n",
    "  plt.plot(history.history['loss'])\n",
    "  plt.plot(history.history['val_loss'])\n",
    "  plt.title('Model loss')\n",
    "  plt.ylabel('Loss')\n",
    "  plt.xlabel('Epoch')\n",
    "  plt.legend(['Train', 'Validation'], loc='upper left')\n",
    "  plt.show()\n",
    "\n",
    "def plot_metrics(history):\n",
    "  plot_acc(history)\n",
    "  plot_loss(history)"
   ]
  }
 ],
 "metadata": {
  "kernelspec": {
   "display_name": "Python [default]",
   "language": "python",
   "name": "python3"
  },
  "language_info": {
   "codemirror_mode": {
    "name": "ipython",
    "version": 3
   },
   "file_extension": ".py",
   "mimetype": "text/x-python",
   "name": "python",
   "nbconvert_exporter": "python",
   "pygments_lexer": "ipython3",
   "version": "3.6.8"
  }
 },
 "nbformat": 4,
 "nbformat_minor": 2
}
