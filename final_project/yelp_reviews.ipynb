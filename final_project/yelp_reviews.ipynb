{
 "cells": [
  {
   "cell_type": "markdown",
   "metadata": {},
   "source": [
    "## Setup"
   ]
  },
  {
   "cell_type": "code",
   "execution_count": 2,
   "metadata": {},
   "outputs": [],
   "source": [
    "import time\n",
    "import random\n",
    "from math import isclose\n",
    "from datetime import timedelta\n",
    "\n",
    "import pandas as pd\n",
    "import matplotlib.pyplot as plt\n",
    "%matplotlib inline\n",
    "import seaborn as sns\n",
    "import numpy as np\n",
    "import spacy\n",
    "from spacy.util import minibatch, compounding\n",
    "from sklearn.metrics import confusion_matrix, classification_report"
   ]
  },
  {
   "cell_type": "markdown",
   "metadata": {},
   "source": [
    "## EDA and Data Preparation"
   ]
  },
  {
   "cell_type": "code",
   "execution_count": 3,
   "metadata": {},
   "outputs": [
    {
     "name": "stdout",
     "output_type": "stream",
     "text": [
      "<class 'pandas.core.frame.DataFrame'>\n",
      "RangeIndex: 100000 entries, 0 to 99999\n",
      "Data columns (total 4 columns):\n",
      "review_id        100000 non-null object\n",
      "stars            100000 non-null int64\n",
      "text             100000 non-null object\n",
      "review_length    100000 non-null int64\n",
      "dtypes: int64(2), object(2)\n",
      "memory usage: 3.1+ MB\n"
     ]
    }
   ],
   "source": [
    "reviews = pd.read_csv(\"Yelp_restaurant_reviews.csv\")\n",
    "reviews.info()"
   ]
  },
  {
   "cell_type": "code",
   "execution_count": 4,
   "metadata": {},
   "outputs": [
    {
     "data": {
      "text/html": [
       "<div>\n",
       "<style scoped>\n",
       "    .dataframe tbody tr th:only-of-type {\n",
       "        vertical-align: middle;\n",
       "    }\n",
       "\n",
       "    .dataframe tbody tr th {\n",
       "        vertical-align: top;\n",
       "    }\n",
       "\n",
       "    .dataframe thead th {\n",
       "        text-align: right;\n",
       "    }\n",
       "</style>\n",
       "<table border=\"1\" class=\"dataframe\">\n",
       "  <thead>\n",
       "    <tr style=\"text-align: right;\">\n",
       "      <th></th>\n",
       "      <th>review_id</th>\n",
       "      <th>stars</th>\n",
       "      <th>text</th>\n",
       "      <th>review_length</th>\n",
       "    </tr>\n",
       "  </thead>\n",
       "  <tbody>\n",
       "    <tr>\n",
       "      <th>0</th>\n",
       "      <td>kMWkKrJkqHx5SW9sz_JEnw</td>\n",
       "      <td>5</td>\n",
       "      <td>The best service I had was here during my time...</td>\n",
       "      <td>300</td>\n",
       "    </tr>\n",
       "    <tr>\n",
       "      <th>1</th>\n",
       "      <td>GFcNYpLZYlcpBQNrVjMh8Q</td>\n",
       "      <td>4</td>\n",
       "      <td>What a fun place. Valet parking, a great outsi...</td>\n",
       "      <td>190</td>\n",
       "    </tr>\n",
       "    <tr>\n",
       "      <th>2</th>\n",
       "      <td>6ov3a4K8metST0LxtoJ4sA</td>\n",
       "      <td>3</td>\n",
       "      <td>My boyfriend and I dropped in for the first ti...</td>\n",
       "      <td>252</td>\n",
       "    </tr>\n",
       "    <tr>\n",
       "      <th>3</th>\n",
       "      <td>ahiXWr5mSXt9x0fbS4l-Cw</td>\n",
       "      <td>4</td>\n",
       "      <td>Excellent of breakfast or Sunday brunch! There...</td>\n",
       "      <td>326</td>\n",
       "    </tr>\n",
       "    <tr>\n",
       "      <th>4</th>\n",
       "      <td>9Ld-tBcjbtoMG-qx_l5G4A</td>\n",
       "      <td>4</td>\n",
       "      <td>I would actually give this place a 4.5 stars i...</td>\n",
       "      <td>2570</td>\n",
       "    </tr>\n",
       "  </tbody>\n",
       "</table>\n",
       "</div>"
      ],
      "text/plain": [
       "                review_id  stars  \\\n",
       "0  kMWkKrJkqHx5SW9sz_JEnw      5   \n",
       "1  GFcNYpLZYlcpBQNrVjMh8Q      4   \n",
       "2  6ov3a4K8metST0LxtoJ4sA      3   \n",
       "3  ahiXWr5mSXt9x0fbS4l-Cw      4   \n",
       "4  9Ld-tBcjbtoMG-qx_l5G4A      4   \n",
       "\n",
       "                                                text  review_length  \n",
       "0  The best service I had was here during my time...            300  \n",
       "1  What a fun place. Valet parking, a great outsi...            190  \n",
       "2  My boyfriend and I dropped in for the first ti...            252  \n",
       "3  Excellent of breakfast or Sunday brunch! There...            326  \n",
       "4  I would actually give this place a 4.5 stars i...           2570  "
      ]
     },
     "execution_count": 4,
     "metadata": {},
     "output_type": "execute_result"
    }
   ],
   "source": [
    "reviews.head()"
   ]
  },
  {
   "cell_type": "code",
   "execution_count": 64,
   "metadata": {},
   "outputs": [
    {
     "data": {
      "image/png": "[encoded data removed]",
      "text/plain": [
       "<Figure size 432x288 with 1 Axes>"
      ]
     },
     "metadata": {},
     "output_type": "display_data"
    }
   ],
   "source": [
    "ax = reviews['stars'].value_counts().plot(kind='bar')  # note the bars are ordered by frequency not star number"
   ]
  },
  {
   "cell_type": "code",
   "execution_count": 8,
   "metadata": {},
   "outputs": [
    {
     "data": {
      "text/html": [
       "<div>\n",
       "<style scoped>\n",
       "    .dataframe tbody tr th:only-of-type {\n",
       "        vertical-align: middle;\n",
       "    }\n",
       "\n",
       "    .dataframe tbody tr th {\n",
       "        vertical-align: top;\n",
       "    }\n",
       "\n",
       "    .dataframe thead th {\n",
       "        text-align: right;\n",
       "    }\n",
       "</style>\n",
       "<table border=\"1\" class=\"dataframe\">\n",
       "  <thead>\n",
       "    <tr style=\"text-align: right;\">\n",
       "      <th></th>\n",
       "      <th>review_id</th>\n",
       "      <th>stars</th>\n",
       "      <th>text</th>\n",
       "      <th>review_length</th>\n",
       "      <th>is_positive</th>\n",
       "    </tr>\n",
       "  </thead>\n",
       "  <tbody>\n",
       "    <tr>\n",
       "      <th>0</th>\n",
       "      <td>kMWkKrJkqHx5SW9sz_JEnw</td>\n",
       "      <td>5</td>\n",
       "      <td>The best service I had was here during my time...</td>\n",
       "      <td>300</td>\n",
       "      <td>True</td>\n",
       "    </tr>\n",
       "    <tr>\n",
       "      <th>1</th>\n",
       "      <td>GFcNYpLZYlcpBQNrVjMh8Q</td>\n",
       "      <td>4</td>\n",
       "      <td>What a fun place. Valet parking, a great outsi...</td>\n",
       "      <td>190</td>\n",
       "      <td>True</td>\n",
       "    </tr>\n",
       "    <tr>\n",
       "      <th>2</th>\n",
       "      <td>6ov3a4K8metST0LxtoJ4sA</td>\n",
       "      <td>3</td>\n",
       "      <td>My boyfriend and I dropped in for the first ti...</td>\n",
       "      <td>252</td>\n",
       "      <td>False</td>\n",
       "    </tr>\n",
       "    <tr>\n",
       "      <th>3</th>\n",
       "      <td>ahiXWr5mSXt9x0fbS4l-Cw</td>\n",
       "      <td>4</td>\n",
       "      <td>Excellent of breakfast or Sunday brunch! There...</td>\n",
       "      <td>326</td>\n",
       "      <td>True</td>\n",
       "    </tr>\n",
       "    <tr>\n",
       "      <th>4</th>\n",
       "      <td>9Ld-tBcjbtoMG-qx_l5G4A</td>\n",
       "      <td>4</td>\n",
       "      <td>I would actually give this place a 4.5 stars i...</td>\n",
       "      <td>2570</td>\n",
       "      <td>True</td>\n",
       "    </tr>\n",
       "  </tbody>\n",
       "</table>\n",
       "</div>"
      ],
      "text/plain": [
       "                review_id  stars  \\\n",
       "0  kMWkKrJkqHx5SW9sz_JEnw      5   \n",
       "1  GFcNYpLZYlcpBQNrVjMh8Q      4   \n",
       "2  6ov3a4K8metST0LxtoJ4sA      3   \n",
       "3  ahiXWr5mSXt9x0fbS4l-Cw      4   \n",
       "4  9Ld-tBcjbtoMG-qx_l5G4A      4   \n",
       "\n",
       "                                                text  review_length  \\\n",
       "0  The best service I had was here during my time...            300   \n",
       "1  What a fun place. Valet parking, a great outsi...            190   \n",
       "2  My boyfriend and I dropped in for the first ti...            252   \n",
       "3  Excellent of breakfast or Sunday brunch! There...            326   \n",
       "4  I would actually give this place a 4.5 stars i...           2570   \n",
       "\n",
       "   is_positive  \n",
       "0         True  \n",
       "1         True  \n",
       "2        False  \n",
       "3         True  \n",
       "4         True  "
      ]
     },
     "execution_count": 8,
     "metadata": {},
     "output_type": "execute_result"
    }
   ],
   "source": [
    "# to deal with the unbalanced data (and to make the classifier binary instead of multiclass), put ratings 4-5 as positive and ratings 1-3 as negative\n",
    "reviews['is_positive'] = reviews['stars'] > 3\n",
    "reviews.head()"
   ]
  },
  {
   "cell_type": "code",
   "execution_count": 9,
   "metadata": {},
   "outputs": [
    {
     "data": {
      "image/png": "[encoded data removed]",
      "text/plain": [
       "<Figure size 432x288 with 1 Axes>"
      ]
     },
     "metadata": {},
     "output_type": "display_data"
    }
   ],
   "source": [
    "ax = reviews['is_positive'].value_counts().plot(kind='bar')"
   ]
  },
  {
   "cell_type": "code",
   "execution_count": 10,
   "metadata": {},
   "outputs": [],
   "source": [
    "reviews['star_tuples'] = reviews.apply(lambda row: (row['text'], str(row['stars']) ), axis=1 )"
   ]
  },
  {
   "cell_type": "code",
   "execution_count": 11,
   "metadata": {},
   "outputs": [],
   "source": [
    "reviews['tuples'] = reviews.apply(\n",
    "    lambda row: (row['text'], row['is_positive']), axis=1)\n",
    "train = reviews['tuples'].tolist()"
   ]
  },
  {
   "cell_type": "code",
   "execution_count": 12,
   "metadata": {},
   "outputs": [
    {
     "data": {
      "text/plain": [
       "[('The best service I had was here during my time in Las Vegas. The al a cart sides were large enough to share family style. My filet was overcooked and the server had another one out to me in minutes. The martinis were wonderful in chilled glasses with blue cheese olives. The table settings beautiful.',\n",
       "  True),\n",
       " (\"What a fun place. Valet parking, a great outside covered patio shared by 4 great restos! Had lunch at Bario which was good and then played some ping pong in the yard. Can't wait to go again!\",\n",
       "  True),\n",
       " ('My boyfriend and I dropped in for the first time on a Sunday afternoon.  The atmosphere was nice and the restaurant was very clean.  Our server Dan was knowledgeable and pleasant. The food was average but good for the price. We will definately be back.',\n",
       "  False)]"
      ]
     },
     "execution_count": 12,
     "metadata": {},
     "output_type": "execute_result"
    }
   ],
   "source": [
    "train[:3]"
   ]
  },
  {
   "cell_type": "code",
   "execution_count": 13,
   "metadata": {},
   "outputs": [
    {
     "data": {
      "text/plain": [
       "[('Super!\\nMy 1st good meal in Phoenix !\\nSigh ...come with family so Chinese food everyday..sucks...\\n\\nGood as it said ..highly recommend...\\n\\nThe braised short rib pizza\\nPB&J smoothie',\n",
       "  True),\n",
       " ('12 of us went on a Friday night. There was a large variety of food ordered and everyone enjoyed their meals. I would give 5 stars but the server was not very attentive. Wine is included. Overall an awesome value for Vegas!',\n",
       "  True)]"
      ]
     },
     "execution_count": 13,
     "metadata": {},
     "output_type": "execute_result"
    }
   ],
   "source": [
    "train[-2:]"
   ]
  },
  {
   "cell_type": "code",
   "execution_count": 14,
   "metadata": {},
   "outputs": [
    {
     "data": {
      "text/html": [
       "<div>\n",
       "<style scoped>\n",
       "    .dataframe tbody tr th:only-of-type {\n",
       "        vertical-align: middle;\n",
       "    }\n",
       "\n",
       "    .dataframe tbody tr th {\n",
       "        vertical-align: top;\n",
       "    }\n",
       "\n",
       "    .dataframe thead th {\n",
       "        text-align: right;\n",
       "    }\n",
       "</style>\n",
       "<table border=\"1\" class=\"dataframe\">\n",
       "  <thead>\n",
       "    <tr style=\"text-align: right;\">\n",
       "      <th></th>\n",
       "      <th>review_id</th>\n",
       "      <th>stars</th>\n",
       "      <th>text</th>\n",
       "      <th>review_length</th>\n",
       "      <th>is_positive</th>\n",
       "      <th>star_tuples</th>\n",
       "      <th>tuples</th>\n",
       "    </tr>\n",
       "  </thead>\n",
       "  <tbody>\n",
       "    <tr>\n",
       "      <th>0</th>\n",
       "      <td>kMWkKrJkqHx5SW9sz_JEnw</td>\n",
       "      <td>5</td>\n",
       "      <td>The best service I had was here during my time...</td>\n",
       "      <td>300</td>\n",
       "      <td>True</td>\n",
       "      <td>(The best service I had was here during my tim...</td>\n",
       "      <td>(The best service I had was here during my tim...</td>\n",
       "    </tr>\n",
       "    <tr>\n",
       "      <th>1</th>\n",
       "      <td>GFcNYpLZYlcpBQNrVjMh8Q</td>\n",
       "      <td>4</td>\n",
       "      <td>What a fun place. Valet parking, a great outsi...</td>\n",
       "      <td>190</td>\n",
       "      <td>True</td>\n",
       "      <td>(What a fun place. Valet parking, a great outs...</td>\n",
       "      <td>(What a fun place. Valet parking, a great outs...</td>\n",
       "    </tr>\n",
       "    <tr>\n",
       "      <th>2</th>\n",
       "      <td>6ov3a4K8metST0LxtoJ4sA</td>\n",
       "      <td>3</td>\n",
       "      <td>My boyfriend and I dropped in for the first ti...</td>\n",
       "      <td>252</td>\n",
       "      <td>False</td>\n",
       "      <td>(My boyfriend and I dropped in for the first t...</td>\n",
       "      <td>(My boyfriend and I dropped in for the first t...</td>\n",
       "    </tr>\n",
       "    <tr>\n",
       "      <th>3</th>\n",
       "      <td>ahiXWr5mSXt9x0fbS4l-Cw</td>\n",
       "      <td>4</td>\n",
       "      <td>Excellent of breakfast or Sunday brunch! There...</td>\n",
       "      <td>326</td>\n",
       "      <td>True</td>\n",
       "      <td>(Excellent of breakfast or Sunday brunch! Ther...</td>\n",
       "      <td>(Excellent of breakfast or Sunday brunch! Ther...</td>\n",
       "    </tr>\n",
       "    <tr>\n",
       "      <th>4</th>\n",
       "      <td>9Ld-tBcjbtoMG-qx_l5G4A</td>\n",
       "      <td>4</td>\n",
       "      <td>I would actually give this place a 4.5 stars i...</td>\n",
       "      <td>2570</td>\n",
       "      <td>True</td>\n",
       "      <td>(I would actually give this place a 4.5 stars ...</td>\n",
       "      <td>(I would actually give this place a 4.5 stars ...</td>\n",
       "    </tr>\n",
       "  </tbody>\n",
       "</table>\n",
       "</div>"
      ],
      "text/plain": [
       "                review_id  stars  \\\n",
       "0  kMWkKrJkqHx5SW9sz_JEnw      5   \n",
       "1  GFcNYpLZYlcpBQNrVjMh8Q      4   \n",
       "2  6ov3a4K8metST0LxtoJ4sA      3   \n",
       "3  ahiXWr5mSXt9x0fbS4l-Cw      4   \n",
       "4  9Ld-tBcjbtoMG-qx_l5G4A      4   \n",
       "\n",
       "                                                text  review_length  \\\n",
       "0  The best service I had was here during my time...            300   \n",
       "1  What a fun place. Valet parking, a great outsi...            190   \n",
       "2  My boyfriend and I dropped in for the first ti...            252   \n",
       "3  Excellent of breakfast or Sunday brunch! There...            326   \n",
       "4  I would actually give this place a 4.5 stars i...           2570   \n",
       "\n",
       "   is_positive                                        star_tuples  \\\n",
       "0         True  (The best service I had was here during my tim...   \n",
       "1         True  (What a fun place. Valet parking, a great outs...   \n",
       "2        False  (My boyfriend and I dropped in for the first t...   \n",
       "3         True  (Excellent of breakfast or Sunday brunch! Ther...   \n",
       "4         True  (I would actually give this place a 4.5 stars ...   \n",
       "\n",
       "                                              tuples  \n",
       "0  (The best service I had was here during my tim...  \n",
       "1  (What a fun place. Valet parking, a great outs...  \n",
       "2  (My boyfriend and I dropped in for the first t...  \n",
       "3  (Excellent of breakfast or Sunday brunch! Ther...  \n",
       "4  (I would actually give this place a 4.5 stars ...  "
      ]
     },
     "execution_count": 14,
     "metadata": {},
     "output_type": "execute_result"
    }
   ],
   "source": [
    "reviews.head()"
   ]
  },
  {
   "cell_type": "markdown",
   "metadata": {},
   "source": [
    "## Functions for spaCy classification"
   ]
  },
  {
   "cell_type": "code",
   "execution_count": 15,
   "metadata": {},
   "outputs": [],
   "source": [
    "# get a list of labels into a format that spaCy can use\n",
    "def starcats_from_labels(labels, min_stars=1, max_stars=5):\n",
    "    return [\n",
    "            {str(star): str(star) == y \n",
    "            for star in range(min_stars, max_stars + 1)}\n",
    "            for y in labels\n",
    "           ]\n",
    "\n",
    "def poscats_from_labels(labels):\n",
    "    return [{'POSITIVE': y, 'NEGATIVE': not y} for y in labels]"
   ]
  },
  {
   "cell_type": "code",
   "execution_count": 51,
   "metadata": {},
   "outputs": [],
   "source": [
    "def load_data(train_list, limit=0, train_split=0.8, test_split=0, cat_function=poscats_from_labels):\n",
    "    \"\"\"\n",
    "    Given a list of data, return training data and validation data.\n",
    "    Limit is the total number of samples to use.\n",
    "    train_split is what percentage to use for training. test_split is what percentage to use for testing (the rest is for validation).\n",
    "    test_split is currently not used.\n",
    "    \n",
    "    Note: this assumes data is already shuffled (i.e., in random order)\n",
    "    \"\"\"\n",
    "    train_data = train_list[-limit:]\n",
    "    texts, labels = zip(*train_data)\n",
    "    cats = cat_function(labels)\n",
    "    split = int(len(train_data) * train_split)\n",
    "    return (texts[:split], cats[:split]), (texts[split:], cats[split:])\n",
    "\n",
    "def prepare_training(train, n_texts=0, train_split=0.8, test_split=0, labels=(\"POSITIVE\", \"NEGATIVE\"), \n",
    "                     cfg={\"exclusive_classes\": True, \"architecture\": \"simple_cnn\"}, cat_function=poscats_from_labels):\n",
    "    # train_split is what percentage to use for training. test_split is what percentage to use for testing (the rest is for validation).\n",
    "    # test_split is currently not used.\n",
    "    if not n_texts:\n",
    "        n_texts = len(train)\n",
    "    nlp = spacy.load(\"en_core_web_sm\")\n",
    "    # add the text classifier to the pipeline if it doesn't exist\n",
    "    # nlp.create_pipe works for built-ins that are registered with spaCy\n",
    "    # use config options from spacy training tutorial\n",
    "    if 'textcat' not in nlp.pipe_names:\n",
    "        textcat = nlp.create_pipe('textcat', config=cfg)\n",
    "        nlp.add_pipe(textcat, last=True)\n",
    "    # otherwise, get it, so we can add labels to it\n",
    "    else:\n",
    "        textcat = nlp.get_pipe('textcat')\n",
    "\n",
    "    # add labels to text classifier.\n",
    "    for label in labels:\n",
    "        textcat.add_label(label)\n",
    "\n",
    "    # load the dataset\n",
    "    print(\"Loading data...\")\n",
    "    (train_texts, train_cats), (dev_texts, dev_cats) = load_data(train, limit=n_texts, train_split=train_split,\n",
    "                                                                 test_split=test_split,\n",
    "                                                                cat_function=cat_function)\n",
    "    print(\"Using {} examples ({} training, {} evaluation)\"\n",
    "          .format(n_texts, len(train_texts), len(dev_texts)))\n",
    "    train_data = list(zip(train_texts,\n",
    "                          [{'cats': cats} for cats in train_cats]))\n",
    "    return train_data, nlp, (train_texts, train_cats), (dev_texts, dev_cats)\n",
    "\n",
    "def evaluate_binary(tokenizer, textcat, texts, cats, labels=None, positive_label=\"POSITIVE\"):\n",
    "    docs = (tokenizer(text) for text in texts)\n",
    "    tp = 1e-8  # True positives\n",
    "    fp = 1e-8  # False positives\n",
    "    fn = 1e-8  # False negatives\n",
    "    tn = 1e-8  # True negatives\n",
    "    for i, doc in enumerate(textcat.pipe(docs)):\n",
    "        gold = cats[i]  # gold for gold standard (the true label)\n",
    "        if not labels:\n",
    "            try:\n",
    "                labels = sorted(set(cats.keys()))\n",
    "            except AttributeError:\n",
    "                labels = sorted(set(cats))\n",
    "        if positive_label not in labels:\n",
    "            raise ValueError(\"Invalid labels for binary classification\")\n",
    "        for label, score in doc.cats.items():\n",
    "            if label not in gold:\n",
    "                continue\n",
    "            if label != positive_label:\n",
    "                continue\n",
    "            if score >= 0.5 and gold[label] >= 0.5:\n",
    "                tp += 1.\n",
    "            elif score >= 0.5 and gold[label] < 0.5:\n",
    "                fp += 1.\n",
    "            elif score < 0.5 and gold[label] < 0.5:\n",
    "                tn += 1\n",
    "            elif score < 0.5 and gold[label] >= 0.5:\n",
    "                fn += 1\n",
    "    # true positives + true negatives + false positives + false negatives should equal the number of documents,\n",
    "    # or we've done something wrong\n",
    "    assert isclose(tp + fp + tn + fn, len(texts)), (tp + fp + tn + fn, len(texts))\n",
    "    precision = tp / (tp + fp)\n",
    "    recall = tp / (tp + fn)\n",
    "    accuracy = (tp + tn) / (tp + tn + fp + fn)\n",
    "    f_score = 2 * (precision * recall) / (precision + recall)\n",
    "    cm = np.array([[tp, fn], [fp, tn]])\n",
    "    metrics = {'precision': precision, 'recall': recall, 'F': f_score,\n",
    "           'accuracy': accuracy, 'tp': tp, 'tn': tn, 'fp': fp, 'fn': fn}\n",
    "    print(metrics)\n",
    "    return {'precision': precision, 'recall': recall, 'F': f_score,\n",
    "           'accuracy': accuracy, 'tp': tp, 'tn': tn, 'fp': fp, 'fn': fn}, cm\n",
    "\n",
    "def evaluate_multiclass(tokenizer, textcat, texts, cats, labels=None):\n",
    "    if not labels:\n",
    "        try:\n",
    "            labels = sorted(set(cats.keys()))\n",
    "        except AttributeError:\n",
    "            labels = sorted(set(cats))\n",
    "    y_true = [key for entry in cats for key, value in entry.items() if value]\n",
    "    y_pred = []\n",
    "    docs = (tokenizer(text) for text in texts)\n",
    "\n",
    "    for i, doc in enumerate(textcat.pipe(docs)):\n",
    "        gold = cats[i]  # gold for gold standard (the true label)\n",
    "        # for multiclass, we will say that whatever the highest score is counts as the prediction.\n",
    "        max_score = max(doc.cats.values())\n",
    "        if list(doc.cats.values()).count(max_score) > 1:\n",
    "            raise ValueError(f'duplicate score: {max_score}')\n",
    "#         print(f\"doc {i}, max score {max_score}\")\n",
    "#         print(\"gold:\", gold)\n",
    "        for label, score in doc.cats.items():\n",
    "#             print(label, score)\n",
    "            if label not in gold:\n",
    "                continue\n",
    "#             print(label, score, 'gold')\n",
    "            if score == max_score:\n",
    "                y_pred.append(label)\n",
    "\n",
    "    # true positives + true negatives + false positives + false negatives should equal the number of documents,\n",
    "    # or we've done something wrong\n",
    "    assert len(y_true) == len(y_pred) == len(texts), (len(y_true), len(y_pred), len(texts))\n",
    "    \n",
    "    cm = confusion_matrix(y_true, y_pred)\n",
    "    print(classification_report(y_true, y_pred))\n",
    "    cr = classification_report(y_true, y_pred, output_dict=True)\n",
    "    metrics = dict()\n",
    "    \n",
    "    for key, value in cr.items():\n",
    "        if type(value) != dict:\n",
    "            metrics[key] = value\n",
    "        else:\n",
    "            for k, v in value.items():\n",
    "                # store data in long form\n",
    "                metrics[f\"{key.replace(' ', '-')}\"] = v\n",
    "                metrics[\"category\"] = k\n",
    "    \n",
    "    return metrics, cm"
   ]
  },
  {
   "cell_type": "code",
   "execution_count": 45,
   "metadata": {},
   "outputs": [],
   "source": [
    "def do_training(train_data, nlp, train_info, dev_info, n_iter=10, batch_sizes=None, drop=0.2,\n",
    "               evaluate=None, labels=(\"POSITIVE\", \"NEGATIVE\")):\n",
    "    if not batch_sizes:\n",
    "        batch_sizes = compounding(4.0, 32.0, 1.001)\n",
    "    if not evaluate:\n",
    "        if len(labels) > 2:\n",
    "            evaluate = evaluate_multiclass\n",
    "        else:\n",
    "            evaluate = evaluate_binary\n",
    "    # get names of other pipes to disable them during training\n",
    "    # the last two are for if you are using transformers (see https://spacy.io/models/en-starters)\n",
    "    pipe_exceptions = [\"textcat\", \"trf_wordpiecer\", \"trf_tok2vec\"]\n",
    "    other_pipes = [pipe for pipe in nlp.pipe_names if pipe not in pipe_exceptions]\n",
    "    train_texts, train_cats = train_info\n",
    "    dev_texts, dev_cats = dev_info\n",
    "\n",
    "#     headers = [\"iteration\", \"loss\", \"precision_train\", \"recall_train\", \"F_train\", \"accuracy_train\",\n",
    "#                       \"precision_validation\", \"recall_validation\", \"F_validation\", \"accuracy_validation\",]\n",
    "#     metrics = {header: [] for header in headers}\n",
    "    metrics = {'iteration': [], 'loss': [], 'cm_train': [], 'cm_validation': []}\n",
    "    textcat = nlp.get_pipe('textcat')\n",
    "\n",
    "    start = time.time()\n",
    "    with nlp.disable_pipes(*other_pipes):  # only train textcat\n",
    "        optimizer = nlp.begin_training()\n",
    "        print(\"Training the model...\")\n",
    "        print('\\tprecision\\trecall\\tF-score\\taccuracy')\n",
    "        batch_sizes = compounding(4.0, 32.0, 1.001)\n",
    "        for i in range(n_iter):\n",
    "            losses = {}\n",
    "            # batch up the examples using spaCy's minibatch\n",
    "            random.shuffle(train_data)\n",
    "            batches = minibatch(train_data, size=batch_sizes)\n",
    "            for batch in batches:\n",
    "                texts, annotations = zip(*batch)\n",
    "                nlp.update(texts, annotations, sgd=optimizer, drop=drop, losses=losses)\n",
    "            with textcat.model.use_params(optimizer.averages):\n",
    "                # evaluate on the dev data split off in load_data()\n",
    "                print(f\"iteration: {i}, loss: {losses['textcat']:.5f}\")\n",
    "                print(\"training scores, then validation scores\")\n",
    "                train_scores, train_cm = evaluate(nlp.tokenizer, textcat, train_texts, train_cats, labels=labels)\n",
    "                dev_scores, dev_cm = evaluate(nlp.tokenizer, textcat, dev_texts, dev_cats, labels=labels)\n",
    "#                 print(\n",
    "#                     f\"\"\"iteration: {i}, loss: {losses['textcat']:.5f}\n",
    "# training:   {train_scores['precision']:.5f}\\t{train_scores['recall']:.5f}\\t{train_scores['F']:.5f}\\t{train_scores['accuracy']:.5f}\n",
    "# validation: {dev_scores['precision']:.5f}\\t{dev_scores['recall']:.5f}\\t{dev_scores['F']:.5f}\\t{dev_scores['accuracy']:.5f}\n",
    "# \"\"\"\n",
    "#                 )\n",
    "                metrics['iteration'].append(i)\n",
    "                metrics['loss'].append(losses['textcat'])\n",
    "                for name, score_dict in zip(('train', 'validation'), (train_scores, dev_scores)):\n",
    "                    for key, val in score_dict.items():\n",
    "                        if f\"{key}_{name}\" not in metrics:\n",
    "                            metrics[f\"{key}_{name}\"] = []\n",
    "                        metrics[f\"{key}_{name}\"].append(val)\n",
    "                metrics['cm_train'].append(train_cm)\n",
    "                metrics['cm_validation'].append(dev_cm)\n",
    "\n",
    "    end = time.time()\n",
    "    training_time = timedelta(seconds = end - start)\n",
    "    print(\"Training time:\", training_time)\n",
    "    metrics = pd.DataFrame(metrics)\n",
    "    return metrics"
   ]
  },
  {
   "cell_type": "markdown",
   "metadata": {},
   "source": [
    "## Binary classifier (positive or negative)"
   ]
  },
  {
   "cell_type": "markdown",
   "metadata": {},
   "source": [
    "### Simple CNN"
   ]
  },
  {
   "cell_type": "code",
   "execution_count": 19,
   "metadata": {},
   "outputs": [
    {
     "name": "stdout",
     "output_type": "stream",
     "text": [
      "Loading data...\n",
      "Using 25000 examples (20000 training, 5000 evaluation)\n",
      "Training the model...\n",
      "\tprecision\trecall\tF-score\taccuracy\n",
      "iteration: 0, loss: 11.62809\n",
      "training scores, then validation scores\n",
      "{'precision': 0.9152869552299127, 'recall': 0.9433009411577882, 'F': 0.9290828246281873, 'accuracy': 0.9058999999991881, 'tp': 12328.00000001, 'tn': 5790.00000001, 'fp': 1141.00000001, 'fn': 741.00000001}\n",
      "{'precision': 0.8925149700575299, 'recall': 0.9197778463411307, 'F': 0.9059413462974871, 'accuracy': 0.8761999999969904, 'tp': 2981.00000001, 'tn': 1400.00000001, 'fp': 359.00000001, 'fn': 260.00000001}\n",
      "iteration: 1, loss: 0.11419\n",
      "training scores, then validation scores\n",
      "{'precision': 0.9351921064427638, 'recall': 0.9573035427340159, 'F': 0.9461186523984632, 'accuracy': 0.9287499999991424, 'tp': 12511.00000001, 'tn': 6064.00000001, 'fp': 867.00000001, 'fn': 558.00000001}\n",
      "{'precision': 0.8988326848225152, 'recall': 0.9265658747273893, 'F': 0.9124886052846399, 'accuracy': 0.8847999999969216, 'tp': 3003.00000001, 'tn': 1421.00000001, 'fp': 338.00000001, 'fn': 238.00000001}\n",
      "iteration: 2, loss: 0.07990\n",
      "training scores, then validation scores\n",
      "{'precision': 0.94887724550831, 'recall': 0.970005356185676, 'F': 0.9593249839184845, 'accuracy': 0.9462499999991074, 'tp': 12677.00000001, 'tn': 6248.00000001, 'fp': 683.00000001, 'fn': 392.00000001}\n",
      "{'precision': 0.9040312876028639, 'recall': 0.9271829682170492, 'F': 0.9154607768443842, 'accuracy': 0.8889999999968881, 'tp': 3005.00000001, 'tn': 1440.00000001, 'fp': 319.00000001, 'fn': 236.00000001}\n",
      "iteration: 3, loss: 0.07064\n",
      "training scores, then validation scores\n",
      "{'precision': 0.9618567559427296, 'recall': 0.9782691866241054, 'F': 0.9699935510785326, 'accuracy': 0.960449999999079, 'tp': 12785.00000001, 'tn': 6424.00000001, 'fp': 507.00000001, 'fn': 284.00000001}\n",
      "{'precision': 0.9026363091647536, 'recall': 0.9296513421756887, 'F': 0.9159446724400916, 'accuracy': 0.8893999999968848, 'tp': 3013.00000001, 'tn': 1434.00000001, 'fp': 325.00000001, 'fn': 228.00000001}\n",
      "iteration: 4, loss: 0.06037\n",
      "training scores, then validation scores\n",
      "{'precision': 0.9728133282840244, 'recall': 0.982936720482848, 'F': 0.9778488239316772, 'accuracy': 0.9708999999990581, 'tp': 12846.00000001, 'tn': 6572.00000001, 'fp': 359.00000001, 'fn': 223.00000001}\n",
      "{'precision': 0.90480507706011, 'recall': 0.9237889540239199, 'F': 0.9141984732799134, 'accuracy': 0.8875999999968992, 'tp': 2994.00000001, 'tn': 1444.00000001, 'fp': 315.00000001, 'fn': 247.00000001}\n",
      "iteration: 5, loss: 0.05280\n",
      "training scores, then validation scores\n",
      "{'precision': 0.9764386044396972, 'recall': 0.989364144157182, 'F': 0.9828588803154834, 'accuracy': 0.977449999999045, 'tp': 12930.00000001, 'tn': 6619.00000001, 'fp': 312.00000001, 'fn': 139.00000001}\n",
      "{'precision': 0.9006323396543172, 'recall': 0.9228633137894301, 'F': 0.911612313316601, 'accuracy': 0.883999999996928, 'tp': 2991.00000001, 'tn': 1429.00000001, 'fp': 330.00000001, 'fn': 250.00000001}\n",
      "iteration: 6, loss: 0.04729\n",
      "training scores, then validation scores\n",
      "{'precision': 0.9842005317121394, 'recall': 0.9914301017667894, 'F': 0.9878020888915334, 'accuracy': 0.9839999999990319, 'tp': 12957.00000001, 'tn': 6723.00000001, 'fp': 208.00000001, 'fn': 112.00000001000001}\n",
      "{'precision': 0.9032747119441887, 'recall': 0.9191607528514708, 'F': 0.9111484936509489, 'accuracy': 0.8837999999969296, 'tp': 2979.00000001, 'tn': 1440.00000001, 'fp': 319.00000001, 'fn': 262.00000001}\n",
      "iteration: 7, loss: 0.03857\n",
      "training scores, then validation scores\n",
      "{'precision': 0.9885118685324277, 'recall': 0.9941847119129326, 'F': 0.9913401747217161, 'accuracy': 0.9886499999990226, 'tp': 12993.00000001, 'tn': 6780.00000001, 'fp': 151.00000001, 'fn': 76.00000001000001}\n",
      "{'precision': 0.902032150437355, 'recall': 0.9176180191273211, 'F': 0.909758335880026, 'accuracy': 0.881999999996944, 'tp': 2974.00000001, 'tn': 1436.00000001, 'fp': 323.00000001, 'fn': 267.00000001}\n",
      "iteration: 8, loss: 0.03629\n",
      "training scores, then validation scores\n",
      "{'precision': 0.9929061784889505, 'recall': 0.996021118677028, 'F': 0.9944612093655304, 'accuracy': 0.9927499999990144, 'tp': 13017.00000001, 'tn': 6838.00000001, 'fp': 93.00000001000001, 'fn': 52.00000001}\n",
      "{'precision': 0.9012681159396059, 'recall': 0.9210120333204505, 'F': 0.9110331146014891, 'accuracy': 0.8833999999969329, 'tp': 2985.00000001, 'tn': 1432.00000001, 'fp': 327.00000001, 'fn': 256.00000001}\n",
      "iteration: 9, loss: 0.03115\n",
      "training scores, then validation scores\n",
      "{'precision': 0.994809160304588, 'recall': 0.9971688729045877, 'F': 0.9959876189376804, 'accuracy': 0.9947499999990104, 'tp': 13032.00000001, 'tn': 6863.00000001, 'fp': 68.00000001000001, 'fn': 37.00000001}\n",
      "{'precision': 0.9025796661584062, 'recall': 0.9176180191273211, 'F': 0.910036719703733, 'accuracy': 0.8823999999969409, 'tp': 2974.00000001, 'tn': 1438.00000001, 'fp': 321.00000001, 'fn': 267.00000001}\n",
      "Training time: 0:33:24.596722\n"
     ]
    }
   ],
   "source": [
    "train_data, nlp, train_info, dev_info = prepare_training(train, n_texts=25000, train_split=0.8)\n",
    "metrics_small = do_training(train_data, nlp, train_info, dev_info, labels=('POSITIVE', 'NEGATIVE'), n_iter=10)"
   ]
  },
  {
   "cell_type": "code",
   "execution_count": 22,
   "metadata": {},
   "outputs": [
    {
     "data": {
      "text/html": [
       "<div>\n",
       "<style scoped>\n",
       "    .dataframe tbody tr th:only-of-type {\n",
       "        vertical-align: middle;\n",
       "    }\n",
       "\n",
       "    .dataframe tbody tr th {\n",
       "        vertical-align: top;\n",
       "    }\n",
       "\n",
       "    .dataframe thead th {\n",
       "        text-align: right;\n",
       "    }\n",
       "</style>\n",
       "<table border=\"1\" class=\"dataframe\">\n",
       "  <thead>\n",
       "    <tr style=\"text-align: right;\">\n",
       "      <th></th>\n",
       "      <th>iteration</th>\n",
       "      <th>loss</th>\n",
       "      <th>cm_train</th>\n",
       "      <th>cm_validation</th>\n",
       "      <th>precision_train</th>\n",
       "      <th>recall_train</th>\n",
       "      <th>F_train</th>\n",
       "      <th>accuracy_train</th>\n",
       "      <th>tp_train</th>\n",
       "      <th>tn_train</th>\n",
       "      <th>fp_train</th>\n",
       "      <th>fn_train</th>\n",
       "      <th>precision_validation</th>\n",
       "      <th>recall_validation</th>\n",
       "      <th>F_validation</th>\n",
       "      <th>accuracy_validation</th>\n",
       "      <th>tp_validation</th>\n",
       "      <th>tn_validation</th>\n",
       "      <th>fp_validation</th>\n",
       "      <th>fn_validation</th>\n",
       "    </tr>\n",
       "  </thead>\n",
       "  <tbody>\n",
       "    <tr>\n",
       "      <th>0</th>\n",
       "      <td>0</td>\n",
       "      <td>11.628088</td>\n",
       "      <td>[[12328.00000001, 741.00000001], [1141.0000000...</td>\n",
       "      <td>[[2981.00000001, 260.00000001], [359.00000001,...</td>\n",
       "      <td>0.915287</td>\n",
       "      <td>0.943301</td>\n",
       "      <td>0.929083</td>\n",
       "      <td>0.90590</td>\n",
       "      <td>12328.0</td>\n",
       "      <td>5790.0</td>\n",
       "      <td>1141.0</td>\n",
       "      <td>741.0</td>\n",
       "      <td>0.892515</td>\n",
       "      <td>0.919778</td>\n",
       "      <td>0.905941</td>\n",
       "      <td>0.8762</td>\n",
       "      <td>2981.0</td>\n",
       "      <td>1400.0</td>\n",
       "      <td>359.0</td>\n",
       "      <td>260.0</td>\n",
       "    </tr>\n",
       "    <tr>\n",
       "      <th>1</th>\n",
       "      <td>1</td>\n",
       "      <td>0.114190</td>\n",
       "      <td>[[12511.00000001, 558.00000001], [867.00000001...</td>\n",
       "      <td>[[3003.00000001, 238.00000001], [338.00000001,...</td>\n",
       "      <td>0.935192</td>\n",
       "      <td>0.957304</td>\n",
       "      <td>0.946119</td>\n",
       "      <td>0.92875</td>\n",
       "      <td>12511.0</td>\n",
       "      <td>6064.0</td>\n",
       "      <td>867.0</td>\n",
       "      <td>558.0</td>\n",
       "      <td>0.898833</td>\n",
       "      <td>0.926566</td>\n",
       "      <td>0.912489</td>\n",
       "      <td>0.8848</td>\n",
       "      <td>3003.0</td>\n",
       "      <td>1421.0</td>\n",
       "      <td>338.0</td>\n",
       "      <td>238.0</td>\n",
       "    </tr>\n",
       "    <tr>\n",
       "      <th>2</th>\n",
       "      <td>2</td>\n",
       "      <td>0.079897</td>\n",
       "      <td>[[12677.00000001, 392.00000001], [683.00000001...</td>\n",
       "      <td>[[3005.00000001, 236.00000001], [319.00000001,...</td>\n",
       "      <td>0.948877</td>\n",
       "      <td>0.970005</td>\n",
       "      <td>0.959325</td>\n",
       "      <td>0.94625</td>\n",
       "      <td>12677.0</td>\n",
       "      <td>6248.0</td>\n",
       "      <td>683.0</td>\n",
       "      <td>392.0</td>\n",
       "      <td>0.904031</td>\n",
       "      <td>0.927183</td>\n",
       "      <td>0.915461</td>\n",
       "      <td>0.8890</td>\n",
       "      <td>3005.0</td>\n",
       "      <td>1440.0</td>\n",
       "      <td>319.0</td>\n",
       "      <td>236.0</td>\n",
       "    </tr>\n",
       "    <tr>\n",
       "      <th>3</th>\n",
       "      <td>3</td>\n",
       "      <td>0.070644</td>\n",
       "      <td>[[12785.00000001, 284.00000001], [507.00000001...</td>\n",
       "      <td>[[3013.00000001, 228.00000001], [325.00000001,...</td>\n",
       "      <td>0.961857</td>\n",
       "      <td>0.978269</td>\n",
       "      <td>0.969994</td>\n",
       "      <td>0.96045</td>\n",
       "      <td>12785.0</td>\n",
       "      <td>6424.0</td>\n",
       "      <td>507.0</td>\n",
       "      <td>284.0</td>\n",
       "      <td>0.902636</td>\n",
       "      <td>0.929651</td>\n",
       "      <td>0.915945</td>\n",
       "      <td>0.8894</td>\n",
       "      <td>3013.0</td>\n",
       "      <td>1434.0</td>\n",
       "      <td>325.0</td>\n",
       "      <td>228.0</td>\n",
       "    </tr>\n",
       "    <tr>\n",
       "      <th>4</th>\n",
       "      <td>4</td>\n",
       "      <td>0.060368</td>\n",
       "      <td>[[12846.00000001, 223.00000001], [359.00000001...</td>\n",
       "      <td>[[2994.00000001, 247.00000001], [315.00000001,...</td>\n",
       "      <td>0.972813</td>\n",
       "      <td>0.982937</td>\n",
       "      <td>0.977849</td>\n",
       "      <td>0.97090</td>\n",
       "      <td>12846.0</td>\n",
       "      <td>6572.0</td>\n",
       "      <td>359.0</td>\n",
       "      <td>223.0</td>\n",
       "      <td>0.904805</td>\n",
       "      <td>0.923789</td>\n",
       "      <td>0.914198</td>\n",
       "      <td>0.8876</td>\n",
       "      <td>2994.0</td>\n",
       "      <td>1444.0</td>\n",
       "      <td>315.0</td>\n",
       "      <td>247.0</td>\n",
       "    </tr>\n",
       "  </tbody>\n",
       "</table>\n",
       "</div>"
      ],
      "text/plain": [
       "   iteration       loss                                           cm_train  \\\n",
       "0          0  11.628088  [[12328.00000001, 741.00000001], [1141.0000000...   \n",
       "1          1   0.114190  [[12511.00000001, 558.00000001], [867.00000001...   \n",
       "2          2   0.079897  [[12677.00000001, 392.00000001], [683.00000001...   \n",
       "3          3   0.070644  [[12785.00000001, 284.00000001], [507.00000001...   \n",
       "4          4   0.060368  [[12846.00000001, 223.00000001], [359.00000001...   \n",
       "\n",
       "                                       cm_validation  precision_train  \\\n",
       "0  [[2981.00000001, 260.00000001], [359.00000001,...         0.915287   \n",
       "1  [[3003.00000001, 238.00000001], [338.00000001,...         0.935192   \n",
       "2  [[3005.00000001, 236.00000001], [319.00000001,...         0.948877   \n",
       "3  [[3013.00000001, 228.00000001], [325.00000001,...         0.961857   \n",
       "4  [[2994.00000001, 247.00000001], [315.00000001,...         0.972813   \n",
       "\n",
       "   recall_train   F_train  accuracy_train  tp_train  tn_train  fp_train  \\\n",
       "0      0.943301  0.929083         0.90590   12328.0    5790.0    1141.0   \n",
       "1      0.957304  0.946119         0.92875   12511.0    6064.0     867.0   \n",
       "2      0.970005  0.959325         0.94625   12677.0    6248.0     683.0   \n",
       "3      0.978269  0.969994         0.96045   12785.0    6424.0     507.0   \n",
       "4      0.982937  0.977849         0.97090   12846.0    6572.0     359.0   \n",
       "\n",
       "   fn_train  precision_validation  recall_validation  F_validation  \\\n",
       "0     741.0              0.892515           0.919778      0.905941   \n",
       "1     558.0              0.898833           0.926566      0.912489   \n",
       "2     392.0              0.904031           0.927183      0.915461   \n",
       "3     284.0              0.902636           0.929651      0.915945   \n",
       "4     223.0              0.904805           0.923789      0.914198   \n",
       "\n",
       "   accuracy_validation  tp_validation  tn_validation  fp_validation  \\\n",
       "0               0.8762         2981.0         1400.0          359.0   \n",
       "1               0.8848         3003.0         1421.0          338.0   \n",
       "2               0.8890         3005.0         1440.0          319.0   \n",
       "3               0.8894         3013.0         1434.0          325.0   \n",
       "4               0.8876         2994.0         1444.0          315.0   \n",
       "\n",
       "   fn_validation  \n",
       "0          260.0  \n",
       "1          238.0  \n",
       "2          236.0  \n",
       "3          228.0  \n",
       "4          247.0  "
      ]
     },
     "execution_count": 22,
     "metadata": {},
     "output_type": "execute_result"
    }
   ],
   "source": [
    "metrics_small.head()"
   ]
  },
  {
   "cell_type": "code",
   "execution_count": 23,
   "metadata": {},
   "outputs": [
    {
     "data": {
      "text/plain": [
       "<matplotlib.axes._subplots.AxesSubplot at 0x7f8b827ffe80>"
      ]
     },
     "execution_count": 23,
     "metadata": {},
     "output_type": "execute_result"
    },
    {
     "data": {
      "image/png": "[encoded data removed]",
      "text/plain": [
       "<Figure size 432x288 with 1 Axes>"
      ]
     },
     "metadata": {},
     "output_type": "display_data"
    }
   ],
   "source": [
    "metrics_small.plot(x='iteration', y='loss')"
   ]
  },
  {
   "cell_type": "code",
   "execution_count": 24,
   "metadata": {},
   "outputs": [
    {
     "data": {
      "image/png": "[encoded data removed]",
      "text/plain": [
       "<Figure size 432x288 with 1 Axes>"
      ]
     },
     "metadata": {},
     "output_type": "display_data"
    },
    {
     "data": {
      "image/png": "[encoded data removed]",
      "text/plain": [
       "<Figure size 432x288 with 1 Axes>"
      ]
     },
     "metadata": {},
     "output_type": "display_data"
    },
    {
     "data": {
      "image/png": "[encoded data removed]",
      "text/plain": [
       "<Figure size 432x288 with 1 Axes>"
      ]
     },
     "metadata": {},
     "output_type": "display_data"
    },
    {
     "data": {
      "image/png": "[encoded data removed]",
      "text/plain": [
       "<Figure size 432x288 with 1 Axes>"
      ]
     },
     "metadata": {},
     "output_type": "display_data"
    }
   ],
   "source": [
    "for metric in [\"precision\", \"recall\", \"accuracy\", \"F\"]:\n",
    "    ax = metrics_small.plot(x=\"iteration\", y=f\"{metric}_train\")\n",
    "    metrics_small.plot(x=\"iteration\", y=f\"{metric}_validation\", ax=ax)"
   ]
  },
  {
   "cell_type": "code",
   "execution_count": 25,
   "metadata": {},
   "outputs": [],
   "source": [
    "def plot_cm(cm, percent=True, labels=('POSITIVE', 'NEGATIVE'), title=\"Confusion Matrix\"):\n",
    "    # from https://stackoverflow.com/questions/19233771/sklearn-plot-confusion-matrix-with-labels/48018785\n",
    "    if percent:\n",
    "        matrix = cm / cm.sum()\n",
    "    else:\n",
    "        matrix = cm\n",
    "    ax = plt.subplot()\n",
    "    sns.heatmap(matrix, annot=True, ax = ax); #annot=True to annotate cells\n",
    "\n",
    "    # labels, title and ticks\n",
    "    ax.set_xlabel('Predicted labels')\n",
    "    ax.set_ylabel('True labels')\n",
    "    ax.set_title(title)\n",
    "    ax.xaxis.set_ticklabels(labels)\n",
    "    ax.yaxis.set_ticklabels(labels)"
   ]
  },
  {
   "cell_type": "code",
   "execution_count": 27,
   "metadata": {},
   "outputs": [
    {
     "data": {
      "image/png": "[encoded data removed]",
      "text/plain": [
       "<Figure size 432x288 with 2 Axes>"
      ]
     },
     "metadata": {},
     "output_type": "display_data"
    }
   ],
   "source": [
    "# iloc[-1] gets the last row (i.e., the most recent iteration)\n",
    "plot_cm(metrics_small['cm_train'].iloc[-1], title=\"Confusion Matrix (training)\")"
   ]
  },
  {
   "cell_type": "code",
   "execution_count": 28,
   "metadata": {},
   "outputs": [
    {
     "data": {
      "image/png": "[encoded data removed]",
      "text/plain": [
       "<Figure size 432x288 with 2 Axes>"
      ]
     },
     "metadata": {},
     "output_type": "display_data"
    }
   ],
   "source": [
    "plot_cm(metrics_small['cm_validation'].iloc[-1], title=\"Confusion Matrix (validation)\")"
   ]
  },
  {
   "cell_type": "markdown",
   "metadata": {},
   "source": [
    "Did our validation set have a different percentage of positive examples than our test set?"
   ]
  },
  {
   "cell_type": "code",
   "execution_count": 29,
   "metadata": {},
   "outputs": [
    {
     "name": "stdout",
     "output_type": "stream",
     "text": [
      "13069 positive examples, 6931 negative examples, 65.34% positive\n"
     ]
    }
   ],
   "source": [
    "_, train_cats = train_info\n",
    "num_n = 0\n",
    "for row in train_cats:\n",
    "    for key, value in row.items():\n",
    "        if key == 'NEGATIVE' and value is True:\n",
    "            num_n += 1\n",
    "num_p = len(train_cats) - num_n\n",
    "print(f\"{num_p} positive examples, {num_n} negative examples, {num_p/len(train_cats)*100:.2f}% positive\")"
   ]
  },
  {
   "cell_type": "code",
   "execution_count": 31,
   "metadata": {
    "scrolled": true
   },
   "outputs": [
    {
     "name": "stdout",
     "output_type": "stream",
     "text": [
      "3241 positive examples, 1759 negative examples, 64.82% positive\n"
     ]
    }
   ],
   "source": [
    "_, dev_cats = dev_info\n",
    "dev_n = 0\n",
    "dev_p = 0\n",
    "for row in dev_cats:\n",
    "    for key, value in row.items():\n",
    "        if key == 'NEGATIVE' and value is True:\n",
    "            dev_n += 1\n",
    "dev_p = len(dev_cats) - dev_n\n",
    "print(f\"{dev_p} positive examples, {dev_n} negative examples, {dev_p/len(dev_cats)*100:.2f}% positive\")"
   ]
  },
  {
   "cell_type": "markdown",
   "metadata": {},
   "source": [
    "### Bag of words"
   ]
  },
  {
   "cell_type": "code",
   "execution_count": 32,
   "metadata": {},
   "outputs": [
    {
     "name": "stdout",
     "output_type": "stream",
     "text": [
      "Loading data...\n",
      "Using 25000 examples (20000 training, 5000 evaluation)\n",
      "Training the model...\n",
      "\tprecision\trecall\tF-score\taccuracy\n",
      "iteration: 0, loss: 11.10580\n",
      "training scores, then validation scores\n",
      "{'precision': 0.9150456822864499, 'recall': 0.95026398347165, 'F': 0.9323223602711124, 'accuracy': 0.9098499999991803, 'tp': 12419.00000001, 'tn': 5778.00000001, 'fp': 1153.00000001, 'fn': 650.00000001}\n",
      "{'precision': 0.8785377358468247, 'recall': 0.9194692995963007, 'F': 0.8985376149531221, 'accuracy': 0.8653999999970768, 'tp': 2980.00000001, 'tn': 1347.00000001, 'fp': 412.00000001, 'fn': 261.00000001}\n",
      "iteration: 1, loss: 0.11979\n",
      "training scores, then validation scores\n",
      "{'precision': 0.9315271300608016, 'recall': 0.9628892799748061, 'F': 0.9469486041079885, 'accuracy': 0.9294999999991409, 'tp': 12584.00000001, 'tn': 6006.00000001, 'fp': 925.00000001, 'fn': 485.00000001}\n",
      "{'precision': 0.8874703087862977, 'recall': 0.9222462202997702, 'F': 0.9045241337545498, 'accuracy': 0.8737999999970096, 'tp': 2989.00000001, 'tn': 1380.00000001, 'fp': 379.00000001, 'fn': 252.00000001}\n",
      "iteration: 2, loss: 0.08700\n",
      "training scores, then validation scores\n",
      "{'precision': 0.9396455846364059, 'recall': 0.9696992883916601, 'F': 0.9544359090217586, 'accuracy': 0.9394999999991209, 'tp': 12673.00000001, 'tn': 6117.00000001, 'fp': 814.00000001, 'fn': 396.00000001}\n",
      "{'precision': 0.8884592504438521, 'recall': 0.9216291268101103, 'F': 0.9047402695719841, 'accuracy': 0.8741999999970065, 'tp': 2987.00000001, 'tn': 1384.00000001, 'fp': 375.00000001, 'fn': 254.00000001}\n",
      "iteration: 3, loss: 0.07915\n",
      "training scores, then validation scores\n",
      "{'precision': 0.9504379725979629, 'recall': 0.9713826612587475, 'F': 0.9607961855741151, 'accuracy': 0.9481999999991035, 'tp': 12695.00000001, 'tn': 6269.00000001, 'fp': 662.00000001, 'fn': 374.00000001}\n",
      "{'precision': 0.8928785158564161, 'recall': 0.9207034865756205, 'F': 0.9065775482278197, 'accuracy': 0.8769999999969841, 'tp': 2984.00000001, 'tn': 1401.00000001, 'fp': 358.00000001, 'fn': 257.00000001}\n",
      "iteration: 4, loss: 0.07362\n",
      "training scores, then validation scores\n",
      "{'precision': 0.9556905083214039, 'recall': 0.9753615425809543, 'F': 0.965425834058446, 'accuracy': 0.9543499999990912, 'tp': 12747.00000001, 'tn': 6340.00000001, 'fp': 591.00000001, 'fn': 322.00000001}\n",
      "{'precision': 0.8895504614445398, 'recall': 0.9219376735549403, 'F': 0.9054545454520881, 'accuracy': 0.8751999999969984, 'tp': 2988.00000001, 'tn': 1388.00000001, 'fp': 371.00000001, 'fn': 253.00000001}\n",
      "iteration: 5, loss: 0.06382\n",
      "training scores, then validation scores\n",
      "{'precision': 0.9600090205209952, 'recall': 0.9771979493450498, 'F': 0.9685272258448832, 'accuracy': 0.958499999999083, 'tp': 12771.00000001, 'tn': 6399.00000001, 'fp': 532.00000001, 'fn': 298.00000001}\n",
      "{'precision': 0.8902183667341297, 'recall': 0.918235112616981, 'F': 0.9040097205321749, 'accuracy': 0.8735999999970112, 'tp': 2976.00000001, 'tn': 1392.00000001, 'fp': 367.00000001, 'fn': 265.00000001}\n",
      "iteration: 6, loss: 0.06423\n",
      "training scores, then validation scores\n",
      "{'precision': 0.9639144191645865, 'recall': 0.9790343561091452, 'F': 0.9714155563140546, 'accuracy': 0.9623499999990752, 'tp': 12795.00000001, 'tn': 6452.00000001, 'fp': 479.00000001, 'fn': 274.00000001}\n",
      "{'precision': 0.8892233594196917, 'recall': 0.9114470842307224, 'F': 0.9001980801438356, 'accuracy': 0.868999999997048, 'tp': 2954.00000001, 'tn': 1391.00000001, 'fp': 368.00000001, 'fn': 287.00000001}\n",
      "iteration: 7, loss: 0.05996\n",
      "training scores, then validation scores\n",
      "{'precision': 0.9675981873104719, 'recall': 0.9802586272852089, 'F': 0.9738872629131113, 'accuracy': 0.9656499999990686, 'tp': 12811.00000001, 'tn': 6502.00000001, 'fp': 429.00000001, 'fn': 258.00000001}\n",
      "{'precision': 0.8902585688491266, 'recall': 0.9136069114445319, 'F': 0.9017816354475299, 'accuracy': 0.870999999997032, 'tp': 2961.00000001, 'tn': 1394.00000001, 'fp': 365.00000001, 'fn': 280.00000001}\n",
      "iteration: 8, loss: 0.05841\n",
      "training scores, then validation scores\n",
      "{'precision': 0.9706060148096257, 'recall': 0.982860203534344, 'F': 0.9766946736106501, 'accuracy': 0.9693499999990612, 'tp': 12845.00000001, 'tn': 6542.00000001, 'fp': 389.00000001, 'fn': 224.00000001}\n",
      "{'precision': 0.8886234696901247, 'recall': 0.918235112616981, 'F': 0.9031866464315437, 'accuracy': 0.8723999999970208, 'tp': 2976.00000001, 'tn': 1386.00000001, 'fp': 373.00000001, 'fn': 265.00000001}\n",
      "iteration: 9, loss: 0.05556\n",
      "training scores, then validation scores\n",
      "{'precision': 0.9727176541709904, 'recall': 0.9848496441954474, 'F': 0.978746055282341, 'accuracy': 0.9720499999990558, 'tp': 12871.00000001, 'tn': 6570.00000001, 'fp': 361.00000001, 'fn': 198.00000001}\n",
      "{'precision': 0.8877917414698516, 'recall': 0.9154581919135115, 'F': 0.9014127297560297, 'accuracy': 0.8701999999970385, 'tp': 2967.00000001, 'tn': 1384.00000001, 'fp': 375.00000001, 'fn': 274.00000001}\n",
      "Training time: 0:03:40.853320\n"
     ]
    }
   ],
   "source": [
    "train_data, nlp, train_info, dev_info = prepare_training(train, n_texts=25000, train_split=0.8, cfg={\"exclusive_classes\": True, \"architecture\": \"bow\"})\n",
    "metrics_small = do_training(train_data, nlp, train_info, dev_info, labels=('POSITIVE', 'NEGATIVE'), n_iter=10)"
   ]
  },
  {
   "cell_type": "code",
   "execution_count": 33,
   "metadata": {},
   "outputs": [
    {
     "data": {
      "image/png": "[encoded data removed]",
      "text/plain": [
       "<Figure size 432x288 with 1 Axes>"
      ]
     },
     "metadata": {},
     "output_type": "display_data"
    },
    {
     "data": {
      "image/png": "[encoded data removed]",
      "text/plain": [
       "<Figure size 432x288 with 1 Axes>"
      ]
     },
     "metadata": {},
     "output_type": "display_data"
    },
    {
     "data": {
      "image/png": "[encoded data removed]",
      "text/plain": [
       "<Figure size 432x288 with 1 Axes>"
      ]
     },
     "metadata": {},
     "output_type": "display_data"
    },
    {
     "data": {
      "image/png": "[encoded data removed]",
      "text/plain": [
       "<Figure size 432x288 with 1 Axes>"
      ]
     },
     "metadata": {},
     "output_type": "display_data"
    },
    {
     "data": {
      "image/png": "[encoded data removed]",
      "text/plain": [
       "<Figure size 432x288 with 1 Axes>"
      ]
     },
     "metadata": {},
     "output_type": "display_data"
    }
   ],
   "source": [
    "metrics_small.plot(x='iteration', y='loss')\n",
    "for metric in [\"precision\", \"recall\", \"accuracy\", \"F\"]:\n",
    "    ax = metrics_small.plot(x=\"iteration\", y=f\"{metric}_train\")\n",
    "    metrics_small.plot(x=\"iteration\", y=f\"{metric}_validation\", ax=ax)"
   ]
  },
  {
   "cell_type": "code",
   "execution_count": 34,
   "metadata": {},
   "outputs": [
    {
     "data": {
      "image/png": "[encoded data removed]",
      "text/plain": [
       "<Figure size 432x288 with 2 Axes>"
      ]
     },
     "metadata": {},
     "output_type": "display_data"
    }
   ],
   "source": [
    "plot_cm(metrics_small['cm_train'].iloc[-1], title=\"Confusion Matrix (training)\")"
   ]
  },
  {
   "cell_type": "code",
   "execution_count": 35,
   "metadata": {},
   "outputs": [
    {
     "data": {
      "image/png": "[encoded data removed]",
      "text/plain": [
       "<Figure size 432x288 with 2 Axes>"
      ]
     },
     "metadata": {},
     "output_type": "display_data"
    }
   ],
   "source": [
    "plot_cm(metrics_small['cm_validation'].iloc[-1], title=\"Confusion Matrix (validation)\")"
   ]
  },
  {
   "cell_type": "markdown",
   "metadata": {},
   "source": [
    "## Multiclass classification (star rating)"
   ]
  },
  {
   "cell_type": "markdown",
   "metadata": {},
   "source": [
    "### Bag of words"
   ]
  },
  {
   "cell_type": "code",
   "execution_count": 36,
   "metadata": {},
   "outputs": [],
   "source": [
    "train_star = reviews['star_tuples'].tolist()"
   ]
  },
  {
   "cell_type": "code",
   "execution_count": 52,
   "metadata": {},
   "outputs": [
    {
     "name": "stdout",
     "output_type": "stream",
     "text": [
      "Loading data...\n",
      "Using 25000 examples (20000 training, 5000 evaluation)\n",
      "Training the model...\n",
      "\tprecision\trecall\tF-score\taccuracy\n",
      "iteration: 0, loss: 24.05654\n",
      "training scores, then validation scores\n",
      "              precision    recall  f1-score   support\n",
      "\n",
      "           1       0.76      0.80      0.78      2462\n",
      "           2       0.65      0.45      0.53      1864\n",
      "           3       0.63      0.51      0.56      2605\n",
      "           4       0.64      0.60      0.62      5225\n",
      "           5       0.75      0.88      0.81      7844\n",
      "\n",
      "    accuracy                           0.71     20000\n",
      "   macro avg       0.69      0.65      0.66     20000\n",
      "weighted avg       0.70      0.71      0.70     20000\n",
      "\n",
      "              precision    recall  f1-score   support\n",
      "\n",
      "           1       0.63      0.73      0.68       559\n",
      "           2       0.42      0.22      0.29       513\n",
      "           3       0.41      0.32      0.36       687\n",
      "           4       0.47      0.46      0.46      1280\n",
      "           5       0.69      0.81      0.75      1961\n",
      "\n",
      "    accuracy                           0.58      5000\n",
      "   macro avg       0.52      0.51      0.51      5000\n",
      "weighted avg       0.56      0.58      0.57      5000\n",
      "\n",
      "iteration: 1, loss: 0.32987\n",
      "training scores, then validation scores\n",
      "              precision    recall  f1-score   support\n",
      "\n",
      "           1       0.82      0.85      0.83      2462\n",
      "           2       0.76      0.59      0.67      1864\n",
      "           3       0.71      0.62      0.66      2605\n",
      "           4       0.71      0.66      0.69      5225\n",
      "           5       0.79      0.89      0.84      7844\n",
      "\n",
      "    accuracy                           0.76     20000\n",
      "   macro avg       0.76      0.72      0.74     20000\n",
      "weighted avg       0.76      0.76      0.76     20000\n",
      "\n",
      "              precision    recall  f1-score   support\n",
      "\n",
      "           1       0.65      0.74      0.69       559\n",
      "           2       0.42      0.26      0.32       513\n",
      "           3       0.41      0.34      0.37       687\n",
      "           4       0.47      0.47      0.47      1280\n",
      "           5       0.71      0.80      0.75      1961\n",
      "\n",
      "    accuracy                           0.59      5000\n",
      "   macro avg       0.53      0.52      0.52      5000\n",
      "weighted avg       0.57      0.59      0.58      5000\n",
      "\n",
      "iteration: 2, loss: 0.24440\n",
      "training scores, then validation scores\n",
      "              precision    recall  f1-score   support\n",
      "\n",
      "           1       0.84      0.88      0.86      2462\n",
      "           2       0.81      0.65      0.72      1864\n",
      "           3       0.77      0.66      0.71      2605\n",
      "           4       0.75      0.71      0.73      5225\n",
      "           5       0.82      0.91      0.86      7844\n",
      "\n",
      "    accuracy                           0.80     20000\n",
      "   macro avg       0.80      0.76      0.78     20000\n",
      "weighted avg       0.80      0.80      0.80     20000\n",
      "\n",
      "              precision    recall  f1-score   support\n",
      "\n",
      "           1       0.64      0.73      0.68       559\n",
      "           2       0.43      0.27      0.33       513\n",
      "           3       0.41      0.35      0.38       687\n",
      "           4       0.48      0.47      0.47      1280\n",
      "           5       0.72      0.80      0.76      1961\n",
      "\n",
      "    accuracy                           0.59      5000\n",
      "   macro avg       0.53      0.52      0.52      5000\n",
      "weighted avg       0.57      0.59      0.58      5000\n",
      "\n",
      "iteration: 3, loss: 0.22469\n",
      "training scores, then validation scores\n",
      "              precision    recall  f1-score   support\n",
      "\n",
      "           1       0.87      0.91      0.89      2462\n",
      "           2       0.85      0.74      0.79      1864\n",
      "           3       0.82      0.72      0.76      2605\n",
      "           4       0.79      0.74      0.76      5225\n",
      "           5       0.83      0.92      0.87      7844\n",
      "\n",
      "    accuracy                           0.83     20000\n",
      "   macro avg       0.83      0.80      0.82     20000\n",
      "weighted avg       0.83      0.83      0.83     20000\n",
      "\n",
      "              precision    recall  f1-score   support\n",
      "\n",
      "           1       0.64      0.73      0.68       559\n",
      "           2       0.43      0.27      0.33       513\n",
      "           3       0.42      0.35      0.38       687\n",
      "           4       0.48      0.47      0.47      1280\n",
      "           5       0.71      0.80      0.75      1961\n",
      "\n",
      "    accuracy                           0.59      5000\n",
      "   macro avg       0.54      0.52      0.53      5000\n",
      "weighted avg       0.58      0.59      0.58      5000\n",
      "\n",
      "iteration: 4, loss: 0.21062\n",
      "training scores, then validation scores\n",
      "              precision    recall  f1-score   support\n",
      "\n",
      "           1       0.89      0.92      0.90      2462\n",
      "           2       0.87      0.77      0.82      1864\n",
      "           3       0.85      0.75      0.80      2605\n",
      "           4       0.81      0.76      0.79      5225\n",
      "           5       0.85      0.93      0.89      7844\n",
      "\n",
      "    accuracy                           0.85     20000\n",
      "   macro avg       0.85      0.83      0.84     20000\n",
      "weighted avg       0.85      0.85      0.84     20000\n",
      "\n",
      "              precision    recall  f1-score   support\n",
      "\n",
      "           1       0.65      0.73      0.69       559\n",
      "           2       0.42      0.27      0.33       513\n",
      "           3       0.41      0.37      0.39       687\n",
      "           4       0.47      0.46      0.47      1280\n",
      "           5       0.71      0.79      0.75      1961\n",
      "\n",
      "    accuracy                           0.59      5000\n",
      "   macro avg       0.53      0.52      0.52      5000\n",
      "weighted avg       0.57      0.59      0.58      5000\n",
      "\n",
      "iteration: 5, loss: 0.19891\n",
      "training scores, then validation scores\n",
      "              precision    recall  f1-score   support\n",
      "\n",
      "           1       0.90      0.93      0.92      2462\n",
      "           2       0.89      0.80      0.84      1864\n",
      "           3       0.85      0.78      0.81      2605\n",
      "           4       0.83      0.78      0.80      5225\n",
      "           5       0.86      0.93      0.89      7844\n",
      "\n",
      "    accuracy                           0.86     20000\n",
      "   macro avg       0.87      0.84      0.85     20000\n",
      "weighted avg       0.86      0.86      0.86     20000\n",
      "\n",
      "              precision    recall  f1-score   support\n",
      "\n",
      "           1       0.65      0.73      0.69       559\n",
      "           2       0.42      0.27      0.33       513\n",
      "           3       0.41      0.37      0.39       687\n",
      "           4       0.48      0.48      0.48      1280\n",
      "           5       0.72      0.79      0.75      1961\n",
      "\n",
      "    accuracy                           0.59      5000\n",
      "   macro avg       0.54      0.53      0.53      5000\n",
      "weighted avg       0.58      0.59      0.58      5000\n",
      "\n",
      "iteration: 6, loss: 0.18657\n",
      "training scores, then validation scores\n",
      "              precision    recall  f1-score   support\n",
      "\n",
      "           1       0.91      0.94      0.93      2462\n",
      "           2       0.90      0.83      0.86      1864\n",
      "           3       0.87      0.79      0.83      2605\n",
      "           4       0.84      0.79      0.81      5225\n",
      "           5       0.87      0.94      0.90      7844\n",
      "\n",
      "    accuracy                           0.87     20000\n",
      "   macro avg       0.88      0.86      0.87     20000\n",
      "weighted avg       0.87      0.87      0.87     20000\n",
      "\n",
      "              precision    recall  f1-score   support\n",
      "\n",
      "           1       0.63      0.71      0.67       559\n",
      "           2       0.40      0.26      0.31       513\n",
      "           3       0.41      0.36      0.38       687\n",
      "           4       0.48      0.47      0.48      1280\n",
      "           5       0.72      0.79      0.75      1961\n",
      "\n",
      "    accuracy                           0.59      5000\n",
      "   macro avg       0.53      0.52      0.52      5000\n",
      "weighted avg       0.57      0.59      0.58      5000\n",
      "\n",
      "iteration: 7, loss: 0.17753\n",
      "training scores, then validation scores\n",
      "              precision    recall  f1-score   support\n",
      "\n",
      "           1       0.93      0.95      0.94      2462\n",
      "           2       0.91      0.84      0.88      1864\n",
      "           3       0.89      0.81      0.85      2605\n",
      "           4       0.85      0.81      0.83      5225\n",
      "           5       0.88      0.94      0.91      7844\n",
      "\n",
      "    accuracy                           0.88     20000\n",
      "   macro avg       0.89      0.87      0.88     20000\n",
      "weighted avg       0.88      0.88      0.88     20000\n",
      "\n",
      "              precision    recall  f1-score   support\n",
      "\n",
      "           1       0.62      0.69      0.66       559\n",
      "           2       0.39      0.27      0.32       513\n",
      "           3       0.42      0.37      0.39       687\n",
      "           4       0.48      0.48      0.48      1280\n",
      "           5       0.72      0.78      0.75      1961\n",
      "\n",
      "    accuracy                           0.59      5000\n",
      "   macro avg       0.53      0.52      0.52      5000\n",
      "weighted avg       0.57      0.59      0.58      5000\n",
      "\n"
     ]
    },
    {
     "name": "stdout",
     "output_type": "stream",
     "text": [
      "iteration: 8, loss: 0.16756\n",
      "training scores, then validation scores\n",
      "              precision    recall  f1-score   support\n",
      "\n",
      "           1       0.93      0.95      0.94      2462\n",
      "           2       0.93      0.86      0.89      1864\n",
      "           3       0.90      0.82      0.86      2605\n",
      "           4       0.86      0.82      0.84      5225\n",
      "           5       0.88      0.95      0.91      7844\n",
      "\n",
      "    accuracy                           0.89     20000\n",
      "   macro avg       0.90      0.88      0.89     20000\n",
      "weighted avg       0.89      0.89      0.89     20000\n",
      "\n",
      "              precision    recall  f1-score   support\n",
      "\n",
      "           1       0.62      0.69      0.65       559\n",
      "           2       0.41      0.27      0.32       513\n",
      "           3       0.41      0.37      0.39       687\n",
      "           4       0.48      0.48      0.48      1280\n",
      "           5       0.72      0.78      0.74      1961\n",
      "\n",
      "    accuracy                           0.58      5000\n",
      "   macro avg       0.53      0.52      0.52      5000\n",
      "weighted avg       0.57      0.58      0.58      5000\n",
      "\n",
      "iteration: 9, loss: 0.16349\n",
      "training scores, then validation scores\n",
      "              precision    recall  f1-score   support\n",
      "\n",
      "           1       0.94      0.96      0.95      2462\n",
      "           2       0.93      0.87      0.90      1864\n",
      "           3       0.91      0.83      0.87      2605\n",
      "           4       0.87      0.83      0.85      5225\n",
      "           5       0.89      0.95      0.92      7844\n",
      "\n",
      "    accuracy                           0.89     20000\n",
      "   macro avg       0.91      0.89      0.90     20000\n",
      "weighted avg       0.89      0.89      0.89     20000\n",
      "\n",
      "              precision    recall  f1-score   support\n",
      "\n",
      "           1       0.62      0.68      0.65       559\n",
      "           2       0.40      0.28      0.33       513\n",
      "           3       0.42      0.38      0.40       687\n",
      "           4       0.47      0.48      0.48      1280\n",
      "           5       0.71      0.77      0.74      1961\n",
      "\n",
      "    accuracy                           0.58      5000\n",
      "   macro avg       0.52      0.52      0.52      5000\n",
      "weighted avg       0.57      0.58      0.57      5000\n",
      "\n",
      "Training time: 0:04:16.183013\n"
     ]
    }
   ],
   "source": [
    "star_labels = [str(star) for star in range(1,6)]\n",
    "train_data, nlp, train_info, dev_info = prepare_training(train_star, n_texts=25000, train_split=0.8, cfg={\"exclusive_classes\": True, \"architecture\": \"bow\"},\n",
    "                                                        labels=star_labels, cat_function=starcats_from_labels)\n",
    "metrics_small = do_training(train_data, nlp, train_info, dev_info, labels=star_labels, n_iter=10)"
   ]
  },
  {
   "cell_type": "code",
   "execution_count": 38,
   "metadata": {},
   "outputs": [
    {
     "data": {
      "image/png": "[encoded data removed]",
      "text/plain": [
       "<Figure size 432x288 with 2 Axes>"
      ]
     },
     "metadata": {},
     "output_type": "display_data"
    }
   ],
   "source": [
    "plot_cm(metrics_small['cm_train'].iloc[-1], title=\"Confusion Matrix (training)\", labels=star_labels, percent=False)"
   ]
  },
  {
   "cell_type": "code",
   "execution_count": 39,
   "metadata": {},
   "outputs": [
    {
     "data": {
      "image/png": "[encoded data removed]",
      "text/plain": [
       "<Figure size 432x288 with 2 Axes>"
      ]
     },
     "metadata": {},
     "output_type": "display_data"
    }
   ],
   "source": [
    "plot_cm(metrics_small['cm_validation'].iloc[-1], title=\"Confusion Matrix (validation)\", labels=star_labels, percent=False)"
   ]
  },
  {
   "cell_type": "markdown",
   "metadata": {},
   "source": [
    "Did our validation set have a different percentage of positive examples than our test set?"
   ]
  },
  {
   "cell_type": "code",
   "execution_count": 53,
   "metadata": {},
   "outputs": [
    {
     "data": {
      "text/plain": [
       "['1', '2', '3', '4', '5']"
      ]
     },
     "execution_count": 53,
     "metadata": {},
     "output_type": "execute_result"
    }
   ],
   "source": [
    "star_labels"
   ]
  },
  {
   "cell_type": "code",
   "execution_count": 62,
   "metadata": {},
   "outputs": [
    {
     "name": "stdout",
     "output_type": "stream",
     "text": [
      "{'1': 2462, '2': 1864, '3': 2605, '4': 5225, '5': 7844}\n"
     ]
    }
   ],
   "source": [
    "_, train_cats = train_info\n",
    "train_cat_counts = {label: 0 for label in star_labels}\n",
    "for row in train_cats:\n",
    "    for key, value in row.items():\n",
    "        if value is True:\n",
    "            train_cat_counts[key] += 1\n",
    "print(train_cat_counts)"
   ]
  },
  {
   "cell_type": "code",
   "execution_count": 57,
   "metadata": {
    "scrolled": true
   },
   "outputs": [
    {
     "data": {
      "text/plain": [
       "{'1': 559, '2': 513, '3': 687, '4': 1280, '5': 1961}"
      ]
     },
     "execution_count": 57,
     "metadata": {},
     "output_type": "execute_result"
    }
   ],
   "source": [
    "_, dev_cats = dev_info\n",
    "dev_cat_counts = {label: 0 for label in star_labels}\n",
    "for row in dev_cats:\n",
    "    for key, value in row.items():\n",
    "        if value is True:\n",
    "            dev_cat_counts[key] += 1\n",
    "dev_cat_counts"
   ]
  },
  {
   "cell_type": "code",
   "execution_count": null,
   "metadata": {},
   "outputs": [],
   "source": []
  }
 ],
 "metadata": {
  "kernelspec": {
   "display_name": "Python [default]",
   "language": "python",
   "name": "python3"
  },
  "language_info": {
   "codemirror_mode": {
    "name": "ipython",
    "version": 3
   },
   "file_extension": ".py",
   "mimetype": "text/x-python",
   "name": "python",
   "nbconvert_exporter": "python",
   "pygments_lexer": "ipython3",
   "version": "3.6.8"
  }
 },
 "nbformat": 4,
 "nbformat_minor": 2
}
